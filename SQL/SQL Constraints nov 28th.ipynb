{
 "cells": [
  {
   "cell_type": "markdown",
   "id": "33f1c863",
   "metadata": {},
   "source": [
    "##### NOT NULL\n",
    "##### UNIQUE\n",
    "##### PRIMARY KEY \n",
    "#### Foreign Key\n"
   ]
  },
  {
   "cell_type": "code",
   "execution_count": 1,
   "id": "2b35dd46",
   "metadata": {},
   "outputs": [
    {
     "name": "stdout",
     "output_type": "stream",
     "text": [
      "<mysql.connector.connection_cext.CMySQLConnection object at 0x00000214F49D3370>\n"
     ]
    }
   ],
   "source": [
    "import mysql.connector\n",
    "\n",
    "mydb = mysql.connector.connect(\n",
    "host = \"localhost\",\n",
    "user=\"root\",\n",
    "password=\"\",\n",
    ")\n",
    "\n",
    "print(mydb);\n",
    "mycursor = mydb.cursor(buffered=True)"
   ]
  },
  {
   "cell_type": "code",
   "execution_count": 2,
   "id": "a4a4df8d",
   "metadata": {},
   "outputs": [],
   "source": [
    "mycursor.execute(\"CREATE DATABASE e6s\")"
   ]
  },
  {
   "cell_type": "code",
   "execution_count": 16,
   "id": "f08ee6c4",
   "metadata": {},
   "outputs": [],
   "source": [
    "mycursor.execute(\"USE e6s\")"
   ]
  },
  {
   "cell_type": "code",
   "execution_count": 21,
   "id": "269b6b4c",
   "metadata": {},
   "outputs": [],
   "source": [
    "mycursor.execute(\"CREATE TABLE TB2 (name VARCHAR(10),gMame VARCHAR(10),Age INT(6) CHECK(Age>18)) \")"
   ]
  },
  {
   "cell_type": "code",
   "execution_count": null,
   "id": "e153a1b2",
   "metadata": {},
   "outputs": [],
   "source": []
  },
  {
   "cell_type": "code",
   "execution_count": 22,
   "id": "e1ca1ba7",
   "metadata": {},
   "outputs": [],
   "source": [
    "mycursor.execute(\"CREATE TABLE aadhardetails (name VARCHAR(30),ADDRESS VARCHAR(20),AADHARID VARCHAR(16) PRIMARY KEY)\")"
   ]
  },
  {
   "cell_type": "code",
   "execution_count": 23,
   "id": "6a984271",
   "metadata": {},
   "outputs": [],
   "source": [
    "mycursor.execute(\"INSERT INTO aadhardetails VALUES('shankar', '123434','238523708943' )\")"
   ]
  },
  {
   "cell_type": "code",
   "execution_count": 24,
   "id": "1408cf60",
   "metadata": {},
   "outputs": [],
   "source": [
    "mycursor.execute(\"CREATE TABLE bankacc(name VARCHAR(20),type VARCHAR(2),accno INT PRIMARY KEY,aadhar VARCHAR(16) ,FOREIGN KEY (aadhar)REFERENCES aadhardetails(aadharid))\")"
   ]
  },
  {
   "cell_type": "code",
   "execution_count": 28,
   "id": "b5193e2f",
   "metadata": {},
   "outputs": [],
   "source": [
    "mycursor.execute(\"INSERT INTO bankacc VALUES('bank1', 'savings', 123, '238523708943')\")"
   ]
  },
  {
   "cell_type": "code",
   "execution_count": 30,
   "id": "d22c0f19",
   "metadata": {},
   "outputs": [],
   "source": [
    "mycursor.execute(\"CREATE TABLE pancard(name VARCHAR(20),dob INT,panid VARCHAR(16),aadhar varchar(16) ,FOREIGN KEY(aadhar) REFERENCES aadhardetails(aadharid),PRIMARY KEY(panid,aadhar))\")"
   ]
  },
  {
   "cell_type": "code",
   "execution_count": 34,
   "id": "f91576ac",
   "metadata": {},
   "outputs": [],
   "source": [
    "mycursor.execute(\"INSERT INTO pancard VALUES('uma', 123, '1234567891012345', '238523708943')\")"
   ]
  },
  {
   "cell_type": "code",
   "execution_count": null,
   "id": "0b568d4a",
   "metadata": {},
   "outputs": [],
   "source": []
  },
  {
   "cell_type": "code",
   "execution_count": 31,
   "id": "1ef26d60",
   "metadata": {},
   "outputs": [],
   "source": [
    "mycursor.execute(\"DROP TABLE bankacc\")"
   ]
  },
  {
   "cell_type": "code",
   "execution_count": 32,
   "id": "095d5ee5",
   "metadata": {},
   "outputs": [],
   "source": [
    "mycursor.execute(\"CREATE TABLE bankacc(name VARCHAR(20),type VARCHAR(2),panid VARCHAR(16),accno INT PRIMARY KEY,aadhar VARCHAR(16) ,FOREIGN KEY (aadhar)REFERENCES aadhardetails(aadharid), FOREIGN KEY (panid)REFERENCES pancard(panid))\")"
   ]
  },
  {
   "cell_type": "code",
   "execution_count": 35,
   "id": "7dea297c",
   "metadata": {},
   "outputs": [],
   "source": [
    "mycursor.execute(\"INSERT INTO bankacc VALUES('uma', 'savings', '1234567891012345', 123,'238523708943' )\")"
   ]
  },
  {
   "cell_type": "code",
   "execution_count": null,
   "id": "e287153b",
   "metadata": {},
   "outputs": [],
   "source": []
  }
 ],
 "metadata": {
  "kernelspec": {
   "display_name": "Python 3 (ipykernel)",
   "language": "python",
   "name": "python3"
  },
  "language_info": {
   "codemirror_mode": {
    "name": "ipython",
    "version": 3
   },
   "file_extension": ".py",
   "mimetype": "text/x-python",
   "name": "python",
   "nbconvert_exporter": "python",
   "pygments_lexer": "ipython3",
   "version": "3.9.13"
  }
 },
 "nbformat": 4,
 "nbformat_minor": 5
}
