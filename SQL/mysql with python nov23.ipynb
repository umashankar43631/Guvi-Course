{
 "cells": [
  {
   "cell_type": "code",
   "execution_count": 1,
   "id": "28172b2d",
   "metadata": {},
   "outputs": [
    {
     "name": "stdout",
     "output_type": "stream",
     "text": [
      "Requirement already satisfied: mysql-connector-python in c:\\users\\siva\\anaconda3\\lib\\site-packages (8.0.31)\n",
      "Requirement already satisfied: protobuf<=3.20.1,>=3.11.0 in c:\\users\\siva\\anaconda3\\lib\\site-packages (from mysql-connector-python) (3.20.1)\n"
     ]
    }
   ],
   "source": [
    "!pip install mysql-connector-python"
   ]
  },
  {
   "cell_type": "code",
   "execution_count": 2,
   "id": "919120fe",
   "metadata": {},
   "outputs": [
    {
     "name": "stdout",
     "output_type": "stream",
     "text": [
      "Requirement already satisfied: pymysql in c:\\users\\siva\\anaconda3\\lib\\site-packages (1.0.2)\n"
     ]
    }
   ],
   "source": [
    "!pip install pymysql"
   ]
  },
  {
   "cell_type": "code",
   "execution_count": 3,
   "id": "3edbb07d",
   "metadata": {},
   "outputs": [
    {
     "name": "stdout",
     "output_type": "stream",
     "text": [
      "<mysql.connector.connection_cext.CMySQLConnection object at 0x000001BE675CEA90>\n"
     ]
    }
   ],
   "source": [
    "import mysql.connector\n",
    "\n",
    "mydb = mysql.connector.connect(\n",
    "host = \"localhost\",\n",
    "user=\"root\",\n",
    "password=\"\",\n",
    ")\n",
    "\n",
    "print(mydb);\n",
    "mycursor = mydb.cursor(buffered=True)"
   ]
  },
  {
   "cell_type": "code",
   "execution_count": 6,
   "id": "bc81f507",
   "metadata": {},
   "outputs": [],
   "source": [
    "mycursor.execute(\"USE SHANKAR\")"
   ]
  },
  {
   "cell_type": "code",
   "execution_count": 7,
   "id": "6b1dff8a",
   "metadata": {},
   "outputs": [],
   "source": [
    "mycursor.execute(\"CREATE TABLE LUCKY(salary INT(6),weight DECIMAL(3,3), insurance BOOLEAN)\")"
   ]
  },
  {
   "cell_type": "code",
   "execution_count": 8,
   "id": "a2521ae8",
   "metadata": {},
   "outputs": [
    {
     "name": "stdout",
     "output_type": "stream",
     "text": [
      "123\n",
      "0.6987\n",
      "1\n"
     ]
    }
   ],
   "source": [
    "salary = int(input())\n",
    "weight = float(input())\n",
    "insurance = int(bool(input()))\n",
    "mycursor.execute(f\"INSERT INTO LUCKY VALUES({salary}, {weight}, {insurance})\")"
   ]
  },
  {
   "cell_type": "code",
   "execution_count": 10,
   "id": "c91a5a3a",
   "metadata": {},
   "outputs": [
    {
     "name": "stdout",
     "output_type": "stream",
     "text": [
      "(123, Decimal('0.699'), 1)\n"
     ]
    }
   ],
   "source": [
    "mycursor.execute(\"SELECT * FROM LUCKY\")\n",
    "for q in mycursor:\n",
    "    print(q)"
   ]
  },
  {
   "cell_type": "code",
   "execution_count": 11,
   "id": "45c80a80",
   "metadata": {},
   "outputs": [],
   "source": [
    "## Alter Table\n",
    "\n",
    "mycursor.execute(\"ALTER TABLE LUCKY ADD COVID VARCHAR(10) FIRST\")"
   ]
  },
  {
   "cell_type": "code",
   "execution_count": 25,
   "id": "732747b2",
   "metadata": {},
   "outputs": [
    {
     "name": "stdout",
     "output_type": "stream",
     "text": [
      "('COVIDNEW', 'int(11)', 'YES', '', None, '')\n",
      "('salary', 'int(6)', 'YES', '', None, '')\n",
      "('weight', 'decimal(3,3)', 'YES', '', None, '')\n",
      "('insurance', 'tinyint(1)', 'YES', '', None, '')\n"
     ]
    }
   ],
   "source": [
    "mycursor.execute(\"DESCRIBE LUCKY\")\n",
    "for x in mycursor:\n",
    "    print(x)"
   ]
  },
  {
   "cell_type": "code",
   "execution_count": 16,
   "id": "36862b16",
   "metadata": {},
   "outputs": [],
   "source": [
    "mycursor.execute(\"ALTER TABLE LUCKY ADD COVID_STATUS VARCHAR(10) AFTER COVID\")\n"
   ]
  },
  {
   "cell_type": "code",
   "execution_count": 21,
   "id": "dc87d85c",
   "metadata": {},
   "outputs": [],
   "source": [
    "mycursor.execute(\"ALTER TABLE LUCKY DROP COLUMN COVID_STATUS\")\n",
    "mydb.commit()"
   ]
  },
  {
   "cell_type": "code",
   "execution_count": 22,
   "id": "bbb4c384",
   "metadata": {},
   "outputs": [],
   "source": [
    "mycursor.execute(\"ALTER TABLE LUCKY MODIFY COVID INT\")"
   ]
  },
  {
   "cell_type": "code",
   "execution_count": 24,
   "id": "fd495701",
   "metadata": {},
   "outputs": [],
   "source": [
    "mycursor.execute(\"ALTER TABLE LUCKY CHANGE COLUMN COVID COVIDNEW INT\")"
   ]
  },
  {
   "cell_type": "code",
   "execution_count": 26,
   "id": "440b2e74",
   "metadata": {},
   "outputs": [
    {
     "name": "stdout",
     "output_type": "stream",
     "text": [
      "('lucky',)\n"
     ]
    }
   ],
   "source": [
    "mycursor.execute(\"show tables from SHANKAR\")\n",
    "\n",
    "for table in mycursor:\n",
    "    print(table)"
   ]
  },
  {
   "cell_type": "code",
   "execution_count": null,
   "id": "6752075d",
   "metadata": {},
   "outputs": [],
   "source": []
  }
 ],
 "metadata": {
  "kernelspec": {
   "display_name": "Python 3 (ipykernel)",
   "language": "python",
   "name": "python3"
  },
  "language_info": {
   "codemirror_mode": {
    "name": "ipython",
    "version": 3
   },
   "file_extension": ".py",
   "mimetype": "text/x-python",
   "name": "python",
   "nbconvert_exporter": "python",
   "pygments_lexer": "ipython3",
   "version": "3.9.13"
  }
 },
 "nbformat": 4,
 "nbformat_minor": 5
}
