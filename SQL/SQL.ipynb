{
 "cells": [
  {
   "cell_type": "code",
   "execution_count": 1,
   "metadata": {
    "id": "kHZryj0q-hD6",
    "scrolled": false
   },
   "outputs": [
    {
     "name": "stdout",
     "output_type": "stream",
     "text": [
      "Requirement already satisfied: mysql-connector-python in c:\\users\\siva\\anaconda3\\lib\\site-packages (8.0.31)\n",
      "Requirement already satisfied: protobuf<=3.20.1,>=3.11.0 in c:\\users\\siva\\anaconda3\\lib\\site-packages (from mysql-connector-python) (3.20.1)\n"
     ]
    }
   ],
   "source": [
    "!pip install mysql-connector-python"
   ]
  },
  {
   "cell_type": "code",
   "execution_count": 2,
   "metadata": {},
   "outputs": [
    {
     "name": "stdout",
     "output_type": "stream",
     "text": [
      "Requirement already satisfied: pymysql in c:\\users\\siva\\anaconda3\\lib\\site-packages (1.0.2)\n"
     ]
    }
   ],
   "source": [
    "!pip install pymysql"
   ]
  },
  {
   "cell_type": "code",
   "execution_count": 3,
   "metadata": {},
   "outputs": [],
   "source": [
    "import pymysql.cursors\n",
    "def getDbConnection():\n",
    "    connection = pymysql.connect()\n",
    "    return connection\n",
    "def closeDbConnection(connection):\n",
    "    connection.close()\n",
    "def getResult(SqlQuery):\n",
    "    connection = getDbConnection()"
   ]
  },
  {
   "cell_type": "code",
   "execution_count": 4,
   "metadata": {},
   "outputs": [
    {
     "ename": "OperationalError",
     "evalue": "(1045, \"Access denied for user 'siva'@'localhost' (using password: NO)\")",
     "output_type": "error",
     "traceback": [
      "\u001b[1;31m---------------------------------------------------------------------------\u001b[0m",
      "\u001b[1;31mOperationalError\u001b[0m                          Traceback (most recent call last)",
      "\u001b[1;32m~\\AppData\\Local\\Temp\\ipykernel_11824\\1222225283.py\u001b[0m in \u001b[0;36m<module>\u001b[1;34m\u001b[0m\n\u001b[1;32m----> 1\u001b[1;33m \u001b[0mgetDbConnection\u001b[0m\u001b[1;33m(\u001b[0m\u001b[1;33m)\u001b[0m\u001b[1;33m\u001b[0m\u001b[1;33m\u001b[0m\u001b[0m\n\u001b[0m",
      "\u001b[1;32m~\\AppData\\Local\\Temp\\ipykernel_11824\\2857296551.py\u001b[0m in \u001b[0;36mgetDbConnection\u001b[1;34m()\u001b[0m\n\u001b[0;32m      1\u001b[0m \u001b[1;32mimport\u001b[0m \u001b[0mpymysql\u001b[0m\u001b[1;33m.\u001b[0m\u001b[0mcursors\u001b[0m\u001b[1;33m\u001b[0m\u001b[1;33m\u001b[0m\u001b[0m\n\u001b[0;32m      2\u001b[0m \u001b[1;32mdef\u001b[0m \u001b[0mgetDbConnection\u001b[0m\u001b[1;33m(\u001b[0m\u001b[1;33m)\u001b[0m\u001b[1;33m:\u001b[0m\u001b[1;33m\u001b[0m\u001b[1;33m\u001b[0m\u001b[0m\n\u001b[1;32m----> 3\u001b[1;33m     \u001b[0mconnection\u001b[0m \u001b[1;33m=\u001b[0m \u001b[0mpymysql\u001b[0m\u001b[1;33m.\u001b[0m\u001b[0mconnect\u001b[0m\u001b[1;33m(\u001b[0m\u001b[1;33m)\u001b[0m\u001b[1;33m\u001b[0m\u001b[1;33m\u001b[0m\u001b[0m\n\u001b[0m\u001b[0;32m      4\u001b[0m     \u001b[1;32mreturn\u001b[0m \u001b[0mconnection\u001b[0m\u001b[1;33m\u001b[0m\u001b[1;33m\u001b[0m\u001b[0m\n\u001b[0;32m      5\u001b[0m \u001b[1;32mdef\u001b[0m \u001b[0mcloseDbConnection\u001b[0m\u001b[1;33m(\u001b[0m\u001b[0mconnection\u001b[0m\u001b[1;33m)\u001b[0m\u001b[1;33m:\u001b[0m\u001b[1;33m\u001b[0m\u001b[1;33m\u001b[0m\u001b[0m\n",
      "\u001b[1;32m~\\anaconda3\\lib\\site-packages\\pymysql\\connections.py\u001b[0m in \u001b[0;36m__init__\u001b[1;34m(self, user, password, host, database, unix_socket, port, charset, sql_mode, read_default_file, conv, use_unicode, client_flag, cursorclass, init_command, connect_timeout, read_default_group, autocommit, local_infile, max_allowed_packet, defer_connect, auth_plugin_map, read_timeout, write_timeout, bind_address, binary_prefix, program_name, server_public_key, ssl, ssl_ca, ssl_cert, ssl_disabled, ssl_key, ssl_verify_cert, ssl_verify_identity, compress, named_pipe, passwd, db)\u001b[0m\n\u001b[0;32m    351\u001b[0m             \u001b[0mself\u001b[0m\u001b[1;33m.\u001b[0m\u001b[0m_sock\u001b[0m \u001b[1;33m=\u001b[0m \u001b[1;32mNone\u001b[0m\u001b[1;33m\u001b[0m\u001b[1;33m\u001b[0m\u001b[0m\n\u001b[0;32m    352\u001b[0m         \u001b[1;32melse\u001b[0m\u001b[1;33m:\u001b[0m\u001b[1;33m\u001b[0m\u001b[1;33m\u001b[0m\u001b[0m\n\u001b[1;32m--> 353\u001b[1;33m             \u001b[0mself\u001b[0m\u001b[1;33m.\u001b[0m\u001b[0mconnect\u001b[0m\u001b[1;33m(\u001b[0m\u001b[1;33m)\u001b[0m\u001b[1;33m\u001b[0m\u001b[1;33m\u001b[0m\u001b[0m\n\u001b[0m\u001b[0;32m    354\u001b[0m \u001b[1;33m\u001b[0m\u001b[0m\n\u001b[0;32m    355\u001b[0m     \u001b[1;32mdef\u001b[0m \u001b[0m__enter__\u001b[0m\u001b[1;33m(\u001b[0m\u001b[0mself\u001b[0m\u001b[1;33m)\u001b[0m\u001b[1;33m:\u001b[0m\u001b[1;33m\u001b[0m\u001b[1;33m\u001b[0m\u001b[0m\n",
      "\u001b[1;32m~\\anaconda3\\lib\\site-packages\\pymysql\\connections.py\u001b[0m in \u001b[0;36mconnect\u001b[1;34m(self, sock)\u001b[0m\n\u001b[0;32m    631\u001b[0m \u001b[1;33m\u001b[0m\u001b[0m\n\u001b[0;32m    632\u001b[0m             \u001b[0mself\u001b[0m\u001b[1;33m.\u001b[0m\u001b[0m_get_server_information\u001b[0m\u001b[1;33m(\u001b[0m\u001b[1;33m)\u001b[0m\u001b[1;33m\u001b[0m\u001b[1;33m\u001b[0m\u001b[0m\n\u001b[1;32m--> 633\u001b[1;33m             \u001b[0mself\u001b[0m\u001b[1;33m.\u001b[0m\u001b[0m_request_authentication\u001b[0m\u001b[1;33m(\u001b[0m\u001b[1;33m)\u001b[0m\u001b[1;33m\u001b[0m\u001b[1;33m\u001b[0m\u001b[0m\n\u001b[0m\u001b[0;32m    634\u001b[0m \u001b[1;33m\u001b[0m\u001b[0m\n\u001b[0;32m    635\u001b[0m             \u001b[1;32mif\u001b[0m \u001b[0mself\u001b[0m\u001b[1;33m.\u001b[0m\u001b[0msql_mode\u001b[0m \u001b[1;32mis\u001b[0m \u001b[1;32mnot\u001b[0m \u001b[1;32mNone\u001b[0m\u001b[1;33m:\u001b[0m\u001b[1;33m\u001b[0m\u001b[1;33m\u001b[0m\u001b[0m\n",
      "\u001b[1;32m~\\anaconda3\\lib\\site-packages\\pymysql\\connections.py\u001b[0m in \u001b[0;36m_request_authentication\u001b[1;34m(self)\u001b[0m\n\u001b[0;32m    905\u001b[0m \u001b[1;33m\u001b[0m\u001b[0m\n\u001b[0;32m    906\u001b[0m         \u001b[0mself\u001b[0m\u001b[1;33m.\u001b[0m\u001b[0mwrite_packet\u001b[0m\u001b[1;33m(\u001b[0m\u001b[0mdata\u001b[0m\u001b[1;33m)\u001b[0m\u001b[1;33m\u001b[0m\u001b[1;33m\u001b[0m\u001b[0m\n\u001b[1;32m--> 907\u001b[1;33m         \u001b[0mauth_packet\u001b[0m \u001b[1;33m=\u001b[0m \u001b[0mself\u001b[0m\u001b[1;33m.\u001b[0m\u001b[0m_read_packet\u001b[0m\u001b[1;33m(\u001b[0m\u001b[1;33m)\u001b[0m\u001b[1;33m\u001b[0m\u001b[1;33m\u001b[0m\u001b[0m\n\u001b[0m\u001b[0;32m    908\u001b[0m \u001b[1;33m\u001b[0m\u001b[0m\n\u001b[0;32m    909\u001b[0m         \u001b[1;31m# if authentication method isn't accepted the first byte\u001b[0m\u001b[1;33m\u001b[0m\u001b[1;33m\u001b[0m\u001b[0m\n",
      "\u001b[1;32m~\\anaconda3\\lib\\site-packages\\pymysql\\connections.py\u001b[0m in \u001b[0;36m_read_packet\u001b[1;34m(self, packet_type)\u001b[0m\n\u001b[0;32m    723\u001b[0m             \u001b[1;32mif\u001b[0m \u001b[0mself\u001b[0m\u001b[1;33m.\u001b[0m\u001b[0m_result\u001b[0m \u001b[1;32mis\u001b[0m \u001b[1;32mnot\u001b[0m \u001b[1;32mNone\u001b[0m \u001b[1;32mand\u001b[0m \u001b[0mself\u001b[0m\u001b[1;33m.\u001b[0m\u001b[0m_result\u001b[0m\u001b[1;33m.\u001b[0m\u001b[0munbuffered_active\u001b[0m \u001b[1;32mis\u001b[0m \u001b[1;32mTrue\u001b[0m\u001b[1;33m:\u001b[0m\u001b[1;33m\u001b[0m\u001b[1;33m\u001b[0m\u001b[0m\n\u001b[0;32m    724\u001b[0m                 \u001b[0mself\u001b[0m\u001b[1;33m.\u001b[0m\u001b[0m_result\u001b[0m\u001b[1;33m.\u001b[0m\u001b[0munbuffered_active\u001b[0m \u001b[1;33m=\u001b[0m \u001b[1;32mFalse\u001b[0m\u001b[1;33m\u001b[0m\u001b[1;33m\u001b[0m\u001b[0m\n\u001b[1;32m--> 725\u001b[1;33m             \u001b[0mpacket\u001b[0m\u001b[1;33m.\u001b[0m\u001b[0mraise_for_error\u001b[0m\u001b[1;33m(\u001b[0m\u001b[1;33m)\u001b[0m\u001b[1;33m\u001b[0m\u001b[1;33m\u001b[0m\u001b[0m\n\u001b[0m\u001b[0;32m    726\u001b[0m         \u001b[1;32mreturn\u001b[0m \u001b[0mpacket\u001b[0m\u001b[1;33m\u001b[0m\u001b[1;33m\u001b[0m\u001b[0m\n\u001b[0;32m    727\u001b[0m \u001b[1;33m\u001b[0m\u001b[0m\n",
      "\u001b[1;32m~\\anaconda3\\lib\\site-packages\\pymysql\\protocol.py\u001b[0m in \u001b[0;36mraise_for_error\u001b[1;34m(self)\u001b[0m\n\u001b[0;32m    219\u001b[0m         \u001b[1;32mif\u001b[0m \u001b[0mDEBUG\u001b[0m\u001b[1;33m:\u001b[0m\u001b[1;33m\u001b[0m\u001b[1;33m\u001b[0m\u001b[0m\n\u001b[0;32m    220\u001b[0m             \u001b[0mprint\u001b[0m\u001b[1;33m(\u001b[0m\u001b[1;34m\"errno =\"\u001b[0m\u001b[1;33m,\u001b[0m \u001b[0merrno\u001b[0m\u001b[1;33m)\u001b[0m\u001b[1;33m\u001b[0m\u001b[1;33m\u001b[0m\u001b[0m\n\u001b[1;32m--> 221\u001b[1;33m         \u001b[0merr\u001b[0m\u001b[1;33m.\u001b[0m\u001b[0mraise_mysql_exception\u001b[0m\u001b[1;33m(\u001b[0m\u001b[0mself\u001b[0m\u001b[1;33m.\u001b[0m\u001b[0m_data\u001b[0m\u001b[1;33m)\u001b[0m\u001b[1;33m\u001b[0m\u001b[1;33m\u001b[0m\u001b[0m\n\u001b[0m\u001b[0;32m    222\u001b[0m \u001b[1;33m\u001b[0m\u001b[0m\n\u001b[0;32m    223\u001b[0m     \u001b[1;32mdef\u001b[0m \u001b[0mdump\u001b[0m\u001b[1;33m(\u001b[0m\u001b[0mself\u001b[0m\u001b[1;33m)\u001b[0m\u001b[1;33m:\u001b[0m\u001b[1;33m\u001b[0m\u001b[1;33m\u001b[0m\u001b[0m\n",
      "\u001b[1;32m~\\anaconda3\\lib\\site-packages\\pymysql\\err.py\u001b[0m in \u001b[0;36mraise_mysql_exception\u001b[1;34m(data)\u001b[0m\n\u001b[0;32m    141\u001b[0m     \u001b[1;32mif\u001b[0m \u001b[0merrorclass\u001b[0m \u001b[1;32mis\u001b[0m \u001b[1;32mNone\u001b[0m\u001b[1;33m:\u001b[0m\u001b[1;33m\u001b[0m\u001b[1;33m\u001b[0m\u001b[0m\n\u001b[0;32m    142\u001b[0m         \u001b[0merrorclass\u001b[0m \u001b[1;33m=\u001b[0m \u001b[0mInternalError\u001b[0m \u001b[1;32mif\u001b[0m \u001b[0merrno\u001b[0m \u001b[1;33m<\u001b[0m \u001b[1;36m1000\u001b[0m \u001b[1;32melse\u001b[0m \u001b[0mOperationalError\u001b[0m\u001b[1;33m\u001b[0m\u001b[1;33m\u001b[0m\u001b[0m\n\u001b[1;32m--> 143\u001b[1;33m     \u001b[1;32mraise\u001b[0m \u001b[0merrorclass\u001b[0m\u001b[1;33m(\u001b[0m\u001b[0merrno\u001b[0m\u001b[1;33m,\u001b[0m \u001b[0merrval\u001b[0m\u001b[1;33m)\u001b[0m\u001b[1;33m\u001b[0m\u001b[1;33m\u001b[0m\u001b[0m\n\u001b[0m",
      "\u001b[1;31mOperationalError\u001b[0m: (1045, \"Access denied for user 'siva'@'localhost' (using password: NO)\")"
     ]
    }
   ],
   "source": [
    "getDbConnection()"
   ]
  },
  {
   "cell_type": "code",
   "execution_count": 5,
   "metadata": {},
   "outputs": [
    {
     "ename": "OperationalError",
     "evalue": "(1049, \"Unknown database 'newguvi'\")",
     "output_type": "error",
     "traceback": [
      "\u001b[1;31m---------------------------------------------------------------------------\u001b[0m",
      "\u001b[1;31mOperationalError\u001b[0m                          Traceback (most recent call last)",
      "\u001b[1;32m~\\AppData\\Local\\Temp\\ipykernel_11824\\2222115979.py\u001b[0m in \u001b[0;36m<module>\u001b[1;34m\u001b[0m\n\u001b[0;32m      2\u001b[0m \u001b[1;33m\u001b[0m\u001b[0m\n\u001b[0;32m      3\u001b[0m \u001b[1;31m# Connect to the database\u001b[0m\u001b[1;33m\u001b[0m\u001b[1;33m\u001b[0m\u001b[0m\n\u001b[1;32m----> 4\u001b[1;33m connection = pymysql.connect(host='localhost',\n\u001b[0m\u001b[0;32m      5\u001b[0m                              \u001b[0muser\u001b[0m\u001b[1;33m=\u001b[0m\u001b[1;34m'root'\u001b[0m\u001b[1;33m,\u001b[0m\u001b[1;33m\u001b[0m\u001b[1;33m\u001b[0m\u001b[0m\n\u001b[0;32m      6\u001b[0m                              \u001b[0mpassword\u001b[0m\u001b[1;33m=\u001b[0m\u001b[1;34m''\u001b[0m\u001b[1;33m,\u001b[0m\u001b[1;33m\u001b[0m\u001b[1;33m\u001b[0m\u001b[0m\n",
      "\u001b[1;32m~\\anaconda3\\lib\\site-packages\\pymysql\\connections.py\u001b[0m in \u001b[0;36m__init__\u001b[1;34m(self, user, password, host, database, unix_socket, port, charset, sql_mode, read_default_file, conv, use_unicode, client_flag, cursorclass, init_command, connect_timeout, read_default_group, autocommit, local_infile, max_allowed_packet, defer_connect, auth_plugin_map, read_timeout, write_timeout, bind_address, binary_prefix, program_name, server_public_key, ssl, ssl_ca, ssl_cert, ssl_disabled, ssl_key, ssl_verify_cert, ssl_verify_identity, compress, named_pipe, passwd, db)\u001b[0m\n\u001b[0;32m    351\u001b[0m             \u001b[0mself\u001b[0m\u001b[1;33m.\u001b[0m\u001b[0m_sock\u001b[0m \u001b[1;33m=\u001b[0m \u001b[1;32mNone\u001b[0m\u001b[1;33m\u001b[0m\u001b[1;33m\u001b[0m\u001b[0m\n\u001b[0;32m    352\u001b[0m         \u001b[1;32melse\u001b[0m\u001b[1;33m:\u001b[0m\u001b[1;33m\u001b[0m\u001b[1;33m\u001b[0m\u001b[0m\n\u001b[1;32m--> 353\u001b[1;33m             \u001b[0mself\u001b[0m\u001b[1;33m.\u001b[0m\u001b[0mconnect\u001b[0m\u001b[1;33m(\u001b[0m\u001b[1;33m)\u001b[0m\u001b[1;33m\u001b[0m\u001b[1;33m\u001b[0m\u001b[0m\n\u001b[0m\u001b[0;32m    354\u001b[0m \u001b[1;33m\u001b[0m\u001b[0m\n\u001b[0;32m    355\u001b[0m     \u001b[1;32mdef\u001b[0m \u001b[0m__enter__\u001b[0m\u001b[1;33m(\u001b[0m\u001b[0mself\u001b[0m\u001b[1;33m)\u001b[0m\u001b[1;33m:\u001b[0m\u001b[1;33m\u001b[0m\u001b[1;33m\u001b[0m\u001b[0m\n",
      "\u001b[1;32m~\\anaconda3\\lib\\site-packages\\pymysql\\connections.py\u001b[0m in \u001b[0;36mconnect\u001b[1;34m(self, sock)\u001b[0m\n\u001b[0;32m    631\u001b[0m \u001b[1;33m\u001b[0m\u001b[0m\n\u001b[0;32m    632\u001b[0m             \u001b[0mself\u001b[0m\u001b[1;33m.\u001b[0m\u001b[0m_get_server_information\u001b[0m\u001b[1;33m(\u001b[0m\u001b[1;33m)\u001b[0m\u001b[1;33m\u001b[0m\u001b[1;33m\u001b[0m\u001b[0m\n\u001b[1;32m--> 633\u001b[1;33m             \u001b[0mself\u001b[0m\u001b[1;33m.\u001b[0m\u001b[0m_request_authentication\u001b[0m\u001b[1;33m(\u001b[0m\u001b[1;33m)\u001b[0m\u001b[1;33m\u001b[0m\u001b[1;33m\u001b[0m\u001b[0m\n\u001b[0m\u001b[0;32m    634\u001b[0m \u001b[1;33m\u001b[0m\u001b[0m\n\u001b[0;32m    635\u001b[0m             \u001b[1;32mif\u001b[0m \u001b[0mself\u001b[0m\u001b[1;33m.\u001b[0m\u001b[0msql_mode\u001b[0m \u001b[1;32mis\u001b[0m \u001b[1;32mnot\u001b[0m \u001b[1;32mNone\u001b[0m\u001b[1;33m:\u001b[0m\u001b[1;33m\u001b[0m\u001b[1;33m\u001b[0m\u001b[0m\n",
      "\u001b[1;32m~\\anaconda3\\lib\\site-packages\\pymysql\\connections.py\u001b[0m in \u001b[0;36m_request_authentication\u001b[1;34m(self)\u001b[0m\n\u001b[0;32m    905\u001b[0m \u001b[1;33m\u001b[0m\u001b[0m\n\u001b[0;32m    906\u001b[0m         \u001b[0mself\u001b[0m\u001b[1;33m.\u001b[0m\u001b[0mwrite_packet\u001b[0m\u001b[1;33m(\u001b[0m\u001b[0mdata\u001b[0m\u001b[1;33m)\u001b[0m\u001b[1;33m\u001b[0m\u001b[1;33m\u001b[0m\u001b[0m\n\u001b[1;32m--> 907\u001b[1;33m         \u001b[0mauth_packet\u001b[0m \u001b[1;33m=\u001b[0m \u001b[0mself\u001b[0m\u001b[1;33m.\u001b[0m\u001b[0m_read_packet\u001b[0m\u001b[1;33m(\u001b[0m\u001b[1;33m)\u001b[0m\u001b[1;33m\u001b[0m\u001b[1;33m\u001b[0m\u001b[0m\n\u001b[0m\u001b[0;32m    908\u001b[0m \u001b[1;33m\u001b[0m\u001b[0m\n\u001b[0;32m    909\u001b[0m         \u001b[1;31m# if authentication method isn't accepted the first byte\u001b[0m\u001b[1;33m\u001b[0m\u001b[1;33m\u001b[0m\u001b[0m\n",
      "\u001b[1;32m~\\anaconda3\\lib\\site-packages\\pymysql\\connections.py\u001b[0m in \u001b[0;36m_read_packet\u001b[1;34m(self, packet_type)\u001b[0m\n\u001b[0;32m    723\u001b[0m             \u001b[1;32mif\u001b[0m \u001b[0mself\u001b[0m\u001b[1;33m.\u001b[0m\u001b[0m_result\u001b[0m \u001b[1;32mis\u001b[0m \u001b[1;32mnot\u001b[0m \u001b[1;32mNone\u001b[0m \u001b[1;32mand\u001b[0m \u001b[0mself\u001b[0m\u001b[1;33m.\u001b[0m\u001b[0m_result\u001b[0m\u001b[1;33m.\u001b[0m\u001b[0munbuffered_active\u001b[0m \u001b[1;32mis\u001b[0m \u001b[1;32mTrue\u001b[0m\u001b[1;33m:\u001b[0m\u001b[1;33m\u001b[0m\u001b[1;33m\u001b[0m\u001b[0m\n\u001b[0;32m    724\u001b[0m                 \u001b[0mself\u001b[0m\u001b[1;33m.\u001b[0m\u001b[0m_result\u001b[0m\u001b[1;33m.\u001b[0m\u001b[0munbuffered_active\u001b[0m \u001b[1;33m=\u001b[0m \u001b[1;32mFalse\u001b[0m\u001b[1;33m\u001b[0m\u001b[1;33m\u001b[0m\u001b[0m\n\u001b[1;32m--> 725\u001b[1;33m             \u001b[0mpacket\u001b[0m\u001b[1;33m.\u001b[0m\u001b[0mraise_for_error\u001b[0m\u001b[1;33m(\u001b[0m\u001b[1;33m)\u001b[0m\u001b[1;33m\u001b[0m\u001b[1;33m\u001b[0m\u001b[0m\n\u001b[0m\u001b[0;32m    726\u001b[0m         \u001b[1;32mreturn\u001b[0m \u001b[0mpacket\u001b[0m\u001b[1;33m\u001b[0m\u001b[1;33m\u001b[0m\u001b[0m\n\u001b[0;32m    727\u001b[0m \u001b[1;33m\u001b[0m\u001b[0m\n",
      "\u001b[1;32m~\\anaconda3\\lib\\site-packages\\pymysql\\protocol.py\u001b[0m in \u001b[0;36mraise_for_error\u001b[1;34m(self)\u001b[0m\n\u001b[0;32m    219\u001b[0m         \u001b[1;32mif\u001b[0m \u001b[0mDEBUG\u001b[0m\u001b[1;33m:\u001b[0m\u001b[1;33m\u001b[0m\u001b[1;33m\u001b[0m\u001b[0m\n\u001b[0;32m    220\u001b[0m             \u001b[0mprint\u001b[0m\u001b[1;33m(\u001b[0m\u001b[1;34m\"errno =\"\u001b[0m\u001b[1;33m,\u001b[0m \u001b[0merrno\u001b[0m\u001b[1;33m)\u001b[0m\u001b[1;33m\u001b[0m\u001b[1;33m\u001b[0m\u001b[0m\n\u001b[1;32m--> 221\u001b[1;33m         \u001b[0merr\u001b[0m\u001b[1;33m.\u001b[0m\u001b[0mraise_mysql_exception\u001b[0m\u001b[1;33m(\u001b[0m\u001b[0mself\u001b[0m\u001b[1;33m.\u001b[0m\u001b[0m_data\u001b[0m\u001b[1;33m)\u001b[0m\u001b[1;33m\u001b[0m\u001b[1;33m\u001b[0m\u001b[0m\n\u001b[0m\u001b[0;32m    222\u001b[0m \u001b[1;33m\u001b[0m\u001b[0m\n\u001b[0;32m    223\u001b[0m     \u001b[1;32mdef\u001b[0m \u001b[0mdump\u001b[0m\u001b[1;33m(\u001b[0m\u001b[0mself\u001b[0m\u001b[1;33m)\u001b[0m\u001b[1;33m:\u001b[0m\u001b[1;33m\u001b[0m\u001b[1;33m\u001b[0m\u001b[0m\n",
      "\u001b[1;32m~\\anaconda3\\lib\\site-packages\\pymysql\\err.py\u001b[0m in \u001b[0;36mraise_mysql_exception\u001b[1;34m(data)\u001b[0m\n\u001b[0;32m    141\u001b[0m     \u001b[1;32mif\u001b[0m \u001b[0merrorclass\u001b[0m \u001b[1;32mis\u001b[0m \u001b[1;32mNone\u001b[0m\u001b[1;33m:\u001b[0m\u001b[1;33m\u001b[0m\u001b[1;33m\u001b[0m\u001b[0m\n\u001b[0;32m    142\u001b[0m         \u001b[0merrorclass\u001b[0m \u001b[1;33m=\u001b[0m \u001b[0mInternalError\u001b[0m \u001b[1;32mif\u001b[0m \u001b[0merrno\u001b[0m \u001b[1;33m<\u001b[0m \u001b[1;36m1000\u001b[0m \u001b[1;32melse\u001b[0m \u001b[0mOperationalError\u001b[0m\u001b[1;33m\u001b[0m\u001b[1;33m\u001b[0m\u001b[0m\n\u001b[1;32m--> 143\u001b[1;33m     \u001b[1;32mraise\u001b[0m \u001b[0merrorclass\u001b[0m\u001b[1;33m(\u001b[0m\u001b[0merrno\u001b[0m\u001b[1;33m,\u001b[0m \u001b[0merrval\u001b[0m\u001b[1;33m)\u001b[0m\u001b[1;33m\u001b[0m\u001b[1;33m\u001b[0m\u001b[0m\n\u001b[0m",
      "\u001b[1;31mOperationalError\u001b[0m: (1049, \"Unknown database 'newguvi'\")"
     ]
    }
   ],
   "source": [
    "import pymysql.cursors\n",
    "\n",
    "# Connect to the database\n",
    "connection = pymysql.connect(host='localhost',\n",
    "                             user='root',\n",
    "                             password='',\n",
    "                             database='newguvi',\n",
    "                             cursorclass=pymysql.cursors.DictCursor)"
   ]
  },
  {
   "cell_type": "code",
   "execution_count": 5,
   "metadata": {},
   "outputs": [
    {
     "name": "stdout",
     "output_type": "stream",
     "text": [
      "[{'Pregnancies': 6, 'Glucose': 148, 'BloodPressure': 72, 'SkinThickness': 35, 'Insulin': 0, 'BMI': Decimal('33.6'), 'DiabetesPedigreeFunction': Decimal('0.627'), 'Age': 50, 'Outcome': 1}, {'Pregnancies': 1, 'Glucose': 85, 'BloodPressure': 66, 'SkinThickness': 29, 'Insulin': 0, 'BMI': Decimal('26.6'), 'DiabetesPedigreeFunction': Decimal('0.351'), 'Age': 31, 'Outcome': 0}, {'Pregnancies': 8, 'Glucose': 183, 'BloodPressure': 64, 'SkinThickness': 0, 'Insulin': 0, 'BMI': Decimal('23.3'), 'DiabetesPedigreeFunction': Decimal('0.672'), 'Age': 32, 'Outcome': 1}, {'Pregnancies': 1, 'Glucose': 89, 'BloodPressure': 66, 'SkinThickness': 23, 'Insulin': 94, 'BMI': Decimal('28.1'), 'DiabetesPedigreeFunction': Decimal('0.167'), 'Age': 21, 'Outcome': 0}, {'Pregnancies': 0, 'Glucose': 137, 'BloodPressure': 40, 'SkinThickness': 35, 'Insulin': 168, 'BMI': Decimal('43.1'), 'DiabetesPedigreeFunction': Decimal('2.288'), 'Age': 33, 'Outcome': 1}, {'Pregnancies': 5, 'Glucose': 116, 'BloodPressure': 74, 'SkinThickness': 0, 'Insulin': 0, 'BMI': Decimal('25.6'), 'DiabetesPedigreeFunction': Decimal('0.201'), 'Age': 30, 'Outcome': 0}, {'Pregnancies': 3, 'Glucose': 78, 'BloodPressure': 50, 'SkinThickness': 32, 'Insulin': 88, 'BMI': Decimal('31.0'), 'DiabetesPedigreeFunction': Decimal('0.248'), 'Age': 26, 'Outcome': 1}, {'Pregnancies': 10, 'Glucose': 115, 'BloodPressure': 0, 'SkinThickness': 0, 'Insulin': 0, 'BMI': Decimal('35.3'), 'DiabetesPedigreeFunction': Decimal('0.134'), 'Age': 29, 'Outcome': 0}, {'Pregnancies': 2, 'Glucose': 197, 'BloodPressure': 70, 'SkinThickness': 45, 'Insulin': 543, 'BMI': Decimal('30.5'), 'DiabetesPedigreeFunction': Decimal('0.158'), 'Age': 53, 'Outcome': 1}, {'Pregnancies': 8, 'Glucose': 125, 'BloodPressure': 96, 'SkinThickness': 0, 'Insulin': 0, 'BMI': Decimal('0.0'), 'DiabetesPedigreeFunction': Decimal('0.232'), 'Age': 54, 'Outcome': 1}, {'Pregnancies': 4, 'Glucose': 110, 'BloodPressure': 92, 'SkinThickness': 0, 'Insulin': 0, 'BMI': Decimal('37.6'), 'DiabetesPedigreeFunction': Decimal('0.191'), 'Age': 30, 'Outcome': 0}, {'Pregnancies': 10, 'Glucose': 168, 'BloodPressure': 74, 'SkinThickness': 0, 'Insulin': 0, 'BMI': Decimal('38.0'), 'DiabetesPedigreeFunction': Decimal('0.537'), 'Age': 34, 'Outcome': 1}, {'Pregnancies': 10, 'Glucose': 139, 'BloodPressure': 80, 'SkinThickness': 0, 'Insulin': 0, 'BMI': Decimal('27.1'), 'DiabetesPedigreeFunction': Decimal('1.441'), 'Age': 57, 'Outcome': 0}, {'Pregnancies': 1, 'Glucose': 189, 'BloodPressure': 60, 'SkinThickness': 23, 'Insulin': 846, 'BMI': Decimal('30.1'), 'DiabetesPedigreeFunction': Decimal('0.398'), 'Age': 59, 'Outcome': 1}, {'Pregnancies': 5, 'Glucose': 166, 'BloodPressure': 72, 'SkinThickness': 19, 'Insulin': 175, 'BMI': Decimal('25.8'), 'DiabetesPedigreeFunction': Decimal('0.587'), 'Age': 51, 'Outcome': 1}, {'Pregnancies': 7, 'Glucose': 100, 'BloodPressure': 0, 'SkinThickness': 0, 'Insulin': 0, 'BMI': Decimal('30.0'), 'DiabetesPedigreeFunction': Decimal('0.484'), 'Age': 32, 'Outcome': 1}, {'Pregnancies': 0, 'Glucose': 118, 'BloodPressure': 84, 'SkinThickness': 47, 'Insulin': 230, 'BMI': Decimal('45.8'), 'DiabetesPedigreeFunction': Decimal('0.551'), 'Age': 31, 'Outcome': 1}, {'Pregnancies': 7, 'Glucose': 107, 'BloodPressure': 74, 'SkinThickness': 0, 'Insulin': 0, 'BMI': Decimal('29.6'), 'DiabetesPedigreeFunction': Decimal('0.254'), 'Age': 31, 'Outcome': 1}, {'Pregnancies': 1, 'Glucose': 103, 'BloodPressure': 30, 'SkinThickness': 38, 'Insulin': 83, 'BMI': Decimal('43.3'), 'DiabetesPedigreeFunction': Decimal('0.183'), 'Age': 33, 'Outcome': 0}, {'Pregnancies': 1, 'Glucose': 115, 'BloodPressure': 70, 'SkinThickness': 30, 'Insulin': 96, 'BMI': Decimal('34.6'), 'DiabetesPedigreeFunction': Decimal('0.529'), 'Age': 32, 'Outcome': 1}, {'Pregnancies': 3, 'Glucose': 126, 'BloodPressure': 88, 'SkinThickness': 41, 'Insulin': 235, 'BMI': Decimal('39.3'), 'DiabetesPedigreeFunction': Decimal('0.704'), 'Age': 27, 'Outcome': 0}, {'Pregnancies': 8, 'Glucose': 99, 'BloodPressure': 84, 'SkinThickness': 0, 'Insulin': 0, 'BMI': Decimal('35.4'), 'DiabetesPedigreeFunction': Decimal('0.388'), 'Age': 50, 'Outcome': 0}, {'Pregnancies': 7, 'Glucose': 196, 'BloodPressure': 90, 'SkinThickness': 0, 'Insulin': 0, 'BMI': Decimal('39.8'), 'DiabetesPedigreeFunction': Decimal('0.451'), 'Age': 41, 'Outcome': 1}, {'Pregnancies': 9, 'Glucose': 119, 'BloodPressure': 80, 'SkinThickness': 35, 'Insulin': 0, 'BMI': Decimal('29.0'), 'DiabetesPedigreeFunction': Decimal('0.263'), 'Age': 29, 'Outcome': 1}, {'Pregnancies': 11, 'Glucose': 143, 'BloodPressure': 94, 'SkinThickness': 33, 'Insulin': 146, 'BMI': Decimal('36.6'), 'DiabetesPedigreeFunction': Decimal('0.254'), 'Age': 51, 'Outcome': 1}, {'Pregnancies': 10, 'Glucose': 125, 'BloodPressure': 70, 'SkinThickness': 26, 'Insulin': 115, 'BMI': Decimal('31.1'), 'DiabetesPedigreeFunction': Decimal('0.205'), 'Age': 41, 'Outcome': 1}, {'Pregnancies': 7, 'Glucose': 147, 'BloodPressure': 76, 'SkinThickness': 0, 'Insulin': 0, 'BMI': Decimal('39.4'), 'DiabetesPedigreeFunction': Decimal('0.257'), 'Age': 43, 'Outcome': 1}, {'Pregnancies': 1, 'Glucose': 97, 'BloodPressure': 66, 'SkinThickness': 15, 'Insulin': 140, 'BMI': Decimal('23.2'), 'DiabetesPedigreeFunction': Decimal('0.487'), 'Age': 22, 'Outcome': 0}, {'Pregnancies': 13, 'Glucose': 145, 'BloodPressure': 82, 'SkinThickness': 19, 'Insulin': 110, 'BMI': Decimal('22.2'), 'DiabetesPedigreeFunction': Decimal('0.245'), 'Age': 57, 'Outcome': 0}, {'Pregnancies': 5, 'Glucose': 117, 'BloodPressure': 92, 'SkinThickness': 0, 'Insulin': 0, 'BMI': Decimal('34.1'), 'DiabetesPedigreeFunction': Decimal('0.337'), 'Age': 38, 'Outcome': 0}, {'Pregnancies': 5, 'Glucose': 109, 'BloodPressure': 75, 'SkinThickness': 26, 'Insulin': 0, 'BMI': Decimal('36.0'), 'DiabetesPedigreeFunction': Decimal('0.546'), 'Age': 60, 'Outcome': 0}, {'Pregnancies': 3, 'Glucose': 158, 'BloodPressure': 76, 'SkinThickness': 36, 'Insulin': 245, 'BMI': Decimal('31.6'), 'DiabetesPedigreeFunction': Decimal('0.851'), 'Age': 28, 'Outcome': 1}, {'Pregnancies': 3, 'Glucose': 88, 'BloodPressure': 58, 'SkinThickness': 11, 'Insulin': 54, 'BMI': Decimal('24.8'), 'DiabetesPedigreeFunction': Decimal('0.267'), 'Age': 22, 'Outcome': 0}, {'Pregnancies': 6, 'Glucose': 92, 'BloodPressure': 92, 'SkinThickness': 0, 'Insulin': 0, 'BMI': Decimal('19.9'), 'DiabetesPedigreeFunction': Decimal('0.188'), 'Age': 28, 'Outcome': 0}, {'Pregnancies': 10, 'Glucose': 122, 'BloodPressure': 78, 'SkinThickness': 31, 'Insulin': 0, 'BMI': Decimal('27.6'), 'DiabetesPedigreeFunction': Decimal('0.512'), 'Age': 45, 'Outcome': 0}, {'Pregnancies': 4, 'Glucose': 103, 'BloodPressure': 60, 'SkinThickness': 33, 'Insulin': 192, 'BMI': Decimal('24.0'), 'DiabetesPedigreeFunction': Decimal('0.966'), 'Age': 33, 'Outcome': 0}, {'Pregnancies': 11, 'Glucose': 138, 'BloodPressure': 76, 'SkinThickness': 0, 'Insulin': 0, 'BMI': Decimal('33.2'), 'DiabetesPedigreeFunction': Decimal('0.420'), 'Age': 35, 'Outcome': 0}, {'Pregnancies': 9, 'Glucose': 102, 'BloodPressure': 76, 'SkinThickness': 37, 'Insulin': 0, 'BMI': Decimal('32.9'), 'DiabetesPedigreeFunction': Decimal('0.665'), 'Age': 46, 'Outcome': 1}, {'Pregnancies': 2, 'Glucose': 90, 'BloodPressure': 68, 'SkinThickness': 42, 'Insulin': 0, 'BMI': Decimal('38.2'), 'DiabetesPedigreeFunction': Decimal('0.503'), 'Age': 27, 'Outcome': 1}, {'Pregnancies': 4, 'Glucose': 111, 'BloodPressure': 72, 'SkinThickness': 47, 'Insulin': 207, 'BMI': Decimal('37.1'), 'DiabetesPedigreeFunction': Decimal('1.390'), 'Age': 56, 'Outcome': 1}, {'Pregnancies': 3, 'Glucose': 180, 'BloodPressure': 64, 'SkinThickness': 25, 'Insulin': 70, 'BMI': Decimal('34.0'), 'DiabetesPedigreeFunction': Decimal('0.271'), 'Age': 26, 'Outcome': 0}, {'Pregnancies': 7, 'Glucose': 133, 'BloodPressure': 84, 'SkinThickness': 0, 'Insulin': 0, 'BMI': Decimal('40.2'), 'DiabetesPedigreeFunction': Decimal('0.696'), 'Age': 37, 'Outcome': 0}, {'Pregnancies': 7, 'Glucose': 106, 'BloodPressure': 92, 'SkinThickness': 18, 'Insulin': 0, 'BMI': Decimal('22.7'), 'DiabetesPedigreeFunction': Decimal('0.235'), 'Age': 48, 'Outcome': 0}, {'Pregnancies': 9, 'Glucose': 171, 'BloodPressure': 110, 'SkinThickness': 24, 'Insulin': 240, 'BMI': Decimal('45.4'), 'DiabetesPedigreeFunction': Decimal('0.721'), 'Age': 54, 'Outcome': 1}, {'Pregnancies': 7, 'Glucose': 159, 'BloodPressure': 64, 'SkinThickness': 0, 'Insulin': 0, 'BMI': Decimal('27.4'), 'DiabetesPedigreeFunction': Decimal('0.294'), 'Age': 40, 'Outcome': 0}, {'Pregnancies': 0, 'Glucose': 180, 'BloodPressure': 66, 'SkinThickness': 39, 'Insulin': 0, 'BMI': Decimal('42.0'), 'DiabetesPedigreeFunction': Decimal('1.893'), 'Age': 25, 'Outcome': 1}, {'Pregnancies': 1, 'Glucose': 146, 'BloodPressure': 56, 'SkinThickness': 0, 'Insulin': 0, 'BMI': Decimal('29.7'), 'DiabetesPedigreeFunction': Decimal('0.564'), 'Age': 29, 'Outcome': 0}, {'Pregnancies': 2, 'Glucose': 71, 'BloodPressure': 70, 'SkinThickness': 27, 'Insulin': 0, 'BMI': Decimal('28.0'), 'DiabetesPedigreeFunction': Decimal('0.586'), 'Age': 22, 'Outcome': 0}, {'Pregnancies': 7, 'Glucose': 103, 'BloodPressure': 66, 'SkinThickness': 32, 'Insulin': 0, 'BMI': Decimal('39.1'), 'DiabetesPedigreeFunction': Decimal('0.344'), 'Age': 31, 'Outcome': 1}, {'Pregnancies': 7, 'Glucose': 105, 'BloodPressure': 0, 'SkinThickness': 0, 'Insulin': 0, 'BMI': Decimal('0.0'), 'DiabetesPedigreeFunction': Decimal('0.305'), 'Age': 24, 'Outcome': 0}, {'Pregnancies': 1, 'Glucose': 103, 'BloodPressure': 80, 'SkinThickness': 11, 'Insulin': 82, 'BMI': Decimal('19.4'), 'DiabetesPedigreeFunction': Decimal('0.491'), 'Age': 22, 'Outcome': 0}, {'Pregnancies': 1, 'Glucose': 101, 'BloodPressure': 50, 'SkinThickness': 15, 'Insulin': 36, 'BMI': Decimal('24.2'), 'DiabetesPedigreeFunction': Decimal('0.526'), 'Age': 26, 'Outcome': 0}, {'Pregnancies': 5, 'Glucose': 88, 'BloodPressure': 66, 'SkinThickness': 21, 'Insulin': 23, 'BMI': Decimal('24.4'), 'DiabetesPedigreeFunction': Decimal('0.342'), 'Age': 30, 'Outcome': 0}, {'Pregnancies': 8, 'Glucose': 176, 'BloodPressure': 90, 'SkinThickness': 34, 'Insulin': 300, 'BMI': Decimal('33.7'), 'DiabetesPedigreeFunction': Decimal('0.467'), 'Age': 58, 'Outcome': 1}, {'Pregnancies': 7, 'Glucose': 150, 'BloodPressure': 66, 'SkinThickness': 42, 'Insulin': 342, 'BMI': Decimal('34.7'), 'DiabetesPedigreeFunction': Decimal('0.718'), 'Age': 42, 'Outcome': 0}, {'Pregnancies': 1, 'Glucose': 73, 'BloodPressure': 50, 'SkinThickness': 10, 'Insulin': 0, 'BMI': Decimal('23.0'), 'DiabetesPedigreeFunction': Decimal('0.248'), 'Age': 21, 'Outcome': 0}, {'Pregnancies': 7, 'Glucose': 187, 'BloodPressure': 68, 'SkinThickness': 39, 'Insulin': 304, 'BMI': Decimal('37.7'), 'DiabetesPedigreeFunction': Decimal('0.254'), 'Age': 41, 'Outcome': 1}, {'Pregnancies': 0, 'Glucose': 100, 'BloodPressure': 88, 'SkinThickness': 60, 'Insulin': 110, 'BMI': Decimal('46.8'), 'DiabetesPedigreeFunction': Decimal('0.962'), 'Age': 31, 'Outcome': 0}, {'Pregnancies': 0, 'Glucose': 146, 'BloodPressure': 82, 'SkinThickness': 0, 'Insulin': 0, 'BMI': Decimal('40.5'), 'DiabetesPedigreeFunction': Decimal('1.781'), 'Age': 44, 'Outcome': 0}, {'Pregnancies': 0, 'Glucose': 105, 'BloodPressure': 64, 'SkinThickness': 41, 'Insulin': 142, 'BMI': Decimal('41.5'), 'DiabetesPedigreeFunction': Decimal('0.173'), 'Age': 22, 'Outcome': 0}, {'Pregnancies': 2, 'Glucose': 84, 'BloodPressure': 0, 'SkinThickness': 0, 'Insulin': 0, 'BMI': Decimal('0.0'), 'DiabetesPedigreeFunction': Decimal('0.304'), 'Age': 21, 'Outcome': 0}, {'Pregnancies': 8, 'Glucose': 133, 'BloodPressure': 72, 'SkinThickness': 0, 'Insulin': 0, 'BMI': Decimal('32.9'), 'DiabetesPedigreeFunction': Decimal('0.270'), 'Age': 39, 'Outcome': 1}, {'Pregnancies': 5, 'Glucose': 44, 'BloodPressure': 62, 'SkinThickness': 0, 'Insulin': 0, 'BMI': Decimal('25.0'), 'DiabetesPedigreeFunction': Decimal('0.587'), 'Age': 36, 'Outcome': 0}, {'Pregnancies': 2, 'Glucose': 141, 'BloodPressure': 58, 'SkinThickness': 34, 'Insulin': 128, 'BMI': Decimal('25.4'), 'DiabetesPedigreeFunction': Decimal('0.699'), 'Age': 24, 'Outcome': 0}, {'Pregnancies': 7, 'Glucose': 114, 'BloodPressure': 66, 'SkinThickness': 0, 'Insulin': 0, 'BMI': Decimal('32.8'), 'DiabetesPedigreeFunction': Decimal('0.258'), 'Age': 42, 'Outcome': 1}, {'Pregnancies': 5, 'Glucose': 99, 'BloodPressure': 74, 'SkinThickness': 27, 'Insulin': 0, 'BMI': Decimal('29.0'), 'DiabetesPedigreeFunction': Decimal('0.203'), 'Age': 32, 'Outcome': 0}, {'Pregnancies': 0, 'Glucose': 109, 'BloodPressure': 88, 'SkinThickness': 30, 'Insulin': 0, 'BMI': Decimal('32.5'), 'DiabetesPedigreeFunction': Decimal('0.855'), 'Age': 38, 'Outcome': 1}, {'Pregnancies': 2, 'Glucose': 109, 'BloodPressure': 92, 'SkinThickness': 0, 'Insulin': 0, 'BMI': Decimal('42.7'), 'DiabetesPedigreeFunction': Decimal('0.845'), 'Age': 54, 'Outcome': 0}, {'Pregnancies': 1, 'Glucose': 95, 'BloodPressure': 66, 'SkinThickness': 13, 'Insulin': 38, 'BMI': Decimal('19.6'), 'DiabetesPedigreeFunction': Decimal('0.334'), 'Age': 25, 'Outcome': 0}, {'Pregnancies': 4, 'Glucose': 146, 'BloodPressure': 85, 'SkinThickness': 27, 'Insulin': 100, 'BMI': Decimal('28.9'), 'DiabetesPedigreeFunction': Decimal('0.189'), 'Age': 27, 'Outcome': 0}, {'Pregnancies': 2, 'Glucose': 100, 'BloodPressure': 66, 'SkinThickness': 20, 'Insulin': 90, 'BMI': Decimal('32.9'), 'DiabetesPedigreeFunction': Decimal('0.867'), 'Age': 28, 'Outcome': 1}, {'Pregnancies': 5, 'Glucose': 139, 'BloodPressure': 64, 'SkinThickness': 35, 'Insulin': 140, 'BMI': Decimal('28.6'), 'DiabetesPedigreeFunction': Decimal('0.411'), 'Age': 26, 'Outcome': 0}, {'Pregnancies': 13, 'Glucose': 126, 'BloodPressure': 90, 'SkinThickness': 0, 'Insulin': 0, 'BMI': Decimal('43.4'), 'DiabetesPedigreeFunction': Decimal('0.583'), 'Age': 42, 'Outcome': 1}, {'Pregnancies': 4, 'Glucose': 129, 'BloodPressure': 86, 'SkinThickness': 20, 'Insulin': 270, 'BMI': Decimal('35.1'), 'DiabetesPedigreeFunction': Decimal('0.231'), 'Age': 23, 'Outcome': 0}, {'Pregnancies': 1, 'Glucose': 79, 'BloodPressure': 75, 'SkinThickness': 30, 'Insulin': 0, 'BMI': Decimal('32.0'), 'DiabetesPedigreeFunction': Decimal('0.396'), 'Age': 22, 'Outcome': 0}, {'Pregnancies': 1, 'Glucose': 0, 'BloodPressure': 48, 'SkinThickness': 20, 'Insulin': 0, 'BMI': Decimal('24.7'), 'DiabetesPedigreeFunction': Decimal('0.140'), 'Age': 22, 'Outcome': 0}, {'Pregnancies': 7, 'Glucose': 62, 'BloodPressure': 78, 'SkinThickness': 0, 'Insulin': 0, 'BMI': Decimal('32.6'), 'DiabetesPedigreeFunction': Decimal('0.391'), 'Age': 41, 'Outcome': 0}, {'Pregnancies': 5, 'Glucose': 95, 'BloodPressure': 72, 'SkinThickness': 33, 'Insulin': 0, 'BMI': Decimal('37.7'), 'DiabetesPedigreeFunction': Decimal('0.370'), 'Age': 27, 'Outcome': 0}, {'Pregnancies': 0, 'Glucose': 131, 'BloodPressure': 0, 'SkinThickness': 0, 'Insulin': 0, 'BMI': Decimal('43.2'), 'DiabetesPedigreeFunction': Decimal('0.270'), 'Age': 26, 'Outcome': 1}, {'Pregnancies': 2, 'Glucose': 112, 'BloodPressure': 66, 'SkinThickness': 22, 'Insulin': 0, 'BMI': Decimal('25.0'), 'DiabetesPedigreeFunction': Decimal('0.307'), 'Age': 24, 'Outcome': 0}, {'Pregnancies': 3, 'Glucose': 113, 'BloodPressure': 44, 'SkinThickness': 13, 'Insulin': 0, 'BMI': Decimal('22.4'), 'DiabetesPedigreeFunction': Decimal('0.140'), 'Age': 22, 'Outcome': 0}, {'Pregnancies': 2, 'Glucose': 74, 'BloodPressure': 0, 'SkinThickness': 0, 'Insulin': 0, 'BMI': Decimal('0.0'), 'DiabetesPedigreeFunction': Decimal('0.102'), 'Age': 22, 'Outcome': 0}, {'Pregnancies': 7, 'Glucose': 83, 'BloodPressure': 78, 'SkinThickness': 26, 'Insulin': 71, 'BMI': Decimal('29.3'), 'DiabetesPedigreeFunction': Decimal('0.767'), 'Age': 36, 'Outcome': 0}, {'Pregnancies': 0, 'Glucose': 101, 'BloodPressure': 65, 'SkinThickness': 28, 'Insulin': 0, 'BMI': Decimal('24.6'), 'DiabetesPedigreeFunction': Decimal('0.237'), 'Age': 22, 'Outcome': 0}, {'Pregnancies': 5, 'Glucose': 137, 'BloodPressure': 108, 'SkinThickness': 0, 'Insulin': 0, 'BMI': Decimal('48.8'), 'DiabetesPedigreeFunction': Decimal('0.227'), 'Age': 37, 'Outcome': 1}, {'Pregnancies': 2, 'Glucose': 110, 'BloodPressure': 74, 'SkinThickness': 29, 'Insulin': 125, 'BMI': Decimal('32.4'), 'DiabetesPedigreeFunction': Decimal('0.698'), 'Age': 27, 'Outcome': 0}, {'Pregnancies': 13, 'Glucose': 106, 'BloodPressure': 72, 'SkinThickness': 54, 'Insulin': 0, 'BMI': Decimal('36.6'), 'DiabetesPedigreeFunction': Decimal('0.178'), 'Age': 45, 'Outcome': 0}, {'Pregnancies': 2, 'Glucose': 100, 'BloodPressure': 68, 'SkinThickness': 25, 'Insulin': 71, 'BMI': Decimal('38.5'), 'DiabetesPedigreeFunction': Decimal('0.324'), 'Age': 26, 'Outcome': 0}, {'Pregnancies': 15, 'Glucose': 136, 'BloodPressure': 70, 'SkinThickness': 32, 'Insulin': 110, 'BMI': Decimal('37.1'), 'DiabetesPedigreeFunction': Decimal('0.153'), 'Age': 43, 'Outcome': 1}, {'Pregnancies': 1, 'Glucose': 107, 'BloodPressure': 68, 'SkinThickness': 19, 'Insulin': 0, 'BMI': Decimal('26.5'), 'DiabetesPedigreeFunction': Decimal('0.165'), 'Age': 24, 'Outcome': 0}, {'Pregnancies': 1, 'Glucose': 80, 'BloodPressure': 55, 'SkinThickness': 0, 'Insulin': 0, 'BMI': Decimal('19.1'), 'DiabetesPedigreeFunction': Decimal('0.258'), 'Age': 21, 'Outcome': 0}, {'Pregnancies': 4, 'Glucose': 123, 'BloodPressure': 80, 'SkinThickness': 15, 'Insulin': 176, 'BMI': Decimal('32.0'), 'DiabetesPedigreeFunction': Decimal('0.443'), 'Age': 34, 'Outcome': 0}, {'Pregnancies': 7, 'Glucose': 81, 'BloodPressure': 78, 'SkinThickness': 40, 'Insulin': 48, 'BMI': Decimal('46.7'), 'DiabetesPedigreeFunction': Decimal('0.261'), 'Age': 42, 'Outcome': 0}, {'Pregnancies': 4, 'Glucose': 134, 'BloodPressure': 72, 'SkinThickness': 0, 'Insulin': 0, 'BMI': Decimal('23.8'), 'DiabetesPedigreeFunction': Decimal('0.277'), 'Age': 60, 'Outcome': 1}, {'Pregnancies': 2, 'Glucose': 142, 'BloodPressure': 82, 'SkinThickness': 18, 'Insulin': 64, 'BMI': Decimal('24.7'), 'DiabetesPedigreeFunction': Decimal('0.761'), 'Age': 21, 'Outcome': 0}, {'Pregnancies': 6, 'Glucose': 144, 'BloodPressure': 72, 'SkinThickness': 27, 'Insulin': 228, 'BMI': Decimal('33.9'), 'DiabetesPedigreeFunction': Decimal('0.255'), 'Age': 40, 'Outcome': 0}, {'Pregnancies': 2, 'Glucose': 92, 'BloodPressure': 62, 'SkinThickness': 28, 'Insulin': 0, 'BMI': Decimal('31.6'), 'DiabetesPedigreeFunction': Decimal('0.130'), 'Age': 24, 'Outcome': 0}, {'Pregnancies': 1, 'Glucose': 71, 'BloodPressure': 48, 'SkinThickness': 18, 'Insulin': 76, 'BMI': Decimal('20.4'), 'DiabetesPedigreeFunction': Decimal('0.323'), 'Age': 22, 'Outcome': 0}, {'Pregnancies': 6, 'Glucose': 93, 'BloodPressure': 50, 'SkinThickness': 30, 'Insulin': 64, 'BMI': Decimal('28.7'), 'DiabetesPedigreeFunction': Decimal('0.356'), 'Age': 23, 'Outcome': 0}, {'Pregnancies': 1, 'Glucose': 122, 'BloodPressure': 90, 'SkinThickness': 51, 'Insulin': 220, 'BMI': Decimal('49.7'), 'DiabetesPedigreeFunction': Decimal('0.325'), 'Age': 31, 'Outcome': 1}, {'Pregnancies': 1, 'Glucose': 163, 'BloodPressure': 72, 'SkinThickness': 0, 'Insulin': 0, 'BMI': Decimal('39.0'), 'DiabetesPedigreeFunction': Decimal('1.222'), 'Age': 33, 'Outcome': 1}, {'Pregnancies': 1, 'Glucose': 151, 'BloodPressure': 60, 'SkinThickness': 0, 'Insulin': 0, 'BMI': Decimal('26.1'), 'DiabetesPedigreeFunction': Decimal('0.179'), 'Age': 22, 'Outcome': 0}, {'Pregnancies': 0, 'Glucose': 125, 'BloodPressure': 96, 'SkinThickness': 0, 'Insulin': 0, 'BMI': Decimal('22.5'), 'DiabetesPedigreeFunction': Decimal('0.262'), 'Age': 21, 'Outcome': 0}, {'Pregnancies': 1, 'Glucose': 81, 'BloodPressure': 72, 'SkinThickness': 18, 'Insulin': 40, 'BMI': Decimal('26.6'), 'DiabetesPedigreeFunction': Decimal('0.283'), 'Age': 24, 'Outcome': 0}, {'Pregnancies': 2, 'Glucose': 85, 'BloodPressure': 65, 'SkinThickness': 0, 'Insulin': 0, 'BMI': Decimal('39.6'), 'DiabetesPedigreeFunction': Decimal('0.930'), 'Age': 27, 'Outcome': 0}, {'Pregnancies': 1, 'Glucose': 126, 'BloodPressure': 56, 'SkinThickness': 29, 'Insulin': 152, 'BMI': Decimal('28.7'), 'DiabetesPedigreeFunction': Decimal('0.801'), 'Age': 21, 'Outcome': 0}, {'Pregnancies': 1, 'Glucose': 96, 'BloodPressure': 122, 'SkinThickness': 0, 'Insulin': 0, 'BMI': Decimal('22.4'), 'DiabetesPedigreeFunction': Decimal('0.207'), 'Age': 27, 'Outcome': 0}, {'Pregnancies': 4, 'Glucose': 144, 'BloodPressure': 58, 'SkinThickness': 28, 'Insulin': 140, 'BMI': Decimal('29.5'), 'DiabetesPedigreeFunction': Decimal('0.287'), 'Age': 37, 'Outcome': 0}, {'Pregnancies': 3, 'Glucose': 83, 'BloodPressure': 58, 'SkinThickness': 31, 'Insulin': 18, 'BMI': Decimal('34.3'), 'DiabetesPedigreeFunction': Decimal('0.336'), 'Age': 25, 'Outcome': 0}, {'Pregnancies': 0, 'Glucose': 95, 'BloodPressure': 85, 'SkinThickness': 25, 'Insulin': 36, 'BMI': Decimal('37.4'), 'DiabetesPedigreeFunction': Decimal('0.247'), 'Age': 24, 'Outcome': 1}, {'Pregnancies': 3, 'Glucose': 171, 'BloodPressure': 72, 'SkinThickness': 33, 'Insulin': 135, 'BMI': Decimal('33.3'), 'DiabetesPedigreeFunction': Decimal('0.199'), 'Age': 24, 'Outcome': 1}, {'Pregnancies': 8, 'Glucose': 155, 'BloodPressure': 62, 'SkinThickness': 26, 'Insulin': 495, 'BMI': Decimal('34.0'), 'DiabetesPedigreeFunction': Decimal('0.543'), 'Age': 46, 'Outcome': 1}, {'Pregnancies': 1, 'Glucose': 89, 'BloodPressure': 76, 'SkinThickness': 34, 'Insulin': 37, 'BMI': Decimal('31.2'), 'DiabetesPedigreeFunction': Decimal('0.192'), 'Age': 23, 'Outcome': 0}, {'Pregnancies': 4, 'Glucose': 76, 'BloodPressure': 62, 'SkinThickness': 0, 'Insulin': 0, 'BMI': Decimal('34.0'), 'DiabetesPedigreeFunction': Decimal('0.391'), 'Age': 25, 'Outcome': 0}, {'Pregnancies': 7, 'Glucose': 160, 'BloodPressure': 54, 'SkinThickness': 32, 'Insulin': 175, 'BMI': Decimal('30.5'), 'DiabetesPedigreeFunction': Decimal('0.588'), 'Age': 39, 'Outcome': 1}, {'Pregnancies': 4, 'Glucose': 146, 'BloodPressure': 92, 'SkinThickness': 0, 'Insulin': 0, 'BMI': Decimal('31.2'), 'DiabetesPedigreeFunction': Decimal('0.539'), 'Age': 61, 'Outcome': 1}, {'Pregnancies': 5, 'Glucose': 124, 'BloodPressure': 74, 'SkinThickness': 0, 'Insulin': 0, 'BMI': Decimal('34.0'), 'DiabetesPedigreeFunction': Decimal('0.220'), 'Age': 38, 'Outcome': 1}, {'Pregnancies': 5, 'Glucose': 78, 'BloodPressure': 48, 'SkinThickness': 0, 'Insulin': 0, 'BMI': Decimal('33.7'), 'DiabetesPedigreeFunction': Decimal('0.654'), 'Age': 25, 'Outcome': 0}, {'Pregnancies': 4, 'Glucose': 97, 'BloodPressure': 60, 'SkinThickness': 23, 'Insulin': 0, 'BMI': Decimal('28.2'), 'DiabetesPedigreeFunction': Decimal('0.443'), 'Age': 22, 'Outcome': 0}, {'Pregnancies': 4, 'Glucose': 99, 'BloodPressure': 76, 'SkinThickness': 15, 'Insulin': 51, 'BMI': Decimal('23.2'), 'DiabetesPedigreeFunction': Decimal('0.223'), 'Age': 21, 'Outcome': 0}, {'Pregnancies': 0, 'Glucose': 162, 'BloodPressure': 76, 'SkinThickness': 56, 'Insulin': 100, 'BMI': Decimal('53.2'), 'DiabetesPedigreeFunction': Decimal('0.759'), 'Age': 25, 'Outcome': 1}, {'Pregnancies': 6, 'Glucose': 111, 'BloodPressure': 64, 'SkinThickness': 39, 'Insulin': 0, 'BMI': Decimal('34.2'), 'DiabetesPedigreeFunction': Decimal('0.260'), 'Age': 24, 'Outcome': 0}, {'Pregnancies': 2, 'Glucose': 107, 'BloodPressure': 74, 'SkinThickness': 30, 'Insulin': 100, 'BMI': Decimal('33.6'), 'DiabetesPedigreeFunction': Decimal('0.404'), 'Age': 23, 'Outcome': 0}, {'Pregnancies': 5, 'Glucose': 132, 'BloodPressure': 80, 'SkinThickness': 0, 'Insulin': 0, 'BMI': Decimal('26.8'), 'DiabetesPedigreeFunction': Decimal('0.186'), 'Age': 69, 'Outcome': 0}, {'Pregnancies': 0, 'Glucose': 113, 'BloodPressure': 76, 'SkinThickness': 0, 'Insulin': 0, 'BMI': Decimal('33.3'), 'DiabetesPedigreeFunction': Decimal('0.278'), 'Age': 23, 'Outcome': 1}, {'Pregnancies': 1, 'Glucose': 88, 'BloodPressure': 30, 'SkinThickness': 42, 'Insulin': 99, 'BMI': Decimal('55.0'), 'DiabetesPedigreeFunction': Decimal('0.496'), 'Age': 26, 'Outcome': 1}, {'Pregnancies': 3, 'Glucose': 120, 'BloodPressure': 70, 'SkinThickness': 30, 'Insulin': 135, 'BMI': Decimal('42.9'), 'DiabetesPedigreeFunction': Decimal('0.452'), 'Age': 30, 'Outcome': 0}, {'Pregnancies': 1, 'Glucose': 118, 'BloodPressure': 58, 'SkinThickness': 36, 'Insulin': 94, 'BMI': Decimal('33.3'), 'DiabetesPedigreeFunction': Decimal('0.261'), 'Age': 23, 'Outcome': 0}, {'Pregnancies': 1, 'Glucose': 117, 'BloodPressure': 88, 'SkinThickness': 24, 'Insulin': 145, 'BMI': Decimal('34.5'), 'DiabetesPedigreeFunction': Decimal('0.403'), 'Age': 40, 'Outcome': 1}, {'Pregnancies': 0, 'Glucose': 105, 'BloodPressure': 84, 'SkinThickness': 0, 'Insulin': 0, 'BMI': Decimal('27.9'), 'DiabetesPedigreeFunction': Decimal('0.741'), 'Age': 62, 'Outcome': 1}, {'Pregnancies': 4, 'Glucose': 173, 'BloodPressure': 70, 'SkinThickness': 14, 'Insulin': 168, 'BMI': Decimal('29.7'), 'DiabetesPedigreeFunction': Decimal('0.361'), 'Age': 33, 'Outcome': 1}, {'Pregnancies': 9, 'Glucose': 122, 'BloodPressure': 56, 'SkinThickness': 0, 'Insulin': 0, 'BMI': Decimal('33.3'), 'DiabetesPedigreeFunction': Decimal('1.114'), 'Age': 33, 'Outcome': 1}, {'Pregnancies': 3, 'Glucose': 170, 'BloodPressure': 64, 'SkinThickness': 37, 'Insulin': 225, 'BMI': Decimal('34.5'), 'DiabetesPedigreeFunction': Decimal('0.356'), 'Age': 30, 'Outcome': 1}, {'Pregnancies': 8, 'Glucose': 84, 'BloodPressure': 74, 'SkinThickness': 31, 'Insulin': 0, 'BMI': Decimal('38.3'), 'DiabetesPedigreeFunction': Decimal('0.457'), 'Age': 39, 'Outcome': 0}, {'Pregnancies': 2, 'Glucose': 96, 'BloodPressure': 68, 'SkinThickness': 13, 'Insulin': 49, 'BMI': Decimal('21.1'), 'DiabetesPedigreeFunction': Decimal('0.647'), 'Age': 26, 'Outcome': 0}, {'Pregnancies': 2, 'Glucose': 125, 'BloodPressure': 60, 'SkinThickness': 20, 'Insulin': 140, 'BMI': Decimal('33.8'), 'DiabetesPedigreeFunction': Decimal('0.088'), 'Age': 31, 'Outcome': 0}, {'Pregnancies': 0, 'Glucose': 100, 'BloodPressure': 70, 'SkinThickness': 26, 'Insulin': 50, 'BMI': Decimal('30.8'), 'DiabetesPedigreeFunction': Decimal('0.597'), 'Age': 21, 'Outcome': 0}, {'Pregnancies': 0, 'Glucose': 93, 'BloodPressure': 60, 'SkinThickness': 25, 'Insulin': 92, 'BMI': Decimal('28.7'), 'DiabetesPedigreeFunction': Decimal('0.532'), 'Age': 22, 'Outcome': 0}, {'Pregnancies': 0, 'Glucose': 129, 'BloodPressure': 80, 'SkinThickness': 0, 'Insulin': 0, 'BMI': Decimal('31.2'), 'DiabetesPedigreeFunction': Decimal('0.703'), 'Age': 29, 'Outcome': 0}, {'Pregnancies': 5, 'Glucose': 105, 'BloodPressure': 72, 'SkinThickness': 29, 'Insulin': 325, 'BMI': Decimal('36.9'), 'DiabetesPedigreeFunction': Decimal('0.159'), 'Age': 28, 'Outcome': 0}, {'Pregnancies': 3, 'Glucose': 128, 'BloodPressure': 78, 'SkinThickness': 0, 'Insulin': 0, 'BMI': Decimal('21.1'), 'DiabetesPedigreeFunction': Decimal('0.268'), 'Age': 55, 'Outcome': 0}, {'Pregnancies': 5, 'Glucose': 106, 'BloodPressure': 82, 'SkinThickness': 30, 'Insulin': 0, 'BMI': Decimal('39.5'), 'DiabetesPedigreeFunction': Decimal('0.286'), 'Age': 38, 'Outcome': 0}, {'Pregnancies': 2, 'Glucose': 108, 'BloodPressure': 52, 'SkinThickness': 26, 'Insulin': 63, 'BMI': Decimal('32.5'), 'DiabetesPedigreeFunction': Decimal('0.318'), 'Age': 22, 'Outcome': 0}, {'Pregnancies': 10, 'Glucose': 108, 'BloodPressure': 66, 'SkinThickness': 0, 'Insulin': 0, 'BMI': Decimal('32.4'), 'DiabetesPedigreeFunction': Decimal('0.272'), 'Age': 42, 'Outcome': 1}, {'Pregnancies': 4, 'Glucose': 154, 'BloodPressure': 62, 'SkinThickness': 31, 'Insulin': 284, 'BMI': Decimal('32.8'), 'DiabetesPedigreeFunction': Decimal('0.237'), 'Age': 23, 'Outcome': 0}, {'Pregnancies': 0, 'Glucose': 102, 'BloodPressure': 75, 'SkinThickness': 23, 'Insulin': 0, 'BMI': Decimal('0.0'), 'DiabetesPedigreeFunction': Decimal('0.572'), 'Age': 21, 'Outcome': 0}, {'Pregnancies': 9, 'Glucose': 57, 'BloodPressure': 80, 'SkinThickness': 37, 'Insulin': 0, 'BMI': Decimal('32.8'), 'DiabetesPedigreeFunction': Decimal('0.096'), 'Age': 41, 'Outcome': 0}, {'Pregnancies': 2, 'Glucose': 106, 'BloodPressure': 64, 'SkinThickness': 35, 'Insulin': 119, 'BMI': Decimal('30.5'), 'DiabetesPedigreeFunction': Decimal('1.400'), 'Age': 34, 'Outcome': 0}, {'Pregnancies': 5, 'Glucose': 147, 'BloodPressure': 78, 'SkinThickness': 0, 'Insulin': 0, 'BMI': Decimal('33.7'), 'DiabetesPedigreeFunction': Decimal('0.218'), 'Age': 65, 'Outcome': 0}, {'Pregnancies': 2, 'Glucose': 90, 'BloodPressure': 70, 'SkinThickness': 17, 'Insulin': 0, 'BMI': Decimal('27.3'), 'DiabetesPedigreeFunction': Decimal('0.085'), 'Age': 22, 'Outcome': 0}, {'Pregnancies': 1, 'Glucose': 136, 'BloodPressure': 74, 'SkinThickness': 50, 'Insulin': 204, 'BMI': Decimal('37.4'), 'DiabetesPedigreeFunction': Decimal('0.399'), 'Age': 24, 'Outcome': 0}, {'Pregnancies': 4, 'Glucose': 114, 'BloodPressure': 65, 'SkinThickness': 0, 'Insulin': 0, 'BMI': Decimal('21.9'), 'DiabetesPedigreeFunction': Decimal('0.432'), 'Age': 37, 'Outcome': 0}, {'Pregnancies': 9, 'Glucose': 156, 'BloodPressure': 86, 'SkinThickness': 28, 'Insulin': 155, 'BMI': Decimal('34.3'), 'DiabetesPedigreeFunction': Decimal('1.189'), 'Age': 42, 'Outcome': 1}, {'Pregnancies': 1, 'Glucose': 153, 'BloodPressure': 82, 'SkinThickness': 42, 'Insulin': 485, 'BMI': Decimal('40.6'), 'DiabetesPedigreeFunction': Decimal('0.687'), 'Age': 23, 'Outcome': 0}, {'Pregnancies': 8, 'Glucose': 188, 'BloodPressure': 78, 'SkinThickness': 0, 'Insulin': 0, 'BMI': Decimal('47.9'), 'DiabetesPedigreeFunction': Decimal('0.137'), 'Age': 43, 'Outcome': 1}, {'Pregnancies': 7, 'Glucose': 152, 'BloodPressure': 88, 'SkinThickness': 44, 'Insulin': 0, 'BMI': Decimal('50.0'), 'DiabetesPedigreeFunction': Decimal('0.337'), 'Age': 36, 'Outcome': 1}, {'Pregnancies': 2, 'Glucose': 99, 'BloodPressure': 52, 'SkinThickness': 15, 'Insulin': 94, 'BMI': Decimal('24.6'), 'DiabetesPedigreeFunction': Decimal('0.637'), 'Age': 21, 'Outcome': 0}, {'Pregnancies': 1, 'Glucose': 109, 'BloodPressure': 56, 'SkinThickness': 21, 'Insulin': 135, 'BMI': Decimal('25.2'), 'DiabetesPedigreeFunction': Decimal('0.833'), 'Age': 23, 'Outcome': 0}, {'Pregnancies': 2, 'Glucose': 88, 'BloodPressure': 74, 'SkinThickness': 19, 'Insulin': 53, 'BMI': Decimal('29.0'), 'DiabetesPedigreeFunction': Decimal('0.229'), 'Age': 22, 'Outcome': 0}, {'Pregnancies': 17, 'Glucose': 163, 'BloodPressure': 72, 'SkinThickness': 41, 'Insulin': 114, 'BMI': Decimal('40.9'), 'DiabetesPedigreeFunction': Decimal('0.817'), 'Age': 47, 'Outcome': 1}, {'Pregnancies': 4, 'Glucose': 151, 'BloodPressure': 90, 'SkinThickness': 38, 'Insulin': 0, 'BMI': Decimal('29.7'), 'DiabetesPedigreeFunction': Decimal('0.294'), 'Age': 36, 'Outcome': 0}, {'Pregnancies': 7, 'Glucose': 102, 'BloodPressure': 74, 'SkinThickness': 40, 'Insulin': 105, 'BMI': Decimal('37.2'), 'DiabetesPedigreeFunction': Decimal('0.204'), 'Age': 45, 'Outcome': 0}, {'Pregnancies': 0, 'Glucose': 114, 'BloodPressure': 80, 'SkinThickness': 34, 'Insulin': 285, 'BMI': Decimal('44.2'), 'DiabetesPedigreeFunction': Decimal('0.167'), 'Age': 27, 'Outcome': 0}, {'Pregnancies': 2, 'Glucose': 100, 'BloodPressure': 64, 'SkinThickness': 23, 'Insulin': 0, 'BMI': Decimal('29.7'), 'DiabetesPedigreeFunction': Decimal('0.368'), 'Age': 21, 'Outcome': 0}, {'Pregnancies': 0, 'Glucose': 131, 'BloodPressure': 88, 'SkinThickness': 0, 'Insulin': 0, 'BMI': Decimal('31.6'), 'DiabetesPedigreeFunction': Decimal('0.743'), 'Age': 32, 'Outcome': 1}, {'Pregnancies': 6, 'Glucose': 104, 'BloodPressure': 74, 'SkinThickness': 18, 'Insulin': 156, 'BMI': Decimal('29.9'), 'DiabetesPedigreeFunction': Decimal('0.722'), 'Age': 41, 'Outcome': 1}, {'Pregnancies': 3, 'Glucose': 148, 'BloodPressure': 66, 'SkinThickness': 25, 'Insulin': 0, 'BMI': Decimal('32.5'), 'DiabetesPedigreeFunction': Decimal('0.256'), 'Age': 22, 'Outcome': 0}, {'Pregnancies': 4, 'Glucose': 120, 'BloodPressure': 68, 'SkinThickness': 0, 'Insulin': 0, 'BMI': Decimal('29.6'), 'DiabetesPedigreeFunction': Decimal('0.709'), 'Age': 34, 'Outcome': 0}, {'Pregnancies': 4, 'Glucose': 110, 'BloodPressure': 66, 'SkinThickness': 0, 'Insulin': 0, 'BMI': Decimal('31.9'), 'DiabetesPedigreeFunction': Decimal('0.471'), 'Age': 29, 'Outcome': 0}, {'Pregnancies': 3, 'Glucose': 111, 'BloodPressure': 90, 'SkinThickness': 12, 'Insulin': 78, 'BMI': Decimal('28.4'), 'DiabetesPedigreeFunction': Decimal('0.495'), 'Age': 29, 'Outcome': 0}, {'Pregnancies': 6, 'Glucose': 102, 'BloodPressure': 82, 'SkinThickness': 0, 'Insulin': 0, 'BMI': Decimal('30.8'), 'DiabetesPedigreeFunction': Decimal('0.180'), 'Age': 36, 'Outcome': 1}, {'Pregnancies': 6, 'Glucose': 134, 'BloodPressure': 70, 'SkinThickness': 23, 'Insulin': 130, 'BMI': Decimal('35.4'), 'DiabetesPedigreeFunction': Decimal('0.542'), 'Age': 29, 'Outcome': 1}, {'Pregnancies': 2, 'Glucose': 87, 'BloodPressure': 0, 'SkinThickness': 23, 'Insulin': 0, 'BMI': Decimal('28.9'), 'DiabetesPedigreeFunction': Decimal('0.773'), 'Age': 25, 'Outcome': 0}, {'Pregnancies': 1, 'Glucose': 79, 'BloodPressure': 60, 'SkinThickness': 42, 'Insulin': 48, 'BMI': Decimal('43.5'), 'DiabetesPedigreeFunction': Decimal('0.678'), 'Age': 23, 'Outcome': 0}, {'Pregnancies': 2, 'Glucose': 75, 'BloodPressure': 64, 'SkinThickness': 24, 'Insulin': 55, 'BMI': Decimal('29.7'), 'DiabetesPedigreeFunction': Decimal('0.370'), 'Age': 33, 'Outcome': 0}, {'Pregnancies': 8, 'Glucose': 179, 'BloodPressure': 72, 'SkinThickness': 42, 'Insulin': 130, 'BMI': Decimal('32.7'), 'DiabetesPedigreeFunction': Decimal('0.719'), 'Age': 36, 'Outcome': 1}, {'Pregnancies': 6, 'Glucose': 85, 'BloodPressure': 78, 'SkinThickness': 0, 'Insulin': 0, 'BMI': Decimal('31.2'), 'DiabetesPedigreeFunction': Decimal('0.382'), 'Age': 42, 'Outcome': 0}, {'Pregnancies': 0, 'Glucose': 129, 'BloodPressure': 110, 'SkinThickness': 46, 'Insulin': 130, 'BMI': Decimal('67.1'), 'DiabetesPedigreeFunction': Decimal('0.319'), 'Age': 26, 'Outcome': 1}, {'Pregnancies': 5, 'Glucose': 143, 'BloodPressure': 78, 'SkinThickness': 0, 'Insulin': 0, 'BMI': Decimal('45.0'), 'DiabetesPedigreeFunction': Decimal('0.190'), 'Age': 47, 'Outcome': 0}, {'Pregnancies': 5, 'Glucose': 130, 'BloodPressure': 82, 'SkinThickness': 0, 'Insulin': 0, 'BMI': Decimal('39.1'), 'DiabetesPedigreeFunction': Decimal('0.956'), 'Age': 37, 'Outcome': 1}, {'Pregnancies': 6, 'Glucose': 87, 'BloodPressure': 80, 'SkinThickness': 0, 'Insulin': 0, 'BMI': Decimal('23.2'), 'DiabetesPedigreeFunction': Decimal('0.084'), 'Age': 32, 'Outcome': 0}, {'Pregnancies': 0, 'Glucose': 119, 'BloodPressure': 64, 'SkinThickness': 18, 'Insulin': 92, 'BMI': Decimal('34.9'), 'DiabetesPedigreeFunction': Decimal('0.725'), 'Age': 23, 'Outcome': 0}, {'Pregnancies': 1, 'Glucose': 0, 'BloodPressure': 74, 'SkinThickness': 20, 'Insulin': 23, 'BMI': Decimal('27.7'), 'DiabetesPedigreeFunction': Decimal('0.299'), 'Age': 21, 'Outcome': 0}, {'Pregnancies': 5, 'Glucose': 73, 'BloodPressure': 60, 'SkinThickness': 0, 'Insulin': 0, 'BMI': Decimal('26.8'), 'DiabetesPedigreeFunction': Decimal('0.268'), 'Age': 27, 'Outcome': 0}, {'Pregnancies': 4, 'Glucose': 141, 'BloodPressure': 74, 'SkinThickness': 0, 'Insulin': 0, 'BMI': Decimal('27.6'), 'DiabetesPedigreeFunction': Decimal('0.244'), 'Age': 40, 'Outcome': 0}, {'Pregnancies': 7, 'Glucose': 194, 'BloodPressure': 68, 'SkinThickness': 28, 'Insulin': 0, 'BMI': Decimal('35.9'), 'DiabetesPedigreeFunction': Decimal('0.745'), 'Age': 41, 'Outcome': 1}, {'Pregnancies': 8, 'Glucose': 181, 'BloodPressure': 68, 'SkinThickness': 36, 'Insulin': 495, 'BMI': Decimal('30.1'), 'DiabetesPedigreeFunction': Decimal('0.615'), 'Age': 60, 'Outcome': 1}, {'Pregnancies': 1, 'Glucose': 128, 'BloodPressure': 98, 'SkinThickness': 41, 'Insulin': 58, 'BMI': Decimal('32.0'), 'DiabetesPedigreeFunction': Decimal('1.321'), 'Age': 33, 'Outcome': 1}, {'Pregnancies': 8, 'Glucose': 109, 'BloodPressure': 76, 'SkinThickness': 39, 'Insulin': 114, 'BMI': Decimal('27.9'), 'DiabetesPedigreeFunction': Decimal('0.640'), 'Age': 31, 'Outcome': 1}, {'Pregnancies': 5, 'Glucose': 139, 'BloodPressure': 80, 'SkinThickness': 35, 'Insulin': 160, 'BMI': Decimal('31.6'), 'DiabetesPedigreeFunction': Decimal('0.361'), 'Age': 25, 'Outcome': 1}, {'Pregnancies': 3, 'Glucose': 111, 'BloodPressure': 62, 'SkinThickness': 0, 'Insulin': 0, 'BMI': Decimal('22.6'), 'DiabetesPedigreeFunction': Decimal('0.142'), 'Age': 21, 'Outcome': 0}, {'Pregnancies': 9, 'Glucose': 123, 'BloodPressure': 70, 'SkinThickness': 44, 'Insulin': 94, 'BMI': Decimal('33.1'), 'DiabetesPedigreeFunction': Decimal('0.374'), 'Age': 40, 'Outcome': 0}, {'Pregnancies': 7, 'Glucose': 159, 'BloodPressure': 66, 'SkinThickness': 0, 'Insulin': 0, 'BMI': Decimal('30.4'), 'DiabetesPedigreeFunction': Decimal('0.383'), 'Age': 36, 'Outcome': 1}, {'Pregnancies': 11, 'Glucose': 135, 'BloodPressure': 0, 'SkinThickness': 0, 'Insulin': 0, 'BMI': Decimal('52.3'), 'DiabetesPedigreeFunction': Decimal('0.578'), 'Age': 40, 'Outcome': 1}, {'Pregnancies': 8, 'Glucose': 85, 'BloodPressure': 55, 'SkinThickness': 20, 'Insulin': 0, 'BMI': Decimal('24.4'), 'DiabetesPedigreeFunction': Decimal('0.136'), 'Age': 42, 'Outcome': 0}, {'Pregnancies': 5, 'Glucose': 158, 'BloodPressure': 84, 'SkinThickness': 41, 'Insulin': 210, 'BMI': Decimal('39.4'), 'DiabetesPedigreeFunction': Decimal('0.395'), 'Age': 29, 'Outcome': 1}, {'Pregnancies': 1, 'Glucose': 105, 'BloodPressure': 58, 'SkinThickness': 0, 'Insulin': 0, 'BMI': Decimal('24.3'), 'DiabetesPedigreeFunction': Decimal('0.187'), 'Age': 21, 'Outcome': 0}, {'Pregnancies': 3, 'Glucose': 107, 'BloodPressure': 62, 'SkinThickness': 13, 'Insulin': 48, 'BMI': Decimal('22.9'), 'DiabetesPedigreeFunction': Decimal('0.678'), 'Age': 23, 'Outcome': 1}, {'Pregnancies': 4, 'Glucose': 109, 'BloodPressure': 64, 'SkinThickness': 44, 'Insulin': 99, 'BMI': Decimal('34.8'), 'DiabetesPedigreeFunction': Decimal('0.905'), 'Age': 26, 'Outcome': 1}, {'Pregnancies': 4, 'Glucose': 148, 'BloodPressure': 60, 'SkinThickness': 27, 'Insulin': 318, 'BMI': Decimal('30.9'), 'DiabetesPedigreeFunction': Decimal('0.150'), 'Age': 29, 'Outcome': 1}, {'Pregnancies': 0, 'Glucose': 113, 'BloodPressure': 80, 'SkinThickness': 16, 'Insulin': 0, 'BMI': Decimal('31.0'), 'DiabetesPedigreeFunction': Decimal('0.874'), 'Age': 21, 'Outcome': 0}, {'Pregnancies': 1, 'Glucose': 138, 'BloodPressure': 82, 'SkinThickness': 0, 'Insulin': 0, 'BMI': Decimal('40.1'), 'DiabetesPedigreeFunction': Decimal('0.236'), 'Age': 28, 'Outcome': 0}, {'Pregnancies': 0, 'Glucose': 108, 'BloodPressure': 68, 'SkinThickness': 20, 'Insulin': 0, 'BMI': Decimal('27.3'), 'DiabetesPedigreeFunction': Decimal('0.787'), 'Age': 32, 'Outcome': 0}, {'Pregnancies': 2, 'Glucose': 99, 'BloodPressure': 70, 'SkinThickness': 16, 'Insulin': 44, 'BMI': Decimal('20.4'), 'DiabetesPedigreeFunction': Decimal('0.235'), 'Age': 27, 'Outcome': 0}, {'Pregnancies': 6, 'Glucose': 103, 'BloodPressure': 72, 'SkinThickness': 32, 'Insulin': 190, 'BMI': Decimal('37.7'), 'DiabetesPedigreeFunction': Decimal('0.324'), 'Age': 55, 'Outcome': 0}, {'Pregnancies': 5, 'Glucose': 111, 'BloodPressure': 72, 'SkinThickness': 28, 'Insulin': 0, 'BMI': Decimal('23.9'), 'DiabetesPedigreeFunction': Decimal('0.407'), 'Age': 27, 'Outcome': 0}, {'Pregnancies': 8, 'Glucose': 196, 'BloodPressure': 76, 'SkinThickness': 29, 'Insulin': 280, 'BMI': Decimal('37.5'), 'DiabetesPedigreeFunction': Decimal('0.605'), 'Age': 57, 'Outcome': 1}, {'Pregnancies': 5, 'Glucose': 162, 'BloodPressure': 104, 'SkinThickness': 0, 'Insulin': 0, 'BMI': Decimal('37.7'), 'DiabetesPedigreeFunction': Decimal('0.151'), 'Age': 52, 'Outcome': 1}, {'Pregnancies': 1, 'Glucose': 96, 'BloodPressure': 64, 'SkinThickness': 27, 'Insulin': 87, 'BMI': Decimal('33.2'), 'DiabetesPedigreeFunction': Decimal('0.289'), 'Age': 21, 'Outcome': 0}, {'Pregnancies': 7, 'Glucose': 184, 'BloodPressure': 84, 'SkinThickness': 33, 'Insulin': 0, 'BMI': Decimal('35.5'), 'DiabetesPedigreeFunction': Decimal('0.355'), 'Age': 41, 'Outcome': 1}, {'Pregnancies': 2, 'Glucose': 81, 'BloodPressure': 60, 'SkinThickness': 22, 'Insulin': 0, 'BMI': Decimal('27.7'), 'DiabetesPedigreeFunction': Decimal('0.290'), 'Age': 25, 'Outcome': 0}, {'Pregnancies': 0, 'Glucose': 147, 'BloodPressure': 85, 'SkinThickness': 54, 'Insulin': 0, 'BMI': Decimal('42.8'), 'DiabetesPedigreeFunction': Decimal('0.375'), 'Age': 24, 'Outcome': 0}, {'Pregnancies': 7, 'Glucose': 179, 'BloodPressure': 95, 'SkinThickness': 31, 'Insulin': 0, 'BMI': Decimal('34.2'), 'DiabetesPedigreeFunction': Decimal('0.164'), 'Age': 60, 'Outcome': 0}, {'Pregnancies': 0, 'Glucose': 140, 'BloodPressure': 65, 'SkinThickness': 26, 'Insulin': 130, 'BMI': Decimal('42.6'), 'DiabetesPedigreeFunction': Decimal('0.431'), 'Age': 24, 'Outcome': 1}, {'Pregnancies': 9, 'Glucose': 112, 'BloodPressure': 82, 'SkinThickness': 32, 'Insulin': 175, 'BMI': Decimal('34.2'), 'DiabetesPedigreeFunction': Decimal('0.260'), 'Age': 36, 'Outcome': 1}, {'Pregnancies': 12, 'Glucose': 151, 'BloodPressure': 70, 'SkinThickness': 40, 'Insulin': 271, 'BMI': Decimal('41.8'), 'DiabetesPedigreeFunction': Decimal('0.742'), 'Age': 38, 'Outcome': 1}, {'Pregnancies': 5, 'Glucose': 109, 'BloodPressure': 62, 'SkinThickness': 41, 'Insulin': 129, 'BMI': Decimal('35.8'), 'DiabetesPedigreeFunction': Decimal('0.514'), 'Age': 25, 'Outcome': 1}, {'Pregnancies': 6, 'Glucose': 125, 'BloodPressure': 68, 'SkinThickness': 30, 'Insulin': 120, 'BMI': Decimal('30.0'), 'DiabetesPedigreeFunction': Decimal('0.464'), 'Age': 32, 'Outcome': 0}, {'Pregnancies': 5, 'Glucose': 85, 'BloodPressure': 74, 'SkinThickness': 22, 'Insulin': 0, 'BMI': Decimal('29.0'), 'DiabetesPedigreeFunction': Decimal('1.224'), 'Age': 32, 'Outcome': 1}, {'Pregnancies': 5, 'Glucose': 112, 'BloodPressure': 66, 'SkinThickness': 0, 'Insulin': 0, 'BMI': Decimal('37.8'), 'DiabetesPedigreeFunction': Decimal('0.261'), 'Age': 41, 'Outcome': 1}, {'Pregnancies': 0, 'Glucose': 177, 'BloodPressure': 60, 'SkinThickness': 29, 'Insulin': 478, 'BMI': Decimal('34.6'), 'DiabetesPedigreeFunction': Decimal('1.072'), 'Age': 21, 'Outcome': 1}, {'Pregnancies': 2, 'Glucose': 158, 'BloodPressure': 90, 'SkinThickness': 0, 'Insulin': 0, 'BMI': Decimal('31.6'), 'DiabetesPedigreeFunction': Decimal('0.805'), 'Age': 66, 'Outcome': 1}, {'Pregnancies': 7, 'Glucose': 119, 'BloodPressure': 0, 'SkinThickness': 0, 'Insulin': 0, 'BMI': Decimal('25.2'), 'DiabetesPedigreeFunction': Decimal('0.209'), 'Age': 37, 'Outcome': 0}, {'Pregnancies': 7, 'Glucose': 142, 'BloodPressure': 60, 'SkinThickness': 33, 'Insulin': 190, 'BMI': Decimal('28.8'), 'DiabetesPedigreeFunction': Decimal('0.687'), 'Age': 61, 'Outcome': 0}, {'Pregnancies': 1, 'Glucose': 100, 'BloodPressure': 66, 'SkinThickness': 15, 'Insulin': 56, 'BMI': Decimal('23.6'), 'DiabetesPedigreeFunction': Decimal('0.666'), 'Age': 26, 'Outcome': 0}, {'Pregnancies': 1, 'Glucose': 87, 'BloodPressure': 78, 'SkinThickness': 27, 'Insulin': 32, 'BMI': Decimal('34.6'), 'DiabetesPedigreeFunction': Decimal('0.101'), 'Age': 22, 'Outcome': 0}, {'Pregnancies': 0, 'Glucose': 101, 'BloodPressure': 76, 'SkinThickness': 0, 'Insulin': 0, 'BMI': Decimal('35.7'), 'DiabetesPedigreeFunction': Decimal('0.198'), 'Age': 26, 'Outcome': 0}, {'Pregnancies': 3, 'Glucose': 162, 'BloodPressure': 52, 'SkinThickness': 38, 'Insulin': 0, 'BMI': Decimal('37.2'), 'DiabetesPedigreeFunction': Decimal('0.652'), 'Age': 24, 'Outcome': 1}, {'Pregnancies': 4, 'Glucose': 197, 'BloodPressure': 70, 'SkinThickness': 39, 'Insulin': 744, 'BMI': Decimal('36.7'), 'DiabetesPedigreeFunction': Decimal('2.329'), 'Age': 31, 'Outcome': 0}, {'Pregnancies': 0, 'Glucose': 117, 'BloodPressure': 80, 'SkinThickness': 31, 'Insulin': 53, 'BMI': Decimal('45.2'), 'DiabetesPedigreeFunction': Decimal('0.089'), 'Age': 24, 'Outcome': 0}, {'Pregnancies': 4, 'Glucose': 142, 'BloodPressure': 86, 'SkinThickness': 0, 'Insulin': 0, 'BMI': Decimal('44.0'), 'DiabetesPedigreeFunction': Decimal('0.645'), 'Age': 22, 'Outcome': 1}, {'Pregnancies': 6, 'Glucose': 134, 'BloodPressure': 80, 'SkinThickness': 37, 'Insulin': 370, 'BMI': Decimal('46.2'), 'DiabetesPedigreeFunction': Decimal('0.238'), 'Age': 46, 'Outcome': 1}, {'Pregnancies': 1, 'Glucose': 79, 'BloodPressure': 80, 'SkinThickness': 25, 'Insulin': 37, 'BMI': Decimal('25.4'), 'DiabetesPedigreeFunction': Decimal('0.583'), 'Age': 22, 'Outcome': 0}, {'Pregnancies': 4, 'Glucose': 122, 'BloodPressure': 68, 'SkinThickness': 0, 'Insulin': 0, 'BMI': Decimal('35.0'), 'DiabetesPedigreeFunction': Decimal('0.394'), 'Age': 29, 'Outcome': 0}, {'Pregnancies': 3, 'Glucose': 74, 'BloodPressure': 68, 'SkinThickness': 28, 'Insulin': 45, 'BMI': Decimal('29.7'), 'DiabetesPedigreeFunction': Decimal('0.293'), 'Age': 23, 'Outcome': 0}, {'Pregnancies': 4, 'Glucose': 171, 'BloodPressure': 72, 'SkinThickness': 0, 'Insulin': 0, 'BMI': Decimal('43.6'), 'DiabetesPedigreeFunction': Decimal('0.479'), 'Age': 26, 'Outcome': 1}, {'Pregnancies': 7, 'Glucose': 181, 'BloodPressure': 84, 'SkinThickness': 21, 'Insulin': 192, 'BMI': Decimal('35.9'), 'DiabetesPedigreeFunction': Decimal('0.586'), 'Age': 51, 'Outcome': 1}, {'Pregnancies': 0, 'Glucose': 179, 'BloodPressure': 90, 'SkinThickness': 27, 'Insulin': 0, 'BMI': Decimal('44.1'), 'DiabetesPedigreeFunction': Decimal('0.686'), 'Age': 23, 'Outcome': 1}, {'Pregnancies': 9, 'Glucose': 164, 'BloodPressure': 84, 'SkinThickness': 21, 'Insulin': 0, 'BMI': Decimal('30.8'), 'DiabetesPedigreeFunction': Decimal('0.831'), 'Age': 32, 'Outcome': 1}, {'Pregnancies': 0, 'Glucose': 104, 'BloodPressure': 76, 'SkinThickness': 0, 'Insulin': 0, 'BMI': Decimal('18.4'), 'DiabetesPedigreeFunction': Decimal('0.582'), 'Age': 27, 'Outcome': 0}, {'Pregnancies': 1, 'Glucose': 91, 'BloodPressure': 64, 'SkinThickness': 24, 'Insulin': 0, 'BMI': Decimal('29.2'), 'DiabetesPedigreeFunction': Decimal('0.192'), 'Age': 21, 'Outcome': 0}, {'Pregnancies': 4, 'Glucose': 91, 'BloodPressure': 70, 'SkinThickness': 32, 'Insulin': 88, 'BMI': Decimal('33.1'), 'DiabetesPedigreeFunction': Decimal('0.446'), 'Age': 22, 'Outcome': 0}, {'Pregnancies': 3, 'Glucose': 139, 'BloodPressure': 54, 'SkinThickness': 0, 'Insulin': 0, 'BMI': Decimal('25.6'), 'DiabetesPedigreeFunction': Decimal('0.402'), 'Age': 22, 'Outcome': 1}, {'Pregnancies': 6, 'Glucose': 119, 'BloodPressure': 50, 'SkinThickness': 22, 'Insulin': 176, 'BMI': Decimal('27.1'), 'DiabetesPedigreeFunction': Decimal('1.318'), 'Age': 33, 'Outcome': 1}, {'Pregnancies': 2, 'Glucose': 146, 'BloodPressure': 76, 'SkinThickness': 35, 'Insulin': 194, 'BMI': Decimal('38.2'), 'DiabetesPedigreeFunction': Decimal('0.329'), 'Age': 29, 'Outcome': 0}, {'Pregnancies': 9, 'Glucose': 184, 'BloodPressure': 85, 'SkinThickness': 15, 'Insulin': 0, 'BMI': Decimal('30.0'), 'DiabetesPedigreeFunction': Decimal('1.213'), 'Age': 49, 'Outcome': 1}, {'Pregnancies': 10, 'Glucose': 122, 'BloodPressure': 68, 'SkinThickness': 0, 'Insulin': 0, 'BMI': Decimal('31.2'), 'DiabetesPedigreeFunction': Decimal('0.258'), 'Age': 41, 'Outcome': 0}, {'Pregnancies': 0, 'Glucose': 165, 'BloodPressure': 90, 'SkinThickness': 33, 'Insulin': 680, 'BMI': Decimal('52.3'), 'DiabetesPedigreeFunction': Decimal('0.427'), 'Age': 23, 'Outcome': 0}, {'Pregnancies': 9, 'Glucose': 124, 'BloodPressure': 70, 'SkinThickness': 33, 'Insulin': 402, 'BMI': Decimal('35.4'), 'DiabetesPedigreeFunction': Decimal('0.282'), 'Age': 34, 'Outcome': 0}, {'Pregnancies': 1, 'Glucose': 111, 'BloodPressure': 86, 'SkinThickness': 19, 'Insulin': 0, 'BMI': Decimal('30.1'), 'DiabetesPedigreeFunction': Decimal('0.143'), 'Age': 23, 'Outcome': 0}, {'Pregnancies': 9, 'Glucose': 106, 'BloodPressure': 52, 'SkinThickness': 0, 'Insulin': 0, 'BMI': Decimal('31.2'), 'DiabetesPedigreeFunction': Decimal('0.380'), 'Age': 42, 'Outcome': 0}, {'Pregnancies': 2, 'Glucose': 129, 'BloodPressure': 84, 'SkinThickness': 0, 'Insulin': 0, 'BMI': Decimal('28.0'), 'DiabetesPedigreeFunction': Decimal('0.284'), 'Age': 27, 'Outcome': 0}, {'Pregnancies': 2, 'Glucose': 90, 'BloodPressure': 80, 'SkinThickness': 14, 'Insulin': 55, 'BMI': Decimal('24.4'), 'DiabetesPedigreeFunction': Decimal('0.249'), 'Age': 24, 'Outcome': 0}, {'Pregnancies': 0, 'Glucose': 86, 'BloodPressure': 68, 'SkinThickness': 32, 'Insulin': 0, 'BMI': Decimal('35.8'), 'DiabetesPedigreeFunction': Decimal('0.238'), 'Age': 25, 'Outcome': 0}, {'Pregnancies': 12, 'Glucose': 92, 'BloodPressure': 62, 'SkinThickness': 7, 'Insulin': 258, 'BMI': Decimal('27.6'), 'DiabetesPedigreeFunction': Decimal('0.926'), 'Age': 44, 'Outcome': 1}, {'Pregnancies': 1, 'Glucose': 113, 'BloodPressure': 64, 'SkinThickness': 35, 'Insulin': 0, 'BMI': Decimal('33.6'), 'DiabetesPedigreeFunction': Decimal('0.543'), 'Age': 21, 'Outcome': 1}, {'Pregnancies': 3, 'Glucose': 111, 'BloodPressure': 56, 'SkinThickness': 39, 'Insulin': 0, 'BMI': Decimal('30.1'), 'DiabetesPedigreeFunction': Decimal('0.557'), 'Age': 30, 'Outcome': 0}, {'Pregnancies': 2, 'Glucose': 114, 'BloodPressure': 68, 'SkinThickness': 22, 'Insulin': 0, 'BMI': Decimal('28.7'), 'DiabetesPedigreeFunction': Decimal('0.092'), 'Age': 25, 'Outcome': 0}, {'Pregnancies': 1, 'Glucose': 193, 'BloodPressure': 50, 'SkinThickness': 16, 'Insulin': 375, 'BMI': Decimal('25.9'), 'DiabetesPedigreeFunction': Decimal('0.655'), 'Age': 24, 'Outcome': 0}, {'Pregnancies': 11, 'Glucose': 155, 'BloodPressure': 76, 'SkinThickness': 28, 'Insulin': 150, 'BMI': Decimal('33.3'), 'DiabetesPedigreeFunction': Decimal('1.353'), 'Age': 51, 'Outcome': 1}, {'Pregnancies': 3, 'Glucose': 191, 'BloodPressure': 68, 'SkinThickness': 15, 'Insulin': 130, 'BMI': Decimal('30.9'), 'DiabetesPedigreeFunction': Decimal('0.299'), 'Age': 34, 'Outcome': 0}, {'Pregnancies': 3, 'Glucose': 141, 'BloodPressure': 0, 'SkinThickness': 0, 'Insulin': 0, 'BMI': Decimal('30.0'), 'DiabetesPedigreeFunction': Decimal('0.761'), 'Age': 27, 'Outcome': 1}, {'Pregnancies': 4, 'Glucose': 95, 'BloodPressure': 70, 'SkinThickness': 32, 'Insulin': 0, 'BMI': Decimal('32.1'), 'DiabetesPedigreeFunction': Decimal('0.612'), 'Age': 24, 'Outcome': 0}, {'Pregnancies': 3, 'Glucose': 142, 'BloodPressure': 80, 'SkinThickness': 15, 'Insulin': 0, 'BMI': Decimal('32.4'), 'DiabetesPedigreeFunction': Decimal('0.200'), 'Age': 63, 'Outcome': 0}, {'Pregnancies': 4, 'Glucose': 123, 'BloodPressure': 62, 'SkinThickness': 0, 'Insulin': 0, 'BMI': Decimal('32.0'), 'DiabetesPedigreeFunction': Decimal('0.226'), 'Age': 35, 'Outcome': 1}, {'Pregnancies': 5, 'Glucose': 96, 'BloodPressure': 74, 'SkinThickness': 18, 'Insulin': 67, 'BMI': Decimal('33.6'), 'DiabetesPedigreeFunction': Decimal('0.997'), 'Age': 43, 'Outcome': 0}, {'Pregnancies': 0, 'Glucose': 138, 'BloodPressure': 0, 'SkinThickness': 0, 'Insulin': 0, 'BMI': Decimal('36.3'), 'DiabetesPedigreeFunction': Decimal('0.933'), 'Age': 25, 'Outcome': 1}, {'Pregnancies': 2, 'Glucose': 128, 'BloodPressure': 64, 'SkinThickness': 42, 'Insulin': 0, 'BMI': Decimal('40.0'), 'DiabetesPedigreeFunction': Decimal('1.101'), 'Age': 24, 'Outcome': 0}, {'Pregnancies': 0, 'Glucose': 102, 'BloodPressure': 52, 'SkinThickness': 0, 'Insulin': 0, 'BMI': Decimal('25.1'), 'DiabetesPedigreeFunction': Decimal('0.078'), 'Age': 21, 'Outcome': 0}, {'Pregnancies': 2, 'Glucose': 146, 'BloodPressure': 0, 'SkinThickness': 0, 'Insulin': 0, 'BMI': Decimal('27.5'), 'DiabetesPedigreeFunction': Decimal('0.240'), 'Age': 28, 'Outcome': 1}, {'Pregnancies': 10, 'Glucose': 101, 'BloodPressure': 86, 'SkinThickness': 37, 'Insulin': 0, 'BMI': Decimal('45.6'), 'DiabetesPedigreeFunction': Decimal('1.136'), 'Age': 38, 'Outcome': 1}, {'Pregnancies': 2, 'Glucose': 108, 'BloodPressure': 62, 'SkinThickness': 32, 'Insulin': 56, 'BMI': Decimal('25.2'), 'DiabetesPedigreeFunction': Decimal('0.128'), 'Age': 21, 'Outcome': 0}, {'Pregnancies': 3, 'Glucose': 122, 'BloodPressure': 78, 'SkinThickness': 0, 'Insulin': 0, 'BMI': Decimal('23.0'), 'DiabetesPedigreeFunction': Decimal('0.254'), 'Age': 40, 'Outcome': 0}, {'Pregnancies': 1, 'Glucose': 71, 'BloodPressure': 78, 'SkinThickness': 50, 'Insulin': 45, 'BMI': Decimal('33.2'), 'DiabetesPedigreeFunction': Decimal('0.422'), 'Age': 21, 'Outcome': 0}, {'Pregnancies': 13, 'Glucose': 106, 'BloodPressure': 70, 'SkinThickness': 0, 'Insulin': 0, 'BMI': Decimal('34.2'), 'DiabetesPedigreeFunction': Decimal('0.251'), 'Age': 52, 'Outcome': 0}, {'Pregnancies': 2, 'Glucose': 100, 'BloodPressure': 70, 'SkinThickness': 52, 'Insulin': 57, 'BMI': Decimal('40.5'), 'DiabetesPedigreeFunction': Decimal('0.677'), 'Age': 25, 'Outcome': 0}, {'Pregnancies': 7, 'Glucose': 106, 'BloodPressure': 60, 'SkinThickness': 24, 'Insulin': 0, 'BMI': Decimal('26.5'), 'DiabetesPedigreeFunction': Decimal('0.296'), 'Age': 29, 'Outcome': 1}, {'Pregnancies': 0, 'Glucose': 104, 'BloodPressure': 64, 'SkinThickness': 23, 'Insulin': 116, 'BMI': Decimal('27.8'), 'DiabetesPedigreeFunction': Decimal('0.454'), 'Age': 23, 'Outcome': 0}, {'Pregnancies': 5, 'Glucose': 114, 'BloodPressure': 74, 'SkinThickness': 0, 'Insulin': 0, 'BMI': Decimal('24.9'), 'DiabetesPedigreeFunction': Decimal('0.744'), 'Age': 57, 'Outcome': 0}, {'Pregnancies': 2, 'Glucose': 108, 'BloodPressure': 62, 'SkinThickness': 10, 'Insulin': 278, 'BMI': Decimal('25.3'), 'DiabetesPedigreeFunction': Decimal('0.881'), 'Age': 22, 'Outcome': 0}, {'Pregnancies': 0, 'Glucose': 146, 'BloodPressure': 70, 'SkinThickness': 0, 'Insulin': 0, 'BMI': Decimal('37.9'), 'DiabetesPedigreeFunction': Decimal('0.334'), 'Age': 28, 'Outcome': 1}, {'Pregnancies': 10, 'Glucose': 129, 'BloodPressure': 76, 'SkinThickness': 28, 'Insulin': 122, 'BMI': Decimal('35.9'), 'DiabetesPedigreeFunction': Decimal('0.280'), 'Age': 39, 'Outcome': 0}, {'Pregnancies': 7, 'Glucose': 133, 'BloodPressure': 88, 'SkinThickness': 15, 'Insulin': 155, 'BMI': Decimal('32.4'), 'DiabetesPedigreeFunction': Decimal('0.262'), 'Age': 37, 'Outcome': 0}, {'Pregnancies': 7, 'Glucose': 161, 'BloodPressure': 86, 'SkinThickness': 0, 'Insulin': 0, 'BMI': Decimal('30.4'), 'DiabetesPedigreeFunction': Decimal('0.165'), 'Age': 47, 'Outcome': 1}, {'Pregnancies': 2, 'Glucose': 108, 'BloodPressure': 80, 'SkinThickness': 0, 'Insulin': 0, 'BMI': Decimal('27.0'), 'DiabetesPedigreeFunction': Decimal('0.259'), 'Age': 52, 'Outcome': 1}, {'Pregnancies': 7, 'Glucose': 136, 'BloodPressure': 74, 'SkinThickness': 26, 'Insulin': 135, 'BMI': Decimal('26.0'), 'DiabetesPedigreeFunction': Decimal('0.647'), 'Age': 51, 'Outcome': 0}, {'Pregnancies': 5, 'Glucose': 155, 'BloodPressure': 84, 'SkinThickness': 44, 'Insulin': 545, 'BMI': Decimal('38.7'), 'DiabetesPedigreeFunction': Decimal('0.619'), 'Age': 34, 'Outcome': 0}, {'Pregnancies': 1, 'Glucose': 119, 'BloodPressure': 86, 'SkinThickness': 39, 'Insulin': 220, 'BMI': Decimal('45.6'), 'DiabetesPedigreeFunction': Decimal('0.808'), 'Age': 29, 'Outcome': 1}, {'Pregnancies': 4, 'Glucose': 96, 'BloodPressure': 56, 'SkinThickness': 17, 'Insulin': 49, 'BMI': Decimal('20.8'), 'DiabetesPedigreeFunction': Decimal('0.340'), 'Age': 26, 'Outcome': 0}, {'Pregnancies': 5, 'Glucose': 108, 'BloodPressure': 72, 'SkinThickness': 43, 'Insulin': 75, 'BMI': Decimal('36.1'), 'DiabetesPedigreeFunction': Decimal('0.263'), 'Age': 33, 'Outcome': 0}, {'Pregnancies': 0, 'Glucose': 78, 'BloodPressure': 88, 'SkinThickness': 29, 'Insulin': 40, 'BMI': Decimal('36.9'), 'DiabetesPedigreeFunction': Decimal('0.434'), 'Age': 21, 'Outcome': 0}, {'Pregnancies': 0, 'Glucose': 107, 'BloodPressure': 62, 'SkinThickness': 30, 'Insulin': 74, 'BMI': Decimal('36.6'), 'DiabetesPedigreeFunction': Decimal('0.757'), 'Age': 25, 'Outcome': 1}, {'Pregnancies': 2, 'Glucose': 128, 'BloodPressure': 78, 'SkinThickness': 37, 'Insulin': 182, 'BMI': Decimal('43.3'), 'DiabetesPedigreeFunction': Decimal('1.224'), 'Age': 31, 'Outcome': 1}, {'Pregnancies': 1, 'Glucose': 128, 'BloodPressure': 48, 'SkinThickness': 45, 'Insulin': 194, 'BMI': Decimal('40.5'), 'DiabetesPedigreeFunction': Decimal('0.613'), 'Age': 24, 'Outcome': 1}, {'Pregnancies': 0, 'Glucose': 161, 'BloodPressure': 50, 'SkinThickness': 0, 'Insulin': 0, 'BMI': Decimal('21.9'), 'DiabetesPedigreeFunction': Decimal('0.254'), 'Age': 65, 'Outcome': 0}, {'Pregnancies': 6, 'Glucose': 151, 'BloodPressure': 62, 'SkinThickness': 31, 'Insulin': 120, 'BMI': Decimal('35.5'), 'DiabetesPedigreeFunction': Decimal('0.692'), 'Age': 28, 'Outcome': 0}, {'Pregnancies': 2, 'Glucose': 146, 'BloodPressure': 70, 'SkinThickness': 38, 'Insulin': 360, 'BMI': Decimal('28.0'), 'DiabetesPedigreeFunction': Decimal('0.337'), 'Age': 29, 'Outcome': 1}, {'Pregnancies': 0, 'Glucose': 126, 'BloodPressure': 84, 'SkinThickness': 29, 'Insulin': 215, 'BMI': Decimal('30.7'), 'DiabetesPedigreeFunction': Decimal('0.520'), 'Age': 24, 'Outcome': 0}, {'Pregnancies': 14, 'Glucose': 100, 'BloodPressure': 78, 'SkinThickness': 25, 'Insulin': 184, 'BMI': Decimal('36.6'), 'DiabetesPedigreeFunction': Decimal('0.412'), 'Age': 46, 'Outcome': 1}, {'Pregnancies': 8, 'Glucose': 112, 'BloodPressure': 72, 'SkinThickness': 0, 'Insulin': 0, 'BMI': Decimal('23.6'), 'DiabetesPedigreeFunction': Decimal('0.840'), 'Age': 58, 'Outcome': 0}, {'Pregnancies': 0, 'Glucose': 167, 'BloodPressure': 0, 'SkinThickness': 0, 'Insulin': 0, 'BMI': Decimal('32.3'), 'DiabetesPedigreeFunction': Decimal('0.839'), 'Age': 30, 'Outcome': 1}, {'Pregnancies': 2, 'Glucose': 144, 'BloodPressure': 58, 'SkinThickness': 33, 'Insulin': 135, 'BMI': Decimal('31.6'), 'DiabetesPedigreeFunction': Decimal('0.422'), 'Age': 25, 'Outcome': 1}, {'Pregnancies': 5, 'Glucose': 77, 'BloodPressure': 82, 'SkinThickness': 41, 'Insulin': 42, 'BMI': Decimal('35.8'), 'DiabetesPedigreeFunction': Decimal('0.156'), 'Age': 35, 'Outcome': 0}, {'Pregnancies': 5, 'Glucose': 115, 'BloodPressure': 98, 'SkinThickness': 0, 'Insulin': 0, 'BMI': Decimal('52.9'), 'DiabetesPedigreeFunction': Decimal('0.209'), 'Age': 28, 'Outcome': 1}, {'Pregnancies': 3, 'Glucose': 150, 'BloodPressure': 76, 'SkinThickness': 0, 'Insulin': 0, 'BMI': Decimal('21.0'), 'DiabetesPedigreeFunction': Decimal('0.207'), 'Age': 37, 'Outcome': 0}, {'Pregnancies': 2, 'Glucose': 120, 'BloodPressure': 76, 'SkinThickness': 37, 'Insulin': 105, 'BMI': Decimal('39.7'), 'DiabetesPedigreeFunction': Decimal('0.215'), 'Age': 29, 'Outcome': 0}, {'Pregnancies': 10, 'Glucose': 161, 'BloodPressure': 68, 'SkinThickness': 23, 'Insulin': 132, 'BMI': Decimal('25.5'), 'DiabetesPedigreeFunction': Decimal('0.326'), 'Age': 47, 'Outcome': 1}, {'Pregnancies': 0, 'Glucose': 137, 'BloodPressure': 68, 'SkinThickness': 14, 'Insulin': 148, 'BMI': Decimal('24.8'), 'DiabetesPedigreeFunction': Decimal('0.143'), 'Age': 21, 'Outcome': 0}, {'Pregnancies': 0, 'Glucose': 128, 'BloodPressure': 68, 'SkinThickness': 19, 'Insulin': 180, 'BMI': Decimal('30.5'), 'DiabetesPedigreeFunction': Decimal('1.391'), 'Age': 25, 'Outcome': 1}, {'Pregnancies': 2, 'Glucose': 124, 'BloodPressure': 68, 'SkinThickness': 28, 'Insulin': 205, 'BMI': Decimal('32.9'), 'DiabetesPedigreeFunction': Decimal('0.875'), 'Age': 30, 'Outcome': 1}, {'Pregnancies': 6, 'Glucose': 80, 'BloodPressure': 66, 'SkinThickness': 30, 'Insulin': 0, 'BMI': Decimal('26.2'), 'DiabetesPedigreeFunction': Decimal('0.313'), 'Age': 41, 'Outcome': 0}, {'Pregnancies': 0, 'Glucose': 106, 'BloodPressure': 70, 'SkinThickness': 37, 'Insulin': 148, 'BMI': Decimal('39.4'), 'DiabetesPedigreeFunction': Decimal('0.605'), 'Age': 22, 'Outcome': 0}, {'Pregnancies': 2, 'Glucose': 155, 'BloodPressure': 74, 'SkinThickness': 17, 'Insulin': 96, 'BMI': Decimal('26.6'), 'DiabetesPedigreeFunction': Decimal('0.433'), 'Age': 27, 'Outcome': 1}, {'Pregnancies': 3, 'Glucose': 113, 'BloodPressure': 50, 'SkinThickness': 10, 'Insulin': 85, 'BMI': Decimal('29.5'), 'DiabetesPedigreeFunction': Decimal('0.626'), 'Age': 25, 'Outcome': 0}, {'Pregnancies': 7, 'Glucose': 109, 'BloodPressure': 80, 'SkinThickness': 31, 'Insulin': 0, 'BMI': Decimal('35.9'), 'DiabetesPedigreeFunction': Decimal('1.127'), 'Age': 43, 'Outcome': 1}, {'Pregnancies': 2, 'Glucose': 112, 'BloodPressure': 68, 'SkinThickness': 22, 'Insulin': 94, 'BMI': Decimal('34.1'), 'DiabetesPedigreeFunction': Decimal('0.315'), 'Age': 26, 'Outcome': 0}, {'Pregnancies': 3, 'Glucose': 99, 'BloodPressure': 80, 'SkinThickness': 11, 'Insulin': 64, 'BMI': Decimal('19.3'), 'DiabetesPedigreeFunction': Decimal('0.284'), 'Age': 30, 'Outcome': 0}, {'Pregnancies': 3, 'Glucose': 182, 'BloodPressure': 74, 'SkinThickness': 0, 'Insulin': 0, 'BMI': Decimal('30.5'), 'DiabetesPedigreeFunction': Decimal('0.345'), 'Age': 29, 'Outcome': 1}, {'Pregnancies': 3, 'Glucose': 115, 'BloodPressure': 66, 'SkinThickness': 39, 'Insulin': 140, 'BMI': Decimal('38.1'), 'DiabetesPedigreeFunction': Decimal('0.150'), 'Age': 28, 'Outcome': 0}, {'Pregnancies': 6, 'Glucose': 194, 'BloodPressure': 78, 'SkinThickness': 0, 'Insulin': 0, 'BMI': Decimal('23.5'), 'DiabetesPedigreeFunction': Decimal('0.129'), 'Age': 59, 'Outcome': 1}, {'Pregnancies': 4, 'Glucose': 129, 'BloodPressure': 60, 'SkinThickness': 12, 'Insulin': 231, 'BMI': Decimal('27.5'), 'DiabetesPedigreeFunction': Decimal('0.527'), 'Age': 31, 'Outcome': 0}, {'Pregnancies': 3, 'Glucose': 112, 'BloodPressure': 74, 'SkinThickness': 30, 'Insulin': 0, 'BMI': Decimal('31.6'), 'DiabetesPedigreeFunction': Decimal('0.197'), 'Age': 25, 'Outcome': 1}, {'Pregnancies': 0, 'Glucose': 124, 'BloodPressure': 70, 'SkinThickness': 20, 'Insulin': 0, 'BMI': Decimal('27.4'), 'DiabetesPedigreeFunction': Decimal('0.254'), 'Age': 36, 'Outcome': 1}, {'Pregnancies': 13, 'Glucose': 152, 'BloodPressure': 90, 'SkinThickness': 33, 'Insulin': 29, 'BMI': Decimal('26.8'), 'DiabetesPedigreeFunction': Decimal('0.731'), 'Age': 43, 'Outcome': 1}, {'Pregnancies': 2, 'Glucose': 112, 'BloodPressure': 75, 'SkinThickness': 32, 'Insulin': 0, 'BMI': Decimal('35.7'), 'DiabetesPedigreeFunction': Decimal('0.148'), 'Age': 21, 'Outcome': 0}, {'Pregnancies': 1, 'Glucose': 157, 'BloodPressure': 72, 'SkinThickness': 21, 'Insulin': 168, 'BMI': Decimal('25.6'), 'DiabetesPedigreeFunction': Decimal('0.123'), 'Age': 24, 'Outcome': 0}, {'Pregnancies': 1, 'Glucose': 122, 'BloodPressure': 64, 'SkinThickness': 32, 'Insulin': 156, 'BMI': Decimal('35.1'), 'DiabetesPedigreeFunction': Decimal('0.692'), 'Age': 30, 'Outcome': 1}, {'Pregnancies': 10, 'Glucose': 179, 'BloodPressure': 70, 'SkinThickness': 0, 'Insulin': 0, 'BMI': Decimal('35.1'), 'DiabetesPedigreeFunction': Decimal('0.200'), 'Age': 37, 'Outcome': 0}, {'Pregnancies': 2, 'Glucose': 102, 'BloodPressure': 86, 'SkinThickness': 36, 'Insulin': 120, 'BMI': Decimal('45.5'), 'DiabetesPedigreeFunction': Decimal('0.127'), 'Age': 23, 'Outcome': 1}, {'Pregnancies': 6, 'Glucose': 105, 'BloodPressure': 70, 'SkinThickness': 32, 'Insulin': 68, 'BMI': Decimal('30.8'), 'DiabetesPedigreeFunction': Decimal('0.122'), 'Age': 37, 'Outcome': 0}, {'Pregnancies': 8, 'Glucose': 118, 'BloodPressure': 72, 'SkinThickness': 19, 'Insulin': 0, 'BMI': Decimal('23.1'), 'DiabetesPedigreeFunction': Decimal('1.476'), 'Age': 46, 'Outcome': 0}, {'Pregnancies': 2, 'Glucose': 87, 'BloodPressure': 58, 'SkinThickness': 16, 'Insulin': 52, 'BMI': Decimal('32.7'), 'DiabetesPedigreeFunction': Decimal('0.166'), 'Age': 25, 'Outcome': 0}, {'Pregnancies': 1, 'Glucose': 180, 'BloodPressure': 0, 'SkinThickness': 0, 'Insulin': 0, 'BMI': Decimal('43.3'), 'DiabetesPedigreeFunction': Decimal('0.282'), 'Age': 41, 'Outcome': 1}, {'Pregnancies': 12, 'Glucose': 106, 'BloodPressure': 80, 'SkinThickness': 0, 'Insulin': 0, 'BMI': Decimal('23.6'), 'DiabetesPedigreeFunction': Decimal('0.137'), 'Age': 44, 'Outcome': 0}, {'Pregnancies': 1, 'Glucose': 95, 'BloodPressure': 60, 'SkinThickness': 18, 'Insulin': 58, 'BMI': Decimal('23.9'), 'DiabetesPedigreeFunction': Decimal('0.260'), 'Age': 22, 'Outcome': 0}, {'Pregnancies': 0, 'Glucose': 165, 'BloodPressure': 76, 'SkinThickness': 43, 'Insulin': 255, 'BMI': Decimal('47.9'), 'DiabetesPedigreeFunction': Decimal('0.259'), 'Age': 26, 'Outcome': 0}, {'Pregnancies': 0, 'Glucose': 117, 'BloodPressure': 0, 'SkinThickness': 0, 'Insulin': 0, 'BMI': Decimal('33.8'), 'DiabetesPedigreeFunction': Decimal('0.932'), 'Age': 44, 'Outcome': 0}, {'Pregnancies': 5, 'Glucose': 115, 'BloodPressure': 76, 'SkinThickness': 0, 'Insulin': 0, 'BMI': Decimal('31.2'), 'DiabetesPedigreeFunction': Decimal('0.343'), 'Age': 44, 'Outcome': 1}, {'Pregnancies': 9, 'Glucose': 152, 'BloodPressure': 78, 'SkinThickness': 34, 'Insulin': 171, 'BMI': Decimal('34.2'), 'DiabetesPedigreeFunction': Decimal('0.893'), 'Age': 33, 'Outcome': 1}, {'Pregnancies': 7, 'Glucose': 178, 'BloodPressure': 84, 'SkinThickness': 0, 'Insulin': 0, 'BMI': Decimal('39.9'), 'DiabetesPedigreeFunction': Decimal('0.331'), 'Age': 41, 'Outcome': 1}, {'Pregnancies': 1, 'Glucose': 130, 'BloodPressure': 70, 'SkinThickness': 13, 'Insulin': 105, 'BMI': Decimal('25.9'), 'DiabetesPedigreeFunction': Decimal('0.472'), 'Age': 22, 'Outcome': 0}, {'Pregnancies': 1, 'Glucose': 95, 'BloodPressure': 74, 'SkinThickness': 21, 'Insulin': 73, 'BMI': Decimal('25.9'), 'DiabetesPedigreeFunction': Decimal('0.673'), 'Age': 36, 'Outcome': 0}, {'Pregnancies': 1, 'Glucose': 0, 'BloodPressure': 68, 'SkinThickness': 35, 'Insulin': 0, 'BMI': Decimal('32.0'), 'DiabetesPedigreeFunction': Decimal('0.389'), 'Age': 22, 'Outcome': 0}, {'Pregnancies': 5, 'Glucose': 122, 'BloodPressure': 86, 'SkinThickness': 0, 'Insulin': 0, 'BMI': Decimal('34.7'), 'DiabetesPedigreeFunction': Decimal('0.290'), 'Age': 33, 'Outcome': 0}, {'Pregnancies': 8, 'Glucose': 95, 'BloodPressure': 72, 'SkinThickness': 0, 'Insulin': 0, 'BMI': Decimal('36.8'), 'DiabetesPedigreeFunction': Decimal('0.485'), 'Age': 57, 'Outcome': 0}, {'Pregnancies': 8, 'Glucose': 126, 'BloodPressure': 88, 'SkinThickness': 36, 'Insulin': 108, 'BMI': Decimal('38.5'), 'DiabetesPedigreeFunction': Decimal('0.349'), 'Age': 49, 'Outcome': 0}, {'Pregnancies': 1, 'Glucose': 139, 'BloodPressure': 46, 'SkinThickness': 19, 'Insulin': 83, 'BMI': Decimal('28.7'), 'DiabetesPedigreeFunction': Decimal('0.654'), 'Age': 22, 'Outcome': 0}, {'Pregnancies': 3, 'Glucose': 116, 'BloodPressure': 0, 'SkinThickness': 0, 'Insulin': 0, 'BMI': Decimal('23.5'), 'DiabetesPedigreeFunction': Decimal('0.187'), 'Age': 23, 'Outcome': 0}, {'Pregnancies': 3, 'Glucose': 99, 'BloodPressure': 62, 'SkinThickness': 19, 'Insulin': 74, 'BMI': Decimal('21.8'), 'DiabetesPedigreeFunction': Decimal('0.279'), 'Age': 26, 'Outcome': 0}, {'Pregnancies': 5, 'Glucose': 0, 'BloodPressure': 80, 'SkinThickness': 32, 'Insulin': 0, 'BMI': Decimal('41.0'), 'DiabetesPedigreeFunction': Decimal('0.346'), 'Age': 37, 'Outcome': 1}, {'Pregnancies': 4, 'Glucose': 92, 'BloodPressure': 80, 'SkinThickness': 0, 'Insulin': 0, 'BMI': Decimal('42.2'), 'DiabetesPedigreeFunction': Decimal('0.237'), 'Age': 29, 'Outcome': 0}, {'Pregnancies': 4, 'Glucose': 137, 'BloodPressure': 84, 'SkinThickness': 0, 'Insulin': 0, 'BMI': Decimal('31.2'), 'DiabetesPedigreeFunction': Decimal('0.252'), 'Age': 30, 'Outcome': 0}, {'Pregnancies': 3, 'Glucose': 61, 'BloodPressure': 82, 'SkinThickness': 28, 'Insulin': 0, 'BMI': Decimal('34.4'), 'DiabetesPedigreeFunction': Decimal('0.243'), 'Age': 46, 'Outcome': 0}, {'Pregnancies': 1, 'Glucose': 90, 'BloodPressure': 62, 'SkinThickness': 12, 'Insulin': 43, 'BMI': Decimal('27.2'), 'DiabetesPedigreeFunction': Decimal('0.580'), 'Age': 24, 'Outcome': 0}, {'Pregnancies': 3, 'Glucose': 90, 'BloodPressure': 78, 'SkinThickness': 0, 'Insulin': 0, 'BMI': Decimal('42.7'), 'DiabetesPedigreeFunction': Decimal('0.559'), 'Age': 21, 'Outcome': 0}, {'Pregnancies': 9, 'Glucose': 165, 'BloodPressure': 88, 'SkinThickness': 0, 'Insulin': 0, 'BMI': Decimal('30.4'), 'DiabetesPedigreeFunction': Decimal('0.302'), 'Age': 49, 'Outcome': 1}, {'Pregnancies': 1, 'Glucose': 125, 'BloodPressure': 50, 'SkinThickness': 40, 'Insulin': 167, 'BMI': Decimal('33.3'), 'DiabetesPedigreeFunction': Decimal('0.962'), 'Age': 28, 'Outcome': 1}, {'Pregnancies': 13, 'Glucose': 129, 'BloodPressure': 0, 'SkinThickness': 30, 'Insulin': 0, 'BMI': Decimal('39.9'), 'DiabetesPedigreeFunction': Decimal('0.569'), 'Age': 44, 'Outcome': 1}, {'Pregnancies': 12, 'Glucose': 88, 'BloodPressure': 74, 'SkinThickness': 40, 'Insulin': 54, 'BMI': Decimal('35.3'), 'DiabetesPedigreeFunction': Decimal('0.378'), 'Age': 48, 'Outcome': 0}, {'Pregnancies': 1, 'Glucose': 196, 'BloodPressure': 76, 'SkinThickness': 36, 'Insulin': 249, 'BMI': Decimal('36.5'), 'DiabetesPedigreeFunction': Decimal('0.875'), 'Age': 29, 'Outcome': 1}, {'Pregnancies': 5, 'Glucose': 189, 'BloodPressure': 64, 'SkinThickness': 33, 'Insulin': 325, 'BMI': Decimal('31.2'), 'DiabetesPedigreeFunction': Decimal('0.583'), 'Age': 29, 'Outcome': 1}, {'Pregnancies': 5, 'Glucose': 158, 'BloodPressure': 70, 'SkinThickness': 0, 'Insulin': 0, 'BMI': Decimal('29.8'), 'DiabetesPedigreeFunction': Decimal('0.207'), 'Age': 63, 'Outcome': 0}, {'Pregnancies': 5, 'Glucose': 103, 'BloodPressure': 108, 'SkinThickness': 37, 'Insulin': 0, 'BMI': Decimal('39.2'), 'DiabetesPedigreeFunction': Decimal('0.305'), 'Age': 65, 'Outcome': 0}, {'Pregnancies': 4, 'Glucose': 146, 'BloodPressure': 78, 'SkinThickness': 0, 'Insulin': 0, 'BMI': Decimal('38.5'), 'DiabetesPedigreeFunction': Decimal('0.520'), 'Age': 67, 'Outcome': 1}, {'Pregnancies': 4, 'Glucose': 147, 'BloodPressure': 74, 'SkinThickness': 25, 'Insulin': 293, 'BMI': Decimal('34.9'), 'DiabetesPedigreeFunction': Decimal('0.385'), 'Age': 30, 'Outcome': 0}, {'Pregnancies': 5, 'Glucose': 99, 'BloodPressure': 54, 'SkinThickness': 28, 'Insulin': 83, 'BMI': Decimal('34.0'), 'DiabetesPedigreeFunction': Decimal('0.499'), 'Age': 30, 'Outcome': 0}, {'Pregnancies': 6, 'Glucose': 124, 'BloodPressure': 72, 'SkinThickness': 0, 'Insulin': 0, 'BMI': Decimal('27.6'), 'DiabetesPedigreeFunction': Decimal('0.368'), 'Age': 29, 'Outcome': 1}, {'Pregnancies': 0, 'Glucose': 101, 'BloodPressure': 64, 'SkinThickness': 17, 'Insulin': 0, 'BMI': Decimal('21.0'), 'DiabetesPedigreeFunction': Decimal('0.252'), 'Age': 21, 'Outcome': 0}, {'Pregnancies': 3, 'Glucose': 81, 'BloodPressure': 86, 'SkinThickness': 16, 'Insulin': 66, 'BMI': Decimal('27.5'), 'DiabetesPedigreeFunction': Decimal('0.306'), 'Age': 22, 'Outcome': 0}, {'Pregnancies': 1, 'Glucose': 133, 'BloodPressure': 102, 'SkinThickness': 28, 'Insulin': 140, 'BMI': Decimal('32.8'), 'DiabetesPedigreeFunction': Decimal('0.234'), 'Age': 45, 'Outcome': 1}, {'Pregnancies': 3, 'Glucose': 173, 'BloodPressure': 82, 'SkinThickness': 48, 'Insulin': 465, 'BMI': Decimal('38.4'), 'DiabetesPedigreeFunction': Decimal('2.137'), 'Age': 25, 'Outcome': 1}, {'Pregnancies': 0, 'Glucose': 118, 'BloodPressure': 64, 'SkinThickness': 23, 'Insulin': 89, 'BMI': Decimal('0.0'), 'DiabetesPedigreeFunction': Decimal('1.731'), 'Age': 21, 'Outcome': 0}, {'Pregnancies': 0, 'Glucose': 84, 'BloodPressure': 64, 'SkinThickness': 22, 'Insulin': 66, 'BMI': Decimal('35.8'), 'DiabetesPedigreeFunction': Decimal('0.545'), 'Age': 21, 'Outcome': 0}, {'Pregnancies': 2, 'Glucose': 105, 'BloodPressure': 58, 'SkinThickness': 40, 'Insulin': 94, 'BMI': Decimal('34.9'), 'DiabetesPedigreeFunction': Decimal('0.225'), 'Age': 25, 'Outcome': 0}, {'Pregnancies': 2, 'Glucose': 122, 'BloodPressure': 52, 'SkinThickness': 43, 'Insulin': 158, 'BMI': Decimal('36.2'), 'DiabetesPedigreeFunction': Decimal('0.816'), 'Age': 28, 'Outcome': 0}, {'Pregnancies': 12, 'Glucose': 140, 'BloodPressure': 82, 'SkinThickness': 43, 'Insulin': 325, 'BMI': Decimal('39.2'), 'DiabetesPedigreeFunction': Decimal('0.528'), 'Age': 58, 'Outcome': 1}, {'Pregnancies': 0, 'Glucose': 98, 'BloodPressure': 82, 'SkinThickness': 15, 'Insulin': 84, 'BMI': Decimal('25.2'), 'DiabetesPedigreeFunction': Decimal('0.299'), 'Age': 22, 'Outcome': 0}, {'Pregnancies': 1, 'Glucose': 87, 'BloodPressure': 60, 'SkinThickness': 37, 'Insulin': 75, 'BMI': Decimal('37.2'), 'DiabetesPedigreeFunction': Decimal('0.509'), 'Age': 22, 'Outcome': 0}, {'Pregnancies': 4, 'Glucose': 156, 'BloodPressure': 75, 'SkinThickness': 0, 'Insulin': 0, 'BMI': Decimal('48.3'), 'DiabetesPedigreeFunction': Decimal('0.238'), 'Age': 32, 'Outcome': 1}, {'Pregnancies': 0, 'Glucose': 93, 'BloodPressure': 100, 'SkinThickness': 39, 'Insulin': 72, 'BMI': Decimal('43.4'), 'DiabetesPedigreeFunction': Decimal('1.021'), 'Age': 35, 'Outcome': 0}, {'Pregnancies': 1, 'Glucose': 107, 'BloodPressure': 72, 'SkinThickness': 30, 'Insulin': 82, 'BMI': Decimal('30.8'), 'DiabetesPedigreeFunction': Decimal('0.821'), 'Age': 24, 'Outcome': 0}, {'Pregnancies': 0, 'Glucose': 105, 'BloodPressure': 68, 'SkinThickness': 22, 'Insulin': 0, 'BMI': Decimal('20.0'), 'DiabetesPedigreeFunction': Decimal('0.236'), 'Age': 22, 'Outcome': 0}, {'Pregnancies': 1, 'Glucose': 109, 'BloodPressure': 60, 'SkinThickness': 8, 'Insulin': 182, 'BMI': Decimal('25.4'), 'DiabetesPedigreeFunction': Decimal('0.947'), 'Age': 21, 'Outcome': 0}, {'Pregnancies': 1, 'Glucose': 90, 'BloodPressure': 62, 'SkinThickness': 18, 'Insulin': 59, 'BMI': Decimal('25.1'), 'DiabetesPedigreeFunction': Decimal('1.268'), 'Age': 25, 'Outcome': 0}, {'Pregnancies': 1, 'Glucose': 125, 'BloodPressure': 70, 'SkinThickness': 24, 'Insulin': 110, 'BMI': Decimal('24.3'), 'DiabetesPedigreeFunction': Decimal('0.221'), 'Age': 25, 'Outcome': 0}, {'Pregnancies': 1, 'Glucose': 119, 'BloodPressure': 54, 'SkinThickness': 13, 'Insulin': 50, 'BMI': Decimal('22.3'), 'DiabetesPedigreeFunction': Decimal('0.205'), 'Age': 24, 'Outcome': 0}, {'Pregnancies': 5, 'Glucose': 116, 'BloodPressure': 74, 'SkinThickness': 29, 'Insulin': 0, 'BMI': Decimal('32.3'), 'DiabetesPedigreeFunction': Decimal('0.660'), 'Age': 35, 'Outcome': 1}, {'Pregnancies': 8, 'Glucose': 105, 'BloodPressure': 100, 'SkinThickness': 36, 'Insulin': 0, 'BMI': Decimal('43.3'), 'DiabetesPedigreeFunction': Decimal('0.239'), 'Age': 45, 'Outcome': 1}, {'Pregnancies': 5, 'Glucose': 144, 'BloodPressure': 82, 'SkinThickness': 26, 'Insulin': 285, 'BMI': Decimal('32.0'), 'DiabetesPedigreeFunction': Decimal('0.452'), 'Age': 58, 'Outcome': 1}, {'Pregnancies': 3, 'Glucose': 100, 'BloodPressure': 68, 'SkinThickness': 23, 'Insulin': 81, 'BMI': Decimal('31.6'), 'DiabetesPedigreeFunction': Decimal('0.949'), 'Age': 28, 'Outcome': 0}, {'Pregnancies': 1, 'Glucose': 100, 'BloodPressure': 66, 'SkinThickness': 29, 'Insulin': 196, 'BMI': Decimal('32.0'), 'DiabetesPedigreeFunction': Decimal('0.444'), 'Age': 42, 'Outcome': 0}, {'Pregnancies': 5, 'Glucose': 166, 'BloodPressure': 76, 'SkinThickness': 0, 'Insulin': 0, 'BMI': Decimal('45.7'), 'DiabetesPedigreeFunction': Decimal('0.340'), 'Age': 27, 'Outcome': 1}, {'Pregnancies': 1, 'Glucose': 131, 'BloodPressure': 64, 'SkinThickness': 14, 'Insulin': 415, 'BMI': Decimal('23.7'), 'DiabetesPedigreeFunction': Decimal('0.389'), 'Age': 21, 'Outcome': 0}, {'Pregnancies': 4, 'Glucose': 116, 'BloodPressure': 72, 'SkinThickness': 12, 'Insulin': 87, 'BMI': Decimal('22.1'), 'DiabetesPedigreeFunction': Decimal('0.463'), 'Age': 37, 'Outcome': 0}, {'Pregnancies': 4, 'Glucose': 158, 'BloodPressure': 78, 'SkinThickness': 0, 'Insulin': 0, 'BMI': Decimal('32.9'), 'DiabetesPedigreeFunction': Decimal('0.803'), 'Age': 31, 'Outcome': 1}, {'Pregnancies': 2, 'Glucose': 127, 'BloodPressure': 58, 'SkinThickness': 24, 'Insulin': 275, 'BMI': Decimal('27.7'), 'DiabetesPedigreeFunction': Decimal('1.600'), 'Age': 25, 'Outcome': 0}, {'Pregnancies': 3, 'Glucose': 96, 'BloodPressure': 56, 'SkinThickness': 34, 'Insulin': 115, 'BMI': Decimal('24.7'), 'DiabetesPedigreeFunction': Decimal('0.944'), 'Age': 39, 'Outcome': 0}, {'Pregnancies': 0, 'Glucose': 131, 'BloodPressure': 66, 'SkinThickness': 40, 'Insulin': 0, 'BMI': Decimal('34.3'), 'DiabetesPedigreeFunction': Decimal('0.196'), 'Age': 22, 'Outcome': 1}, {'Pregnancies': 3, 'Glucose': 82, 'BloodPressure': 70, 'SkinThickness': 0, 'Insulin': 0, 'BMI': Decimal('21.1'), 'DiabetesPedigreeFunction': Decimal('0.389'), 'Age': 25, 'Outcome': 0}, {'Pregnancies': 3, 'Glucose': 193, 'BloodPressure': 70, 'SkinThickness': 31, 'Insulin': 0, 'BMI': Decimal('34.9'), 'DiabetesPedigreeFunction': Decimal('0.241'), 'Age': 25, 'Outcome': 1}, {'Pregnancies': 4, 'Glucose': 95, 'BloodPressure': 64, 'SkinThickness': 0, 'Insulin': 0, 'BMI': Decimal('32.0'), 'DiabetesPedigreeFunction': Decimal('0.161'), 'Age': 31, 'Outcome': 1}, {'Pregnancies': 6, 'Glucose': 137, 'BloodPressure': 61, 'SkinThickness': 0, 'Insulin': 0, 'BMI': Decimal('24.2'), 'DiabetesPedigreeFunction': Decimal('0.151'), 'Age': 55, 'Outcome': 0}, {'Pregnancies': 5, 'Glucose': 136, 'BloodPressure': 84, 'SkinThickness': 41, 'Insulin': 88, 'BMI': Decimal('35.0'), 'DiabetesPedigreeFunction': Decimal('0.286'), 'Age': 35, 'Outcome': 1}, {'Pregnancies': 9, 'Glucose': 72, 'BloodPressure': 78, 'SkinThickness': 25, 'Insulin': 0, 'BMI': Decimal('31.6'), 'DiabetesPedigreeFunction': Decimal('0.280'), 'Age': 38, 'Outcome': 0}, {'Pregnancies': 5, 'Glucose': 168, 'BloodPressure': 64, 'SkinThickness': 0, 'Insulin': 0, 'BMI': Decimal('32.9'), 'DiabetesPedigreeFunction': Decimal('0.135'), 'Age': 41, 'Outcome': 1}, {'Pregnancies': 2, 'Glucose': 123, 'BloodPressure': 48, 'SkinThickness': 32, 'Insulin': 165, 'BMI': Decimal('42.1'), 'DiabetesPedigreeFunction': Decimal('0.520'), 'Age': 26, 'Outcome': 0}, {'Pregnancies': 4, 'Glucose': 115, 'BloodPressure': 72, 'SkinThickness': 0, 'Insulin': 0, 'BMI': Decimal('28.9'), 'DiabetesPedigreeFunction': Decimal('0.376'), 'Age': 46, 'Outcome': 1}, {'Pregnancies': 0, 'Glucose': 101, 'BloodPressure': 62, 'SkinThickness': 0, 'Insulin': 0, 'BMI': Decimal('21.9'), 'DiabetesPedigreeFunction': Decimal('0.336'), 'Age': 25, 'Outcome': 0}, {'Pregnancies': 8, 'Glucose': 197, 'BloodPressure': 74, 'SkinThickness': 0, 'Insulin': 0, 'BMI': Decimal('25.9'), 'DiabetesPedigreeFunction': Decimal('1.191'), 'Age': 39, 'Outcome': 1}, {'Pregnancies': 1, 'Glucose': 172, 'BloodPressure': 68, 'SkinThickness': 49, 'Insulin': 579, 'BMI': Decimal('42.4'), 'DiabetesPedigreeFunction': Decimal('0.702'), 'Age': 28, 'Outcome': 1}, {'Pregnancies': 6, 'Glucose': 102, 'BloodPressure': 90, 'SkinThickness': 39, 'Insulin': 0, 'BMI': Decimal('35.7'), 'DiabetesPedigreeFunction': Decimal('0.674'), 'Age': 28, 'Outcome': 0}, {'Pregnancies': 1, 'Glucose': 112, 'BloodPressure': 72, 'SkinThickness': 30, 'Insulin': 176, 'BMI': Decimal('34.4'), 'DiabetesPedigreeFunction': Decimal('0.528'), 'Age': 25, 'Outcome': 0}, {'Pregnancies': 1, 'Glucose': 143, 'BloodPressure': 84, 'SkinThickness': 23, 'Insulin': 310, 'BMI': Decimal('42.4'), 'DiabetesPedigreeFunction': Decimal('1.076'), 'Age': 22, 'Outcome': 0}, {'Pregnancies': 1, 'Glucose': 143, 'BloodPressure': 74, 'SkinThickness': 22, 'Insulin': 61, 'BMI': Decimal('26.2'), 'DiabetesPedigreeFunction': Decimal('0.256'), 'Age': 21, 'Outcome': 0}, {'Pregnancies': 0, 'Glucose': 138, 'BloodPressure': 60, 'SkinThickness': 35, 'Insulin': 167, 'BMI': Decimal('34.6'), 'DiabetesPedigreeFunction': Decimal('0.534'), 'Age': 21, 'Outcome': 1}, {'Pregnancies': 3, 'Glucose': 173, 'BloodPressure': 84, 'SkinThickness': 33, 'Insulin': 474, 'BMI': Decimal('35.7'), 'DiabetesPedigreeFunction': Decimal('0.258'), 'Age': 22, 'Outcome': 1}, {'Pregnancies': 1, 'Glucose': 97, 'BloodPressure': 68, 'SkinThickness': 21, 'Insulin': 0, 'BMI': Decimal('27.2'), 'DiabetesPedigreeFunction': Decimal('1.095'), 'Age': 22, 'Outcome': 0}, {'Pregnancies': 4, 'Glucose': 144, 'BloodPressure': 82, 'SkinThickness': 32, 'Insulin': 0, 'BMI': Decimal('38.5'), 'DiabetesPedigreeFunction': Decimal('0.554'), 'Age': 37, 'Outcome': 1}, {'Pregnancies': 1, 'Glucose': 83, 'BloodPressure': 68, 'SkinThickness': 0, 'Insulin': 0, 'BMI': Decimal('18.2'), 'DiabetesPedigreeFunction': Decimal('0.624'), 'Age': 27, 'Outcome': 0}, {'Pregnancies': 3, 'Glucose': 129, 'BloodPressure': 64, 'SkinThickness': 29, 'Insulin': 115, 'BMI': Decimal('26.4'), 'DiabetesPedigreeFunction': Decimal('0.219'), 'Age': 28, 'Outcome': 1}, {'Pregnancies': 1, 'Glucose': 119, 'BloodPressure': 88, 'SkinThickness': 41, 'Insulin': 170, 'BMI': Decimal('45.3'), 'DiabetesPedigreeFunction': Decimal('0.507'), 'Age': 26, 'Outcome': 0}, {'Pregnancies': 2, 'Glucose': 94, 'BloodPressure': 68, 'SkinThickness': 18, 'Insulin': 76, 'BMI': Decimal('26.0'), 'DiabetesPedigreeFunction': Decimal('0.561'), 'Age': 21, 'Outcome': 0}, {'Pregnancies': 0, 'Glucose': 102, 'BloodPressure': 64, 'SkinThickness': 46, 'Insulin': 78, 'BMI': Decimal('40.6'), 'DiabetesPedigreeFunction': Decimal('0.496'), 'Age': 21, 'Outcome': 0}, {'Pregnancies': 2, 'Glucose': 115, 'BloodPressure': 64, 'SkinThickness': 22, 'Insulin': 0, 'BMI': Decimal('30.8'), 'DiabetesPedigreeFunction': Decimal('0.421'), 'Age': 21, 'Outcome': 0}, {'Pregnancies': 8, 'Glucose': 151, 'BloodPressure': 78, 'SkinThickness': 32, 'Insulin': 210, 'BMI': Decimal('42.9'), 'DiabetesPedigreeFunction': Decimal('0.516'), 'Age': 36, 'Outcome': 1}, {'Pregnancies': 4, 'Glucose': 184, 'BloodPressure': 78, 'SkinThickness': 39, 'Insulin': 277, 'BMI': Decimal('37.0'), 'DiabetesPedigreeFunction': Decimal('0.264'), 'Age': 31, 'Outcome': 1}, {'Pregnancies': 0, 'Glucose': 94, 'BloodPressure': 0, 'SkinThickness': 0, 'Insulin': 0, 'BMI': Decimal('0.0'), 'DiabetesPedigreeFunction': Decimal('0.256'), 'Age': 25, 'Outcome': 0}, {'Pregnancies': 1, 'Glucose': 181, 'BloodPressure': 64, 'SkinThickness': 30, 'Insulin': 180, 'BMI': Decimal('34.1'), 'DiabetesPedigreeFunction': Decimal('0.328'), 'Age': 38, 'Outcome': 1}, {'Pregnancies': 0, 'Glucose': 135, 'BloodPressure': 94, 'SkinThickness': 46, 'Insulin': 145, 'BMI': Decimal('40.6'), 'DiabetesPedigreeFunction': Decimal('0.284'), 'Age': 26, 'Outcome': 0}, {'Pregnancies': 1, 'Glucose': 95, 'BloodPressure': 82, 'SkinThickness': 25, 'Insulin': 180, 'BMI': Decimal('35.0'), 'DiabetesPedigreeFunction': Decimal('0.233'), 'Age': 43, 'Outcome': 1}, {'Pregnancies': 2, 'Glucose': 99, 'BloodPressure': 0, 'SkinThickness': 0, 'Insulin': 0, 'BMI': Decimal('22.2'), 'DiabetesPedigreeFunction': Decimal('0.108'), 'Age': 23, 'Outcome': 0}, {'Pregnancies': 3, 'Glucose': 89, 'BloodPressure': 74, 'SkinThickness': 16, 'Insulin': 85, 'BMI': Decimal('30.4'), 'DiabetesPedigreeFunction': Decimal('0.551'), 'Age': 38, 'Outcome': 0}, {'Pregnancies': 1, 'Glucose': 80, 'BloodPressure': 74, 'SkinThickness': 11, 'Insulin': 60, 'BMI': Decimal('30.0'), 'DiabetesPedigreeFunction': Decimal('0.527'), 'Age': 22, 'Outcome': 0}, {'Pregnancies': 2, 'Glucose': 139, 'BloodPressure': 75, 'SkinThickness': 0, 'Insulin': 0, 'BMI': Decimal('25.6'), 'DiabetesPedigreeFunction': Decimal('0.167'), 'Age': 29, 'Outcome': 0}, {'Pregnancies': 1, 'Glucose': 90, 'BloodPressure': 68, 'SkinThickness': 8, 'Insulin': 0, 'BMI': Decimal('24.5'), 'DiabetesPedigreeFunction': Decimal('1.138'), 'Age': 36, 'Outcome': 0}, {'Pregnancies': 0, 'Glucose': 141, 'BloodPressure': 0, 'SkinThickness': 0, 'Insulin': 0, 'BMI': Decimal('42.4'), 'DiabetesPedigreeFunction': Decimal('0.205'), 'Age': 29, 'Outcome': 1}, {'Pregnancies': 12, 'Glucose': 140, 'BloodPressure': 85, 'SkinThickness': 33, 'Insulin': 0, 'BMI': Decimal('37.4'), 'DiabetesPedigreeFunction': Decimal('0.244'), 'Age': 41, 'Outcome': 0}, {'Pregnancies': 5, 'Glucose': 147, 'BloodPressure': 75, 'SkinThickness': 0, 'Insulin': 0, 'BMI': Decimal('29.9'), 'DiabetesPedigreeFunction': Decimal('0.434'), 'Age': 28, 'Outcome': 0}, {'Pregnancies': 1, 'Glucose': 97, 'BloodPressure': 70, 'SkinThickness': 15, 'Insulin': 0, 'BMI': Decimal('18.2'), 'DiabetesPedigreeFunction': Decimal('0.147'), 'Age': 21, 'Outcome': 0}, {'Pregnancies': 6, 'Glucose': 107, 'BloodPressure': 88, 'SkinThickness': 0, 'Insulin': 0, 'BMI': Decimal('36.8'), 'DiabetesPedigreeFunction': Decimal('0.727'), 'Age': 31, 'Outcome': 0}, {'Pregnancies': 0, 'Glucose': 189, 'BloodPressure': 104, 'SkinThickness': 25, 'Insulin': 0, 'BMI': Decimal('34.3'), 'DiabetesPedigreeFunction': Decimal('0.435'), 'Age': 41, 'Outcome': 1}, {'Pregnancies': 2, 'Glucose': 83, 'BloodPressure': 66, 'SkinThickness': 23, 'Insulin': 50, 'BMI': Decimal('32.2'), 'DiabetesPedigreeFunction': Decimal('0.497'), 'Age': 22, 'Outcome': 0}, {'Pregnancies': 4, 'Glucose': 117, 'BloodPressure': 64, 'SkinThickness': 27, 'Insulin': 120, 'BMI': Decimal('33.2'), 'DiabetesPedigreeFunction': Decimal('0.230'), 'Age': 24, 'Outcome': 0}, {'Pregnancies': 8, 'Glucose': 108, 'BloodPressure': 70, 'SkinThickness': 0, 'Insulin': 0, 'BMI': Decimal('30.5'), 'DiabetesPedigreeFunction': Decimal('0.955'), 'Age': 33, 'Outcome': 1}, {'Pregnancies': 4, 'Glucose': 117, 'BloodPressure': 62, 'SkinThickness': 12, 'Insulin': 0, 'BMI': Decimal('29.7'), 'DiabetesPedigreeFunction': Decimal('0.380'), 'Age': 30, 'Outcome': 1}, {'Pregnancies': 0, 'Glucose': 180, 'BloodPressure': 78, 'SkinThickness': 63, 'Insulin': 14, 'BMI': Decimal('59.4'), 'DiabetesPedigreeFunction': Decimal('2.420'), 'Age': 25, 'Outcome': 1}, {'Pregnancies': 1, 'Glucose': 100, 'BloodPressure': 72, 'SkinThickness': 12, 'Insulin': 70, 'BMI': Decimal('25.3'), 'DiabetesPedigreeFunction': Decimal('0.658'), 'Age': 28, 'Outcome': 0}, {'Pregnancies': 0, 'Glucose': 95, 'BloodPressure': 80, 'SkinThickness': 45, 'Insulin': 92, 'BMI': Decimal('36.5'), 'DiabetesPedigreeFunction': Decimal('0.330'), 'Age': 26, 'Outcome': 0}, {'Pregnancies': 0, 'Glucose': 104, 'BloodPressure': 64, 'SkinThickness': 37, 'Insulin': 64, 'BMI': Decimal('33.6'), 'DiabetesPedigreeFunction': Decimal('0.510'), 'Age': 22, 'Outcome': 1}, {'Pregnancies': 0, 'Glucose': 120, 'BloodPressure': 74, 'SkinThickness': 18, 'Insulin': 63, 'BMI': Decimal('30.5'), 'DiabetesPedigreeFunction': Decimal('0.285'), 'Age': 26, 'Outcome': 0}, {'Pregnancies': 1, 'Glucose': 82, 'BloodPressure': 64, 'SkinThickness': 13, 'Insulin': 95, 'BMI': Decimal('21.2'), 'DiabetesPedigreeFunction': Decimal('0.415'), 'Age': 23, 'Outcome': 0}, {'Pregnancies': 2, 'Glucose': 134, 'BloodPressure': 70, 'SkinThickness': 0, 'Insulin': 0, 'BMI': Decimal('28.9'), 'DiabetesPedigreeFunction': Decimal('0.542'), 'Age': 23, 'Outcome': 1}, {'Pregnancies': 0, 'Glucose': 91, 'BloodPressure': 68, 'SkinThickness': 32, 'Insulin': 210, 'BMI': Decimal('39.9'), 'DiabetesPedigreeFunction': Decimal('0.381'), 'Age': 25, 'Outcome': 0}, {'Pregnancies': 2, 'Glucose': 119, 'BloodPressure': 0, 'SkinThickness': 0, 'Insulin': 0, 'BMI': Decimal('19.6'), 'DiabetesPedigreeFunction': Decimal('0.832'), 'Age': 72, 'Outcome': 0}, {'Pregnancies': 2, 'Glucose': 100, 'BloodPressure': 54, 'SkinThickness': 28, 'Insulin': 105, 'BMI': Decimal('37.8'), 'DiabetesPedigreeFunction': Decimal('0.498'), 'Age': 24, 'Outcome': 0}, {'Pregnancies': 14, 'Glucose': 175, 'BloodPressure': 62, 'SkinThickness': 30, 'Insulin': 0, 'BMI': Decimal('33.6'), 'DiabetesPedigreeFunction': Decimal('0.212'), 'Age': 38, 'Outcome': 1}, {'Pregnancies': 1, 'Glucose': 135, 'BloodPressure': 54, 'SkinThickness': 0, 'Insulin': 0, 'BMI': Decimal('26.7'), 'DiabetesPedigreeFunction': Decimal('0.687'), 'Age': 62, 'Outcome': 0}, {'Pregnancies': 5, 'Glucose': 86, 'BloodPressure': 68, 'SkinThickness': 28, 'Insulin': 71, 'BMI': Decimal('30.2'), 'DiabetesPedigreeFunction': Decimal('0.364'), 'Age': 24, 'Outcome': 0}, {'Pregnancies': 10, 'Glucose': 148, 'BloodPressure': 84, 'SkinThickness': 48, 'Insulin': 237, 'BMI': Decimal('37.6'), 'DiabetesPedigreeFunction': Decimal('1.001'), 'Age': 51, 'Outcome': 1}, {'Pregnancies': 9, 'Glucose': 134, 'BloodPressure': 74, 'SkinThickness': 33, 'Insulin': 60, 'BMI': Decimal('25.9'), 'DiabetesPedigreeFunction': Decimal('0.460'), 'Age': 81, 'Outcome': 0}, {'Pregnancies': 9, 'Glucose': 120, 'BloodPressure': 72, 'SkinThickness': 22, 'Insulin': 56, 'BMI': Decimal('20.8'), 'DiabetesPedigreeFunction': Decimal('0.733'), 'Age': 48, 'Outcome': 0}, {'Pregnancies': 1, 'Glucose': 71, 'BloodPressure': 62, 'SkinThickness': 0, 'Insulin': 0, 'BMI': Decimal('21.8'), 'DiabetesPedigreeFunction': Decimal('0.416'), 'Age': 26, 'Outcome': 0}, {'Pregnancies': 8, 'Glucose': 74, 'BloodPressure': 70, 'SkinThickness': 40, 'Insulin': 49, 'BMI': Decimal('35.3'), 'DiabetesPedigreeFunction': Decimal('0.705'), 'Age': 39, 'Outcome': 0}, {'Pregnancies': 5, 'Glucose': 88, 'BloodPressure': 78, 'SkinThickness': 30, 'Insulin': 0, 'BMI': Decimal('27.6'), 'DiabetesPedigreeFunction': Decimal('0.258'), 'Age': 37, 'Outcome': 0}, {'Pregnancies': 10, 'Glucose': 115, 'BloodPressure': 98, 'SkinThickness': 0, 'Insulin': 0, 'BMI': Decimal('24.0'), 'DiabetesPedigreeFunction': Decimal('1.022'), 'Age': 34, 'Outcome': 0}, {'Pregnancies': 0, 'Glucose': 124, 'BloodPressure': 56, 'SkinThickness': 13, 'Insulin': 105, 'BMI': Decimal('21.8'), 'DiabetesPedigreeFunction': Decimal('0.452'), 'Age': 21, 'Outcome': 0}, {'Pregnancies': 0, 'Glucose': 74, 'BloodPressure': 52, 'SkinThickness': 10, 'Insulin': 36, 'BMI': Decimal('27.8'), 'DiabetesPedigreeFunction': Decimal('0.269'), 'Age': 22, 'Outcome': 0}, {'Pregnancies': 0, 'Glucose': 97, 'BloodPressure': 64, 'SkinThickness': 36, 'Insulin': 100, 'BMI': Decimal('36.8'), 'DiabetesPedigreeFunction': Decimal('0.600'), 'Age': 25, 'Outcome': 0}, {'Pregnancies': 8, 'Glucose': 120, 'BloodPressure': 0, 'SkinThickness': 0, 'Insulin': 0, 'BMI': Decimal('30.0'), 'DiabetesPedigreeFunction': Decimal('0.183'), 'Age': 38, 'Outcome': 1}, {'Pregnancies': 6, 'Glucose': 154, 'BloodPressure': 78, 'SkinThickness': 41, 'Insulin': 140, 'BMI': Decimal('46.1'), 'DiabetesPedigreeFunction': Decimal('0.571'), 'Age': 27, 'Outcome': 0}, {'Pregnancies': 1, 'Glucose': 144, 'BloodPressure': 82, 'SkinThickness': 40, 'Insulin': 0, 'BMI': Decimal('41.3'), 'DiabetesPedigreeFunction': Decimal('0.607'), 'Age': 28, 'Outcome': 0}, {'Pregnancies': 0, 'Glucose': 137, 'BloodPressure': 70, 'SkinThickness': 38, 'Insulin': 0, 'BMI': Decimal('33.2'), 'DiabetesPedigreeFunction': Decimal('0.170'), 'Age': 22, 'Outcome': 0}, {'Pregnancies': 0, 'Glucose': 119, 'BloodPressure': 66, 'SkinThickness': 27, 'Insulin': 0, 'BMI': Decimal('38.8'), 'DiabetesPedigreeFunction': Decimal('0.259'), 'Age': 22, 'Outcome': 0}, {'Pregnancies': 7, 'Glucose': 136, 'BloodPressure': 90, 'SkinThickness': 0, 'Insulin': 0, 'BMI': Decimal('29.9'), 'DiabetesPedigreeFunction': Decimal('0.210'), 'Age': 50, 'Outcome': 0}, {'Pregnancies': 4, 'Glucose': 114, 'BloodPressure': 64, 'SkinThickness': 0, 'Insulin': 0, 'BMI': Decimal('28.9'), 'DiabetesPedigreeFunction': Decimal('0.126'), 'Age': 24, 'Outcome': 0}, {'Pregnancies': 0, 'Glucose': 137, 'BloodPressure': 84, 'SkinThickness': 27, 'Insulin': 0, 'BMI': Decimal('27.3'), 'DiabetesPedigreeFunction': Decimal('0.231'), 'Age': 59, 'Outcome': 0}, {'Pregnancies': 2, 'Glucose': 105, 'BloodPressure': 80, 'SkinThickness': 45, 'Insulin': 191, 'BMI': Decimal('33.7'), 'DiabetesPedigreeFunction': Decimal('0.711'), 'Age': 29, 'Outcome': 1}, {'Pregnancies': 7, 'Glucose': 114, 'BloodPressure': 76, 'SkinThickness': 17, 'Insulin': 110, 'BMI': Decimal('23.8'), 'DiabetesPedigreeFunction': Decimal('0.466'), 'Age': 31, 'Outcome': 0}, {'Pregnancies': 8, 'Glucose': 126, 'BloodPressure': 74, 'SkinThickness': 38, 'Insulin': 75, 'BMI': Decimal('25.9'), 'DiabetesPedigreeFunction': Decimal('0.162'), 'Age': 39, 'Outcome': 0}, {'Pregnancies': 4, 'Glucose': 132, 'BloodPressure': 86, 'SkinThickness': 31, 'Insulin': 0, 'BMI': Decimal('28.0'), 'DiabetesPedigreeFunction': Decimal('0.419'), 'Age': 63, 'Outcome': 0}, {'Pregnancies': 3, 'Glucose': 158, 'BloodPressure': 70, 'SkinThickness': 30, 'Insulin': 328, 'BMI': Decimal('35.5'), 'DiabetesPedigreeFunction': Decimal('0.344'), 'Age': 35, 'Outcome': 1}, {'Pregnancies': 0, 'Glucose': 123, 'BloodPressure': 88, 'SkinThickness': 37, 'Insulin': 0, 'BMI': Decimal('35.2'), 'DiabetesPedigreeFunction': Decimal('0.197'), 'Age': 29, 'Outcome': 0}, {'Pregnancies': 4, 'Glucose': 85, 'BloodPressure': 58, 'SkinThickness': 22, 'Insulin': 49, 'BMI': Decimal('27.8'), 'DiabetesPedigreeFunction': Decimal('0.306'), 'Age': 28, 'Outcome': 0}, {'Pregnancies': 0, 'Glucose': 84, 'BloodPressure': 82, 'SkinThickness': 31, 'Insulin': 125, 'BMI': Decimal('38.2'), 'DiabetesPedigreeFunction': Decimal('0.233'), 'Age': 23, 'Outcome': 0}, {'Pregnancies': 0, 'Glucose': 145, 'BloodPressure': 0, 'SkinThickness': 0, 'Insulin': 0, 'BMI': Decimal('44.2'), 'DiabetesPedigreeFunction': Decimal('0.630'), 'Age': 31, 'Outcome': 1}, {'Pregnancies': 0, 'Glucose': 135, 'BloodPressure': 68, 'SkinThickness': 42, 'Insulin': 250, 'BMI': Decimal('42.3'), 'DiabetesPedigreeFunction': Decimal('0.365'), 'Age': 24, 'Outcome': 1}, {'Pregnancies': 1, 'Glucose': 139, 'BloodPressure': 62, 'SkinThickness': 41, 'Insulin': 480, 'BMI': Decimal('40.7'), 'DiabetesPedigreeFunction': Decimal('0.536'), 'Age': 21, 'Outcome': 0}, {'Pregnancies': 0, 'Glucose': 173, 'BloodPressure': 78, 'SkinThickness': 32, 'Insulin': 265, 'BMI': Decimal('46.5'), 'DiabetesPedigreeFunction': Decimal('1.159'), 'Age': 58, 'Outcome': 0}, {'Pregnancies': 4, 'Glucose': 99, 'BloodPressure': 72, 'SkinThickness': 17, 'Insulin': 0, 'BMI': Decimal('25.6'), 'DiabetesPedigreeFunction': Decimal('0.294'), 'Age': 28, 'Outcome': 0}, {'Pregnancies': 8, 'Glucose': 194, 'BloodPressure': 80, 'SkinThickness': 0, 'Insulin': 0, 'BMI': Decimal('26.1'), 'DiabetesPedigreeFunction': Decimal('0.551'), 'Age': 67, 'Outcome': 0}, {'Pregnancies': 2, 'Glucose': 83, 'BloodPressure': 65, 'SkinThickness': 28, 'Insulin': 66, 'BMI': Decimal('36.8'), 'DiabetesPedigreeFunction': Decimal('0.629'), 'Age': 24, 'Outcome': 0}, {'Pregnancies': 2, 'Glucose': 89, 'BloodPressure': 90, 'SkinThickness': 30, 'Insulin': 0, 'BMI': Decimal('33.5'), 'DiabetesPedigreeFunction': Decimal('0.292'), 'Age': 42, 'Outcome': 0}, {'Pregnancies': 4, 'Glucose': 99, 'BloodPressure': 68, 'SkinThickness': 38, 'Insulin': 0, 'BMI': Decimal('32.8'), 'DiabetesPedigreeFunction': Decimal('0.145'), 'Age': 33, 'Outcome': 0}, {'Pregnancies': 4, 'Glucose': 125, 'BloodPressure': 70, 'SkinThickness': 18, 'Insulin': 122, 'BMI': Decimal('28.9'), 'DiabetesPedigreeFunction': Decimal('1.144'), 'Age': 45, 'Outcome': 1}, {'Pregnancies': 3, 'Glucose': 80, 'BloodPressure': 0, 'SkinThickness': 0, 'Insulin': 0, 'BMI': Decimal('0.0'), 'DiabetesPedigreeFunction': Decimal('0.174'), 'Age': 22, 'Outcome': 0}, {'Pregnancies': 6, 'Glucose': 166, 'BloodPressure': 74, 'SkinThickness': 0, 'Insulin': 0, 'BMI': Decimal('26.6'), 'DiabetesPedigreeFunction': Decimal('0.304'), 'Age': 66, 'Outcome': 0}, {'Pregnancies': 5, 'Glucose': 110, 'BloodPressure': 68, 'SkinThickness': 0, 'Insulin': 0, 'BMI': Decimal('26.0'), 'DiabetesPedigreeFunction': Decimal('0.292'), 'Age': 30, 'Outcome': 0}, {'Pregnancies': 2, 'Glucose': 81, 'BloodPressure': 72, 'SkinThickness': 15, 'Insulin': 76, 'BMI': Decimal('30.1'), 'DiabetesPedigreeFunction': Decimal('0.547'), 'Age': 25, 'Outcome': 0}, {'Pregnancies': 7, 'Glucose': 195, 'BloodPressure': 70, 'SkinThickness': 33, 'Insulin': 145, 'BMI': Decimal('25.1'), 'DiabetesPedigreeFunction': Decimal('0.163'), 'Age': 55, 'Outcome': 1}, {'Pregnancies': 6, 'Glucose': 154, 'BloodPressure': 74, 'SkinThickness': 32, 'Insulin': 193, 'BMI': Decimal('29.3'), 'DiabetesPedigreeFunction': Decimal('0.839'), 'Age': 39, 'Outcome': 0}, {'Pregnancies': 2, 'Glucose': 117, 'BloodPressure': 90, 'SkinThickness': 19, 'Insulin': 71, 'BMI': Decimal('25.2'), 'DiabetesPedigreeFunction': Decimal('0.313'), 'Age': 21, 'Outcome': 0}, {'Pregnancies': 3, 'Glucose': 84, 'BloodPressure': 72, 'SkinThickness': 32, 'Insulin': 0, 'BMI': Decimal('37.2'), 'DiabetesPedigreeFunction': Decimal('0.267'), 'Age': 28, 'Outcome': 0}, {'Pregnancies': 6, 'Glucose': 0, 'BloodPressure': 68, 'SkinThickness': 41, 'Insulin': 0, 'BMI': Decimal('39.0'), 'DiabetesPedigreeFunction': Decimal('0.727'), 'Age': 41, 'Outcome': 1}, {'Pregnancies': 7, 'Glucose': 94, 'BloodPressure': 64, 'SkinThickness': 25, 'Insulin': 79, 'BMI': Decimal('33.3'), 'DiabetesPedigreeFunction': Decimal('0.738'), 'Age': 41, 'Outcome': 0}, {'Pregnancies': 3, 'Glucose': 96, 'BloodPressure': 78, 'SkinThickness': 39, 'Insulin': 0, 'BMI': Decimal('37.3'), 'DiabetesPedigreeFunction': Decimal('0.238'), 'Age': 40, 'Outcome': 0}, {'Pregnancies': 10, 'Glucose': 75, 'BloodPressure': 82, 'SkinThickness': 0, 'Insulin': 0, 'BMI': Decimal('33.3'), 'DiabetesPedigreeFunction': Decimal('0.263'), 'Age': 38, 'Outcome': 0}, {'Pregnancies': 0, 'Glucose': 180, 'BloodPressure': 90, 'SkinThickness': 26, 'Insulin': 90, 'BMI': Decimal('36.5'), 'DiabetesPedigreeFunction': Decimal('0.314'), 'Age': 35, 'Outcome': 1}, {'Pregnancies': 1, 'Glucose': 130, 'BloodPressure': 60, 'SkinThickness': 23, 'Insulin': 170, 'BMI': Decimal('28.6'), 'DiabetesPedigreeFunction': Decimal('0.692'), 'Age': 21, 'Outcome': 0}, {'Pregnancies': 2, 'Glucose': 84, 'BloodPressure': 50, 'SkinThickness': 23, 'Insulin': 76, 'BMI': Decimal('30.4'), 'DiabetesPedigreeFunction': Decimal('0.968'), 'Age': 21, 'Outcome': 0}, {'Pregnancies': 8, 'Glucose': 120, 'BloodPressure': 78, 'SkinThickness': 0, 'Insulin': 0, 'BMI': Decimal('25.0'), 'DiabetesPedigreeFunction': Decimal('0.409'), 'Age': 64, 'Outcome': 0}, {'Pregnancies': 12, 'Glucose': 84, 'BloodPressure': 72, 'SkinThickness': 31, 'Insulin': 0, 'BMI': Decimal('29.7'), 'DiabetesPedigreeFunction': Decimal('0.297'), 'Age': 46, 'Outcome': 1}, {'Pregnancies': 0, 'Glucose': 139, 'BloodPressure': 62, 'SkinThickness': 17, 'Insulin': 210, 'BMI': Decimal('22.1'), 'DiabetesPedigreeFunction': Decimal('0.207'), 'Age': 21, 'Outcome': 0}, {'Pregnancies': 9, 'Glucose': 91, 'BloodPressure': 68, 'SkinThickness': 0, 'Insulin': 0, 'BMI': Decimal('24.2'), 'DiabetesPedigreeFunction': Decimal('0.200'), 'Age': 58, 'Outcome': 0}, {'Pregnancies': 2, 'Glucose': 91, 'BloodPressure': 62, 'SkinThickness': 0, 'Insulin': 0, 'BMI': Decimal('27.3'), 'DiabetesPedigreeFunction': Decimal('0.525'), 'Age': 22, 'Outcome': 0}, {'Pregnancies': 3, 'Glucose': 99, 'BloodPressure': 54, 'SkinThickness': 19, 'Insulin': 86, 'BMI': Decimal('25.6'), 'DiabetesPedigreeFunction': Decimal('0.154'), 'Age': 24, 'Outcome': 0}, {'Pregnancies': 3, 'Glucose': 163, 'BloodPressure': 70, 'SkinThickness': 18, 'Insulin': 105, 'BMI': Decimal('31.6'), 'DiabetesPedigreeFunction': Decimal('0.268'), 'Age': 28, 'Outcome': 1}, {'Pregnancies': 9, 'Glucose': 145, 'BloodPressure': 88, 'SkinThickness': 34, 'Insulin': 165, 'BMI': Decimal('30.3'), 'DiabetesPedigreeFunction': Decimal('0.771'), 'Age': 53, 'Outcome': 1}, {'Pregnancies': 7, 'Glucose': 125, 'BloodPressure': 86, 'SkinThickness': 0, 'Insulin': 0, 'BMI': Decimal('37.6'), 'DiabetesPedigreeFunction': Decimal('0.304'), 'Age': 51, 'Outcome': 0}, {'Pregnancies': 13, 'Glucose': 76, 'BloodPressure': 60, 'SkinThickness': 0, 'Insulin': 0, 'BMI': Decimal('32.8'), 'DiabetesPedigreeFunction': Decimal('0.180'), 'Age': 41, 'Outcome': 0}, {'Pregnancies': 6, 'Glucose': 129, 'BloodPressure': 90, 'SkinThickness': 7, 'Insulin': 326, 'BMI': Decimal('19.6'), 'DiabetesPedigreeFunction': Decimal('0.582'), 'Age': 60, 'Outcome': 0}, {'Pregnancies': 2, 'Glucose': 68, 'BloodPressure': 70, 'SkinThickness': 32, 'Insulin': 66, 'BMI': Decimal('25.0'), 'DiabetesPedigreeFunction': Decimal('0.187'), 'Age': 25, 'Outcome': 0}, {'Pregnancies': 3, 'Glucose': 124, 'BloodPressure': 80, 'SkinThickness': 33, 'Insulin': 130, 'BMI': Decimal('33.2'), 'DiabetesPedigreeFunction': Decimal('0.305'), 'Age': 26, 'Outcome': 0}, {'Pregnancies': 6, 'Glucose': 114, 'BloodPressure': 0, 'SkinThickness': 0, 'Insulin': 0, 'BMI': Decimal('0.0'), 'DiabetesPedigreeFunction': Decimal('0.189'), 'Age': 26, 'Outcome': 0}, {'Pregnancies': 9, 'Glucose': 130, 'BloodPressure': 70, 'SkinThickness': 0, 'Insulin': 0, 'BMI': Decimal('34.2'), 'DiabetesPedigreeFunction': Decimal('0.652'), 'Age': 45, 'Outcome': 1}, {'Pregnancies': 3, 'Glucose': 125, 'BloodPressure': 58, 'SkinThickness': 0, 'Insulin': 0, 'BMI': Decimal('31.6'), 'DiabetesPedigreeFunction': Decimal('0.151'), 'Age': 24, 'Outcome': 0}, {'Pregnancies': 3, 'Glucose': 87, 'BloodPressure': 60, 'SkinThickness': 18, 'Insulin': 0, 'BMI': Decimal('21.8'), 'DiabetesPedigreeFunction': Decimal('0.444'), 'Age': 21, 'Outcome': 0}, {'Pregnancies': 1, 'Glucose': 97, 'BloodPressure': 64, 'SkinThickness': 19, 'Insulin': 82, 'BMI': Decimal('18.2'), 'DiabetesPedigreeFunction': Decimal('0.299'), 'Age': 21, 'Outcome': 0}, {'Pregnancies': 3, 'Glucose': 116, 'BloodPressure': 74, 'SkinThickness': 15, 'Insulin': 105, 'BMI': Decimal('26.3'), 'DiabetesPedigreeFunction': Decimal('0.107'), 'Age': 24, 'Outcome': 0}, {'Pregnancies': 0, 'Glucose': 117, 'BloodPressure': 66, 'SkinThickness': 31, 'Insulin': 188, 'BMI': Decimal('30.8'), 'DiabetesPedigreeFunction': Decimal('0.493'), 'Age': 22, 'Outcome': 0}, {'Pregnancies': 0, 'Glucose': 111, 'BloodPressure': 65, 'SkinThickness': 0, 'Insulin': 0, 'BMI': Decimal('24.6'), 'DiabetesPedigreeFunction': Decimal('0.660'), 'Age': 31, 'Outcome': 0}, {'Pregnancies': 2, 'Glucose': 122, 'BloodPressure': 60, 'SkinThickness': 18, 'Insulin': 106, 'BMI': Decimal('29.8'), 'DiabetesPedigreeFunction': Decimal('0.717'), 'Age': 22, 'Outcome': 0}, {'Pregnancies': 0, 'Glucose': 107, 'BloodPressure': 76, 'SkinThickness': 0, 'Insulin': 0, 'BMI': Decimal('45.3'), 'DiabetesPedigreeFunction': Decimal('0.686'), 'Age': 24, 'Outcome': 0}, {'Pregnancies': 1, 'Glucose': 86, 'BloodPressure': 66, 'SkinThickness': 52, 'Insulin': 65, 'BMI': Decimal('41.3'), 'DiabetesPedigreeFunction': Decimal('0.917'), 'Age': 29, 'Outcome': 0}, {'Pregnancies': 6, 'Glucose': 91, 'BloodPressure': 0, 'SkinThickness': 0, 'Insulin': 0, 'BMI': Decimal('29.8'), 'DiabetesPedigreeFunction': Decimal('0.501'), 'Age': 31, 'Outcome': 0}, {'Pregnancies': 1, 'Glucose': 77, 'BloodPressure': 56, 'SkinThickness': 30, 'Insulin': 56, 'BMI': Decimal('33.3'), 'DiabetesPedigreeFunction': Decimal('1.251'), 'Age': 24, 'Outcome': 0}, {'Pregnancies': 4, 'Glucose': 132, 'BloodPressure': 0, 'SkinThickness': 0, 'Insulin': 0, 'BMI': Decimal('32.9'), 'DiabetesPedigreeFunction': Decimal('0.302'), 'Age': 23, 'Outcome': 1}, {'Pregnancies': 0, 'Glucose': 105, 'BloodPressure': 90, 'SkinThickness': 0, 'Insulin': 0, 'BMI': Decimal('29.6'), 'DiabetesPedigreeFunction': Decimal('0.197'), 'Age': 46, 'Outcome': 0}, {'Pregnancies': 0, 'Glucose': 57, 'BloodPressure': 60, 'SkinThickness': 0, 'Insulin': 0, 'BMI': Decimal('21.7'), 'DiabetesPedigreeFunction': Decimal('0.735'), 'Age': 67, 'Outcome': 0}, {'Pregnancies': 0, 'Glucose': 127, 'BloodPressure': 80, 'SkinThickness': 37, 'Insulin': 210, 'BMI': Decimal('36.3'), 'DiabetesPedigreeFunction': Decimal('0.804'), 'Age': 23, 'Outcome': 0}, {'Pregnancies': 3, 'Glucose': 129, 'BloodPressure': 92, 'SkinThickness': 49, 'Insulin': 155, 'BMI': Decimal('36.4'), 'DiabetesPedigreeFunction': Decimal('0.968'), 'Age': 32, 'Outcome': 1}, {'Pregnancies': 8, 'Glucose': 100, 'BloodPressure': 74, 'SkinThickness': 40, 'Insulin': 215, 'BMI': Decimal('39.4'), 'DiabetesPedigreeFunction': Decimal('0.661'), 'Age': 43, 'Outcome': 1}, {'Pregnancies': 3, 'Glucose': 128, 'BloodPressure': 72, 'SkinThickness': 25, 'Insulin': 190, 'BMI': Decimal('32.4'), 'DiabetesPedigreeFunction': Decimal('0.549'), 'Age': 27, 'Outcome': 1}, {'Pregnancies': 10, 'Glucose': 90, 'BloodPressure': 85, 'SkinThickness': 32, 'Insulin': 0, 'BMI': Decimal('34.9'), 'DiabetesPedigreeFunction': Decimal('0.825'), 'Age': 56, 'Outcome': 1}, {'Pregnancies': 4, 'Glucose': 84, 'BloodPressure': 90, 'SkinThickness': 23, 'Insulin': 56, 'BMI': Decimal('39.5'), 'DiabetesPedigreeFunction': Decimal('0.159'), 'Age': 25, 'Outcome': 0}, {'Pregnancies': 1, 'Glucose': 88, 'BloodPressure': 78, 'SkinThickness': 29, 'Insulin': 76, 'BMI': Decimal('32.0'), 'DiabetesPedigreeFunction': Decimal('0.365'), 'Age': 29, 'Outcome': 0}, {'Pregnancies': 8, 'Glucose': 186, 'BloodPressure': 90, 'SkinThickness': 35, 'Insulin': 225, 'BMI': Decimal('34.5'), 'DiabetesPedigreeFunction': Decimal('0.423'), 'Age': 37, 'Outcome': 1}, {'Pregnancies': 5, 'Glucose': 187, 'BloodPressure': 76, 'SkinThickness': 27, 'Insulin': 207, 'BMI': Decimal('43.6'), 'DiabetesPedigreeFunction': Decimal('1.034'), 'Age': 53, 'Outcome': 1}, {'Pregnancies': 4, 'Glucose': 131, 'BloodPressure': 68, 'SkinThickness': 21, 'Insulin': 166, 'BMI': Decimal('33.1'), 'DiabetesPedigreeFunction': Decimal('0.160'), 'Age': 28, 'Outcome': 0}, {'Pregnancies': 1, 'Glucose': 164, 'BloodPressure': 82, 'SkinThickness': 43, 'Insulin': 67, 'BMI': Decimal('32.8'), 'DiabetesPedigreeFunction': Decimal('0.341'), 'Age': 50, 'Outcome': 0}, {'Pregnancies': 4, 'Glucose': 189, 'BloodPressure': 110, 'SkinThickness': 31, 'Insulin': 0, 'BMI': Decimal('28.5'), 'DiabetesPedigreeFunction': Decimal('0.680'), 'Age': 37, 'Outcome': 0}, {'Pregnancies': 1, 'Glucose': 116, 'BloodPressure': 70, 'SkinThickness': 28, 'Insulin': 0, 'BMI': Decimal('27.4'), 'DiabetesPedigreeFunction': Decimal('0.204'), 'Age': 21, 'Outcome': 0}, {'Pregnancies': 3, 'Glucose': 84, 'BloodPressure': 68, 'SkinThickness': 30, 'Insulin': 106, 'BMI': Decimal('31.9'), 'DiabetesPedigreeFunction': Decimal('0.591'), 'Age': 25, 'Outcome': 0}, {'Pregnancies': 6, 'Glucose': 114, 'BloodPressure': 88, 'SkinThickness': 0, 'Insulin': 0, 'BMI': Decimal('27.8'), 'DiabetesPedigreeFunction': Decimal('0.247'), 'Age': 66, 'Outcome': 0}, {'Pregnancies': 1, 'Glucose': 88, 'BloodPressure': 62, 'SkinThickness': 24, 'Insulin': 44, 'BMI': Decimal('29.9'), 'DiabetesPedigreeFunction': Decimal('0.422'), 'Age': 23, 'Outcome': 0}, {'Pregnancies': 1, 'Glucose': 84, 'BloodPressure': 64, 'SkinThickness': 23, 'Insulin': 115, 'BMI': Decimal('36.9'), 'DiabetesPedigreeFunction': Decimal('0.471'), 'Age': 28, 'Outcome': 0}, {'Pregnancies': 7, 'Glucose': 124, 'BloodPressure': 70, 'SkinThickness': 33, 'Insulin': 215, 'BMI': Decimal('25.5'), 'DiabetesPedigreeFunction': Decimal('0.161'), 'Age': 37, 'Outcome': 0}, {'Pregnancies': 1, 'Glucose': 97, 'BloodPressure': 70, 'SkinThickness': 40, 'Insulin': 0, 'BMI': Decimal('38.1'), 'DiabetesPedigreeFunction': Decimal('0.218'), 'Age': 30, 'Outcome': 0}, {'Pregnancies': 8, 'Glucose': 110, 'BloodPressure': 76, 'SkinThickness': 0, 'Insulin': 0, 'BMI': Decimal('27.8'), 'DiabetesPedigreeFunction': Decimal('0.237'), 'Age': 58, 'Outcome': 0}, {'Pregnancies': 11, 'Glucose': 103, 'BloodPressure': 68, 'SkinThickness': 40, 'Insulin': 0, 'BMI': Decimal('46.2'), 'DiabetesPedigreeFunction': Decimal('0.126'), 'Age': 42, 'Outcome': 0}, {'Pregnancies': 11, 'Glucose': 85, 'BloodPressure': 74, 'SkinThickness': 0, 'Insulin': 0, 'BMI': Decimal('30.1'), 'DiabetesPedigreeFunction': Decimal('0.300'), 'Age': 35, 'Outcome': 0}, {'Pregnancies': 6, 'Glucose': 125, 'BloodPressure': 76, 'SkinThickness': 0, 'Insulin': 0, 'BMI': Decimal('33.8'), 'DiabetesPedigreeFunction': Decimal('0.121'), 'Age': 54, 'Outcome': 1}, {'Pregnancies': 0, 'Glucose': 198, 'BloodPressure': 66, 'SkinThickness': 32, 'Insulin': 274, 'BMI': Decimal('41.3'), 'DiabetesPedigreeFunction': Decimal('0.502'), 'Age': 28, 'Outcome': 1}, {'Pregnancies': 1, 'Glucose': 87, 'BloodPressure': 68, 'SkinThickness': 34, 'Insulin': 77, 'BMI': Decimal('37.6'), 'DiabetesPedigreeFunction': Decimal('0.401'), 'Age': 24, 'Outcome': 0}, {'Pregnancies': 6, 'Glucose': 99, 'BloodPressure': 60, 'SkinThickness': 19, 'Insulin': 54, 'BMI': Decimal('26.9'), 'DiabetesPedigreeFunction': Decimal('0.497'), 'Age': 32, 'Outcome': 0}, {'Pregnancies': 0, 'Glucose': 91, 'BloodPressure': 80, 'SkinThickness': 0, 'Insulin': 0, 'BMI': Decimal('32.4'), 'DiabetesPedigreeFunction': Decimal('0.601'), 'Age': 27, 'Outcome': 0}, {'Pregnancies': 2, 'Glucose': 95, 'BloodPressure': 54, 'SkinThickness': 14, 'Insulin': 88, 'BMI': Decimal('26.1'), 'DiabetesPedigreeFunction': Decimal('0.748'), 'Age': 22, 'Outcome': 0}, {'Pregnancies': 1, 'Glucose': 99, 'BloodPressure': 72, 'SkinThickness': 30, 'Insulin': 18, 'BMI': Decimal('38.6'), 'DiabetesPedigreeFunction': Decimal('0.412'), 'Age': 21, 'Outcome': 0}, {'Pregnancies': 6, 'Glucose': 92, 'BloodPressure': 62, 'SkinThickness': 32, 'Insulin': 126, 'BMI': Decimal('32.0'), 'DiabetesPedigreeFunction': Decimal('0.085'), 'Age': 46, 'Outcome': 0}, {'Pregnancies': 4, 'Glucose': 154, 'BloodPressure': 72, 'SkinThickness': 29, 'Insulin': 126, 'BMI': Decimal('31.3'), 'DiabetesPedigreeFunction': Decimal('0.338'), 'Age': 37, 'Outcome': 0}, {'Pregnancies': 0, 'Glucose': 121, 'BloodPressure': 66, 'SkinThickness': 30, 'Insulin': 165, 'BMI': Decimal('34.3'), 'DiabetesPedigreeFunction': Decimal('0.203'), 'Age': 33, 'Outcome': 1}, {'Pregnancies': 3, 'Glucose': 78, 'BloodPressure': 70, 'SkinThickness': 0, 'Insulin': 0, 'BMI': Decimal('32.5'), 'DiabetesPedigreeFunction': Decimal('0.270'), 'Age': 39, 'Outcome': 0}, {'Pregnancies': 2, 'Glucose': 130, 'BloodPressure': 96, 'SkinThickness': 0, 'Insulin': 0, 'BMI': Decimal('22.6'), 'DiabetesPedigreeFunction': Decimal('0.268'), 'Age': 21, 'Outcome': 0}, {'Pregnancies': 3, 'Glucose': 111, 'BloodPressure': 58, 'SkinThickness': 31, 'Insulin': 44, 'BMI': Decimal('29.5'), 'DiabetesPedigreeFunction': Decimal('0.430'), 'Age': 22, 'Outcome': 0}, {'Pregnancies': 2, 'Glucose': 98, 'BloodPressure': 60, 'SkinThickness': 17, 'Insulin': 120, 'BMI': Decimal('34.7'), 'DiabetesPedigreeFunction': Decimal('0.198'), 'Age': 22, 'Outcome': 0}, {'Pregnancies': 1, 'Glucose': 143, 'BloodPressure': 86, 'SkinThickness': 30, 'Insulin': 330, 'BMI': Decimal('30.1'), 'DiabetesPedigreeFunction': Decimal('0.892'), 'Age': 23, 'Outcome': 0}, {'Pregnancies': 1, 'Glucose': 119, 'BloodPressure': 44, 'SkinThickness': 47, 'Insulin': 63, 'BMI': Decimal('35.5'), 'DiabetesPedigreeFunction': Decimal('0.280'), 'Age': 25, 'Outcome': 0}, {'Pregnancies': 6, 'Glucose': 108, 'BloodPressure': 44, 'SkinThickness': 20, 'Insulin': 130, 'BMI': Decimal('24.0'), 'DiabetesPedigreeFunction': Decimal('0.813'), 'Age': 35, 'Outcome': 0}, {'Pregnancies': 2, 'Glucose': 118, 'BloodPressure': 80, 'SkinThickness': 0, 'Insulin': 0, 'BMI': Decimal('42.9'), 'DiabetesPedigreeFunction': Decimal('0.693'), 'Age': 21, 'Outcome': 1}, {'Pregnancies': 10, 'Glucose': 133, 'BloodPressure': 68, 'SkinThickness': 0, 'Insulin': 0, 'BMI': Decimal('27.0'), 'DiabetesPedigreeFunction': Decimal('0.245'), 'Age': 36, 'Outcome': 0}, {'Pregnancies': 2, 'Glucose': 197, 'BloodPressure': 70, 'SkinThickness': 99, 'Insulin': 0, 'BMI': Decimal('34.7'), 'DiabetesPedigreeFunction': Decimal('0.575'), 'Age': 62, 'Outcome': 1}, {'Pregnancies': 0, 'Glucose': 151, 'BloodPressure': 90, 'SkinThickness': 46, 'Insulin': 0, 'BMI': Decimal('42.1'), 'DiabetesPedigreeFunction': Decimal('0.371'), 'Age': 21, 'Outcome': 1}, {'Pregnancies': 6, 'Glucose': 109, 'BloodPressure': 60, 'SkinThickness': 27, 'Insulin': 0, 'BMI': Decimal('25.0'), 'DiabetesPedigreeFunction': Decimal('0.206'), 'Age': 27, 'Outcome': 0}, {'Pregnancies': 12, 'Glucose': 121, 'BloodPressure': 78, 'SkinThickness': 17, 'Insulin': 0, 'BMI': Decimal('26.5'), 'DiabetesPedigreeFunction': Decimal('0.259'), 'Age': 62, 'Outcome': 0}, {'Pregnancies': 8, 'Glucose': 100, 'BloodPressure': 76, 'SkinThickness': 0, 'Insulin': 0, 'BMI': Decimal('38.7'), 'DiabetesPedigreeFunction': Decimal('0.190'), 'Age': 42, 'Outcome': 0}, {'Pregnancies': 8, 'Glucose': 124, 'BloodPressure': 76, 'SkinThickness': 24, 'Insulin': 600, 'BMI': Decimal('28.7'), 'DiabetesPedigreeFunction': Decimal('0.687'), 'Age': 52, 'Outcome': 1}, {'Pregnancies': 1, 'Glucose': 93, 'BloodPressure': 56, 'SkinThickness': 11, 'Insulin': 0, 'BMI': Decimal('22.5'), 'DiabetesPedigreeFunction': Decimal('0.417'), 'Age': 22, 'Outcome': 0}, {'Pregnancies': 8, 'Glucose': 143, 'BloodPressure': 66, 'SkinThickness': 0, 'Insulin': 0, 'BMI': Decimal('34.9'), 'DiabetesPedigreeFunction': Decimal('0.129'), 'Age': 41, 'Outcome': 1}, {'Pregnancies': 6, 'Glucose': 103, 'BloodPressure': 66, 'SkinThickness': 0, 'Insulin': 0, 'BMI': Decimal('24.3'), 'DiabetesPedigreeFunction': Decimal('0.249'), 'Age': 29, 'Outcome': 0}, {'Pregnancies': 3, 'Glucose': 176, 'BloodPressure': 86, 'SkinThickness': 27, 'Insulin': 156, 'BMI': Decimal('33.3'), 'DiabetesPedigreeFunction': Decimal('1.154'), 'Age': 52, 'Outcome': 1}, {'Pregnancies': 0, 'Glucose': 73, 'BloodPressure': 0, 'SkinThickness': 0, 'Insulin': 0, 'BMI': Decimal('21.1'), 'DiabetesPedigreeFunction': Decimal('0.342'), 'Age': 25, 'Outcome': 0}, {'Pregnancies': 11, 'Glucose': 111, 'BloodPressure': 84, 'SkinThickness': 40, 'Insulin': 0, 'BMI': Decimal('46.8'), 'DiabetesPedigreeFunction': Decimal('0.925'), 'Age': 45, 'Outcome': 1}, {'Pregnancies': 2, 'Glucose': 112, 'BloodPressure': 78, 'SkinThickness': 50, 'Insulin': 140, 'BMI': Decimal('39.4'), 'DiabetesPedigreeFunction': Decimal('0.175'), 'Age': 24, 'Outcome': 0}, {'Pregnancies': 3, 'Glucose': 132, 'BloodPressure': 80, 'SkinThickness': 0, 'Insulin': 0, 'BMI': Decimal('34.4'), 'DiabetesPedigreeFunction': Decimal('0.402'), 'Age': 44, 'Outcome': 1}, {'Pregnancies': 2, 'Glucose': 82, 'BloodPressure': 52, 'SkinThickness': 22, 'Insulin': 115, 'BMI': Decimal('28.5'), 'DiabetesPedigreeFunction': Decimal('1.699'), 'Age': 25, 'Outcome': 0}, {'Pregnancies': 6, 'Glucose': 123, 'BloodPressure': 72, 'SkinThickness': 45, 'Insulin': 230, 'BMI': Decimal('33.6'), 'DiabetesPedigreeFunction': Decimal('0.733'), 'Age': 34, 'Outcome': 0}, {'Pregnancies': 0, 'Glucose': 188, 'BloodPressure': 82, 'SkinThickness': 14, 'Insulin': 185, 'BMI': Decimal('32.0'), 'DiabetesPedigreeFunction': Decimal('0.682'), 'Age': 22, 'Outcome': 1}, {'Pregnancies': 0, 'Glucose': 67, 'BloodPressure': 76, 'SkinThickness': 0, 'Insulin': 0, 'BMI': Decimal('45.3'), 'DiabetesPedigreeFunction': Decimal('0.194'), 'Age': 46, 'Outcome': 0}, {'Pregnancies': 1, 'Glucose': 89, 'BloodPressure': 24, 'SkinThickness': 19, 'Insulin': 25, 'BMI': Decimal('27.8'), 'DiabetesPedigreeFunction': Decimal('0.559'), 'Age': 21, 'Outcome': 0}, {'Pregnancies': 1, 'Glucose': 173, 'BloodPressure': 74, 'SkinThickness': 0, 'Insulin': 0, 'BMI': Decimal('36.8'), 'DiabetesPedigreeFunction': Decimal('0.088'), 'Age': 38, 'Outcome': 1}, {'Pregnancies': 1, 'Glucose': 109, 'BloodPressure': 38, 'SkinThickness': 18, 'Insulin': 120, 'BMI': Decimal('23.1'), 'DiabetesPedigreeFunction': Decimal('0.407'), 'Age': 26, 'Outcome': 0}, {'Pregnancies': 1, 'Glucose': 108, 'BloodPressure': 88, 'SkinThickness': 19, 'Insulin': 0, 'BMI': Decimal('27.1'), 'DiabetesPedigreeFunction': Decimal('0.400'), 'Age': 24, 'Outcome': 0}, {'Pregnancies': 6, 'Glucose': 96, 'BloodPressure': 0, 'SkinThickness': 0, 'Insulin': 0, 'BMI': Decimal('23.7'), 'DiabetesPedigreeFunction': Decimal('0.190'), 'Age': 28, 'Outcome': 0}, {'Pregnancies': 1, 'Glucose': 124, 'BloodPressure': 74, 'SkinThickness': 36, 'Insulin': 0, 'BMI': Decimal('27.8'), 'DiabetesPedigreeFunction': Decimal('0.100'), 'Age': 30, 'Outcome': 0}, {'Pregnancies': 7, 'Glucose': 150, 'BloodPressure': 78, 'SkinThickness': 29, 'Insulin': 126, 'BMI': Decimal('35.2'), 'DiabetesPedigreeFunction': Decimal('0.692'), 'Age': 54, 'Outcome': 1}, {'Pregnancies': 4, 'Glucose': 183, 'BloodPressure': 0, 'SkinThickness': 0, 'Insulin': 0, 'BMI': Decimal('28.4'), 'DiabetesPedigreeFunction': Decimal('0.212'), 'Age': 36, 'Outcome': 1}, {'Pregnancies': 1, 'Glucose': 124, 'BloodPressure': 60, 'SkinThickness': 32, 'Insulin': 0, 'BMI': Decimal('35.8'), 'DiabetesPedigreeFunction': Decimal('0.514'), 'Age': 21, 'Outcome': 0}, {'Pregnancies': 1, 'Glucose': 181, 'BloodPressure': 78, 'SkinThickness': 42, 'Insulin': 293, 'BMI': Decimal('40.0'), 'DiabetesPedigreeFunction': Decimal('1.258'), 'Age': 22, 'Outcome': 1}, {'Pregnancies': 1, 'Glucose': 92, 'BloodPressure': 62, 'SkinThickness': 25, 'Insulin': 41, 'BMI': Decimal('19.5'), 'DiabetesPedigreeFunction': Decimal('0.482'), 'Age': 25, 'Outcome': 0}, {'Pregnancies': 0, 'Glucose': 152, 'BloodPressure': 82, 'SkinThickness': 39, 'Insulin': 272, 'BMI': Decimal('41.5'), 'DiabetesPedigreeFunction': Decimal('0.270'), 'Age': 27, 'Outcome': 0}, {'Pregnancies': 1, 'Glucose': 111, 'BloodPressure': 62, 'SkinThickness': 13, 'Insulin': 182, 'BMI': Decimal('24.0'), 'DiabetesPedigreeFunction': Decimal('0.138'), 'Age': 23, 'Outcome': 0}, {'Pregnancies': 3, 'Glucose': 106, 'BloodPressure': 54, 'SkinThickness': 21, 'Insulin': 158, 'BMI': Decimal('30.9'), 'DiabetesPedigreeFunction': Decimal('0.292'), 'Age': 24, 'Outcome': 0}, {'Pregnancies': 3, 'Glucose': 174, 'BloodPressure': 58, 'SkinThickness': 22, 'Insulin': 194, 'BMI': Decimal('32.9'), 'DiabetesPedigreeFunction': Decimal('0.593'), 'Age': 36, 'Outcome': 1}, {'Pregnancies': 7, 'Glucose': 168, 'BloodPressure': 88, 'SkinThickness': 42, 'Insulin': 321, 'BMI': Decimal('38.2'), 'DiabetesPedigreeFunction': Decimal('0.787'), 'Age': 40, 'Outcome': 1}, {'Pregnancies': 6, 'Glucose': 105, 'BloodPressure': 80, 'SkinThickness': 28, 'Insulin': 0, 'BMI': Decimal('32.5'), 'DiabetesPedigreeFunction': Decimal('0.878'), 'Age': 26, 'Outcome': 0}, {'Pregnancies': 11, 'Glucose': 138, 'BloodPressure': 74, 'SkinThickness': 26, 'Insulin': 144, 'BMI': Decimal('36.1'), 'DiabetesPedigreeFunction': Decimal('0.557'), 'Age': 50, 'Outcome': 1}, {'Pregnancies': 3, 'Glucose': 106, 'BloodPressure': 72, 'SkinThickness': 0, 'Insulin': 0, 'BMI': Decimal('25.8'), 'DiabetesPedigreeFunction': Decimal('0.207'), 'Age': 27, 'Outcome': 0}, {'Pregnancies': 6, 'Glucose': 117, 'BloodPressure': 96, 'SkinThickness': 0, 'Insulin': 0, 'BMI': Decimal('28.7'), 'DiabetesPedigreeFunction': Decimal('0.157'), 'Age': 30, 'Outcome': 0}, {'Pregnancies': 2, 'Glucose': 68, 'BloodPressure': 62, 'SkinThickness': 13, 'Insulin': 15, 'BMI': Decimal('20.1'), 'DiabetesPedigreeFunction': Decimal('0.257'), 'Age': 23, 'Outcome': 0}, {'Pregnancies': 9, 'Glucose': 112, 'BloodPressure': 82, 'SkinThickness': 24, 'Insulin': 0, 'BMI': Decimal('28.2'), 'DiabetesPedigreeFunction': Decimal('1.282'), 'Age': 50, 'Outcome': 1}, {'Pregnancies': 0, 'Glucose': 119, 'BloodPressure': 0, 'SkinThickness': 0, 'Insulin': 0, 'BMI': Decimal('32.4'), 'DiabetesPedigreeFunction': Decimal('0.141'), 'Age': 24, 'Outcome': 1}, {'Pregnancies': 2, 'Glucose': 112, 'BloodPressure': 86, 'SkinThickness': 42, 'Insulin': 160, 'BMI': Decimal('38.4'), 'DiabetesPedigreeFunction': Decimal('0.246'), 'Age': 28, 'Outcome': 0}, {'Pregnancies': 2, 'Glucose': 92, 'BloodPressure': 76, 'SkinThickness': 20, 'Insulin': 0, 'BMI': Decimal('24.2'), 'DiabetesPedigreeFunction': Decimal('1.698'), 'Age': 28, 'Outcome': 0}, {'Pregnancies': 6, 'Glucose': 183, 'BloodPressure': 94, 'SkinThickness': 0, 'Insulin': 0, 'BMI': Decimal('40.8'), 'DiabetesPedigreeFunction': Decimal('1.461'), 'Age': 45, 'Outcome': 0}, {'Pregnancies': 0, 'Glucose': 94, 'BloodPressure': 70, 'SkinThickness': 27, 'Insulin': 115, 'BMI': Decimal('43.5'), 'DiabetesPedigreeFunction': Decimal('0.347'), 'Age': 21, 'Outcome': 0}, {'Pregnancies': 2, 'Glucose': 108, 'BloodPressure': 64, 'SkinThickness': 0, 'Insulin': 0, 'BMI': Decimal('30.8'), 'DiabetesPedigreeFunction': Decimal('0.158'), 'Age': 21, 'Outcome': 0}, {'Pregnancies': 4, 'Glucose': 90, 'BloodPressure': 88, 'SkinThickness': 47, 'Insulin': 54, 'BMI': Decimal('37.7'), 'DiabetesPedigreeFunction': Decimal('0.362'), 'Age': 29, 'Outcome': 0}, {'Pregnancies': 0, 'Glucose': 125, 'BloodPressure': 68, 'SkinThickness': 0, 'Insulin': 0, 'BMI': Decimal('24.7'), 'DiabetesPedigreeFunction': Decimal('0.206'), 'Age': 21, 'Outcome': 0}, {'Pregnancies': 0, 'Glucose': 132, 'BloodPressure': 78, 'SkinThickness': 0, 'Insulin': 0, 'BMI': Decimal('32.4'), 'DiabetesPedigreeFunction': Decimal('0.393'), 'Age': 21, 'Outcome': 0}, {'Pregnancies': 5, 'Glucose': 128, 'BloodPressure': 80, 'SkinThickness': 0, 'Insulin': 0, 'BMI': Decimal('34.6'), 'DiabetesPedigreeFunction': Decimal('0.144'), 'Age': 45, 'Outcome': 0}, {'Pregnancies': 4, 'Glucose': 94, 'BloodPressure': 65, 'SkinThickness': 22, 'Insulin': 0, 'BMI': Decimal('24.7'), 'DiabetesPedigreeFunction': Decimal('0.148'), 'Age': 21, 'Outcome': 0}, {'Pregnancies': 7, 'Glucose': 114, 'BloodPressure': 64, 'SkinThickness': 0, 'Insulin': 0, 'BMI': Decimal('27.4'), 'DiabetesPedigreeFunction': Decimal('0.732'), 'Age': 34, 'Outcome': 1}, {'Pregnancies': 0, 'Glucose': 102, 'BloodPressure': 78, 'SkinThickness': 40, 'Insulin': 90, 'BMI': Decimal('34.5'), 'DiabetesPedigreeFunction': Decimal('0.238'), 'Age': 24, 'Outcome': 0}, {'Pregnancies': 2, 'Glucose': 111, 'BloodPressure': 60, 'SkinThickness': 0, 'Insulin': 0, 'BMI': Decimal('26.2'), 'DiabetesPedigreeFunction': Decimal('0.343'), 'Age': 23, 'Outcome': 0}, {'Pregnancies': 1, 'Glucose': 128, 'BloodPressure': 82, 'SkinThickness': 17, 'Insulin': 183, 'BMI': Decimal('27.5'), 'DiabetesPedigreeFunction': Decimal('0.115'), 'Age': 22, 'Outcome': 0}, {'Pregnancies': 10, 'Glucose': 92, 'BloodPressure': 62, 'SkinThickness': 0, 'Insulin': 0, 'BMI': Decimal('25.9'), 'DiabetesPedigreeFunction': Decimal('0.167'), 'Age': 31, 'Outcome': 0}, {'Pregnancies': 13, 'Glucose': 104, 'BloodPressure': 72, 'SkinThickness': 0, 'Insulin': 0, 'BMI': Decimal('31.2'), 'DiabetesPedigreeFunction': Decimal('0.465'), 'Age': 38, 'Outcome': 1}, {'Pregnancies': 5, 'Glucose': 104, 'BloodPressure': 74, 'SkinThickness': 0, 'Insulin': 0, 'BMI': Decimal('28.8'), 'DiabetesPedigreeFunction': Decimal('0.153'), 'Age': 48, 'Outcome': 0}, {'Pregnancies': 2, 'Glucose': 94, 'BloodPressure': 76, 'SkinThickness': 18, 'Insulin': 66, 'BMI': Decimal('31.6'), 'DiabetesPedigreeFunction': Decimal('0.649'), 'Age': 23, 'Outcome': 0}, {'Pregnancies': 7, 'Glucose': 97, 'BloodPressure': 76, 'SkinThickness': 32, 'Insulin': 91, 'BMI': Decimal('40.9'), 'DiabetesPedigreeFunction': Decimal('0.871'), 'Age': 32, 'Outcome': 1}, {'Pregnancies': 1, 'Glucose': 100, 'BloodPressure': 74, 'SkinThickness': 12, 'Insulin': 46, 'BMI': Decimal('19.5'), 'DiabetesPedigreeFunction': Decimal('0.149'), 'Age': 28, 'Outcome': 0}, {'Pregnancies': 0, 'Glucose': 102, 'BloodPressure': 86, 'SkinThickness': 17, 'Insulin': 105, 'BMI': Decimal('29.3'), 'DiabetesPedigreeFunction': Decimal('0.695'), 'Age': 27, 'Outcome': 0}, {'Pregnancies': 4, 'Glucose': 128, 'BloodPressure': 70, 'SkinThickness': 0, 'Insulin': 0, 'BMI': Decimal('34.3'), 'DiabetesPedigreeFunction': Decimal('0.303'), 'Age': 24, 'Outcome': 0}, {'Pregnancies': 6, 'Glucose': 147, 'BloodPressure': 80, 'SkinThickness': 0, 'Insulin': 0, 'BMI': Decimal('29.5'), 'DiabetesPedigreeFunction': Decimal('0.178'), 'Age': 50, 'Outcome': 1}, {'Pregnancies': 4, 'Glucose': 90, 'BloodPressure': 0, 'SkinThickness': 0, 'Insulin': 0, 'BMI': Decimal('28.0'), 'DiabetesPedigreeFunction': Decimal('0.610'), 'Age': 31, 'Outcome': 0}, {'Pregnancies': 3, 'Glucose': 103, 'BloodPressure': 72, 'SkinThickness': 30, 'Insulin': 152, 'BMI': Decimal('27.6'), 'DiabetesPedigreeFunction': Decimal('0.730'), 'Age': 27, 'Outcome': 0}, {'Pregnancies': 2, 'Glucose': 157, 'BloodPressure': 74, 'SkinThickness': 35, 'Insulin': 440, 'BMI': Decimal('39.4'), 'DiabetesPedigreeFunction': Decimal('0.134'), 'Age': 30, 'Outcome': 0}, {'Pregnancies': 1, 'Glucose': 167, 'BloodPressure': 74, 'SkinThickness': 17, 'Insulin': 144, 'BMI': Decimal('23.4'), 'DiabetesPedigreeFunction': Decimal('0.447'), 'Age': 33, 'Outcome': 1}, {'Pregnancies': 0, 'Glucose': 179, 'BloodPressure': 50, 'SkinThickness': 36, 'Insulin': 159, 'BMI': Decimal('37.8'), 'DiabetesPedigreeFunction': Decimal('0.455'), 'Age': 22, 'Outcome': 1}, {'Pregnancies': 11, 'Glucose': 136, 'BloodPressure': 84, 'SkinThickness': 35, 'Insulin': 130, 'BMI': Decimal('28.3'), 'DiabetesPedigreeFunction': Decimal('0.260'), 'Age': 42, 'Outcome': 1}, {'Pregnancies': 0, 'Glucose': 107, 'BloodPressure': 60, 'SkinThickness': 25, 'Insulin': 0, 'BMI': Decimal('26.4'), 'DiabetesPedigreeFunction': Decimal('0.133'), 'Age': 23, 'Outcome': 0}, {'Pregnancies': 1, 'Glucose': 91, 'BloodPressure': 54, 'SkinThickness': 25, 'Insulin': 100, 'BMI': Decimal('25.2'), 'DiabetesPedigreeFunction': Decimal('0.234'), 'Age': 23, 'Outcome': 0}, {'Pregnancies': 1, 'Glucose': 117, 'BloodPressure': 60, 'SkinThickness': 23, 'Insulin': 106, 'BMI': Decimal('33.8'), 'DiabetesPedigreeFunction': Decimal('0.466'), 'Age': 27, 'Outcome': 0}, {'Pregnancies': 5, 'Glucose': 123, 'BloodPressure': 74, 'SkinThickness': 40, 'Insulin': 77, 'BMI': Decimal('34.1'), 'DiabetesPedigreeFunction': Decimal('0.269'), 'Age': 28, 'Outcome': 0}, {'Pregnancies': 2, 'Glucose': 120, 'BloodPressure': 54, 'SkinThickness': 0, 'Insulin': 0, 'BMI': Decimal('26.8'), 'DiabetesPedigreeFunction': Decimal('0.455'), 'Age': 27, 'Outcome': 0}, {'Pregnancies': 1, 'Glucose': 106, 'BloodPressure': 70, 'SkinThickness': 28, 'Insulin': 135, 'BMI': Decimal('34.2'), 'DiabetesPedigreeFunction': Decimal('0.142'), 'Age': 22, 'Outcome': 0}, {'Pregnancies': 2, 'Glucose': 155, 'BloodPressure': 52, 'SkinThickness': 27, 'Insulin': 540, 'BMI': Decimal('38.7'), 'DiabetesPedigreeFunction': Decimal('0.240'), 'Age': 25, 'Outcome': 1}, {'Pregnancies': 2, 'Glucose': 101, 'BloodPressure': 58, 'SkinThickness': 35, 'Insulin': 90, 'BMI': Decimal('21.8'), 'DiabetesPedigreeFunction': Decimal('0.155'), 'Age': 22, 'Outcome': 0}, {'Pregnancies': 1, 'Glucose': 120, 'BloodPressure': 80, 'SkinThickness': 48, 'Insulin': 200, 'BMI': Decimal('38.9'), 'DiabetesPedigreeFunction': Decimal('1.162'), 'Age': 41, 'Outcome': 0}, {'Pregnancies': 11, 'Glucose': 127, 'BloodPressure': 106, 'SkinThickness': 0, 'Insulin': 0, 'BMI': Decimal('39.0'), 'DiabetesPedigreeFunction': Decimal('0.190'), 'Age': 51, 'Outcome': 0}, {'Pregnancies': 3, 'Glucose': 80, 'BloodPressure': 82, 'SkinThickness': 31, 'Insulin': 70, 'BMI': Decimal('34.2'), 'DiabetesPedigreeFunction': Decimal('1.292'), 'Age': 27, 'Outcome': 1}, {'Pregnancies': 10, 'Glucose': 162, 'BloodPressure': 84, 'SkinThickness': 0, 'Insulin': 0, 'BMI': Decimal('27.7'), 'DiabetesPedigreeFunction': Decimal('0.182'), 'Age': 54, 'Outcome': 0}, {'Pregnancies': 1, 'Glucose': 199, 'BloodPressure': 76, 'SkinThickness': 43, 'Insulin': 0, 'BMI': Decimal('42.9'), 'DiabetesPedigreeFunction': Decimal('1.394'), 'Age': 22, 'Outcome': 1}, {'Pregnancies': 8, 'Glucose': 167, 'BloodPressure': 106, 'SkinThickness': 46, 'Insulin': 231, 'BMI': Decimal('37.6'), 'DiabetesPedigreeFunction': Decimal('0.165'), 'Age': 43, 'Outcome': 1}, {'Pregnancies': 9, 'Glucose': 145, 'BloodPressure': 80, 'SkinThickness': 46, 'Insulin': 130, 'BMI': Decimal('37.9'), 'DiabetesPedigreeFunction': Decimal('0.637'), 'Age': 40, 'Outcome': 1}, {'Pregnancies': 6, 'Glucose': 115, 'BloodPressure': 60, 'SkinThickness': 39, 'Insulin': 0, 'BMI': Decimal('33.7'), 'DiabetesPedigreeFunction': Decimal('0.245'), 'Age': 40, 'Outcome': 1}, {'Pregnancies': 1, 'Glucose': 112, 'BloodPressure': 80, 'SkinThickness': 45, 'Insulin': 132, 'BMI': Decimal('34.8'), 'DiabetesPedigreeFunction': Decimal('0.217'), 'Age': 24, 'Outcome': 0}, {'Pregnancies': 4, 'Glucose': 145, 'BloodPressure': 82, 'SkinThickness': 18, 'Insulin': 0, 'BMI': Decimal('32.5'), 'DiabetesPedigreeFunction': Decimal('0.235'), 'Age': 70, 'Outcome': 1}, {'Pregnancies': 10, 'Glucose': 111, 'BloodPressure': 70, 'SkinThickness': 27, 'Insulin': 0, 'BMI': Decimal('27.5'), 'DiabetesPedigreeFunction': Decimal('0.141'), 'Age': 40, 'Outcome': 1}, {'Pregnancies': 6, 'Glucose': 98, 'BloodPressure': 58, 'SkinThickness': 33, 'Insulin': 190, 'BMI': Decimal('34.0'), 'DiabetesPedigreeFunction': Decimal('0.430'), 'Age': 43, 'Outcome': 0}, {'Pregnancies': 9, 'Glucose': 154, 'BloodPressure': 78, 'SkinThickness': 30, 'Insulin': 100, 'BMI': Decimal('30.9'), 'DiabetesPedigreeFunction': Decimal('0.164'), 'Age': 45, 'Outcome': 0}, {'Pregnancies': 6, 'Glucose': 165, 'BloodPressure': 68, 'SkinThickness': 26, 'Insulin': 168, 'BMI': Decimal('33.6'), 'DiabetesPedigreeFunction': Decimal('0.631'), 'Age': 49, 'Outcome': 0}, {'Pregnancies': 1, 'Glucose': 99, 'BloodPressure': 58, 'SkinThickness': 10, 'Insulin': 0, 'BMI': Decimal('25.4'), 'DiabetesPedigreeFunction': Decimal('0.551'), 'Age': 21, 'Outcome': 0}, {'Pregnancies': 10, 'Glucose': 68, 'BloodPressure': 106, 'SkinThickness': 23, 'Insulin': 49, 'BMI': Decimal('35.5'), 'DiabetesPedigreeFunction': Decimal('0.285'), 'Age': 47, 'Outcome': 0}, {'Pregnancies': 3, 'Glucose': 123, 'BloodPressure': 100, 'SkinThickness': 35, 'Insulin': 240, 'BMI': Decimal('57.3'), 'DiabetesPedigreeFunction': Decimal('0.880'), 'Age': 22, 'Outcome': 0}, {'Pregnancies': 8, 'Glucose': 91, 'BloodPressure': 82, 'SkinThickness': 0, 'Insulin': 0, 'BMI': Decimal('35.6'), 'DiabetesPedigreeFunction': Decimal('0.587'), 'Age': 68, 'Outcome': 0}, {'Pregnancies': 6, 'Glucose': 195, 'BloodPressure': 70, 'SkinThickness': 0, 'Insulin': 0, 'BMI': Decimal('30.9'), 'DiabetesPedigreeFunction': Decimal('0.328'), 'Age': 31, 'Outcome': 1}, {'Pregnancies': 9, 'Glucose': 156, 'BloodPressure': 86, 'SkinThickness': 0, 'Insulin': 0, 'BMI': Decimal('24.8'), 'DiabetesPedigreeFunction': Decimal('0.230'), 'Age': 53, 'Outcome': 1}, {'Pregnancies': 0, 'Glucose': 93, 'BloodPressure': 60, 'SkinThickness': 0, 'Insulin': 0, 'BMI': Decimal('35.3'), 'DiabetesPedigreeFunction': Decimal('0.263'), 'Age': 25, 'Outcome': 0}, {'Pregnancies': 3, 'Glucose': 121, 'BloodPressure': 52, 'SkinThickness': 0, 'Insulin': 0, 'BMI': Decimal('36.0'), 'DiabetesPedigreeFunction': Decimal('0.127'), 'Age': 25, 'Outcome': 1}, {'Pregnancies': 2, 'Glucose': 101, 'BloodPressure': 58, 'SkinThickness': 17, 'Insulin': 265, 'BMI': Decimal('24.2'), 'DiabetesPedigreeFunction': Decimal('0.614'), 'Age': 23, 'Outcome': 0}, {'Pregnancies': 2, 'Glucose': 56, 'BloodPressure': 56, 'SkinThickness': 28, 'Insulin': 45, 'BMI': Decimal('24.2'), 'DiabetesPedigreeFunction': Decimal('0.332'), 'Age': 22, 'Outcome': 0}, {'Pregnancies': 0, 'Glucose': 162, 'BloodPressure': 76, 'SkinThickness': 36, 'Insulin': 0, 'BMI': Decimal('49.6'), 'DiabetesPedigreeFunction': Decimal('0.364'), 'Age': 26, 'Outcome': 1}, {'Pregnancies': 0, 'Glucose': 95, 'BloodPressure': 64, 'SkinThickness': 39, 'Insulin': 105, 'BMI': Decimal('44.6'), 'DiabetesPedigreeFunction': Decimal('0.366'), 'Age': 22, 'Outcome': 0}, {'Pregnancies': 4, 'Glucose': 125, 'BloodPressure': 80, 'SkinThickness': 0, 'Insulin': 0, 'BMI': Decimal('32.3'), 'DiabetesPedigreeFunction': Decimal('0.536'), 'Age': 27, 'Outcome': 1}, {'Pregnancies': 5, 'Glucose': 136, 'BloodPressure': 82, 'SkinThickness': 0, 'Insulin': 0, 'BMI': Decimal('0.0'), 'DiabetesPedigreeFunction': Decimal('0.640'), 'Age': 69, 'Outcome': 0}, {'Pregnancies': 2, 'Glucose': 129, 'BloodPressure': 74, 'SkinThickness': 26, 'Insulin': 205, 'BMI': Decimal('33.2'), 'DiabetesPedigreeFunction': Decimal('0.591'), 'Age': 25, 'Outcome': 0}, {'Pregnancies': 3, 'Glucose': 130, 'BloodPressure': 64, 'SkinThickness': 0, 'Insulin': 0, 'BMI': Decimal('23.1'), 'DiabetesPedigreeFunction': Decimal('0.314'), 'Age': 22, 'Outcome': 0}, {'Pregnancies': 1, 'Glucose': 107, 'BloodPressure': 50, 'SkinThickness': 19, 'Insulin': 0, 'BMI': Decimal('28.3'), 'DiabetesPedigreeFunction': Decimal('0.181'), 'Age': 29, 'Outcome': 0}, {'Pregnancies': 1, 'Glucose': 140, 'BloodPressure': 74, 'SkinThickness': 26, 'Insulin': 180, 'BMI': Decimal('24.1'), 'DiabetesPedigreeFunction': Decimal('0.828'), 'Age': 23, 'Outcome': 0}, {'Pregnancies': 1, 'Glucose': 144, 'BloodPressure': 82, 'SkinThickness': 46, 'Insulin': 180, 'BMI': Decimal('46.1'), 'DiabetesPedigreeFunction': Decimal('0.335'), 'Age': 46, 'Outcome': 1}, {'Pregnancies': 8, 'Glucose': 107, 'BloodPressure': 80, 'SkinThickness': 0, 'Insulin': 0, 'BMI': Decimal('24.6'), 'DiabetesPedigreeFunction': Decimal('0.856'), 'Age': 34, 'Outcome': 0}, {'Pregnancies': 13, 'Glucose': 158, 'BloodPressure': 114, 'SkinThickness': 0, 'Insulin': 0, 'BMI': Decimal('42.3'), 'DiabetesPedigreeFunction': Decimal('0.257'), 'Age': 44, 'Outcome': 1}, {'Pregnancies': 2, 'Glucose': 121, 'BloodPressure': 70, 'SkinThickness': 32, 'Insulin': 95, 'BMI': Decimal('39.1'), 'DiabetesPedigreeFunction': Decimal('0.886'), 'Age': 23, 'Outcome': 0}, {'Pregnancies': 7, 'Glucose': 129, 'BloodPressure': 68, 'SkinThickness': 49, 'Insulin': 125, 'BMI': Decimal('38.5'), 'DiabetesPedigreeFunction': Decimal('0.439'), 'Age': 43, 'Outcome': 1}, {'Pregnancies': 2, 'Glucose': 90, 'BloodPressure': 60, 'SkinThickness': 0, 'Insulin': 0, 'BMI': Decimal('23.5'), 'DiabetesPedigreeFunction': Decimal('0.191'), 'Age': 25, 'Outcome': 0}, {'Pregnancies': 7, 'Glucose': 142, 'BloodPressure': 90, 'SkinThickness': 24, 'Insulin': 480, 'BMI': Decimal('30.4'), 'DiabetesPedigreeFunction': Decimal('0.128'), 'Age': 43, 'Outcome': 1}, {'Pregnancies': 3, 'Glucose': 169, 'BloodPressure': 74, 'SkinThickness': 19, 'Insulin': 125, 'BMI': Decimal('29.9'), 'DiabetesPedigreeFunction': Decimal('0.268'), 'Age': 31, 'Outcome': 1}, {'Pregnancies': 0, 'Glucose': 99, 'BloodPressure': 0, 'SkinThickness': 0, 'Insulin': 0, 'BMI': Decimal('25.0'), 'DiabetesPedigreeFunction': Decimal('0.253'), 'Age': 22, 'Outcome': 0}, {'Pregnancies': 4, 'Glucose': 127, 'BloodPressure': 88, 'SkinThickness': 11, 'Insulin': 155, 'BMI': Decimal('34.5'), 'DiabetesPedigreeFunction': Decimal('0.598'), 'Age': 28, 'Outcome': 0}, {'Pregnancies': 4, 'Glucose': 118, 'BloodPressure': 70, 'SkinThickness': 0, 'Insulin': 0, 'BMI': Decimal('44.5'), 'DiabetesPedigreeFunction': Decimal('0.904'), 'Age': 26, 'Outcome': 0}, {'Pregnancies': 2, 'Glucose': 122, 'BloodPressure': 76, 'SkinThickness': 27, 'Insulin': 200, 'BMI': Decimal('35.9'), 'DiabetesPedigreeFunction': Decimal('0.483'), 'Age': 26, 'Outcome': 0}, {'Pregnancies': 6, 'Glucose': 125, 'BloodPressure': 78, 'SkinThickness': 31, 'Insulin': 0, 'BMI': Decimal('27.6'), 'DiabetesPedigreeFunction': Decimal('0.565'), 'Age': 49, 'Outcome': 1}, {'Pregnancies': 1, 'Glucose': 168, 'BloodPressure': 88, 'SkinThickness': 29, 'Insulin': 0, 'BMI': Decimal('35.0'), 'DiabetesPedigreeFunction': Decimal('0.905'), 'Age': 52, 'Outcome': 1}, {'Pregnancies': 2, 'Glucose': 129, 'BloodPressure': 0, 'SkinThickness': 0, 'Insulin': 0, 'BMI': Decimal('38.5'), 'DiabetesPedigreeFunction': Decimal('0.304'), 'Age': 41, 'Outcome': 0}, {'Pregnancies': 4, 'Glucose': 110, 'BloodPressure': 76, 'SkinThickness': 20, 'Insulin': 100, 'BMI': Decimal('28.4'), 'DiabetesPedigreeFunction': Decimal('0.118'), 'Age': 27, 'Outcome': 0}, {'Pregnancies': 6, 'Glucose': 80, 'BloodPressure': 80, 'SkinThickness': 36, 'Insulin': 0, 'BMI': Decimal('39.8'), 'DiabetesPedigreeFunction': Decimal('0.177'), 'Age': 28, 'Outcome': 0}, {'Pregnancies': 10, 'Glucose': 115, 'BloodPressure': 0, 'SkinThickness': 0, 'Insulin': 0, 'BMI': Decimal('0.0'), 'DiabetesPedigreeFunction': Decimal('0.261'), 'Age': 30, 'Outcome': 1}, {'Pregnancies': 2, 'Glucose': 127, 'BloodPressure': 46, 'SkinThickness': 21, 'Insulin': 335, 'BMI': Decimal('34.4'), 'DiabetesPedigreeFunction': Decimal('0.176'), 'Age': 22, 'Outcome': 0}, {'Pregnancies': 9, 'Glucose': 164, 'BloodPressure': 78, 'SkinThickness': 0, 'Insulin': 0, 'BMI': Decimal('32.8'), 'DiabetesPedigreeFunction': Decimal('0.148'), 'Age': 45, 'Outcome': 1}, {'Pregnancies': 2, 'Glucose': 93, 'BloodPressure': 64, 'SkinThickness': 32, 'Insulin': 160, 'BMI': Decimal('38.0'), 'DiabetesPedigreeFunction': Decimal('0.674'), 'Age': 23, 'Outcome': 1}, {'Pregnancies': 3, 'Glucose': 158, 'BloodPressure': 64, 'SkinThickness': 13, 'Insulin': 387, 'BMI': Decimal('31.2'), 'DiabetesPedigreeFunction': Decimal('0.295'), 'Age': 24, 'Outcome': 0}, {'Pregnancies': 5, 'Glucose': 126, 'BloodPressure': 78, 'SkinThickness': 27, 'Insulin': 22, 'BMI': Decimal('29.6'), 'DiabetesPedigreeFunction': Decimal('0.439'), 'Age': 40, 'Outcome': 0}, {'Pregnancies': 10, 'Glucose': 129, 'BloodPressure': 62, 'SkinThickness': 36, 'Insulin': 0, 'BMI': Decimal('41.2'), 'DiabetesPedigreeFunction': Decimal('0.441'), 'Age': 38, 'Outcome': 1}, {'Pregnancies': 0, 'Glucose': 134, 'BloodPressure': 58, 'SkinThickness': 20, 'Insulin': 291, 'BMI': Decimal('26.4'), 'DiabetesPedigreeFunction': Decimal('0.352'), 'Age': 21, 'Outcome': 0}, {'Pregnancies': 3, 'Glucose': 102, 'BloodPressure': 74, 'SkinThickness': 0, 'Insulin': 0, 'BMI': Decimal('29.5'), 'DiabetesPedigreeFunction': Decimal('0.121'), 'Age': 32, 'Outcome': 0}, {'Pregnancies': 7, 'Glucose': 187, 'BloodPressure': 50, 'SkinThickness': 33, 'Insulin': 392, 'BMI': Decimal('33.9'), 'DiabetesPedigreeFunction': Decimal('0.826'), 'Age': 34, 'Outcome': 1}, {'Pregnancies': 3, 'Glucose': 173, 'BloodPressure': 78, 'SkinThickness': 39, 'Insulin': 185, 'BMI': Decimal('33.8'), 'DiabetesPedigreeFunction': Decimal('0.970'), 'Age': 31, 'Outcome': 1}, {'Pregnancies': 10, 'Glucose': 94, 'BloodPressure': 72, 'SkinThickness': 18, 'Insulin': 0, 'BMI': Decimal('23.1'), 'DiabetesPedigreeFunction': Decimal('0.595'), 'Age': 56, 'Outcome': 0}, {'Pregnancies': 1, 'Glucose': 108, 'BloodPressure': 60, 'SkinThickness': 46, 'Insulin': 178, 'BMI': Decimal('35.5'), 'DiabetesPedigreeFunction': Decimal('0.415'), 'Age': 24, 'Outcome': 0}, {'Pregnancies': 5, 'Glucose': 97, 'BloodPressure': 76, 'SkinThickness': 27, 'Insulin': 0, 'BMI': Decimal('35.6'), 'DiabetesPedigreeFunction': Decimal('0.378'), 'Age': 52, 'Outcome': 1}, {'Pregnancies': 4, 'Glucose': 83, 'BloodPressure': 86, 'SkinThickness': 19, 'Insulin': 0, 'BMI': Decimal('29.3'), 'DiabetesPedigreeFunction': Decimal('0.317'), 'Age': 34, 'Outcome': 0}, {'Pregnancies': 1, 'Glucose': 114, 'BloodPressure': 66, 'SkinThickness': 36, 'Insulin': 200, 'BMI': Decimal('38.1'), 'DiabetesPedigreeFunction': Decimal('0.289'), 'Age': 21, 'Outcome': 0}, {'Pregnancies': 1, 'Glucose': 149, 'BloodPressure': 68, 'SkinThickness': 29, 'Insulin': 127, 'BMI': Decimal('29.3'), 'DiabetesPedigreeFunction': Decimal('0.349'), 'Age': 42, 'Outcome': 1}, {'Pregnancies': 5, 'Glucose': 117, 'BloodPressure': 86, 'SkinThickness': 30, 'Insulin': 105, 'BMI': Decimal('39.1'), 'DiabetesPedigreeFunction': Decimal('0.251'), 'Age': 42, 'Outcome': 0}, {'Pregnancies': 1, 'Glucose': 111, 'BloodPressure': 94, 'SkinThickness': 0, 'Insulin': 0, 'BMI': Decimal('32.8'), 'DiabetesPedigreeFunction': Decimal('0.265'), 'Age': 45, 'Outcome': 0}, {'Pregnancies': 4, 'Glucose': 112, 'BloodPressure': 78, 'SkinThickness': 40, 'Insulin': 0, 'BMI': Decimal('39.4'), 'DiabetesPedigreeFunction': Decimal('0.236'), 'Age': 38, 'Outcome': 0}, {'Pregnancies': 1, 'Glucose': 116, 'BloodPressure': 78, 'SkinThickness': 29, 'Insulin': 180, 'BMI': Decimal('36.1'), 'DiabetesPedigreeFunction': Decimal('0.496'), 'Age': 25, 'Outcome': 0}, {'Pregnancies': 0, 'Glucose': 141, 'BloodPressure': 84, 'SkinThickness': 26, 'Insulin': 0, 'BMI': Decimal('32.4'), 'DiabetesPedigreeFunction': Decimal('0.433'), 'Age': 22, 'Outcome': 0}, {'Pregnancies': 2, 'Glucose': 175, 'BloodPressure': 88, 'SkinThickness': 0, 'Insulin': 0, 'BMI': Decimal('22.9'), 'DiabetesPedigreeFunction': Decimal('0.326'), 'Age': 22, 'Outcome': 0}, {'Pregnancies': 2, 'Glucose': 92, 'BloodPressure': 52, 'SkinThickness': 0, 'Insulin': 0, 'BMI': Decimal('30.1'), 'DiabetesPedigreeFunction': Decimal('0.141'), 'Age': 22, 'Outcome': 0}, {'Pregnancies': 3, 'Glucose': 130, 'BloodPressure': 78, 'SkinThickness': 23, 'Insulin': 79, 'BMI': Decimal('28.4'), 'DiabetesPedigreeFunction': Decimal('0.323'), 'Age': 34, 'Outcome': 1}, {'Pregnancies': 8, 'Glucose': 120, 'BloodPressure': 86, 'SkinThickness': 0, 'Insulin': 0, 'BMI': Decimal('28.4'), 'DiabetesPedigreeFunction': Decimal('0.259'), 'Age': 22, 'Outcome': 1}, {'Pregnancies': 2, 'Glucose': 174, 'BloodPressure': 88, 'SkinThickness': 37, 'Insulin': 120, 'BMI': Decimal('44.5'), 'DiabetesPedigreeFunction': Decimal('0.646'), 'Age': 24, 'Outcome': 1}, {'Pregnancies': 2, 'Glucose': 106, 'BloodPressure': 56, 'SkinThickness': 27, 'Insulin': 165, 'BMI': Decimal('29.0'), 'DiabetesPedigreeFunction': Decimal('0.426'), 'Age': 22, 'Outcome': 0}, {'Pregnancies': 2, 'Glucose': 105, 'BloodPressure': 75, 'SkinThickness': 0, 'Insulin': 0, 'BMI': Decimal('23.3'), 'DiabetesPedigreeFunction': Decimal('0.560'), 'Age': 53, 'Outcome': 0}, {'Pregnancies': 4, 'Glucose': 95, 'BloodPressure': 60, 'SkinThickness': 32, 'Insulin': 0, 'BMI': Decimal('35.4'), 'DiabetesPedigreeFunction': Decimal('0.284'), 'Age': 28, 'Outcome': 0}, {'Pregnancies': 0, 'Glucose': 126, 'BloodPressure': 86, 'SkinThickness': 27, 'Insulin': 120, 'BMI': Decimal('27.4'), 'DiabetesPedigreeFunction': Decimal('0.515'), 'Age': 21, 'Outcome': 0}, {'Pregnancies': 8, 'Glucose': 65, 'BloodPressure': 72, 'SkinThickness': 23, 'Insulin': 0, 'BMI': Decimal('32.0'), 'DiabetesPedigreeFunction': Decimal('0.600'), 'Age': 42, 'Outcome': 0}, {'Pregnancies': 2, 'Glucose': 99, 'BloodPressure': 60, 'SkinThickness': 17, 'Insulin': 160, 'BMI': Decimal('36.6'), 'DiabetesPedigreeFunction': Decimal('0.453'), 'Age': 21, 'Outcome': 0}, {'Pregnancies': 1, 'Glucose': 102, 'BloodPressure': 74, 'SkinThickness': 0, 'Insulin': 0, 'BMI': Decimal('39.5'), 'DiabetesPedigreeFunction': Decimal('0.293'), 'Age': 42, 'Outcome': 1}, {'Pregnancies': 11, 'Glucose': 120, 'BloodPressure': 80, 'SkinThickness': 37, 'Insulin': 150, 'BMI': Decimal('42.3'), 'DiabetesPedigreeFunction': Decimal('0.785'), 'Age': 48, 'Outcome': 1}, {'Pregnancies': 3, 'Glucose': 102, 'BloodPressure': 44, 'SkinThickness': 20, 'Insulin': 94, 'BMI': Decimal('30.8'), 'DiabetesPedigreeFunction': Decimal('0.400'), 'Age': 26, 'Outcome': 0}, {'Pregnancies': 1, 'Glucose': 109, 'BloodPressure': 58, 'SkinThickness': 18, 'Insulin': 116, 'BMI': Decimal('28.5'), 'DiabetesPedigreeFunction': Decimal('0.219'), 'Age': 22, 'Outcome': 0}, {'Pregnancies': 9, 'Glucose': 140, 'BloodPressure': 94, 'SkinThickness': 0, 'Insulin': 0, 'BMI': Decimal('32.7'), 'DiabetesPedigreeFunction': Decimal('0.734'), 'Age': 45, 'Outcome': 1}, {'Pregnancies': 13, 'Glucose': 153, 'BloodPressure': 88, 'SkinThickness': 37, 'Insulin': 140, 'BMI': Decimal('40.6'), 'DiabetesPedigreeFunction': Decimal('1.174'), 'Age': 39, 'Outcome': 0}, {'Pregnancies': 12, 'Glucose': 100, 'BloodPressure': 84, 'SkinThickness': 33, 'Insulin': 105, 'BMI': Decimal('30.0'), 'DiabetesPedigreeFunction': Decimal('0.488'), 'Age': 46, 'Outcome': 0}, {'Pregnancies': 1, 'Glucose': 147, 'BloodPressure': 94, 'SkinThickness': 41, 'Insulin': 0, 'BMI': Decimal('49.3'), 'DiabetesPedigreeFunction': Decimal('0.358'), 'Age': 27, 'Outcome': 1}, {'Pregnancies': 1, 'Glucose': 81, 'BloodPressure': 74, 'SkinThickness': 41, 'Insulin': 57, 'BMI': Decimal('46.3'), 'DiabetesPedigreeFunction': Decimal('1.096'), 'Age': 32, 'Outcome': 0}, {'Pregnancies': 3, 'Glucose': 187, 'BloodPressure': 70, 'SkinThickness': 22, 'Insulin': 200, 'BMI': Decimal('36.4'), 'DiabetesPedigreeFunction': Decimal('0.408'), 'Age': 36, 'Outcome': 1}, {'Pregnancies': 6, 'Glucose': 162, 'BloodPressure': 62, 'SkinThickness': 0, 'Insulin': 0, 'BMI': Decimal('24.3'), 'DiabetesPedigreeFunction': Decimal('0.178'), 'Age': 50, 'Outcome': 1}, {'Pregnancies': 4, 'Glucose': 136, 'BloodPressure': 70, 'SkinThickness': 0, 'Insulin': 0, 'BMI': Decimal('31.2'), 'DiabetesPedigreeFunction': Decimal('1.182'), 'Age': 22, 'Outcome': 1}, {'Pregnancies': 1, 'Glucose': 121, 'BloodPressure': 78, 'SkinThickness': 39, 'Insulin': 74, 'BMI': Decimal('39.0'), 'DiabetesPedigreeFunction': Decimal('0.261'), 'Age': 28, 'Outcome': 0}, {'Pregnancies': 3, 'Glucose': 108, 'BloodPressure': 62, 'SkinThickness': 24, 'Insulin': 0, 'BMI': Decimal('26.0'), 'DiabetesPedigreeFunction': Decimal('0.223'), 'Age': 25, 'Outcome': 0}, {'Pregnancies': 0, 'Glucose': 181, 'BloodPressure': 88, 'SkinThickness': 44, 'Insulin': 510, 'BMI': Decimal('43.3'), 'DiabetesPedigreeFunction': Decimal('0.222'), 'Age': 26, 'Outcome': 1}, {'Pregnancies': 8, 'Glucose': 154, 'BloodPressure': 78, 'SkinThickness': 32, 'Insulin': 0, 'BMI': Decimal('32.4'), 'DiabetesPedigreeFunction': Decimal('0.443'), 'Age': 45, 'Outcome': 1}, {'Pregnancies': 1, 'Glucose': 128, 'BloodPressure': 88, 'SkinThickness': 39, 'Insulin': 110, 'BMI': Decimal('36.5'), 'DiabetesPedigreeFunction': Decimal('1.057'), 'Age': 37, 'Outcome': 1}, {'Pregnancies': 7, 'Glucose': 137, 'BloodPressure': 90, 'SkinThickness': 41, 'Insulin': 0, 'BMI': Decimal('32.0'), 'DiabetesPedigreeFunction': Decimal('0.391'), 'Age': 39, 'Outcome': 0}, {'Pregnancies': 0, 'Glucose': 123, 'BloodPressure': 72, 'SkinThickness': 0, 'Insulin': 0, 'BMI': Decimal('36.3'), 'DiabetesPedigreeFunction': Decimal('0.258'), 'Age': 52, 'Outcome': 1}, {'Pregnancies': 1, 'Glucose': 106, 'BloodPressure': 76, 'SkinThickness': 0, 'Insulin': 0, 'BMI': Decimal('37.5'), 'DiabetesPedigreeFunction': Decimal('0.197'), 'Age': 26, 'Outcome': 0}, {'Pregnancies': 6, 'Glucose': 190, 'BloodPressure': 92, 'SkinThickness': 0, 'Insulin': 0, 'BMI': Decimal('35.5'), 'DiabetesPedigreeFunction': Decimal('0.278'), 'Age': 66, 'Outcome': 1}, {'Pregnancies': 2, 'Glucose': 88, 'BloodPressure': 58, 'SkinThickness': 26, 'Insulin': 16, 'BMI': Decimal('28.4'), 'DiabetesPedigreeFunction': Decimal('0.766'), 'Age': 22, 'Outcome': 0}, {'Pregnancies': 9, 'Glucose': 170, 'BloodPressure': 74, 'SkinThickness': 31, 'Insulin': 0, 'BMI': Decimal('44.0'), 'DiabetesPedigreeFunction': Decimal('0.403'), 'Age': 43, 'Outcome': 1}, {'Pregnancies': 9, 'Glucose': 89, 'BloodPressure': 62, 'SkinThickness': 0, 'Insulin': 0, 'BMI': Decimal('22.5'), 'DiabetesPedigreeFunction': Decimal('0.142'), 'Age': 33, 'Outcome': 0}, {'Pregnancies': 10, 'Glucose': 101, 'BloodPressure': 76, 'SkinThickness': 48, 'Insulin': 180, 'BMI': Decimal('32.9'), 'DiabetesPedigreeFunction': Decimal('0.171'), 'Age': 63, 'Outcome': 0}, {'Pregnancies': 2, 'Glucose': 122, 'BloodPressure': 70, 'SkinThickness': 27, 'Insulin': 0, 'BMI': Decimal('36.8'), 'DiabetesPedigreeFunction': Decimal('0.340'), 'Age': 27, 'Outcome': 0}, {'Pregnancies': 5, 'Glucose': 121, 'BloodPressure': 72, 'SkinThickness': 23, 'Insulin': 112, 'BMI': Decimal('26.2'), 'DiabetesPedigreeFunction': Decimal('0.245'), 'Age': 30, 'Outcome': 0}, {'Pregnancies': 1, 'Glucose': 126, 'BloodPressure': 60, 'SkinThickness': 0, 'Insulin': 0, 'BMI': Decimal('30.1'), 'DiabetesPedigreeFunction': Decimal('0.349'), 'Age': 47, 'Outcome': 1}, {'Pregnancies': 1, 'Glucose': 93, 'BloodPressure': 70, 'SkinThickness': 31, 'Insulin': 0, 'BMI': Decimal('30.4'), 'DiabetesPedigreeFunction': Decimal('0.315'), 'Age': 23, 'Outcome': 0}]\n"
     ]
    }
   ],
   "source": [
    "with connection.cursor() as cursor:\n",
    "        # Read a single record\n",
    "        sql = \"SELECT * FROM diabetes \"\n",
    "        cursor.execute(sql)\n",
    "        result = cursor.fetchall()\n",
    "        print(result)"
   ]
  },
  {
   "cell_type": "code",
   "execution_count": 8,
   "metadata": {},
   "outputs": [
    {
     "name": "stderr",
     "output_type": "stream",
     "text": [
      "'pymysql' is not recognized as an internal or external command,\n",
      "operable program or batch file.\n"
     ]
    }
   ],
   "source": [
    "!pymysql -V"
   ]
  },
  {
   "cell_type": "code",
   "execution_count": 2,
   "metadata": {},
   "outputs": [],
   "source": [
    "import mysql.connector"
   ]
  },
  {
   "cell_type": "code",
   "execution_count": null,
   "metadata": {
    "id": "TXff9yq3N-mU"
   },
   "outputs": [],
   "source": [
    "M1-Registration\n",
    "1-->get user input(name,ph,maildid,password)\n",
    "2-->store it in a table\n",
    "M2-->Login\n",
    "1-->get name and password\n",
    "2-->if its correct show succesful login\n",
    "3-->else foreget passord option should pop up after three attempts\n",
    "M3-->reset password\n",
    "1-->update the table with new password"
   ]
  },
  {
   "cell_type": "code",
   "execution_count": 1,
   "metadata": {
    "colab": {
     "base_uri": "https://localhost:8080/"
    },
    "id": "3JHqfqM4DcR1",
    "outputId": "86c054fd-d047-4873-8005-e300feba6d20"
   },
   "outputs": [
    {
     "name": "stdout",
     "output_type": "stream",
     "text": [
      "<mysql.connector.connection_cext.CMySQLConnection object at 0x00000251EE633BE0>\n"
     ]
    }
   ],
   "source": [
    "import mysql.connector\n",
    "\n",
    "\n",
    "mydb = mysql.connector.connect(\n",
    "  host=\"localhost\",\n",
    "  user=\"root\",\n",
    "  password=\"\",\n",
    "  database='apple'\n",
    "  \n",
    ")\n",
    "\n",
    "\n",
    "print(mydb)\n",
    "mycursor = mydb.cursor(buffered=True)\n",
    "\n",
    "#mycursor.execute(\"CREATE DATABASE guvi12\") \n",
    "#create new db CREATE DATABASE mydatabase\n",
    "#it willautomatically check if dbwith same name exists"
   ]
  },
  {
   "cell_type": "code",
   "execution_count": 2,
   "metadata": {
    "colab": {
     "base_uri": "https://localhost:8080/"
    },
    "id": "7-RW2pbLNbsH",
    "outputId": "7e9e77df-29ab-4e54-bab9-df5569eb1a3a"
   },
   "outputs": [
    {
     "name": "stdout",
     "output_type": "stream",
     "text": [
      "('apple',)\n",
      "('b1',)\n",
      "('ex1',)\n",
      "('happysunday',)\n",
      "('information_schema',)\n",
      "('mango',)\n",
      "('mysql',)\n",
      "('p8',)\n",
      "('performance_schema',)\n",
      "('phpmyadmin',)\n",
      "('production',)\n",
      "('t',)\n",
      "('test',)\n",
      "('ttt',)\n"
     ]
    }
   ],
   "source": [
    "mycursor.execute(\"SHOW DATABASES\")\n",
    "\n",
    "for x in mycursor:\n",
    "  print(x)\n",
    "\n",
    "#Show all existing db"
   ]
  },
  {
   "cell_type": "code",
   "execution_count": 5,
   "metadata": {},
   "outputs": [
    {
     "ename": "DatabaseError",
     "evalue": "1007 (HY000): Can't create database 'apple'; database exists",
     "output_type": "error",
     "traceback": [
      "\u001b[1;31m---------------------------------------------------------------------------\u001b[0m",
      "\u001b[1;31mMySQLInterfaceError\u001b[0m                       Traceback (most recent call last)",
      "File \u001b[1;32m~\\AppData\\Local\\Programs\\Python\\Python310\\lib\\site-packages\\mysql\\connector\\connection_cext.py:555\u001b[0m, in \u001b[0;36mCMySQLConnection.cmd_query\u001b[1;34m(self, query, raw, buffered, raw_as_string)\u001b[0m\n\u001b[0;32m    554\u001b[0m         query \u001b[38;5;241m=\u001b[39m query\u001b[38;5;241m.\u001b[39mencode(\u001b[38;5;124m\"\u001b[39m\u001b[38;5;124mutf-8\u001b[39m\u001b[38;5;124m\"\u001b[39m)\n\u001b[1;32m--> 555\u001b[0m     \u001b[38;5;28;43mself\u001b[39;49m\u001b[38;5;241;43m.\u001b[39;49m\u001b[43m_cmysql\u001b[49m\u001b[38;5;241;43m.\u001b[39;49m\u001b[43mquery\u001b[49m\u001b[43m(\u001b[49m\n\u001b[0;32m    556\u001b[0m \u001b[43m        \u001b[49m\u001b[43mquery\u001b[49m\u001b[43m,\u001b[49m\n\u001b[0;32m    557\u001b[0m \u001b[43m        \u001b[49m\u001b[43mraw\u001b[49m\u001b[38;5;241;43m=\u001b[39;49m\u001b[43mraw\u001b[49m\u001b[43m,\u001b[49m\n\u001b[0;32m    558\u001b[0m \u001b[43m        \u001b[49m\u001b[43mbuffered\u001b[49m\u001b[38;5;241;43m=\u001b[39;49m\u001b[43mbuffered\u001b[49m\u001b[43m,\u001b[49m\n\u001b[0;32m    559\u001b[0m \u001b[43m        \u001b[49m\u001b[43mraw_as_string\u001b[49m\u001b[38;5;241;43m=\u001b[39;49m\u001b[43mraw_as_string\u001b[49m\u001b[43m,\u001b[49m\n\u001b[0;32m    560\u001b[0m \u001b[43m        \u001b[49m\u001b[43mquery_attrs\u001b[49m\u001b[38;5;241;43m=\u001b[39;49m\u001b[38;5;28;43mself\u001b[39;49m\u001b[38;5;241;43m.\u001b[39;49m\u001b[43m_query_attrs\u001b[49m\u001b[43m,\u001b[49m\n\u001b[0;32m    561\u001b[0m \u001b[43m    \u001b[49m\u001b[43m)\u001b[49m\n\u001b[0;32m    562\u001b[0m \u001b[38;5;28;01mexcept\u001b[39;00m MySQLInterfaceError \u001b[38;5;28;01mas\u001b[39;00m err:\n",
      "\u001b[1;31mMySQLInterfaceError\u001b[0m: Can't create database 'apple'; database exists",
      "\nThe above exception was the direct cause of the following exception:\n",
      "\u001b[1;31mDatabaseError\u001b[0m                             Traceback (most recent call last)",
      "Input \u001b[1;32mIn [5]\u001b[0m, in \u001b[0;36m<cell line: 1>\u001b[1;34m()\u001b[0m\n\u001b[1;32m----> 1\u001b[0m \u001b[43mmycursor\u001b[49m\u001b[38;5;241;43m.\u001b[39;49m\u001b[43mexecute\u001b[49m\u001b[43m(\u001b[49m\u001b[38;5;124;43m\"\u001b[39;49m\u001b[38;5;124;43mcreate database apple\u001b[39;49m\u001b[38;5;124;43m\"\u001b[39;49m\u001b[43m)\u001b[49m\n",
      "File \u001b[1;32m~\\AppData\\Local\\Programs\\Python\\Python310\\lib\\site-packages\\mysql\\connector\\cursor_cext.py:276\u001b[0m, in \u001b[0;36mCMySQLCursor.execute\u001b[1;34m(self, operation, params, multi)\u001b[0m\n\u001b[0;32m    271\u001b[0m             \u001b[38;5;28;01mraise\u001b[39;00m ProgrammingError(\n\u001b[0;32m    272\u001b[0m                 \u001b[38;5;124m\"\u001b[39m\u001b[38;5;124mNot all parameters were used in the SQL statement\u001b[39m\u001b[38;5;124m\"\u001b[39m\n\u001b[0;32m    273\u001b[0m             )\n\u001b[0;32m    275\u001b[0m \u001b[38;5;28;01mtry\u001b[39;00m:\n\u001b[1;32m--> 276\u001b[0m     result \u001b[38;5;241m=\u001b[39m \u001b[38;5;28;43mself\u001b[39;49m\u001b[38;5;241;43m.\u001b[39;49m\u001b[43m_cnx\u001b[49m\u001b[38;5;241;43m.\u001b[39;49m\u001b[43mcmd_query\u001b[49m\u001b[43m(\u001b[49m\n\u001b[0;32m    277\u001b[0m \u001b[43m        \u001b[49m\u001b[43mstmt\u001b[49m\u001b[43m,\u001b[49m\n\u001b[0;32m    278\u001b[0m \u001b[43m        \u001b[49m\u001b[43mraw\u001b[49m\u001b[38;5;241;43m=\u001b[39;49m\u001b[38;5;28;43mself\u001b[39;49m\u001b[38;5;241;43m.\u001b[39;49m\u001b[43m_raw\u001b[49m\u001b[43m,\u001b[49m\n\u001b[0;32m    279\u001b[0m \u001b[43m        \u001b[49m\u001b[43mbuffered\u001b[49m\u001b[38;5;241;43m=\u001b[39;49m\u001b[38;5;28;43mself\u001b[39;49m\u001b[38;5;241;43m.\u001b[39;49m\u001b[43m_buffered\u001b[49m\u001b[43m,\u001b[49m\n\u001b[0;32m    280\u001b[0m \u001b[43m        \u001b[49m\u001b[43mraw_as_string\u001b[49m\u001b[38;5;241;43m=\u001b[39;49m\u001b[38;5;28;43mself\u001b[39;49m\u001b[38;5;241;43m.\u001b[39;49m\u001b[43m_raw_as_string\u001b[49m\u001b[43m,\u001b[49m\n\u001b[0;32m    281\u001b[0m \u001b[43m    \u001b[49m\u001b[43m)\u001b[49m\n\u001b[0;32m    282\u001b[0m \u001b[38;5;28;01mexcept\u001b[39;00m MySQLInterfaceError \u001b[38;5;28;01mas\u001b[39;00m err:\n\u001b[0;32m    283\u001b[0m     \u001b[38;5;28;01mraise\u001b[39;00m get_mysql_exception(\n\u001b[0;32m    284\u001b[0m         msg\u001b[38;5;241m=\u001b[39merr\u001b[38;5;241m.\u001b[39mmsg, errno\u001b[38;5;241m=\u001b[39merr\u001b[38;5;241m.\u001b[39merrno, sqlstate\u001b[38;5;241m=\u001b[39merr\u001b[38;5;241m.\u001b[39msqlstate\n\u001b[0;32m    285\u001b[0m     ) \u001b[38;5;28;01mfrom\u001b[39;00m \u001b[38;5;21;01merr\u001b[39;00m\n",
      "File \u001b[1;32m~\\AppData\\Local\\Programs\\Python\\Python310\\lib\\site-packages\\mysql\\connector\\connection_cext.py:563\u001b[0m, in \u001b[0;36mCMySQLConnection.cmd_query\u001b[1;34m(self, query, raw, buffered, raw_as_string)\u001b[0m\n\u001b[0;32m    555\u001b[0m     \u001b[38;5;28mself\u001b[39m\u001b[38;5;241m.\u001b[39m_cmysql\u001b[38;5;241m.\u001b[39mquery(\n\u001b[0;32m    556\u001b[0m         query,\n\u001b[0;32m    557\u001b[0m         raw\u001b[38;5;241m=\u001b[39mraw,\n\u001b[1;32m   (...)\u001b[0m\n\u001b[0;32m    560\u001b[0m         query_attrs\u001b[38;5;241m=\u001b[39m\u001b[38;5;28mself\u001b[39m\u001b[38;5;241m.\u001b[39m_query_attrs,\n\u001b[0;32m    561\u001b[0m     )\n\u001b[0;32m    562\u001b[0m \u001b[38;5;28;01mexcept\u001b[39;00m MySQLInterfaceError \u001b[38;5;28;01mas\u001b[39;00m err:\n\u001b[1;32m--> 563\u001b[0m     \u001b[38;5;28;01mraise\u001b[39;00m get_mysql_exception(\n\u001b[0;32m    564\u001b[0m         err\u001b[38;5;241m.\u001b[39merrno, msg\u001b[38;5;241m=\u001b[39merr\u001b[38;5;241m.\u001b[39mmsg, sqlstate\u001b[38;5;241m=\u001b[39merr\u001b[38;5;241m.\u001b[39msqlstate\n\u001b[0;32m    565\u001b[0m     ) \u001b[38;5;28;01mfrom\u001b[39;00m \u001b[38;5;21;01merr\u001b[39;00m\n\u001b[0;32m    566\u001b[0m \u001b[38;5;28;01mexcept\u001b[39;00m \u001b[38;5;167;01mAttributeError\u001b[39;00m \u001b[38;5;28;01mas\u001b[39;00m err:\n\u001b[0;32m    567\u001b[0m     addr \u001b[38;5;241m=\u001b[39m (\n\u001b[0;32m    568\u001b[0m         \u001b[38;5;28mself\u001b[39m\u001b[38;5;241m.\u001b[39m_unix_socket \u001b[38;5;28;01mif\u001b[39;00m \u001b[38;5;28mself\u001b[39m\u001b[38;5;241m.\u001b[39m_unix_socket \u001b[38;5;28;01melse\u001b[39;00m \u001b[38;5;124mf\u001b[39m\u001b[38;5;124m\"\u001b[39m\u001b[38;5;132;01m{\u001b[39;00m\u001b[38;5;28mself\u001b[39m\u001b[38;5;241m.\u001b[39m_host\u001b[38;5;132;01m}\u001b[39;00m\u001b[38;5;124m:\u001b[39m\u001b[38;5;132;01m{\u001b[39;00m\u001b[38;5;28mself\u001b[39m\u001b[38;5;241m.\u001b[39m_port\u001b[38;5;132;01m}\u001b[39;00m\u001b[38;5;124m\"\u001b[39m\n\u001b[0;32m    569\u001b[0m     )\n",
      "\u001b[1;31mDatabaseError\u001b[0m: 1007 (HY000): Can't create database 'apple'; database exists"
     ]
    }
   ],
   "source": [
    "mycursor.execute(\"create database apple\")"
   ]
  },
  {
   "cell_type": "code",
   "execution_count": 3,
   "metadata": {
    "id": "XRl8zWR5OW9O"
   },
   "outputs": [],
   "source": [
    "mycursor.execute(\"USE mango\")\n",
    "\n",
    "#change to another db if required"
   ]
  },
  {
   "cell_type": "code",
   "execution_count": 6,
   "metadata": {},
   "outputs": [],
   "source": [
    "mycursor.execute(\"CREATE DATABASE happysunday\")"
   ]
  },
  {
   "cell_type": "code",
   "execution_count": null,
   "metadata": {},
   "outputs": [],
   "source": [
    "mycursor.execute(\"DROP DATABASE happysunday\")"
   ]
  },
  {
   "cell_type": "code",
   "execution_count": 7,
   "metadata": {},
   "outputs": [],
   "source": [
    "a=['europe',\"usa\",\"canada\",\"india\"]\n",
    "for i in range (len(a)):\n",
    "    mycursor.execute(f\"DROP DATABASE {a[i]}\")"
   ]
  },
  {
   "cell_type": "code",
   "execution_count": 6,
   "metadata": {
    "id": "8qIkcMxQPBM-"
   },
   "outputs": [],
   "source": [
    "#renaming the databse direct is not permitted since a lot of users arein the scene\n",
    "#mycursor.execute(\"CREATE DATABASE newguvi\")\n",
    "\n",
    "mycursor.execute(\"RENAME TABLE e5.first TO d21.first\")\n",
    "\n",
    "#so create a new db and rename the old tables(it will get transferred)"
   ]
  },
  {
   "cell_type": "code",
   "execution_count": 6,
   "metadata": {
    "id": "5ZlWd5pyOmbS"
   },
   "outputs": [],
   "source": [
    "mycursor.execute(\"DROP DATABASE guvi\")\n",
    "#delete any database"
   ]
  },
  {
   "cell_type": "code",
   "execution_count": 3,
   "metadata": {},
   "outputs": [],
   "source": [
    "mycursor.execute(\"USE apple\")"
   ]
  },
  {
   "cell_type": "code",
   "execution_count": 4,
   "metadata": {},
   "outputs": [],
   "source": [
    "mycursor.execute(\"CREATE TABLE phone (name VARCHAR(20),phone INT(10),email VARCHAR(25))\")"
   ]
  },
  {
   "cell_type": "code",
   "execution_count": 6,
   "metadata": {},
   "outputs": [],
   "source": [
    "mycursor.execute(\"INSERT INTO PHONE(name,phone,email) VALUES('nethaji',1234512345,'someone@something.com')\")\n",
    "mydb.commit()"
   ]
  },
  {
   "cell_type": "code",
   "execution_count": 5,
   "metadata": {},
   "outputs": [],
   "source": [
    "mycursor.execute(\"create table signup2(FirstName varchar(30), LastName varchar(20), Email varchar(40), password1 varchar(40), Mobile int(10))\")"
   ]
  },
  {
   "cell_type": "code",
   "execution_count": 12,
   "metadata": {},
   "outputs": [],
   "source": [
    "mycursor.execute(\"INSERT INTO mango.signup2 (FirstName,LastName,Email,password1,Mobile) values('nethaji','nirmal','nethaji@gmail.com',12341234,1234512345)\")\n",
    "mydb.commit()"
   ]
  },
  {
   "cell_type": "code",
   "execution_count": null,
   "metadata": {
    "id": "b0_5d_OcT3_C"
   },
   "outputs": [],
   "source": [
    "mycursor.execute(\"CREATE TABLE yourtable1 (x INT(8) ZEROFILL)\")\n",
    "#usage of zerofill\n",
    "#if input of 22 is given output will be 00000022"
   ]
  },
  {
   "cell_type": "code",
   "execution_count": null,
   "metadata": {},
   "outputs": [],
   "source": []
  },
  {
   "cell_type": "code",
   "execution_count": 8,
   "metadata": {
    "id": "0k9V0TBdZcix"
   },
   "outputs": [],
   "source": [
    "mycursor.execute(\"CREATE TABLE lucky (salary INT(6),weight DECIMAL(3,3),insurance BOOLEAN)\")\n",
    "\n",
    "#decimal first value is total number of digits(including pre and post decimal digits) and swecond value is for after point \n",
    "#second value cannot be greater than first value"
   ]
  },
  {
   "cell_type": "code",
   "execution_count": 13,
   "metadata": {},
   "outputs": [],
   "source": [
    "mycursor.execute(\"INSERT INTO lucky (salary,weight,insurance) VALUES(123,.9387,1)\")\n",
    "mydb.commit()"
   ]
  },
  {
   "cell_type": "code",
   "execution_count": 7,
   "metadata": {},
   "outputs": [],
   "source": [
    "mycursor.execute(\"RENAME TABLE apple.phone TO apple.directory\")"
   ]
  },
  {
   "cell_type": "code",
   "execution_count": 9,
   "metadata": {
    "id": "ciAsvOI2x-RB"
   },
   "outputs": [],
   "source": [
    "#Alter table\n",
    "#add a new column at first\n",
    "mycursor.execute(\"ALTER TABLE lucky ADD covid VARCHAR(5) FIRST\")\n"
   ]
  },
  {
   "cell_type": "code",
   "execution_count": 11,
   "metadata": {
    "id": "Kcm2agyWyqii"
   },
   "outputs": [],
   "source": [
    "#alter table\n",
    "#add new column after some column name\n",
    "mycursor.execute(\"ALTER TABLE lucky ADD covid_status VARCHAR(5) t5\")\n",
    "mydb.commit()\n"
   ]
  },
  {
   "cell_type": "code",
   "execution_count": 12,
   "metadata": {
    "id": "e34vGoCuzBtm"
   },
   "outputs": [],
   "source": [
    "#DROP column example\n",
    "#The ROLLBACK command is the transactional command used to undo transactions that have not already been saved to the database.\n",
    "mycursor.execute(\"ALTER TABLE lucky DROP COLUMN covid_status \")\n",
    "#mydb.rollback()"
   ]
  },
  {
   "cell_type": "code",
   "execution_count": null,
   "metadata": {
    "id": "kjSfroAB0SUI"
   },
   "outputs": [],
   "source": [
    "#MODIFY(tochange the definition of th column)\n",
    "mycursor.execute(\"ALTER TABLE lucky MODIFY covid INT \")"
   ]
  },
  {
   "cell_type": "code",
   "execution_count": 17,
   "metadata": {},
   "outputs": [],
   "source": [
    "mycursor.execute(\"ALTER TABLE d21.first MODIFY name INT\")"
   ]
  },
  {
   "cell_type": "code",
   "execution_count": 13,
   "metadata": {
    "id": "eurBNP4a0unX"
   },
   "outputs": [],
   "source": [
    "#rename column\n",
    "mycursor.execute(\"ALTER TABLE lucky CHANGE COLUMN covid covidnew INT\")"
   ]
  },
  {
   "cell_type": "code",
   "execution_count": 11,
   "metadata": {
    "colab": {
     "base_uri": "https://localhost:8080/"
    },
    "id": "86Pa9wm-1i2T",
    "outputId": "d8de0b59-2724-4052-c41d-eaa8929be675"
   },
   "outputs": [
    {
     "name": "stdout",
     "output_type": "stream",
     "text": [
      "('directory',)\n",
      "('first',)\n",
      "('lucky',)\n"
     ]
    }
   ],
   "source": [
    "#show tables\n",
    "mycursor.execute(\"SHOW TABLES FROM apple\")\n",
    "\n",
    "\n",
    "for x in mycursor:\n",
    "  print(x)\n"
   ]
  },
  {
   "cell_type": "code",
   "execution_count": 15,
   "metadata": {
    "colab": {
     "base_uri": "https://localhost:8080/"
    },
    "id": "0h7BPh8m12xV",
    "outputId": "e95dec22-f8e9-46db-a088-d3d7967ef54e"
   },
   "outputs": [
    {
     "name": "stdout",
     "output_type": "stream",
     "text": [
      "('guvi',)\n",
      "('lucky',)\n"
     ]
    }
   ],
   "source": [
    "#show tables\n",
    "mycursor.execute(\"SHOW TABLES IN p8\")\n",
    "\n",
    "\n",
    "for x in mycursor:\n",
    "  print(x)"
   ]
  },
  {
   "cell_type": "code",
   "execution_count": 20,
   "metadata": {
    "colab": {
     "base_uri": "https://localhost:8080/"
    },
    "id": "vJT4eLTk2Jnu",
    "outputId": "f61108d1-b3db-4507-c619-d10e00c0af33"
   },
   "outputs": [
    {
     "name": "stdout",
     "output_type": "stream",
     "text": [
      "('guvi',)\n"
     ]
    }
   ],
   "source": [
    "#show tables by using where\n",
    "mycursor.execute(\"SHOW TABLES IN p8 WHERE Tables_in_p8= 'guvi' \")\n",
    "for x in mycursor:\n",
    "  print(x)"
   ]
  },
  {
   "cell_type": "code",
   "execution_count": null,
   "metadata": {
    "colab": {
     "base_uri": "https://localhost:8080/"
    },
    "id": "nRESK_pZ3Jl3",
    "outputId": "d0839f14-4370-42e4-8612-9255e2d7743b"
   },
   "outputs": [
    {
     "data": {
      "text/plain": [
       "<bound method MySQLConnection.commit of <mysql.connector.connection.MySQLConnection object at 0x7f027df94f10>>"
      ]
     },
     "execution_count": 56,
     "metadata": {},
     "output_type": "execute_result"
    }
   ],
   "source": [
    "#truncate(delete all elements without deleting the table structure)\n",
    "mycursor.execute(\"TRUNCATE test2\")\n",
    "mydb.commit"
   ]
  },
  {
   "cell_type": "code",
   "execution_count": 13,
   "metadata": {
    "id": "5iTwoAwogDIe"
   },
   "outputs": [],
   "source": [
    "mycursor.execute(\"CREATE TABLE date (date1 DATE)\")\n",
    "#mycursor.execute(\"INSERT INTO date (datein) VALUES ( CURDATE())\")"
   ]
  },
  {
   "cell_type": "code",
   "execution_count": 12,
   "metadata": {},
   "outputs": [
    {
     "name": "stdout",
     "output_type": "stream",
     "text": [
      "2022-11-23 20:24:33.513424\n"
     ]
    }
   ],
   "source": [
    "import datetime\n",
    "print(datetime.datetime.now())"
   ]
  },
  {
   "cell_type": "code",
   "execution_count": 14,
   "metadata": {
    "id": "PyYW8POwge0J"
   },
   "outputs": [],
   "source": [
    "mycursor.execute(\"INSERT INTO date (date1) VALUES ( CURDATE())\")\n",
    "mycursor.execute(\"INSERT INTO date (date1) VALUES ( CURRENT_DATE())\")\n",
    "mycursor.execute(\"INSERT INTO date (date1) VALUES (CURTIME())\")\n",
    "mycursor.execute(\"INSERT INTO date (date1) VALUES (CURRENT_TIMESTAMP())\")\n",
    "mycursor.execute(\"INSERT INTO date (date1) VALUES (CURRENT_TIME())\")\n",
    "mycursor.execute(\"INSERT INTO date (date1) VALUES (NOW())\")\n",
    "mydb.commit()\n",
    "\n",
    "#whatever date format given into DATE datatypw will consider in the sameway"
   ]
  },
  {
   "cell_type": "code",
   "execution_count": 15,
   "metadata": {
    "id": "GFDvg1STvCpi"
   },
   "outputs": [],
   "source": [
    "mycursor.execute(\"CREATE TABLE datestrin (datein VARCHAR(255))\")"
   ]
  },
  {
   "cell_type": "code",
   "execution_count": 16,
   "metadata": {
    "id": "J8_hdD6CvI9z"
   },
   "outputs": [],
   "source": [
    "mycursor.execute(\"INSERT INTO datestrin (datein) VALUES ( CURDATE())\")\n",
    "mycursor.execute(\"INSERT INTO datestrin (datein) VALUES ( CURRENT_DATE())\")\n",
    "mycursor.execute(\"INSERT INTO datestrin (datein) VALUES (CURTIME())\")\n",
    "mycursor.execute(\"INSERT INTO datestrin (datein) VALUES (CURRENT_TIMESTAMP())\")\n",
    "mycursor.execute(\"INSERT INTO datestrin (datein) VALUES (CURRENT_TIME())\")\n",
    "mycursor.execute(\"INSERT INTO datestrin (datein) VALUES (NOW())\")#date and time\n",
    "mycursor.execute(\"INSERT INTO datestrin (datein) VALUES (MONTHNAME(NOW()))\")\n",
    "mycursor.execute(\"INSERT INTO datestrin (datein) VALUES (DAYNAME(NOW()))\")\n",
    "mycursor.execute(\"INSERT INTO datestrin (datein) VALUES (HOUR(NOW()))\")\n",
    "mycursor.execute(\"INSERT INTO datestrin (datein) VALUES (MINUTE(NOW()))\")\n",
    "mycursor.execute(\"INSERT INTO datestrin (datein) VALUES (DATE_ADD(NOW(),INTERVAL -10 DAY))\")\n",
    "mycursor.execute(\"INSERT INTO datestrin (datein) VALUES (DATE_FORMAT(NOW(),'%W %D %M %Y %T %H'))\")\n",
    "mycursor.execute(\"INSERT INTO datestrin (datein) VALUES (UTC_DATE())\")#UTC_TIME,UTC_TIMESTAMP\n",
    "mydb.commit()"
   ]
  },
  {
   "cell_type": "code",
   "execution_count": 11,
   "metadata": {
    "id": "CTZwhdnIx5bY"
   },
   "outputs": [
    {
     "name": "stdout",
     "output_type": "stream",
     "text": [
      "+--------------------------------------+\n",
      "| datein                               |\n",
      "|--------------------------------------|\n",
      "| 2022-11-06                           |\n",
      "| 2022-11-06                           |\n",
      "| 13:08:42                             |\n",
      "| 2022-11-06 13:08:42                  |\n",
      "| 13:08:42                             |\n",
      "| 2022-11-06 13:08:42                  |\n",
      "| November                             |\n",
      "| Sunday                               |\n",
      "| 13                                   |\n",
      "| 8                                    |\n",
      "| 2022-10-27 13:08:42                  |\n",
      "| Sunday 6th November 2022 13:08:42 13 |\n",
      "| 2022-11-06                           |\n",
      "+--------------------------------------+\n"
     ]
    }
   ],
   "source": [
    "mycursor.execute(\"SELECT * FROM datestrin\")\n",
    "out=mycursor.fetchall()\n",
    "from tabulate import tabulate\n",
    "print(tabulate(out,headers=[i[0] for i in mycursor.description],  tablefmt='psql'))"
   ]
  },
  {
   "cell_type": "code",
   "execution_count": null,
   "metadata": {},
   "outputs": [],
   "source": [
    "!pip install tabulate"
   ]
  },
  {
   "cell_type": "code",
   "execution_count": 3,
   "metadata": {},
   "outputs": [],
   "source": [
    "mycursor.execute(\"USE apple\")"
   ]
  },
  {
   "cell_type": "code",
   "execution_count": 4,
   "metadata": {
    "id": "MzBbO68l5x3q"
   },
   "outputs": [],
   "source": [
    "mycursor.execute(\"CREATE TABLE blobtest1 (datein BLOB NOT NULL)\")"
   ]
  },
  {
   "cell_type": "code",
   "execution_count": 19,
   "metadata": {
    "id": "YLC-fUd-6GS1"
   },
   "outputs": [],
   "source": [
    "# Convert images or files data to binary format\n",
    "def convert_data(file_name):\n",
    "    with open(file_name, 'rb') as file:\n",
    "        binary_data = file.read()\n",
    "    return binary_data\n",
    "a=convert_data(r\"C:\\Users\\nethaji nirmal\\Desktop\\download.jpg\")\n",
    "#print(a)\n",
    "\n",
    "query=\"\"\"INSERT INTO blobtest1 (datein) VALUES (%s)\"\"\"\n",
    "mycursor.execute(query,[a])\n",
    "mydb.commit()\n"
   ]
  },
  {
   "cell_type": "code",
   "execution_count": 6,
   "metadata": {},
   "outputs": [
    {
     "name": "stdout",
     "output_type": "stream",
     "text": [
      "\\t to day i saturday\n"
     ]
    }
   ],
   "source": [
    "print(r\"\\t to day i saturday\")"
   ]
  },
  {
   "cell_type": "code",
   "execution_count": 12,
   "metadata": {},
   "outputs": [
    {
     "name": "stdout",
     "output_type": "stream",
     "text": [
      "njethaji\n",
      "i am guvii do mentor at njethaji\n"
     ]
    }
   ],
   "source": [
    "print(\"i am {1}i do mentor at {0}\".format(input(),\"guvi\"))"
   ]
  },
  {
   "cell_type": "code",
   "execution_count": 15,
   "metadata": {},
   "outputs": [
    {
     "name": "stdout",
     "output_type": "stream",
     "text": [
      "i am 1.028\n"
     ]
    }
   ],
   "source": [
    "a=1.0282762728\n",
    "print(\"i am %.3f\"%a)"
   ]
  },
  {
   "cell_type": "code",
   "execution_count": 20,
   "metadata": {
    "colab": {
     "base_uri": "https://localhost:8080/"
    },
    "id": "5XA3QgyQ7fmu",
    "outputId": "19e339b6-0698-45df-8e72-778eb585ecf2"
   },
   "outputs": [
    {
     "name": "stdout",
     "output_type": "stream",
     "text": [
      "Table created Successfully\n",
      "Successfully Inserted Values\n",
      "MySQL connection is closed\n"
     ]
    }
   ],
   "source": [
    "import mysql.connector\n",
    " \n",
    " \n",
    "# Convert images or files data to binary format\n",
    "def convert(file_name):\n",
    "    with open(file_name, 'rb') as file:\n",
    "        binary_data = file.read()\n",
    "    return binary_data\n",
    " \n",
    " \n",
    "try:\n",
    "    connection = mysql.connector.connect(host='localhost',\n",
    "                                         database='apple',\n",
    "                                         user='root',\n",
    "                                         password='')\n",
    "    mycursor = connection.cursor()\n",
    "    # create table query\n",
    "    #create_table = \"\"\"CREATE TABLE blob111( name VARCHAR (255) NOT NULL, profile_pic BLOB NOT NULL, \\\n",
    "   # imp_files BLOB NOT NULL) \"\"\"\n",
    " \n",
    "    # Execute the create_table query first\n",
    "   # mycursor.execute(create_table)\n",
    "    # printing successful message\n",
    "    print(\"Table created Successfully\")\n",
    " \n",
    "    query = \"\"\" INSERT INTO blob111( name, profile_pic, imp_files)VALUES ( %s,%s,%s)\"\"\"\n",
    " \n",
    "    # First Data Insertion \n",
    "    name = \"nethaji\"\n",
    "    picture = convert_data(r\"C:\\Users\\nethaji nirmal\\Desktop\\diabetes.csv\")\n",
    "    text_file = convert_data(r\"C:\\Users\\nethaji nirmal\\Desktop\\download.jpg\")\n",
    " \n",
    "    # Inserting the data in database in tuple format\n",
    "    result = mycursor.execute(\n",
    "        query, (name, picture, text_file))\n",
    "    # Committing the data\n",
    "    connection.commit()\n",
    "    print(\"Successfully Inserted Values\")\n",
    " \n",
    "# Print error if occured\n",
    "except mysql.connector.Error as error:\n",
    "    print(format(error))\n",
    " \n",
    "finally:\n",
    "   \n",
    "    # Closing all resources\n",
    "    if connection.is_connected():\n",
    "       \n",
    "        mycursor.close()\n",
    "        connection.close()\n",
    "        print(\"MySQL connection is closed\")"
   ]
  },
  {
   "cell_type": "code",
   "execution_count": 30,
   "metadata": {},
   "outputs": [
    {
     "name": "stdout",
     "output_type": "stream",
     "text": [
      "Collecting pillow\n",
      "  Downloading Pillow-9.2.0-cp310-cp310-win_amd64.whl (3.3 MB)\n",
      "     ---------------------------------------- 3.3/3.3 MB 2.1 MB/s eta 0:00:00\n",
      "Installing collected packages: pillow\n",
      "Successfully installed pillow-9.2.0\n"
     ]
    },
    {
     "name": "stderr",
     "output_type": "stream",
     "text": [
      "\n",
      "[notice] A new release of pip available: 22.2.1 -> 22.2.2\n",
      "[notice] To update, run: python.exe -m pip install --upgrade pip\n"
     ]
    }
   ],
   "source": [
    "!pip install pillow"
   ]
  },
  {
   "cell_type": "code",
   "execution_count": 41,
   "metadata": {},
   "outputs": [
    {
     "ename": "UnidentifiedImageError",
     "evalue": "cannot identify image file <_io.BytesIO object at 0x00000273533D4220>",
     "output_type": "error",
     "traceback": [
      "\u001b[1;31m---------------------------------------------------------------------------\u001b[0m",
      "\u001b[1;31mUnidentifiedImageError\u001b[0m                    Traceback (most recent call last)",
      "Input \u001b[1;32mIn [41]\u001b[0m, in \u001b[0;36m<cell line: 4>\u001b[1;34m()\u001b[0m\n\u001b[0;32m      2\u001b[0m \u001b[38;5;28;01mimport\u001b[39;00m \u001b[38;5;21;01mio\u001b[39;00m\n\u001b[0;32m      3\u001b[0m b\u001b[38;5;241m=\u001b[39mmycursor\u001b[38;5;241m.\u001b[39mexecute(\u001b[38;5;124m\"\u001b[39m\u001b[38;5;124mselect * from blobtest1\u001b[39m\u001b[38;5;124m\"\u001b[39m)\n\u001b[1;32m----> 4\u001b[0m im\u001b[38;5;241m=\u001b[39m\u001b[43mImage\u001b[49m\u001b[38;5;241;43m.\u001b[39;49m\u001b[43mopen\u001b[49m\u001b[43m(\u001b[49m\u001b[43mio\u001b[49m\u001b[38;5;241;43m.\u001b[39;49m\u001b[43mBytesIO\u001b[49m\u001b[43m(\u001b[49m\u001b[43mb\u001b[49m\u001b[43m)\u001b[49m\u001b[43m)\u001b[49m\n\u001b[0;32m      5\u001b[0m im\n",
      "File \u001b[1;32m~\\AppData\\Local\\Programs\\Python\\Python310\\lib\\site-packages\\PIL\\Image.py:3147\u001b[0m, in \u001b[0;36mopen\u001b[1;34m(fp, mode, formats)\u001b[0m\n\u001b[0;32m   3145\u001b[0m \u001b[38;5;28;01mfor\u001b[39;00m message \u001b[38;5;129;01min\u001b[39;00m accept_warnings:\n\u001b[0;32m   3146\u001b[0m     warnings\u001b[38;5;241m.\u001b[39mwarn(message)\n\u001b[1;32m-> 3147\u001b[0m \u001b[38;5;28;01mraise\u001b[39;00m UnidentifiedImageError(\n\u001b[0;32m   3148\u001b[0m     \u001b[38;5;124m\"\u001b[39m\u001b[38;5;124mcannot identify image file \u001b[39m\u001b[38;5;132;01m%r\u001b[39;00m\u001b[38;5;124m\"\u001b[39m \u001b[38;5;241m%\u001b[39m (filename \u001b[38;5;28;01mif\u001b[39;00m filename \u001b[38;5;28;01melse\u001b[39;00m fp)\n\u001b[0;32m   3149\u001b[0m )\n",
      "\u001b[1;31mUnidentifiedImageError\u001b[0m: cannot identify image file <_io.BytesIO object at 0x00000273533D4220>"
     ]
    }
   ],
   "source": [
    "from PIL import Image\n",
    "import io\n",
    "#b=mycursor.execute(\"select * from blobtest1\")\n",
    "im=Image.open(io.BytesIO(a))\n",
    "im\n"
   ]
  },
  {
   "cell_type": "code",
   "execution_count": 34,
   "metadata": {},
   "outputs": [
    {
     "name": "stdout",
     "output_type": "stream",
     "text": [
      "b'\\xff\\xd8\\xff\\xe0\\x00\\x10JFIF\\x00\\x01\\x01\\x00\\x00\\x01\\x00\\x01\\x00\\x00\\xff\\xdb\\x00\\x84\\x00\\t\\x06\\x07\\x12\\x12\\x12\\x15\\x12\\x12\\x12\\x15\\x15\\x15\\x12\\x18\\x15\\x16\\x15\\x15\\x15\\x18\\x15\\x15\\x15\\x15\\x15\\x15\\x15\\x17\\x16\\x15\\x15\\x16\\x15\\x18\\x1d(!\\x18\\x1a%\\x1d\\x15\\x15!1!%)+...\\x17 583,7(-.+\\x01\\n\\n\\n\\x0e\\r\\x0e\\x1b\\x10\\x10\\x1b-%\\x1f%+------/------------------------------------------\\xff\\xc0\\x00\\x11\\x08\\x00\\xe1\\x00\\xe1\\x03\\x01\"\\x00\\x02\\x11\\x01\\x03\\x11\\x01\\xff\\xc4\\x00\\x1c\\x00\\x00\\x02\\x02\\x03\\x01\\x01\\x00\\x00\\x00\\x00\\x00\\x00\\x00\\x00\\x00\\x00\\x00\\x01\\x04\\x05\\x02\\x03\\x06\\x07\\x08\\xff\\xc4\\x00G\\x10\\x00\\x02\\x01\\x02\\x03\\x04\\x05\\x07\\x07\\n\\x06\\x02\\x03\\x00\\x00\\x00\\x01\\x02\\x03\\x00\\x11\\x04\\x12!\\x05\\x131A\\x06\"Qaq\\x142T\\x81\\x91\\x92\\xa1\\x07\\x16#BR\\xb1\\xd23br\\x82\\x93\\xa2\\xb2\\xc1\\xd1\\xf0\\x15\\x17S\\xa3\\xe1\\xf1$\\xc25D\\xb3\\xff\\xc4\\x00\\x1a\\x01\\x01\\x00\\x03\\x01\\x01\\x01\\x00\\x00\\x00\\x00\\x00\\x00\\x00\\x00\\x00\\x00\\x00\\x02\\x03\\x04\\x01\\x05\\x06\\xff\\xc4\\x00:\\x11\\x00\\x02\\x01\\x02\\x02\\x06\\x07\\x05\\x08\\x02\\x03\\x01\\x00\\x00\\x00\\x00\\x00\\x01\\x02\\x03\\x11!1\\x04\\x12AQa\\xd1Rq\\x81\\x91\\xa1\\xb1\\xf0\\x13\\x15\"\\x92\\xc1\\x05\\x142BS\\x82\\xe1\\xf13b#C\\xc24\\xff\\xda\\x00\\x0c\\x03\\x01\\x00\\x02\\x11\\x03\\x11\\x00?\\x00\\xf3\\x1a-@\\xa7V\\x1c\\x15\\x14\\xcd*\\x00\\xa7E\\x14\\x02\\xa2\\x9d\\x14\\x02\\xa2\\x9d*\\x00\\xa2\\x9d\\x06\\x80TQE\\x00\\xe9QE\\x00\\xe8\\xa2\\x95\\x00\\xe8\\xa5E\\x00\\xe8\\xa5@\\xa0\\x1d\\x14\\xa84\\x01z(\\xa2\\x80(\\xa7J\\x80(\\xa2\\x8a\\x01\\xd5\\x86\\xc6\\xd9~PXg\\xc9\\x90)\\xf3s\\x16.\\xea\\x8a\\xa0\\\\sn\\xda\\xae\\xab\\x9e\\x8dH\\x83|\\xae\\xea\\xb9\\x96;f\\x90\\xc3|\\xb3#\\x10$\\x1a\\x83`M\\x81\\x17\\xb7\\x11\\xc6\\x80\\xcfhl4\\x82\\xdb\\xe9\\xdd3f\\xcbx\\x1f\\\\\\x86\\xcdk6\\xb6:Un3\\x04\\xc93\\xc0\\x0evGh\\xc1\\x1af*\\xc5n\\x01\\xe1{U\\xfc\\xf8\\\\++\\x06(\\xccC\\xe5f\\xc6\\xa9\\xb1`\\xf9t\\xb7+\\xa0\\xe7|\\x97\\xe6EVc\\xf1\\xca\\xb8\\xe9fR\\x1dw\\xce\\xc0\\x8e\\x0c\\xb9\\x9bP{\\xc1\\xd2\\xb8\\xefl\\x08\\xcfYE\\xb8\\xab\\xbb;-\\xee\\xd8x\\x99\\xed\\x0e\\x8cba\\x88J\\xea\\xb9H\\xbfT\\xe66\\xb07\\xb5\\xbb\\x08>\\x06\\xfc5\\xaaz\\xee\\xb6\\xff\\x00L!\\x97\\x0c\\xb1F\\xad\\x98+%\\x88\\x16R\\xca\\x16\\xe4\\xda\\xfd\\xa6\\xd76\\xbd\\x86\\x95\\xce\\x9e\\x91\\xcd\\x95T\\x08\\xc1@\\x028\\x0c\\x1dH\\x8d\\xa2\\x0c:\\xd6\\xb8Wm-\\x94_\\x85WI\\xc9\\xaf\\x89\\x19\\xf4Y\\xd5\\x9a~\\xd1n\\xb6\\x16\\xd9\\x8e\\x18d\\xf6\\xdb\\x1d\\xa5=JM\\x9d!L\\xfa\\x00A#3 ,\\x07\\x12\\x01:\\x8a{Kh<\\xe4\\x17\\n2\\x0c\\xaa\\x10eU[\\xdc(\\x17:\\x01\\xa0\\xee\\x03\\x8f\\x1a\\xb2\\xff\\x00\\x13\\x85\\xd9%\\x91n\\xc9\\x1aF\\xd1\\xee\\xd5\\xd5\\xb7b\\xcaT\\x93e\\xbd\\xb5\\xa9\\xe2\\xe7\\x15\\x92y\\xbc\\xed\\x95\\xb0\\xcd\\xdf\\x1b\\xbd\\x96\\xe2k\\xd7\\x84\"\\xdc\\xa2\\xe5\\xb9,1\\xe3\\x83\\xf2\\xebi\\x15\\xbb?f\\xc96m\\xdd\\x89L\\xba\\x13bs^\\xd6\\xe5\\xf5O\\x12*Q\\xe8\\xde*\\xccLV\\n\\x0b\\x1b\\xbc|\\x05\\xafn\\xb7e\\xcf\\xa8\\xd2\\xd9X\\x8c/\\xd2\\x0cLL\\xdb\\xc6\\x8f+!\\xb1\\x85o!\\x94\\xa8\\xe0I\\xbc@\\x03\\xc8\\x13\\xca\\xc6Y;6\\xc5?\\xf2\\xf2\\xa9r\\xa74wbc\\x8c+\\x14\\xb6PC\\tF\\x9a\\x90WS\\xc0I\\x9c\"7G\\xa7\\xcd\\x96\\xcb\\xa8b\\xa78\\xb3d\\xb5\\xc0\\xb6\\xbc\\xc0\\xd4\\x01\\xaf\\x1a\\xcf\\xe6\\xce*\\xf9w~\\xbc\\xc8\\x07\\x00I\\xb9<\\x05\\xfe\\xfa\\x89\\xb5\\xd7\\r\\x98\\x0c(\\x97%\\x8d\\xcc\\xa5I\\'1\\xb0\\x01TYB\\xe5\\xe3\\xae\\xa7\\xb2\\xa0\\xe5\\x1d\\x95\\xc0N\\xc7l\\x99\\xa1\\x01\\xa4[\\x02l\\x0ee76$h\\r\\xed\\xa1\\xe2(\\xc3l\\xb9\\x1ds\\x00l\\x05\\xee\\x03\\x1b\\x0e7b\\x05\\x97\\x81\\xe3\\xd9P@\\xab\\x98\\xf1\\x91<A$\\xd3.kp\\x16,\\xaa\\xa4\\xd8\\xa3_\\xccSqb5\\xed\\xd0\\xef\\xb0\\xea\\xb1U$eM\\x8f\\x11\\xfd\\xde\\xb1\\xad\\xb8\\xa9\\x01\"\\xdc\\x00\\n/\\xcc(\\xb5\\xebUt\\xe0Z\\x8a)P\\x0e\\x8aTP\\x0e\\x8aT\\xc5\\x00R4Ph\\x00QE:\\x01Pi\\xd2\\xa0\\n(\\xa2\\x80t\\xa9\\xd6%\\xbbh\\x0c\\xa9S\\x14\\xa8\\x00S5\\x884\\xe8\\x06)\\x1a(\\xa0\\nt\\xa9\\x9a\\x00\\xa5A\\xa2\\x80)S\\xa2\\x80/N\\x95\\x14\\x01E:W\\xa0\\n\\xce\\x08Y\\xd8\")fm\\x02\\x81rOp\\xa7\\x85\\x84\\xc8\\xe9\\x18\\xe2\\xec\\xaa<X\\x80\\t\\xee\\xd6\\xafq,\\x98Vh\\xe1\\xd1\\x90\\xba\\xb4\\xe6\\xdb\\xd7 \\xe5`\\x83\\x84KpE\\xc7[\\xbe\\xa9\\xa9SU\\xeaG\\x195~\\x1do\\x85\\xf0\\xb2\\xc5\\x96B\\t\\xadid\\xbf\\xbc;\\n\\xd8\\xf6[qvD\\x1d\\xe71\\xe3\\xafU/o]\\xabv)p\\xc3\\xaa\\x81\\x9a\\xdf]\\x8fX\\xf7\\x85\\x07*\\xf8\\x1b\\xf8\\xd5v#\\x1a\\xd6\\xb5\\xb4\\xf1\\xfeU\\x02Yu\\xbdKU\\xb7v\\xfb2\\\\\\xfb\\xdb\\\\\\x08k\\xabY.\\xdc\\xdf\\xaf\\x12\\xd2hV\\xd9\\x90\\xdcs\\x04j\\rG\\xa8\\xb8lk+_\\xdb~um1W\\xbd\\x88$\\x8b\\x83k\\x1b\\xfd\\x9e\\xfa\\x96G.C\\xa2\\x8a*@(\\xa2\\x8a\\x00\\xa2\\x8a(\\x02\\xacvf\\xd2\\xdc\\xc78Rs\\xc8#\\x0bf\\x91<\\xd2\\xc5\\xba\\xd1\\xb2\\x9ecK\\xd8\\xd5uK\\xc0l\\xd9&Y\\x992\\xdb\\x0f\\x19\\x99\\xf3\\x12\\t@\\xca\\x84-\\x81\\xbb]\\xc6\\x86\\xdc\\xf5\\xa0-\\xd7\\x1d\\x80\\xeb\\xe6\\x83L\\xe3*\\xa8\\xcaZ/\\xa3\\xb5\\x8f\\x15`D\\xa4\\xf5\\x85\\xf3\\x01\\xa8\\xb0]\\'\\x1d\\x85\\x18\\x9b\\x85>N\\xf1\\x98\\xe6\\n-\\x9a\\xf9\\x8d\\xd5l\\xb6\\xb1\\x11r\\x1ea\\xe3\\xc4\\xd3\\xc3\\x03\\xbd\\xf2#>Qv\\xca\\xa5\\xb2\\x8e\\xd6\\xb0\\xd0w\\x9aQ\\xc0\\xec\\xa5\\xd5\\x18\\xa2\\xf9\\xce\\x14\\x94_\\xd2`,8\\x8e4\\x07J\\xdbo\\x0b/Zx\\xc9f]\\xe3\\xe9\\xd538T\\x9dT\\x0b\\xdb0\\x8a\"\\x1bB\\tmW\\x89rml\\x1b>gR\\xd9\\xf7a\\xb2\\xa3!\\xdd\\xab@dIl\\xdfHN\\xeeB\\x0f/X\\x0b\\xcey$\\x96\\xbe\\xed\\xed\\xc6\\xf9\\x1a\\xd6\\xb6k\\xde\\xdfg_\\rk\\x16\\xc2\\xb8q\\x1b)G$\\x0c\\xae\\xa5\\x08\\xcd\\xc2\\xe0\\x8b\\x81\\xad\\x01\\xd0l\\xfcv\\x03*\\x99\\xe2\\xeb\\x90\\xbb\\xc0\\x8aB\\xe6[y\\x96:\\r\\r\\xc0+{\\xfdk\\xf5y\\xe9\\xe4\\xcc\\xc5\\xac\\x16\\xe7\\xcd]\\x14\\x0e\\xc0*~3bI\\x18s\\x9e)7&\\xd2\\x08\\xd8\\xb3G\\xae[\\xb2\\x95\\x06\\xd7\\xd2\\xe2\\xf5\\n,$\\x8cQB5\\xe4 &\\x84f\\xbfa<G}W\\n\\xb0\\x9cu\\xa2\\xf0\\xf4\\xfc\\xb1\\xea\\xc7\"r\\xa7(\\xbbIc\\xeb\\xeb\\x87^\\x06\\x9b\\xd3\\xad\\xaf\\x83\\x903&F\\xcc\\x97\\xcc\\xa1I\"\\xda\\x13\\xa7.\\xfe\\x15\\xb3g\\xe0\\x9ab\\xc1Y\\x17\"4\\x8c\\xceHP\\xaa@&\\xe0\\x1f\\xb4*NqQ\\xd6o\\x0eg\\x14[z\\xa9bE\\xa2\\xd5#\\x13\\x86\\xc8te\\x90i\\xd7\\x8f1K\\x9f\\xabr\\xa3]8VM\\xb3\\xe5\\t\\xbc1\\xb6\\\\\\xd9/o\\xadk\\xda\\xdc}|/\\xa7\\x1ak\\xab\\'|\\xf7\\xe1\\xd9\\x8e\\xde\\x03Q\\xde\\xd6\\xfa\\xf9\\x7fDcEf\\xb8w\\'(F\\']\\x02\\xb16\\x04\\x82mnD\\x11X\\xa4L\\xd7\\xca\\xacr\\x8b\\x9b\\x02l;M\\xb8T\\xaep\\xc6\\xd4T\\xc8\\xb6d\\x8c#b\\xb9Rf\\xca\\xae\\xd7\\xcb{\\x81s`H\\x1da\\xad\\xb5\\xe5z\\x8e\\xf07Z\\xc0\\x90\\x84\\x82\\xc0\\x12\\xb7\\xbd\\xb8\\xdbK\\xf7\\xd4T\\xa2\\xdd\\x93\\xf5{y\\xe1\\xbf\\x81\\xd7\\x16\\xb3\\xf5\\xb7\\xc8\\xd6h\\xac\\x8c-l\\xd9[.\\x9dk\\x1bk\\xc3^\\x1a\\xd6\\xb2jK2,\\xe9\\xa7\\xc3\\xc7\\x83\\x9e\\xe83\\xb4J,\\xef\\xa8\\xde2\\x87\\x12*\\x8d4\\xb8\\x00\\\\\\x8eu\\xcdb\\xb1D\\xb1srX\\x92o\\xc6\\xe4\\xde\\xf5\\xd0t\\xbb\\xa8\\xb0\\xc2M\\xda(\\xa3Fn\\xd3l\\xe1@\\xec\\x01\\x85\\xaa\\xb3\\xa3\\xfb\\x14\\xe2d7`\\xb1\\xaf\\x9c\\xccm~v\\x15\\x93Gk\\xd9*\\x92\\xcd\\xac\\xf7\\xe7\\x8f\\x0b\\xde\\xe9l\\xbd\\x8b\\xeb\\xa6\\xea:q\\xca\\xf8-\\xdf\\xd6O\\xa8\\xd9\\xb2\\xf6#\\xe2W5\\xec.\\x00\\xef\\xablODcAb\\xc4\\xb7mv[\\x1f\\x0b\\x86\\x8c\\x0c\\x92\\x07\\xb7a\\x04\\x02;-Pv\\xf6\\xdb\\xc3)\\xcb\\xbbwo\\xcd\\xfeg\\x95T\\xeb\\xcaN\\xd1/\\x8d\\x08A^G\\x9bm\\x9d\\x90b\\xd7\\x95D\\xc2\\xcbkwWm\\xb5 \\x13\\xc4\\xd9P\\x83k\\xa8&\\xfe\\xab\\xd7\\x0c\\x16\\xfc+U)\\xebG\\x1c\\xcc\\x95\\xa0\\xa3,2,g77\\x1c\\xec}\\xa3_\\x8d\\xeb\\n9\\x01\\xd8\\x07\\xddHU\\xa8\\x80\\xe8\\xa5@\\xae\\x80\\xa2\\x8a(\\x07W\\x9d\\x15\\xc6\\xc1\\x18\\xc5$\\xf24k\\x89\\xc3\\xb4*\\xea\\x86\\\\\\xacd\\x8d\\x81(\\x08\\xb8\\xb2\\x1euGRp\\x98\\x19$Y]\\x16\\xeb\\x02\\x87\\x90\\xdc\\x0c\\xa8X%\\xecN\\xba\\xb0\\xe1@v}\\x16\\xe9&\\x17\\x07\\x1b@&\\x7f\\xa3\\xc4.!f\\x10\\xcc\\xa6u\\xdd\\xa01\\x98\\xe3\\x9dr\\x90\\xca\\xc0g,\\x84\\x1b\\x91\\xadI\\xd8}0\\xc1\\xc7\\x08\\x12\\x19\\x15\\x9b\\xcbs\\xc2\\x16S\\x1f\\xfeK;&UYDY\\x00`\\x08dv\\xbf\\x02\\x00\\xbdrpt[\\x16\\xe6\\xc25\\x1dHd\\xbb\\xcb\\x0cjW\\x11}\\xc0\\x0c\\xec\\x06g\\xb1\\xb2\\xf1\\xd3\\x95m\\x87\\xa2\\xf3K\\x1c&\\x18\\xdc\\xc9\"\\xe2\\x9a@\\xed\\nG\\x97\\r*\\xc6\\xc5\\t`F\\\\\\xddl\\xf6\\xd7\\x85\\xc5\\xcds\\x00]E\\xd3P\\xb2\\xa1\\x13L#\\x8bg\\xf9<j3\\x00\\x98\\xaf\\'\\t\\x9c-\\xed|\\xdf_\\x8d\\xbb\\xaa\\x97mm\\xb5\\x9c`Y\\x9d\\xdeL<J\\x93;\\xdc\\xb1+3:\\xf5\\x8e\\xafen5\\xa9\\xba-\\x8a\\x12\\x18\\xca\\xa0\\xb4i1\\x90\\xcd\\x08\\x87u#e\\x8d\\xc4\\xc5\\xb2\\x10\\xcd\\xd5\\x1a\\xeak~\\xc6\\xe8\\xc3>\\xd0\\\\\\x0e \\x94o\\xa4\\xcf\\xbb)#)H^\\\\\\xa0\\x82T\\xb7T\\x0b_K\\xd3\\x03\\xa2\\xc6\\xed\\x0c8lK\\xc6\\xef#b\\xb3\\xad\\x8a\\x04X\\xd2G\\x0e\\xfa\\x969\\x9bK\\r\\x00\\xa9\\xfbC\\xa4P\\x9b\\x18\\xdaF+<R\\x8b\\xe7\\x0c\\x11A\\x0e\\x97g#1\\x17\\x07(U!\\xadQ\\xf6\\xc7D\\xd9#\\x8ex\\x04\\xd9\\x1a)\\xe6x\\xb1*\\x90\\xe2\"\\x8f\\x0e\\xea\\x8e\\xec\\x99\\xba\\xc8s\\x82\\x08\\xe4\\rj\\xd9\\xdd\\x0c\\xc4\\xca\\x8e\\xe4\\xc7\\x1eH#\\xc4*\\xbc\\x91)t\\x95\\xad\\x1d\\xf38\\xdd\\xdc\\\\\\xdd\\xbb\\x00\\xfa\\xc2\\xb1\\xbd\\x06\\x93\\xb5\\xdbv\\xe2\\xb7%\\xbbbK\\xc7k4\\xad2\\xa2\\xbd\\xad\\x8f^\\xf6\\xf7\\xef\\x7fE\\x81+\\t\\xb6\\xe1I%s4\\xad\\x9ed\\x94\\x12\\xb2k\\x18\\xb9\\xdd\\xd9d\\x16\"\\xf6\\x05\\x89[\\x0f6\\xab\\xf6~\\xd2\\x8d18\\x893\\x14Y\\x96uF\\x08\\x1f)\\x92@\\xc8LgC\\xa0\\xe1Rv\\xa7D\\xa5Hb\\xc4E\\xd7\\x8d\\xb0\\x90\\xe2\\xa4\\xbb\\xc4\\x1dC\\xad\\xe4+\\x15\\xc3\\x98\\xd4\\x95\\xebX\\xf1\\xe2lm\\x16~\\x8ac\\x11\\x15\\xda\\x1b\\x06h\\x94\\x8c\\xf1\\x97C9\\x02\\x1d\\xea\\x06\\xcd\\x16k\\x8b\\x16\\x03\\x8e\\xb6\\xa2\\xd0\\xa9%,\\xf1I<\\xb2V\\xb6\\xcbl\\xdd\\xe0\\x1e\\x97Q\\xdb,\\x1d\\xf6\\xed\\xbf\\x1e<\\t8\\x1d\\xb1\\x1cR<\\x8f!\\x9f>\\xe8e\\xdd$JJ\\xb0;\\xc2\\xba\\x80\\xc8\\x17\\xab\\xdaN\\xb5\\xaa-\\xa8\\xa2#\\x11\\x9eS\\x97\\x12&\\x06\\xccD\\xa8H\\xba\\xb0\\xcd\\xd57\\x05\\xed\\xa8\\xb9\\xf5\\xd4}\\xaf\\xd1\\xccN\\x193\\xcc\\x8a\\x14Hbl\\xb2E!IB\\xe6\\xdd\\xb8F9\\x18\\xa8\\xcc\\x01\\xe5U57\\xa1\\xd2r\\xd6\\xdb\\x86\\xed\\x98-\\x96X_\\x05n\\xf4\\xad\\x15\\xa4\\xcd+u\\xef\\xdb\\x9e\\xdf?\\xab\\xbfK\\x0e\\xdfF\\x9b\\x12\\xf2K\\'\\xd20\\xdc\\x9f\\xa4\\xb0\\x8ddf\\tdu+\\xa1\\x16\\xd6\\xd7\\xbd\\xebl\\xbbv\\x16i\\n\\xcb4\\x1fNg\\r\\x1a\\xdd\\xa5R\\x8a2\\x91p\\x03\\x02\\x0f\\x9dq\\xadr\\xb4Uo\\xec\\xea<r\\xb6\\xce\\x0b+p\\xfa\\x93Zm_W\\xeb\\xdf\\xc4\\xe80\\xbbe2a\\xc3I(\\xf2y\\xf7\\x8c\\x96%^3\"8\\xe0@\\x05B\\x9b\\x0b[]-[\\xf0\\xbbv%U9\\xe4\\x02?(\\xbc\\x01~\\x8f\\x11\\xbe,T\\xb9\\xcdal\\xc2\\xf7\\x07\\xcd\\xd2\\xb9\\x8a*R\\xd0iI\\xb6\\xf6\\xf5m\\xbd\\xf6\\x7f\\xb3\\xc7=\\xcdYZ+K\\xa8\\xad\\xc3\\xaf\\x87\\x1e\\x0b\\xeb|K\\xff\\x00\\xf1\\xa1\\x94F]\\xf2\\x0c\\x0e\\xe3.\\xb9w\\xe1m\\x9b-\\xed\\xc4\\x0e\\xb5s\\xd5\\x91\\xa5V\\xd1\\xd1\\xe1F\\xfa\\x9bJ\\xea\\xd6\\x95Kkl.qhg\\xc1\\x19\\x9b\\xf2\\xb0:\\xc6\\x1b\\x9c\\x88V\\xea\\x0fk.\\xa2\\xfd\\x9coj\\x95\\xb0\\xf0\\xe3\\xc8\\x83\\x15-\\x9aW\\x06\\xc0\\xd8\\x00\\x17V\\xb7!Q\\xfa,\\xf7\\x91\\xb0\\xecz\\xb8\\x95\\xc9\\xdc$^\\xb4O~:\\x1d?Z\\xbb^\\x87\\xc6\\x9eH\\x11\\xd4\\x1c\\xac\\xea\\xe1\\x87\\xd6\\xd2\\xfax\\x11Y\\xeaK\\xd9kB\\xdbS]O\\xf9O\\xe9\\x86\\x06\\x88C\\xda8\\xcbz\\xb3\\xeb\\\\\\xd3^\\xb1|\\xdfD0\\x92<\\xe2\\xcb\\x962H\"\\xe0\\x91\\xddq\\xa5\\xeb-\\xaf\\xb0\\xe7\\xdf;F\\x18\\x85&\\xc1T9\\x1d\\x84\\xa9:\\x8a\\xea\\xf1[n\\x1c>R\\xb1\\x80\\xa0\\xe5\\x04X*\\xe9v\\'\\xe1U\\xf8^\\x96g\\x91\\x88\\x11\\xe9{\\x10\\xc6\\xe4v2\\x91\\xa7v\\xa6\\xa9\\xf6\\x92r\\xd6H\\xbb\\xd9GWQ\\xb2\\xbfb\\xec\\xb9\\xd73Iqqb\\xac\\xa1I=\\xb6\\xbe\\x9e\\xc1\\\\\\x93\\xec\\xdd\\xdc\\xd2^\\xc7#\\x8e\\xa9\\xe6\\x18\\x82\\t\\xee\\xb1\\x15\\xe8s\\xed\\xb1 \\xd3\\xfek\\x99\\xda8,\\xd2I)e\\\\\\xa1x\\x90.Y@\\xb1\\xd7\\xb8r\\xb7\\x1a\\x9d\\x1a\\x93rw\\xc2\\xe5uiF\\xc9#\\x98{\\xdc\\x928\\xebJ\\xf5f\\xd8G\\x02\\xf9n\\x07\\x12\\xa4:\\x8f\\x12\\xb7\\x02\\xb4\\x18\\x81\\xe5^\\xc7\\xb2R\\xc6.\\xe6wE\\x90\\x85:\\xda\\xf8r8k\\xf7\\xd6\\x8a\\xaaQq\\xcc\\xaaQq\\xcctQEp\\x88U\\xa6\\xc1\\xdb\\x0b\\x87\\xdf+\\xc3\\xbe\\x8b\\x11\\x11\\x8aD\\xceb6\\xcc\\xae\\x19d\\x00\\xe5 \\xa8\\xe4j\\xb2\\x8bP\\x1d\\x96\\x17\\xa7\\xb9&\\xde\\x8c-\\x80\\x8a\\x08\\x84i\\x88\\x91\\x06\\\\8`\\x15\\xee\\xac$B\\r\\x8a\\xb2\\x9295A\\xf9\\xdc\\xdb\\xa3\\x10\\xc3\\xa2\\x83\\x0e\\xd0\\x87\\xaa\\xc5UF>Q!*\\x99t\\tk\\x05\\xbe\\xa3\\x98\\xaej\\x8bW,\\x0e\\xfb\\xa2]&\\x8a\\xcc\\xb2\\x88Q\\xe2\\xc2\\xc1\\x86\\x88L\\xe4E(I\\xdaY\\x1d\\x89\\x89\\xd1X]l\\x19\\x1b\\x86\\x84kTgm\\xae\\x1biI\\x8a\\x85\\xdb\\x12\\xa1\\xe6\\xc8\\xf2\\x1c\\x8f&\\xf67\\x8c\\xb9`\\xbaX\\xc8H\\xea\\x8b\\xe5\\x1a\\x0b\\xe9\\xceS\\xa5\\x81}\\xd1\\r\\xa4W\\x1f\\x04\\xb3\\xcd\\xd4\\xeb,\\xcf1w\\r\\t\\x8d\\x84\\x88\\xd7$\\x9b\\xa9 \\x0f\\xb4V\\xb7|\\xeb\\xcd\\x88\\xc5\\xcb,\\x02H\\xf1\\xab\\xbbh\\xb3\\x98\\x8aF\\xac\\xa6\\x15WPm\\x91QE\\xadcj\\xe7(\\xae\\xd8\\x17\\xbf9\\x9a\\xf7\\xdd\\x0f\\xfe;\\xfc7\\xce>nL\\xbb\\xef7\\x8f<\\x9f\\x1a\\x9d\\x8a\\xe9\\xb6r\\xf2\\x0c*,\\xd8\\x87\\xc2\\xbe&Q#\\x917\\x92\\xba:\\x84\\x8c\\x8bEr\\x8bsv\\xaeR\\x8a\\xe5\\x81q\\x8e\\xe9\\x01\\x96<Lf0<\\xab\\x16qd\\xe6\\xbeBw\\x9fF\\x06^\\xb0\\xfaO;N\\x1c5\\xd2\\x9e\\x8a\\x05t\\x01\\xa5N\\xf4\\xaf@;\\xd0)^\\x81@\\x15\\xb2\\x18\\x8b\\x1b(\\xb9\\xec\\xfb\\xc9\\xec\\x1d\\xf5\\xb3\\x0f\\x06k\\x9b\\xe5U\\xf3\\x98\\xf0\\x17\\xe0-\\xcd\\x8e\\xb6\\x1c\\xfb\\x80$l\\x96}2 \\xca\\x9c\\xc7\\xd6kp.y\\xf8p\\x1e\\xd2{\\x8d\\xec\\xbf\\xaf[\\xbb\\xecY\\x18\\xedfi\\x962\\x181gSq\\x94\\x95U#\\x87\\\\u\\x98\\xfe\\x8d\\xbb\\x89\\xae\\xe7`cD\\xd03\\x85Ur\\xd6\\x90(\\xb0/k\\xe7\\x03\\x96`o\\xe2\\xa6\\xbc\\xf4\\n\\xb4\\xd8;P\\xe1\\xdc\\x9e(\\xf6Y\\x07\\r/\\xa3\\x03\\xf6\\x97\\x8f\\xb4s\\xaa4\\x8d\\x1b^7\\x8e2^+j\\xdd\\xd5\\x85\\xee\\xb3\\xcd\\x9a(\\xcfU\\xd9\\xe4\\xfc\\xf7\\xf3\\xe0]&\\x1aL\\xcc\\x1ae\\x8e0\\xc7R\\tkip\\x0f\\x05\\xbe\\xba\\xd4=\\xa3\\x85\\x80\\xf5b\\xc4\\xb9\\x1c\\xc6PG\\x8d\\xf9U\\xe6\\xd3\\xc3\\x05\\xcd\\x9b\\\\\\xba\\x1bs\\xec6\\xe5\\xa5\\xab\\x9c\\x93\\x17\\x1a\\xdf*\\x0e?\\n\\xc5NnI8\\x96\\xcd%\\x83\\xfa\\x926s\\xa8\\xb0\\xe7omk\\xe9J\\xae\\xf8\\x10\\x05\\xf7j\\t\\xf0,-\\xed\\xbdW\\xc7\\x8a9\\xb4\\xff\\x00\\xaa\\x9d\\x89\\xc2\\xc9(\\x0e\\x8a_w\\x1d\\xdf($\\xaa\\x87 \\xb1\\xee\\xbb\\n\\xd7\\xa3E*\\xc9\\xb2\\xa5+\\xab\\x15\\x91\\x92\\r\\xc1 \\x8e\\x04h}\\xb5$bs~QC~p\\xea\\xbf\\xbc<\\xef\\xd6\\x06\\xb4\\x01L\\n\\xf5\\xdc\\x14\\x9e?\\xcf~e\\x8b\\x03{\\xe1\\xf4,\\x870\\x1a\\x9d,\\xca;Y{;\\xc5\\xc7\\x85E\\x96\\x00\\xde=\\xb5\\xb9\\t\\x04\\x10H#\\x81\\x1a\\x11\\xe0jP\\x02N@?g\\x05\\x7f\\x01\\xc1[\\xbb\\x81\\xee<MY|X\\xad\\xfb\\xba\\xf9\\xa5\\x86\\xd5\\x9b%\\xaa\\xa4\\xacS\\xf9\\x1bw{i\\xd5\\x96\\xe1\\xbe\\xcb{\\r*\\xe7\\xdd\\xe9\\xef\\xf1+\\xfb\\xbc8\\xfa\\xec*2\\xd6\\xe80\\xc5\\xd8\")fb\\x15TjI&\\xc0\\x01Z\\x85Z\\xf4fP\\xb8\\xa8\\x89 j\\xc0\\x16\\xb0\\x17de[\\x93\\xa0\\x17#\\x8e\\x95R\\x8cm\\x91\\x9d$fz1?Z\\xc26(\\xaa\\xc5c\\x9e\\t\\x1c\\x86\\x01\\x85\\x91\\x1c\\xb16<-\\xe1z\\xaa\\xdd/\\xf6k\\xae\\xd9\\xb0\\xe2\\xa3\\x9e\\x07x\\x1e8\\xe3\\x92\\x17\\x96I \\x89\\x11UJ4\\xa76\\xece\\x02\\xd2k{\\x9d-\\xaf\\x1a^\\x8fc\\xc4\\x04\\x96\\x0cC\\xc4c9r\\xe6\\x04\\x95 \\x8c\\xe0\\x8d2\\xf3\\x07\\xc0\\xd5\\xb0\\x84w&Y\\x18\\xabdW\\x08\\x97\\xfb4\\xf7\\x0b\\xcf\\xef\\xae\\xb9\\xfaM\\x01,w\\x19\\x99\\x81\\x19\\x9d\\x10\\x97\\x06\\x08b\\xeb\\x92\\xec\\xd6\\xcd\\x136R\\xcf|\\xf7&\\xe3][/m\\xe1\\xa1\\xcc\\xbb\\x87*\\xd8\\x810\\xb1K\\xa2\\xc5*<)c\\xa9!D\\xaaNa\\xf9S\\xc6\\xc0\\xd5\\xb1\\x84m\\xfe2j+\\xa2r\\xeb\\x87O\\xec\\xd6c\\n\\xbd\\xfe\\xda\\xe9\\xb1}%\\xde\\xe1\\xde\\x17\\x8e\\xce\\xe6\\xf9\\x81b\\xba\\x1c>\\\\\\xd9\\xd8\\x96l\\xb0\\xbf]\\xae\\xc35\\x86\\x84\\xdb\\x9fZ\\xd5N\\x8d7\\x9c\\x12\\xf1.\\x858<\\xe2\\x8a\\xb9E\\x89\\x1d\\x86\\x95g?\\x9c|Ma^$\\xd2Rio~g\\x9d%f\\xfa\\xc2\\xf4\\xe9S\\xa8\\x91\\x11\\xa2\\x83@\\xa0\\x00+v\\x1e\\x1c\\xc6\\xd7\\xb0\\x1a\\xb3\\x1e\\n\\xa3\\x89?\\xde\\xa4\\x81\\xce\\xb0\\x02\\xa5N2.\\xef\\x99\\xb3I\\xe3\\xf5S\\xf5A\\xd7\\xbc\\x9e\\xc1]\\xc5`\\x8b\"\\xb7\\x98\\xcf(6U\\x16E\\xf3G=x\\xb3v\\xb1\\xe7\\xea\\x1c\\x00\\xad@P\\x05f\\x05[\\x18\\xa5\\x82\\'\\x98\\x01N\\xd4Z\\xadp[\"\\xe0<\\xc4\\xc7\\x19\\x04\\x8f\\xf5\\x1c[\\xea/g\\xe7\\x1d<jR\\x9ci\\xe3.m\\xf0K6\\xfa\\x89\\xa8_\\xd6\\x0b\\xac\\xe9gl\\xcb\\x137\\x19 \\x88\\xb5\\xfbr\\xdb_eq\\x9bG\\x0cU\\xc8\\xd6\\xd5\\xd8\\xf4\\xfb\\x08\\xd8ip\\xb2\\x0f2x\\x00=\\x8aV\\xc5Tx\\x07\\xb7\\xa8\\xd7?\\x81\\xd9\\xb3b\\xe5\\x11\\xc2\\x85\\xdd\\xb9\\x0e\\n>\\xd3\\x1e\\n\\xa3\\xb6\\xbcZ0\\x954\\x93\\xee\\xfavd[ZQ\\xa8\\xdb[\\xc8x\\x0c3\\xc8\\xeb\\x14H^G6U^$\\xff\\x00!\\xdf\\xca\\xbb\\xbe\\x93D6^\\x04aA\\x07\\x13\\x8b\\xb6\\xf9\\x87(\\xd7R\\xaa~\\xcd\\xfa\\xa3\\xb6\\xeck\\xbb\\xe8oC\"\\xc0%\\xf4y\\xdcY\\xe5\\xb7\\x01\\xcd#\\xec_\\x89\\xe7\\xd8<\\x9b\\xa7\\x98\\x93\\x88\\xc6\\xcc\\xf7\\xb8F1\\xa8\\xecX\\xfa\\xbf~c\\xeb\\xad\\xfa=\\x1dyby\\xf5\\xea\\xea\\xc6\\xc8\\xa3#7Xs\\xe2\\x07.\\xfbvR\\x02\\xb5\\xc1%\\x8d\\x80$\\xf7p\\x1e\\'\\x80\\xab-\\xe8>p\\x07\\xc4k\\xed\\xe3^\\xac.)\\xe9\\xca))\\xae\\xd2\\x10\\x14\\xedSwQ\\x9e\\x17_]\\xc7\\xc7\\xfa\\xd6\\x07\\x0e90\\xf5\\xdcU\\x89\\xad\\xa6\\xdaz]\\x19\\xe5.\\xff\\x00V1\\xf2\\xb9?\\xd4\\x7fy\\xbf\\xad:[\\x9e\\xf5\\xf7\\x85\\x15\\rJ[\\xa3\\xdc_\\xed\\xa1\\xd2]\\xe5\\x00zy\\xcdd*V\\x03\\ne\\x91c\\x04.k\\x92\\xcd\\xa2\\xaa\\xaa\\x97wn\\xe5Uf>\\x15\\x8dF]#\\n\\x8b\\xdeA\\x0c\\x07!\\xec\\xad\\x9b\\xf3W\\xb1`0\\xf2\\x14H\\xcc\\xca\\xd2\\x9c\\xb1I&\\xefw#\\xdf-\\x9a5\\xebB\\x0b\\x10/\\x99\\xedq}.D<.\\xce\\x96EvD\\xb8\\x8b\\xcf\\xb9U\\xcb|\\xc6\\xd6b\\x0b7U\\xba\\xabs\\xa7\\n\\xb5Fo\\xf3\\xb2j2\\x7f\\x98\\xae\\xf2\\x93\\xddLbOu].\\xc2\\xc4X\\x1d\\xd5\\xaf\\xa9\\xcc\\xf1)A\\x95\\x9c\\x19\\x0301\\x02\\xa8\\xe4\\x17\\xca\\x08Sj\\xce\\x1d\\x85\\x88b\\xca\\xb1u\\x91\\xb22\\x97\\x8c\\x1c\\xe1KYAa\\x9f\\xaa\\x0b]n,/\\xc2\\xadT\\xe7\\xfa\\x84\\xd4%\\xd3(\\xfc\\xad\\xbb\\xa9\\xf9cwU\\xbe/f\\xcb\\x10\\r$e\\x01y#\\x17\\xb6\\xaf\\x11\\x02E\\xe3\\xc8\\xb0\\x17\\xe1\\xd8M\\x8dFZ\\xba4+<\\xaa\\xbe\\xef\\xe4\\xb1R\\xa8\\xff\\x009T\\xc6\\xe6\\xe7\\x9d\\x15\\x9c\\xe3\\xac|Ma^L\\x93Ri\\xef~f\\x16\\xac\\xda\\x01N\\x95:\\xe1\\xc1\\x1ah(\\xac\\xa3\\x15\\xd4\\xaeu+\\x92\\xb0J.X\\x8b\\x88\\xc6{r$\\x10\\x14\\x1e\\xe2\\xc5o\\xddz\\xd2I&\\xe4\\xdc\\x9dI<I<MI\"\\xd1\\x01\\xf6\\xd8\\x9fR\\x0b/\\xc5\\x9f\\xdd\\xad\\x00U\\x90Wm\\xf6w\\x7f7/\\xb6\\x1e\\xbdd *f\\x03\\x02\\xf31T\\x1c\\x05\\xd9\\x89\\xb2\\xa0\\xedf\\xe4+f\\xc6\\xd9\\xe6yV;\\xe5\\x1a\\x96o\\xb2\\x8a.\\xc7\\xfb\\xe6EYc\\xb6\\x82\\xe5\\x11D\\xb9\"\\x1a\\x85\\xfb]\\x8c\\xc7\\xeb1\\xef\\xa3\\x94\\x9c\\xbd\\x9c3\\xb5\\xdby%\\xb3\\xad\\xbb;,2\\xbbv\\xb2\\x97*N4\\xa1\\xad.\\xc5\\xbf\\x95\\xb6\\xb3\\x18\\xe2\\x86\\x1f4\\t\\xa4\\x1f]\\x87\\xd1\\xa9\\xfc\\xd4\\xfa\\xde-\\xec\\xa9\\xbb*3\\x89\\x9e8\\xa4&\\xf37\\xd2\\xb5\\xeeDj\\x0b=\\x8f.\\xaa\\xb5S#Ws\\xf2I\\x85\\x12b\\xa4f[\\x84\\x88\\x8dx]\\xd8\\x0f\\xb8\\x1a\\xb2T\\xe3J\\x0eK\\x19[7\\x9fW\\x05\\xc1Yv\\xe2y\\xfe\\xdeu\\xa6\\x94\\xb2\\xdc\\xb2\\xfe_\\x17vt\\xd0\\xc61\\xaa\\xfeW\\x1et\\xde\\x13\\x08\\x02\\xdb\\x94\\xb6T\\x00\\x8dxx\\xebWq`\\x06\\x19\\x168\\x97*\\xa0\\x00\\x11\\xa1=\\xe6\\xdcM\\\\\\xc1\\x84D\\xd1T\\n\\xdc\\xe0s\\xaf5S\\xdf\\x99\\xb5\\xcbaG\\x8d\\xdbf\\x0c<\\x92\\xca\\xa4\\x14RT\\x80l\\xc6\\xddP{\\t6\\xaf\\x04f$\\x92M\\xc9$\\x93\\xdaN\\xa4\\xd7\\xb0|\\xac\\xe37x5\\x8e\\xfa\\xcd\"\\x8f\\xd5N\\xb9\\xf8\\x85\\xf6\\xd7\\x90-z\\x9a\\x14-\\x06\\xf7\\xfd\\x0f;K\\x9d\\xe4\\x97\\xacM.\\xdc\\x00\\xe2~\\xe1\\xc7\\xfaz\\xeb1Z\\xd4\\xdc\\x96\\xf5\\x0f\\x01\\xff\\x007\\xa1\\xda\\xb5&g\\xdamz\\xd1$\\xb5\\x8e\"N\\x15\\x12Yt\\xe3\\xc7Z\\x8c\\xa5\\x818\\xc6\\xe6\\xed\\xfd\\x15\\x1b0\\xef\\xf6\\x1a*\\x9df[a\\n\\x97\\xb3\\xb1\"9\\x03\\x95\\xcc,\\xea\\xcb{fI\\x11\\xa3\\x91o\\xc8\\x94v\\x00\\xf2:\\xd5x\\xa7z\\xa1U\\xe0z*v:L,\\xf8x\\xb20\\x99\\xa5\\x11\\xb8\\x928Z\\x10\\x8e\\x1cX\\x80\\xf2f!R\\xe1s\\x04-\\x9a\\xdc\\x07\\x11\\x1fg\\xed\\xa9\\xa1Y\\x15X\\x115\\xf3\\xe6\\x17\\xb9*\\xe8H\\xb1\\x02\\xe5dq\\xad\\xc6\\xbc.\\x01\\x14T\\\\\\xf6\\xd4\\xd5t\\xb3^\\xbb\\x89*\\xabj:a\\xd2\\x19\\xadl\\xb1X\\x8b8\\xc9\\xf9D\\x08\\xf1\\xa2I\\xad\\xca\\xaa;(\\xb5\\x88\\xd3R@!.\\xdf\\xc4\\x02\\xc4=\\xb3\\xca\\xb30^\\xaa\\xb3 \\xb2\\xa9Q\\xa1@\\x00\\x19{\\x85s\\x7f\\xdf\\x1aY\\x8fo\\xc6\\xacZT\\x17\\xe4\\xf1&\\xab\\xa5\\xf9N\\x8b\\x1f\\xb5\\xa6\\x9dUe|\\xe22J\\xdc\\x0b\\x8b\\xaa\\xad\\xb4\\xe5d\\x1f\\x13\\xad\\xea\\x1a\\x8a\\xaa\\xb9\\xed4\\\\\\xf6\\xfcM[\\r>1\\xc1C\\xc5r\\'\\x1d)/\\xcb\\xe2g\\x88=c\\xe2k]\\x14\\xeb\\xce\\x93\\xbbl\\xc8\\xdd\\xdd\\xc5E:+\\x87\\x05[\\x90iZjH\\x15e5vN\\x04\\x8cP\\xb6E\\xfb(\\xbf\\xbdy?\\xf7\\xad@V\\xfcX\\xeb\\x0f\\xd0\\x8b\\xff\\x00\\xc9+H\\x15e/\\xc0\\xbdg\\x89\\xa6K\\xe2e\\xcfF\\xb4\\xf2\\xa28\\x8c4\\xb6\\xf5\\x95\\xbe\\xb5TZ\\xf5m\\xd1\\xb1\\xa6$v\\xe1f\\xf8e\\xaae:\\n\\xaa\\x8e\\x15\\xea\\xfe\\xdf#/\\xda\\x0b\\xe0\\xa7\\xfb\\xbc\\xc9\\x0b\\xc3\\x8dz\\xaf\\xc8\\xac\\x16LC\\xf2,\\x8b~\\xf0\\xa4\\x9f\\xe2\\x15\\xe4\\xd1\\x1a\\xf6\\xef\\x92xr\\xe0\\x81\\xff\\x00Q\\xdd\\xbd\\x84(\\xfe\\x1a\\xbfI\\x97\\xc0a\\xd1\\xd7\\xc6v\\xf4\\x98\\xd2\\xbd\\x04\\xd6\\x03i\\xe4_,\\x18\\xec\\xd8\\x98\\xa2\\xbf\\xe4\\xa3\\xcdn\\xf9\\x0f\\xf4A\\\\\\x01cn\\xf3\\xa0\\xf1<\\xfd\\\\}Uk\\xd3\\x8cx\\x9f\\x1d\\x88pn3\\x94\\x1e\\x11\\xf5\\x07\\xf0\\xfcj\\xbe=\\x97\\x8a\\x90+\\xc5\\x0b:\\xf2m\\x15I\\xe0lX\\x80mb=u\\xe9\\xc6p\\xa5Mk4\\xba\\xf0<\\xf9FU*;+\\x91\\xd9\\xad\\xa0\\xe0*<\\xb2\\xd5\\xa4]\\x18\\xc7>\\xbb\\x95[\\xf6\\xcb\\x17\\xfe\\xacMUm\\xdd\\x996\\x19\\xc2L\\x143(q\\x94\\x92,I\\x1d\\xda\\xddMT\\xb4\\xca3\\x96\\xa4d\\x9b\\xdc\\x9e$\\xbe\\xef8\\xab\\xc9\\x11\\xf13\\xe9X\\xdf\\xe1Pez\\x94\\x9a\\xd7T\\xaeKV\\xc8\\xdd\\xe5\\x03\\xfb\\xbd\\x15\\xa6\\xe3\\xb4S\\xa6\\xb1\\xc1\\xd5\\x86\\xc7\\xd8\\xb3b\\x8b\\x88B\\x9d\\xde\\\\\\xd9\\x98-\\xb3^\\xdf\\xc2j\\xba\\xbb\\x8f\\x92\\xff\\x00;\\x13\\xe1\\x0f\\xdf-yzmiQ\\xa1*\\x91\\xcd[>-#\\xd4\\xd1i*\\xb5c\\td\\xef\\xe4\\xd9W\\xf3#\\x19\\xf6S\\xdf\\x1f\\xd2\\x97\\xcc\\x8cg\\xd9O|\\x7fJ\\xf4,t\\xd3+]\\x14\\xb2\\x85\\xb9\\x1ajl\\xe6\\xdc/\\xc9F\\x87L\\xdc\\xebB\\xed)\\x0bd\\t\\xd6\\x00\\x125\\x04\\xf5\\x94p#A\\x95\\xaeE\\xae;\\xf9x\\xd1\\xfbOK\\x92\\xba\\xd5\\xf5\\xbf\\x13\\xd3z\\x16\\x8c\\x9d\\x9e\\xb7\\xae\\xc3\\x84\\xf9\\x91\\x8c\\xfb)\\xef\\x8f\\xe9G\\xcc\\x8cg\\xd9O|\\x7fJ\\xefF6m\\x0e\\xe8\\xeb\\x97K0#\\xce\\xb9=\\x9a\\xa8\\xf0\\xcdsYbg\\x9f*\\xb2\\xa6\\xa5\\x1c\\xb2\\xda\\xe47T \\x17\\xe6.I\\x1c\\xf2\\x9e\\xea\\xe7\\xbc\\xf4\\xbb\\xdb\\xe0\\xf5\\xfb\\x8e\\xfd\\xc7G\\xff\\x00o]\\x87\\x03\\xf3#\\x19\\xf6S\\xdf\\x1f\\xd2\\xb1\\x97\\xa1x\\xc5\\x05\\x8a\\xa5\\x80$\\xd9\\xc5\\xf4\\x17\\xaf@|l\\xc3\\x84\\x04\\xea{E\\xadm5\\x1a\\xf8\\x8d\\rM\\xc5\\xfeM\\xff\\x00E\\xbf\\x84\\xd4e\\xf6\\xb6\\x95\\x1b_W\\xcf\\xcaGW\\xd9\\xf4%{kz\\xec<B\\x9db\\xbc\\x05dk\\xe9\\xda\\xb3<%\\x90QE\\x15\\xc0*\\x94\\x9c\\x05F\\xa9P\\xf0\\x15m,\\xcbib\\xecJ\\xc5\\x8dGzE\\xf0\\x8dA\\xf8\\x83Z@\\xa9\\x12\\x8b\\xa4g\\xb32z\\xd5\\xb3}\\xd2\\x0fej\\x02\\xaf\\xa4\\xad\\x04\\xbb;\\x9d\\x8dMcr\\xdf\\xa3#\\xaf0\\xed\\xc3\\xcc>\\x02\\xb9\\xe8\\x8e\\x82\\xba>\\x8c\\x0e\\xbc\\xd7\\xe1\\xe4\\xf3_\\xc2\\xc2\\xb9xN\\xa4x\\x1fg\\x1a\\xcd\\x1f\\xfe\\x9a\\x9dP\\xff\\x00\\xd1\\x97O_\\x05?\\xdd\\xf4%Fk\\xdc\\xbeKg\\x07\\x03\\x1a\\xdfU.\\x0f\\xbeO\\xf3\\xaf\\t\\xcf\\xadzo\\xc9V-\\x966\\xec\\x0eA\\xf6\\x03\\xfc\\xeaZC\\xf8;LT\\x17\\xc4z\\xe8\\x15\\x0fk\\xe3\\x04\\x10\\xcb3p\\x89\\x1d\\xfd\\xd5&\\xa4\\xe1\\x9c0\\xbd\\xeb\\x8f\\xf9Y\\xda\\x1b\\xbd\\x9d\"\\x83c3$~ \\xb6f\\x1e\\xea\\x9a\\xcd\\x15v\\x91\\xa1\\xbb+\\x9e\\x14\\xcf\\xc5\\x98\\xeb\\xc4\\x9e\\xfe&\\xbb^\\x8a\\xf4\\x9b\\x0b\\x06\\x128\\xe6s\\xbcV\\x90\\x95\\t+X;\\xb3\\rQH\\xe7\\xdb^\\x7f1\\xd4\\x0e\\xdf\\xb8VW\\xabt\\xcd\\x12\\x9e\\x97\\x05\\n\\x97\\xb2w\\xc3\\r\\x8d}J(U\\x95\\x17\\xac\\x8fG\\x97\\xa7XE7\\xb4\\xae5\\xd3t>\\xf6+\\\\\\x7fLzA\\x1e6T\\x924t\\x08\\x99\\x08|\\xa0\\x9e\\xb17\\x01I\\xb0\\xd6\\xa8\\xdd\\xabI5\\x96\\x87\\xd9\\x944i\\xeb\\xc2\\xf7\\xcb\\x16]SJ\\xa9V:\\xb2\\xb5\\x8d8\\x86\\xa9H\\xdav\\xfd\\xd5\\x07\\x10jF\\x1d\\xb4\\xad\\xd1x\\x94\\xc9`J\\xde\\x1a+\\x1bwQV\\x95\\xdc\\xd9W\\x1d\\x1c\\xe9\\x03`\\xcc\\x85c\\x0f\\xbd\\xc9{\\xb1[d\\xcdn\\x00\\xfd\\xa3\\xec\\xaaj+\\x15Jq\\xa9\\x17\\t\\xab\\xa6n\\x84\\xe5\\t)E\\xd9\\xa3\\xb3\\xff\\x001d\\xf4d\\xfd\\xa3~\\x1a?\\xccI=\\x19?h\\x7f\\rq\\xb6\\xacmY=\\xd9\\xa2t\\x17|\\xb9\\x9a>\\xfd\\xa4t\\xdfty\\x1d\\xa7\\xf9\\x89\\'\\xa3\\'\\xed\\x1b\\xf0\\xd2\\xff\\x001d\\xf4d\\xfd\\xa1\\xfc5\\xc6\\xda\\x8bS\\xdd\\x9a\\'Aw\\xbec\\xef\\xdaGM\\xf7.Gg\\xfeb\\xc9\\xe8\\xc9\\xfbC\\xf8k\\t\\xbePdee\\xf2t\\x19\\x81\\x17\\xceM\\xae-{e\\xae>\\xd4\\xa9\\xee\\xcd\\x13\\xa0\\xbb\\xdf1\\xf7\\xed#\\xa6\\xfb\\x97!\\xa8\\xa2\\x8a+q\\x90tQJ\\x80u\\xbf\\x08\\xdcG\\xae\\xa3\\xd6Q5\\x8d\\xeap\\x96\\xac\\x93\\'\\x07i&[\\xc0.\\xae\\xbf\\xae<R\\xf9\\x87\\xbaX\\xfe\\xa8\\xad@Vp\\xb9R\\x18q\\x06\\xe3\\xb3\\xfe\\xabd\\xf1\\x00n\\xbek\\x0c\\xcb\\xe0y\\x1e\\xf0n=U\\xb1+O\\xaf\\xd7\\x95\\x9fy\\xbd+\\xa2\\xcb\\xa3\\xba\\x0cK\\x0e#\\x0f-\\xbdek\\x91sg\\x1d\\x9c=\\xb5\\xd7l\\x8e\\xac\\x18\\xa7:.\\xeb%\\xff\\x009\\xc8\\xb0\\x15\\xc6\\xe3\\x9cr\\xe5X\\xd7\\xf9\\xaa\\xbe1]\\xd1O\\xeb\\xe2d\\xd3\\xbf\"\\xe0\\xfc_\\xf0J\\x91\\xbe\\x15\\xdf|\\x96H\\xad$\\xd0\\x9f\\xae\\xaa\\xc0w\\xa9\\xb1?\\xbc+\\x82r\\x08\\x07\\xb4\\x03\\xed\\xab\\xce\\x82\\xed\\x1d\\xc62)\\x0f\\x00r7\\xe8\\xbfV\\xfe\\xd2\\x0f\\xaa\\xa7R7\\x8bG\\x9d\\x07i&{\\xe6\\x0b\\x08c\\x1a\\x12o\\xf0\\xaf0\\xf9h\\xc5\\xae\\xf2\\x0c8\\xbfT4\\xad\\xc7B\\xc7*}\\xcf\\xed\\xafY\\xc0J\\xb2\\x00A\\xff\\x00\\x8f\\x1a\\xf9\\xeb\\xe5/ko\\xf1\\xf8\\x86S\\xa0}\\xd2\\xf6e\\x8ce$z\\xc3\\x1f]f\\xa1\\x15\\xad}\\xc6\\x8a\\xaf\\xe1\\xb6\\xf3\\x96\\xcdv\\'\\x90\\xd0z\\xa8w\\xa4\\x8b\\xa5)\\rk\\xc9\\x19\\xf6\\x98f\\xa0\\xd0)\\x91P&F\\x9a\\xb6a\\x8d`\\xfcj\\xdd\\xb6pL,x\\xa2o\\x9eV\\x88\\xaf\\x82\\xe6\\x0c=\\x8d\\x7fUW\\xae\\xa3%w\\x9b\\xb1b\\x83\\x92vY+\\xfa\\xef!f\\xef\\xa7Y\\xf9d_g\\xe1Eh\\xba\\xdeg\\xc7q\\xb6\\x8a(\\xbdf5\\x814R\\xa7@\\x14\\xa9\\x9aT\\x00h\\xb5:(\\x02\\x8bR\\xa2\\x80t\\xa8\\xa7@\\x14QJ\\xf4\\x04\\xec\\x1c\\x97\\x16\\xe6>\\xea\\xb1\\x80\\x822\\x13k\\x9b\\xa9<\\x15\\xbb\\xcfa\\xb0\\x07\\xb2\\xc0\\xf25B\\x8eA\\xb8\\xe5].\\xcf\\xd93\\xcc\\xa1\\xd2&\\xb1\\xe6l\\xa0\\xf8f\"\\xe3\\xbcV\\xa8\\xd6\\xa6\\xa1\\xff\\x00$\\x94m\\xb5\\xb4\\xbc^\\x1d\\x9br\\xb3W7\\xe8\\xd2s\\xf8v\\x8bl)L\\x02\\xa1\\xcd\\x9aI\\xcb(Q\\xaf\\xd1\\xaeF\\x0f~\\x1d\\xd5\\xc6\\xcc\\x87\\xb0\\xfbA\\xf8W\\xa6\\xe3v.%\\xf0b#\\x1d\\xe4\\xde\\x86\\xb6d\\x04 L\\xb7&\\xf6=\\x9e\\x16\\xec\\xaez^\\x85\\xe2\\xf9C\\xfb\\xd1~*\\xf3\\xa9\\xe9Z=\\xe7z\\x90\\xbe\\xbc\\xbf2\\xc7\\xab\\x1c\\xbc\\xf3*\\xd3iVuV\\xac$\\xd6\\xaa\\xca-\\xef\\xc3\\x04s\\xf8f\\xba\\x0e\\xed=\\x86\\xb6\\xc51Sq\\xed\\xec<\\x8d[\\xe1\\xfa\\x1d\\x8e\\x00\\x83\\x07?\\xb7\\x17\\x0fz\\xb3=\\x0e\\xc6\\xff\\x00\\xa1\\xfb\\xf1~*\\xb9i\\xba2_\\xe5\\x8f\\xcd\\x1ef\\'\\xa2W\\xfd9|\\xb2\\xe4{\\x16\\'n\\xac[=\\xb1\\xb7\\xcaL\\x17\\x1d\\xee\\xca\\x02z\\xf3\\x11_9\\xbc\\xa5\\x9a\\xe4\\xfbk\\xd2v\\xb6\\x0f\\x1f.\\xcb\\x87\\x04!9\\x92R_\\xaf\\x16\\xb1(&=sv\\xb7\\xee\\n\\xe5S\\xa18\\xff\\x00G\\xff\\x00r/\\xc7TCK\\xd1\\xe3\\xff\\x00d~h\\xf3-\\x96\\x8f]\\xdb\\xe0\\x97\\xca\\xf9\\x14\\x84\\xd6\\x04\\xd7@z\\x17\\x8f\\xf4\\x7f\\xf7\"\\xfcu\\x89\\xe8V?\\xd1\\xff\\x00\\xdc\\x87\\xf1\\xd5\\x8fM\\xd1\\xbfR?4y\\x90Z%u\\xff\\x00\\\\\\xbeYr(A\\xa6M_\\x8e\\x85\\xe3\\xfd\\x1f\\xf7\\xe2\\xfcu\\x8c\\x9d\\x0b\\xda\\x1e\\x8f\\xfe\\xe4?\\x8e\\x9f|\\xd1\\xbfR?4y\\x8f\\xba\\xd7\\xbf\\xf8\\xe5\\xf2\\xbeG6\\xd5\\x7f:\\xab\\xec\\xb8\\xc6p\\x1d\\'r\\x12\\xe2\\xee\\x19T\\x12\\x07v\\x9a\\xf7\\x9a\\xcd:\\t\\x8f<a\\xb7\\xeb\\xc4O\\xf1T\\xd8:\\x17\\x8c\\x1a\\x18}y\\xe2\\xfcU\\x07_F\\x9bW\\xab\\x15g\\x7f\\xc5\\x1e{V\\x1eX\\x96\\xc2\\x9dx_\\xfe);\\xab~\\x19p\\xe1\\xc0\\xe3w\\x07\\xbb\\xda(\\xae\\xdf\\xe6v/\\xfd\\x1f\\xdf\\x8f\\xf1R\\xab=\\xb6\\x89\\xfa\\xb0\\xf9\\xa3\\xcc\\xaf\\xd9i\\x1f\\xa5/\\x96\\\\\\x8ez\\x8aTT\\xc0QN\\x8bP\\x08S\\xa0\\xd2\\xa0\\n(\\xa2\\x80tQzT\\x01E\\x14P\\x05\\x14Q@u\\x9d\\x00\\xd8k3\\xb4\\xd2\\x00\\xc9\\x11\\x01T\\xf02Z\\xf7#\\x98\\x00\\x8d;\\xc7ezMr?&\\xb2\\x83\\x87\\x91>\\xb2\\xc8I\\xf0e[\\x1f\\xdda\\xea\\xae\\xba\\xbe?\\xed:\\x92\\x9e\\x93%-\\x98.\\xac<\\xcf\\xa5\\xd0!\\x18\\xd0\\x8b[qaE\\x14V\\x03a\\x0fi\\xe2\\xda0\\x85W>g\\nG<\\xb9Y\\x98\\xafkYM\\x87>\\x15\\x13\\x0b\\xb7\\x15\\xec\\x02\\xb3]\\x98\\x03\\x18\\xba\\xe53\\xc9\\x14M{\\xfdm\\xdd\\xfb\\x05\\xeel*n&P\\x19A\\x0b\\xa7X\\x166\\xb6\\xb9z\\xba\\x1b\\xb7X\\x8e\\\\@\\xe7Q\\x12hK\\x02\\xb0\\xafR\\xc45\\x96\\xe0\\xc8I\\x16\\xb6\\x82\\xe5\\xaf{\\x8f8\\xf7\\xd6\\xfaP\\x8b\\xa7\\x8c\\x1b{\\xd3\\xeb\\xcf\\xc3\\xf9\\xc1\\x14I\\xb5,\\xcc0\\x9bl\\xbeR\\xd12\\xab\\xc7\\x03\\x83u9L\\xec\\xea\\x03\\x1b\\xea.\\xabk\\x0ez\\xda\\x98\\xdbA\\xb5PW\\xb40\\x07\\x8e\\xec\\x82\\n\\xbd\\xadi?\\xbey,\\xf8u\\x03,c]l\\xaa\\x82\\xc1/($w\\\\\\xb0\\xef&\\xd5\\xa4I\\x87W\\x16\\x8f(\\x0b\\xa2\\xaa\\xa6Sr\\xa33(\\xe1l\\xa8\\x05\\xce\\x97\\xe0-WF\\x94\\x1c\\x9bt\\xa5\\xc3\\xab\\xa9\\xde\\xfe9m\\xb3d\\\\\\x9d\\xbf\\x12\\xf5\\xd8n\\xc5\\xed3\\x1c\\x85\\n\\x8c\\xb7\\x89U\\xaf\\xc5\\x9d\\x80*{\\x0eSq\\xdb\\x94\\xf7]\\xc3\\xb5\\xee\\x07\\xd1\\xbb\\x13\\x90]Dj\\x0b:\\xe6\\x00\\x06}4\\xff\\x00\\xba\\xd9\\x8d\\x9d\\x14\\x02\\xd1\\x83\\x9e\\xcco\\x97C\\x19V\\xb9\\xe2\\tP\\x19\\x87\\xe8iZ\\x93\\x1d\\x10\\xb5\\xa2\\xb5\\xacN\\x88,B\\x1dE\\xedr\\x02\\x91\\xdb\\xa6\\x97\\xaa\\xe3MJ\\x9aj\\x93\\xbd\\xb3\\xbe\\x18+7k\\xdfc\\xf1\\xdb\\x81\\xd6\\xda\\x7f\\x88_\\xe3\\xa9\\x976I5U`\\xbdL\\xcc\\xae\\xb20#\\xadn\\x11>\\x9ct\\xe1Sp8\\x9d\\xe0-\\xc83\\x01\\xde\\x07\\x03\\xe3P^l9\\xd0\\xc2\\xa4\\x00\\xa1n\\xa8t\\x17U\\xd3\\x90\\x1b\\xcb\\x01\\xc4g:\\rjn\\nd7\\x08\\xb6\\xb7\\x10\\x00\\x03RE\\xf4\\xefS\\xc7]*5\\xe9\\xc5A\\xb8\\xd3k\\x8d\\xf2\\\\\\xf6\\xbe\\xde\\x16\\xec\\x1d\\xde-2U\\x14QX\\x0b\\xc2\\x8a(\\xa0<*\\x8a(\\xaf\\xbf>8(\\xa2\\x8a\\x00\\xa7J\\x81@:)Q@:(\\xa4h\\x07E*b\\x80-A\\xa0\\xd0h\\t\\xfb\\x0bl>\\x16Q\"j\\x0e\\x8e\\xa4\\xd82\\xf6w\\x1e\\xc3\\xcb\\xda+\\xd1\\xb0=.\\xc2H.d\\xdd\\x9ek +o\\xd6\\xf3O\\xa8\\xd7\\x95Z\\x8b\\xd6\\x1d+\\xec\\xfaZC\\xd6\\x95\\xd3\\xde\\xbdw\\x7fF\\xbd\\x1fL\\xa9AZ8\\xad\\xcc\\xf5\\xff\\x00\\x9cx?I\\x8b\\xde\\x14|\\xe3\\xc1\\xfaL^\\xf0\\xaf\\x1f\\xa2\\xb1\\xfb\\x8e\\x8fJ^\\x1c\\x8d^\\xf5\\xa9\\xd1^\\'\\xb0\\x1e\\x91`\\xfd&/xQ\\xf3\\x8b\\x07\\xe9\\x11{\\xc2\\xbc|\\xd1Oq\\xd2\\xe9\\xcb\\xc3\\x91\\xcfz\\xd4\\xe8\\xaf\\x1eg\\xb0|\\xe2\\xc1\\xfaD^\\xf0\\xa5\\xf3\\x87\\x07\\xe9\\x11{\\xc2\\xbc\\x84V4\\xf7\\x1d\\x1e\\x94\\xbc9\\x0fz\\xd4\\xe8\\xaf\\x1eg\\xb0\\x0e\\x91`\\xfd\".\\x7fXs\\xe3G\\xce\\x1c\\x1f\\xa4E\\xef\\x0eU\\xe4\\x14S\\xdc\\x94\\xbar\\xf0\\xe4w\\xde\\xb5:+\\xc7\\x99\\xeb\\xcd\\xb7\\xf0D[\\xca\"\\xd6\\xff\\x00Xs\\xe3\\xf7\\xd6C\\xa4X1\\xff\\x00\\xd8\\x8b\\xde\\x15\\xe3\\xf4\\x1a{\\x92\\x97N^\\x1c\\x8e{\\xd6\\xa7Ex\\xf3=\\x83\\xe7\\x1e\\x0f\\xd2b\\xf7\\x85\\x1f8\\xf0~\\x93\\x17\\xbc+\\xc8\\x05*{\\x8e\\x8fJ^\\x1c\\x8e\\xfb\\xd6}\\x14z\\xff\\x00\\xceL\\x1f\\xa4\\xc5\\xef\\nu\\xe4\\x16\\xa2\\x9e\\xe3\\xa3\\xd2\\x97\\x87#\\x9e\\xf5\\xa9\\xd1^<\\xc5E\\x14W\\xb4ycZtQ@!HQE\\x00QE\\x14\\x03\\xa4h\\xa2\\x80(\\xa2\\x8a\\x01\\x8a(\\xa2\\x80u\\x8d\\x14P\\x0cPh\\xa2\\x80F\\x8a(\\xa0\\n(\\xa2\\x80t\\n(\\xa0\\x15:(\\xa0\\nB\\x8a(\\x0c\\xe8\\xa2\\x8a\\x03\\xff\\xd9'\n"
     ]
    }
   ],
   "source": [
    "print(a)"
   ]
  },
  {
   "cell_type": "markdown",
   "metadata": {
    "id": "B5q_vMaU33wT"
   },
   "source": [
    "#select and view\n"
   ]
  },
  {
   "cell_type": "code",
   "execution_count": 14,
   "metadata": {
    "colab": {
     "base_uri": "https://localhost:8080/"
    },
    "id": "6M7Pt3Mtq9Mp",
    "outputId": "4028b178-e798-4d5e-9022-decbdbb41a51"
   },
   "outputs": [
    {
     "name": "stdout",
     "output_type": "stream",
     "text": [
      "Requirement already satisfied: tabulate in c:\\users\\nethaji nirmal\\appdata\\local\\programs\\python\\python310\\lib\\site-packages (0.8.10)\n"
     ]
    },
    {
     "name": "stderr",
     "output_type": "stream",
     "text": [
      "\n",
      "[notice] A new release of pip available: 22.2.1 -> 22.2.2\n",
      "[notice] To update, run: python.exe -m pip install --upgrade pip\n"
     ]
    }
   ],
   "source": [
    "!pip install tabulate"
   ]
  },
  {
   "cell_type": "code",
   "execution_count": 24,
   "metadata": {},
   "outputs": [
    {
     "name": "stdout",
     "output_type": "stream",
     "text": [
      "+-------+-------+\n",
      "|   Age |   BMI |\n",
      "|-------+-------|\n",
      "|    50 |  33.6 |\n",
      "|    31 |  26.6 |\n",
      "|    32 |  23.3 |\n",
      "|    21 |  28.1 |\n",
      "|    33 |  43.1 |\n",
      "|    30 |  25.6 |\n",
      "|    26 |  31   |\n",
      "|    29 |  35.3 |\n",
      "|    53 |  30.5 |\n",
      "|    54 |   0   |\n",
      "+-------+-------+\n"
     ]
    }
   ],
   "source": [
    "mycursor.execute(\"SELECT Age,BMI FROM diabetes limit 10\")\n",
    "out=mycursor.fetchall()\n",
    "from tabulate import tabulate\n",
    "print(tabulate(out,headers=[i[0] for i in mycursor.description],  tablefmt='psql'))"
   ]
  },
  {
   "cell_type": "code",
   "execution_count": 39,
   "metadata": {
    "colab": {
     "base_uri": "https://localhost:8080/"
    },
    "id": "1Tm5SZp932-r",
    "outputId": "c7b62cd6-686c-4b4d-b79a-d163cdc8449e"
   },
   "outputs": [
    {
     "name": "stdout",
     "output_type": "stream",
     "text": [
      "+----------------------+\n",
      "|   count(Pregnancies) |\n",
      "|----------------------|\n",
      "|                   19 |\n",
      "+----------------------+\n"
     ]
    }
   ],
   "source": [
    "#mycursor.execute(\"SELECT Age FROM diabetes WHERE Pregnancies=14\")\n",
    "#mycursor.execute(\"select count(Age) from diabetes where Pregnancies =6\")\n",
    "mycursor.execute(\"select count(Pregnancies) from diabetes where outcome = 1 and Pregnancies = 2 \")\n",
    "\n",
    "#mycursor.execute(\"SELECT Insulin,BMI,Age FROM diabetes\")\n",
    "#mycursor.execute(\"SELECT count( * ) as total_record FROM diabetes\")\n",
    "out=mycursor.fetchall()\n",
    "from tabulate import tabulate\n",
    "print(tabulate(out,headers=[i[0] for i in mycursor.description],  tablefmt='psql'))"
   ]
  },
  {
   "cell_type": "code",
   "execution_count": null,
   "metadata": {},
   "outputs": [
    {
     "name": "stdout",
     "output_type": "stream",
     "text": [
      "\n",
      "Welcome to Python 3.10's help utility!\n",
      "\n",
      "If this is your first time using Python, you should definitely check out\n",
      "the tutorial on the internet at https://docs.python.org/3.10/tutorial/.\n",
      "\n",
      "Enter the name of any module, keyword, or topic to get help on writing\n",
      "Python programs and using Python modules.  To quit this help utility and\n",
      "return to the interpreter, just type \"quit\".\n",
      "\n",
      "To get a list of available modules, keywords, symbols, or topics, type\n",
      "\"modules\", \"keywords\", \"symbols\", or \"topics\".  Each module also comes\n",
      "with a one-line summary of what it does; to list the modules whose name\n",
      "or summary contain a given string such as \"spam\", type \"modules spam\".\n",
      "\n",
      "help> tabulate\n",
      "Help on module tabulate:\n",
      "\n",
      "NAME\n",
      "    tabulate - Pretty-print tabular data.\n",
      "\n",
      "FUNCTIONS\n",
      "    simple_separated_format(separator)\n",
      "        Construct a simple TableFormat with columns separated by a separator.\n",
      "        \n",
      "        >>> tsv = simple_separated_format(\"\\t\") ;         tabulate([[\"foo\", 1], [\"spam\", 23]], tablefmt=tsv) == 'foo \\t 1\\nspam\\t23'\n",
      "        True\n",
      "    \n",
      "    tabulate(tabular_data, headers=(), tablefmt='simple', floatfmt='g', numalign='default', stralign='default', missingval='', showindex='default', disable_numparse=False, colalign=None, maxcolwidths=None)\n",
      "        Format a fixed width table for pretty printing.\n",
      "        \n",
      "        >>> print(tabulate([[1, 2.34], [-56, \"8.999\"], [\"2\", \"10001\"]]))\n",
      "        ---  ---------\n",
      "          1      2.34\n",
      "        -56      8.999\n",
      "          2  10001\n",
      "        ---  ---------\n",
      "        \n",
      "        The first required argument (`tabular_data`) can be a\n",
      "        list-of-lists (or another iterable of iterables), a list of named\n",
      "        tuples, a dictionary of iterables, an iterable of dictionaries,\n",
      "        a two-dimensional NumPy array, NumPy record array, or a Pandas'\n",
      "        dataframe.\n",
      "        \n",
      "        \n",
      "        Table headers\n",
      "        -------------\n",
      "        \n",
      "        To print nice column headers, supply the second argument (`headers`):\n",
      "        \n",
      "          - `headers` can be an explicit list of column headers\n",
      "          - if `headers=\"firstrow\"`, then the first row of data is used\n",
      "          - if `headers=\"keys\"`, then dictionary keys or column indices are used\n",
      "        \n",
      "        Otherwise a headerless table is produced.\n",
      "        \n",
      "        If the number of headers is less than the number of columns, they\n",
      "        are supposed to be names of the last columns. This is consistent\n",
      "        with the plain-text format of R and Pandas' dataframes.\n",
      "        \n",
      "        >>> print(tabulate([[\"sex\",\"age\"],[\"Alice\",\"F\",24],[\"Bob\",\"M\",19]],\n",
      "        ...       headers=\"firstrow\"))\n",
      "               sex      age\n",
      "        -----  -----  -----\n",
      "        Alice  F         24\n",
      "        Bob    M         19\n",
      "        \n",
      "        By default, pandas.DataFrame data have an additional column called\n",
      "        row index. To add a similar column to all other types of data,\n",
      "        use `showindex=\"always\"` or `showindex=True`. To suppress row indices\n",
      "        for all types of data, pass `showindex=\"never\" or `showindex=False`.\n",
      "        To add a custom row index column, pass `showindex=some_iterable`.\n",
      "        \n",
      "        >>> print(tabulate([[\"F\",24],[\"M\",19]], showindex=\"always\"))\n",
      "        -  -  --\n",
      "        0  F  24\n",
      "        1  M  19\n",
      "        -  -  --\n",
      "        \n",
      "        \n",
      "        Column alignment\n",
      "        ----------------\n",
      "        \n",
      "        `tabulate` tries to detect column types automatically, and aligns\n",
      "        the values properly. By default it aligns decimal points of the\n",
      "        numbers (or flushes integer numbers to the right), and flushes\n",
      "        everything else to the left. Possible column alignments\n",
      "        (`numalign`, `stralign`) are: \"right\", \"center\", \"left\", \"decimal\"\n",
      "        (only for `numalign`), and None (to disable alignment).\n",
      "        \n",
      "        \n",
      "        Table formats\n",
      "        -------------\n",
      "        \n",
      "        `floatfmt` is a format specification used for columns which\n",
      "        contain numeric data with a decimal point. This can also be\n",
      "        a list or tuple of format strings, one per column.\n",
      "        \n",
      "        `None` values are replaced with a `missingval` string (like\n",
      "        `floatfmt`, this can also be a list of values for different\n",
      "        columns):\n",
      "        \n",
      "        >>> print(tabulate([[\"spam\", 1, None],\n",
      "        ...                 [\"eggs\", 42, 3.14],\n",
      "        ...                 [\"other\", None, 2.7]], missingval=\"?\"))\n",
      "        -----  --  ----\n",
      "        spam    1  ?\n",
      "        eggs   42  3.14\n",
      "        other   ?  2.7\n",
      "        -----  --  ----\n",
      "        \n",
      "        Various plain-text table formats (`tablefmt`) are supported:\n",
      "        'plain', 'simple', 'grid', 'pipe', 'orgtbl', 'rst', 'mediawiki',\n",
      "        'latex', 'latex_raw', 'latex_booktabs', 'latex_longtable' and tsv.\n",
      "        Variable `tabulate_formats`contains the list of currently supported formats.\n",
      "        \n",
      "        \"plain\" format doesn't use any pseudographics to draw tables,\n",
      "        it separates columns with a double space:\n",
      "        \n",
      "        >>> print(tabulate([[\"spam\", 41.9999], [\"eggs\", \"451.0\"]],\n",
      "        ...                 [\"strings\", \"numbers\"], \"plain\"))\n",
      "        strings      numbers\n",
      "        spam         41.9999\n",
      "        eggs        451\n",
      "        \n",
      "        >>> print(tabulate([[\"spam\", 41.9999], [\"eggs\", \"451.0\"]], tablefmt=\"plain\"))\n",
      "        spam   41.9999\n",
      "        eggs  451\n",
      "        \n",
      "        \"simple\" format is like Pandoc simple_tables:\n",
      "        \n",
      "        >>> print(tabulate([[\"spam\", 41.9999], [\"eggs\", \"451.0\"]],\n",
      "        ...                 [\"strings\", \"numbers\"], \"simple\"))\n",
      "        strings      numbers\n",
      "        ---------  ---------\n",
      "        spam         41.9999\n",
      "        eggs        451\n",
      "        \n",
      "        >>> print(tabulate([[\"spam\", 41.9999], [\"eggs\", \"451.0\"]], tablefmt=\"simple\"))\n",
      "        ----  --------\n",
      "        spam   41.9999\n",
      "        eggs  451\n",
      "        ----  --------\n",
      "        \n",
      "        \"grid\" is similar to tables produced by Emacs table.el package or\n",
      "        Pandoc grid_tables:\n",
      "        \n",
      "        >>> print(tabulate([[\"spam\", 41.9999], [\"eggs\", \"451.0\"]],\n",
      "        ...                [\"strings\", \"numbers\"], \"grid\"))\n",
      "        +-----------+-----------+\n",
      "        | strings   |   numbers |\n",
      "        +===========+===========+\n",
      "        | spam      |   41.9999 |\n",
      "        +-----------+-----------+\n",
      "        | eggs      |  451      |\n",
      "        +-----------+-----------+\n",
      "        \n",
      "        >>> print(tabulate([[\"spam\", 41.9999], [\"eggs\", \"451.0\"]], tablefmt=\"grid\"))\n",
      "        +------+----------+\n",
      "        | spam |  41.9999 |\n",
      "        +------+----------+\n",
      "        | eggs | 451      |\n",
      "        +------+----------+\n",
      "        \n",
      "        \"fancy_grid\" draws a grid using box-drawing characters:\n",
      "        \n",
      "        >>> print(tabulate([[\"spam\", 41.9999], [\"eggs\", \"451.0\"]],\n",
      "        ...                [\"strings\", \"numbers\"], \"fancy_grid\"))\n",
      "        ╒═══════════╤═══════════╕\n",
      "        │ strings   │   numbers │\n",
      "        ╞═══════════╪═══════════╡\n",
      "        │ spam      │   41.9999 │\n",
      "        ├───────────┼───────────┤\n",
      "        │ eggs      │  451      │\n",
      "        ╘═══════════╧═══════════╛\n",
      "        \n",
      "        \"pipe\" is like tables in PHP Markdown Extra extension or Pandoc\n",
      "        pipe_tables:\n",
      "        \n",
      "        >>> print(tabulate([[\"spam\", 41.9999], [\"eggs\", \"451.0\"]],\n",
      "        ...                [\"strings\", \"numbers\"], \"pipe\"))\n",
      "        | strings   |   numbers |\n",
      "        |:----------|----------:|\n",
      "        | spam      |   41.9999 |\n",
      "        | eggs      |  451      |\n",
      "        \n",
      "        \"presto\" is like tables produce by the Presto CLI:\n",
      "        \n",
      "        >>> print(tabulate([[\"spam\", 41.9999], [\"eggs\", \"451.0\"]],\n",
      "        ...                [\"strings\", \"numbers\"], \"presto\"))\n",
      "         strings   |   numbers\n",
      "        -----------+-----------\n",
      "         spam      |   41.9999\n",
      "         eggs      |  451\n",
      "        \n",
      "        >>> print(tabulate([[\"spam\", 41.9999], [\"eggs\", \"451.0\"]], tablefmt=\"pipe\"))\n",
      "        |:-----|---------:|\n",
      "        | spam |  41.9999 |\n",
      "        | eggs | 451      |\n",
      "        \n",
      "        \"orgtbl\" is like tables in Emacs org-mode and orgtbl-mode. They\n",
      "        are slightly different from \"pipe\" format by not using colons to\n",
      "        define column alignment, and using a \"+\" sign to indicate line\n",
      "        intersections:\n",
      "        \n",
      "        >>> print(tabulate([[\"spam\", 41.9999], [\"eggs\", \"451.0\"]],\n",
      "        ...                [\"strings\", \"numbers\"], \"orgtbl\"))\n",
      "        | strings   |   numbers |\n",
      "        |-----------+-----------|\n",
      "        | spam      |   41.9999 |\n",
      "        | eggs      |  451      |\n",
      "        \n",
      "        \n",
      "        >>> print(tabulate([[\"spam\", 41.9999], [\"eggs\", \"451.0\"]], tablefmt=\"orgtbl\"))\n",
      "        | spam |  41.9999 |\n",
      "        | eggs | 451      |\n",
      "        \n",
      "        \"rst\" is like a simple table format from reStructuredText; please\n",
      "        note that reStructuredText accepts also \"grid\" tables:\n",
      "        \n",
      "        >>> print(tabulate([[\"spam\", 41.9999], [\"eggs\", \"451.0\"]],\n",
      "        ...                [\"strings\", \"numbers\"], \"rst\"))\n",
      "        =========  =========\n",
      "        strings      numbers\n",
      "        =========  =========\n",
      "        spam         41.9999\n",
      "        eggs        451\n",
      "        =========  =========\n",
      "        \n",
      "        >>> print(tabulate([[\"spam\", 41.9999], [\"eggs\", \"451.0\"]], tablefmt=\"rst\"))\n",
      "        ====  ========\n",
      "        spam   41.9999\n",
      "        eggs  451\n",
      "        ====  ========\n",
      "        \n",
      "        \"mediawiki\" produces a table markup used in Wikipedia and on other\n",
      "        MediaWiki-based sites:\n",
      "        \n",
      "        >>> print(tabulate([[\"strings\", \"numbers\"], [\"spam\", 41.9999], [\"eggs\", \"451.0\"]],\n",
      "        ...                headers=\"firstrow\", tablefmt=\"mediawiki\"))\n",
      "        {| class=\"wikitable\" style=\"text-align: left;\"\n",
      "        |+ <!-- caption -->\n",
      "        |-\n",
      "        ! strings   !! align=\"right\"|   numbers\n",
      "        |-\n",
      "        | spam      || align=\"right\"|   41.9999\n",
      "        |-\n",
      "        | eggs      || align=\"right\"|  451\n",
      "        |}\n",
      "        \n",
      "        \"html\" produces HTML markup as an html.escape'd str\n",
      "        with a ._repr_html_ method so that Jupyter Lab and Notebook display the HTML\n",
      "        and a .str property so that the raw HTML remains accessible\n",
      "        the unsafehtml table format can be used if an unescaped HTML format is required:\n",
      "        \n",
      "        >>> print(tabulate([[\"strings\", \"numbers\"], [\"spam\", 41.9999], [\"eggs\", \"451.0\"]],\n",
      "        ...                headers=\"firstrow\", tablefmt=\"html\"))\n",
      "        <table>\n",
      "        <thead>\n",
      "        <tr><th>strings  </th><th style=\"text-align: right;\">  numbers</th></tr>\n",
      "        </thead>\n",
      "        <tbody>\n",
      "        <tr><td>spam     </td><td style=\"text-align: right;\">  41.9999</td></tr>\n",
      "        <tr><td>eggs     </td><td style=\"text-align: right;\"> 451     </td></tr>\n",
      "        </tbody>\n",
      "        </table>\n",
      "        \n",
      "        \"latex\" produces a tabular environment of LaTeX document markup:\n",
      "        \n",
      "        >>> print(tabulate([[\"spam\", 41.9999], [\"eggs\", \"451.0\"]], tablefmt=\"latex\"))\n",
      "        \\begin{tabular}{lr}\n",
      "        \\hline\n",
      "         spam &  41.9999 \\\\\n",
      "         eggs & 451      \\\\\n",
      "        \\hline\n",
      "        \\end{tabular}\n",
      "        \n",
      "        \"latex_raw\" is similar to \"latex\", but doesn't escape special characters,\n",
      "        such as backslash and underscore, so LaTeX commands may embedded into\n",
      "        cells' values:\n",
      "        \n",
      "        >>> print(tabulate([[\"spam$_9$\", 41.9999], [\"\\\\emph{eggs}\", \"451.0\"]], tablefmt=\"latex_raw\"))\n",
      "        \\begin{tabular}{lr}\n",
      "        \\hline\n",
      "         spam$_9$    &  41.9999 \\\\\n",
      "         \\emph{eggs} & 451      \\\\\n",
      "        \\hline\n",
      "        \\end{tabular}\n",
      "        \n",
      "        \"latex_booktabs\" produces a tabular environment of LaTeX document markup\n",
      "        using the booktabs.sty package:\n",
      "        \n",
      "        >>> print(tabulate([[\"spam\", 41.9999], [\"eggs\", \"451.0\"]], tablefmt=\"latex_booktabs\"))\n",
      "        \\begin{tabular}{lr}\n",
      "        \\toprule\n",
      "         spam &  41.9999 \\\\\n",
      "         eggs & 451      \\\\\n",
      "        \\bottomrule\n",
      "        \\end{tabular}\n",
      "        \n",
      "        \"latex_longtable\" produces a tabular environment that can stretch along\n",
      "        multiple pages, using the longtable package for LaTeX.\n",
      "        \n",
      "        >>> print(tabulate([[\"spam\", 41.9999], [\"eggs\", \"451.0\"]], tablefmt=\"latex_longtable\"))\n",
      "        \\begin{longtable}{lr}\n",
      "        \\hline\n",
      "         spam &  41.9999 \\\\\n",
      "         eggs & 451      \\\\\n",
      "        \\hline\n",
      "        \\end{longtable}\n",
      "        \n",
      "        \n",
      "        Number parsing\n",
      "        --------------\n",
      "        By default, anything which can be parsed as a number is a number.\n",
      "        This ensures numbers represented as strings are aligned properly.\n",
      "        This can lead to weird results for particular strings such as\n",
      "        specific git SHAs e.g. \"42992e1\" will be parsed into the number\n",
      "        429920 and aligned as such.\n",
      "        \n",
      "        To completely disable number parsing (and alignment), use\n",
      "        `disable_numparse=True`. For more fine grained control, a list column\n",
      "        indices is used to disable number parsing only on those columns\n",
      "        e.g. `disable_numparse=[0, 2]` would disable number parsing only on the\n",
      "        first and third columns.\n",
      "        \n",
      "        Column Widths and Auto Line Wrapping\n",
      "        ------------------------------------\n",
      "        Tabulate will, by default, set the width of each column to the length of the\n",
      "        longest element in that column. However, in situations where fields are expected\n",
      "        to reasonably be too long to look good as a single line, tabulate can help automate\n",
      "        word wrapping long fields for you. Use the parameter `maxcolwidth` to provide a\n",
      "        list of maximal column widths\n",
      "        \n",
      "        >>> print(tabulate(           [('1', 'John Smith',             'This is a rather long description that might look better if it is wrapped a bit')],           headers=(\"Issue Id\", \"Author\", \"Description\"),           maxcolwidths=[None, None, 30],           tablefmt=\"grid\"          ))\n",
      "        +------------+------------+-------------------------------+\n",
      "        |   Issue Id | Author     | Description                   |\n",
      "        +============+============+===============================+\n",
      "        |          1 | John Smith | This is a rather long         |\n",
      "        |            |            | description that might look   |\n",
      "        |            |            | better if it is wrapped a bit |\n",
      "        +------------+------------+-------------------------------+\n",
      "\n",
      "DATA\n",
      "    __all__ = ['tabulate', 'tabulate_formats', 'simple_separated_format']\n",
      "    tabulate_formats = ['fancy_grid', 'fancy_outline', 'github', 'grid', '...\n",
      "\n",
      "VERSION\n",
      "    0.8.10\n",
      "\n",
      "FILE\n",
      "    c:\\users\\nethaji nirmal\\appdata\\local\\programs\\python\\python310\\lib\\site-packages\\tabulate.py\n",
      "\n",
      "\n"
     ]
    }
   ],
   "source": [
    "help()"
   ]
  },
  {
   "cell_type": "code",
   "execution_count": null,
   "metadata": {},
   "outputs": [],
   "source": [
    "#1.write a sql query to print \n",
    "#insulin,bmi,skinthickness of people who had 1 or 3 pregnancies"
   ]
  },
  {
   "cell_type": "code",
   "execution_count": 3,
   "metadata": {
    "id": "su9eQ0P5A6xM"
   },
   "outputs": [
    {
     "name": "stdout",
     "output_type": "stream",
     "text": [
      "+-------+-----------+-----------------+\n",
      "|   BMI |   Insulin |   SkinThickness |\n",
      "|-------+-----------+-----------------|\n",
      "|  33.6 |         0 |              35 |\n",
      "|  26.6 |         0 |              29 |\n",
      "|  23.3 |         0 |               0 |\n",
      "|  28.1 |        94 |              23 |\n",
      "|  43.1 |       168 |              35 |\n",
      "|  25.6 |         0 |               0 |\n",
      "|  31   |        88 |              32 |\n",
      "|  35.3 |         0 |               0 |\n",
      "|  30.5 |       543 |              45 |\n",
      "|   0   |         0 |               0 |\n",
      "|  37.6 |         0 |               0 |\n",
      "|  38   |         0 |               0 |\n",
      "|  27.1 |         0 |               0 |\n",
      "|  30.1 |       846 |              23 |\n",
      "|  25.8 |       175 |              19 |\n",
      "|  30   |         0 |               0 |\n",
      "|  45.8 |       230 |              47 |\n",
      "|  29.6 |         0 |               0 |\n",
      "|  43.3 |        83 |              38 |\n",
      "|  34.6 |        96 |              30 |\n",
      "|  39.3 |       235 |              41 |\n",
      "|  35.4 |         0 |               0 |\n",
      "|  39.8 |         0 |               0 |\n",
      "|  29   |         0 |              35 |\n",
      "|  36.6 |       146 |              33 |\n",
      "|  31.1 |       115 |              26 |\n",
      "|  39.4 |         0 |               0 |\n",
      "|  23.2 |       140 |              15 |\n",
      "|  22.2 |       110 |              19 |\n",
      "|  34.1 |         0 |               0 |\n",
      "|  36   |         0 |              26 |\n",
      "|  31.6 |       245 |              36 |\n",
      "|  24.8 |        54 |              11 |\n",
      "|  19.9 |         0 |               0 |\n",
      "|  27.6 |         0 |              31 |\n",
      "|  24   |       192 |              33 |\n",
      "|  33.2 |         0 |               0 |\n",
      "|  32.9 |         0 |              37 |\n",
      "|  38.2 |         0 |              42 |\n",
      "|  37.1 |       207 |              47 |\n",
      "|  34   |        70 |              25 |\n",
      "|  40.2 |         0 |               0 |\n",
      "|  22.7 |         0 |              18 |\n",
      "|  45.4 |       240 |              24 |\n",
      "|  27.4 |         0 |               0 |\n",
      "|  42   |         0 |              39 |\n",
      "|  29.7 |         0 |               0 |\n",
      "|  28   |         0 |              27 |\n",
      "|  39.1 |         0 |              32 |\n",
      "|   0   |         0 |               0 |\n",
      "|  19.4 |        82 |              11 |\n",
      "|  24.2 |        36 |              15 |\n",
      "|  24.4 |        23 |              21 |\n",
      "|  33.7 |       300 |              34 |\n",
      "|  34.7 |       342 |              42 |\n",
      "|  23   |         0 |              10 |\n",
      "|  37.7 |       304 |              39 |\n",
      "|  46.8 |       110 |              60 |\n",
      "|  40.5 |         0 |               0 |\n",
      "|  41.5 |       142 |              41 |\n",
      "|   0   |         0 |               0 |\n",
      "|  32.9 |         0 |               0 |\n",
      "|  25   |         0 |               0 |\n",
      "|  25.4 |       128 |              34 |\n",
      "|  32.8 |         0 |               0 |\n",
      "|  29   |         0 |              27 |\n",
      "|  32.5 |         0 |              30 |\n",
      "|  42.7 |         0 |               0 |\n",
      "|  19.6 |        38 |              13 |\n",
      "|  28.9 |       100 |              27 |\n",
      "|  32.9 |        90 |              20 |\n",
      "|  28.6 |       140 |              35 |\n",
      "|  43.4 |         0 |               0 |\n",
      "|  35.1 |       270 |              20 |\n",
      "|  32   |         0 |              30 |\n",
      "|  24.7 |         0 |              20 |\n",
      "|  32.6 |         0 |               0 |\n",
      "|  37.7 |         0 |              33 |\n",
      "|  43.2 |         0 |               0 |\n",
      "|  25   |         0 |              22 |\n",
      "|  22.4 |         0 |              13 |\n",
      "|   0   |         0 |               0 |\n",
      "|  29.3 |        71 |              26 |\n",
      "|  24.6 |         0 |              28 |\n",
      "|  48.8 |         0 |               0 |\n",
      "|  32.4 |       125 |              29 |\n",
      "|  36.6 |         0 |              54 |\n",
      "|  38.5 |        71 |              25 |\n",
      "|  37.1 |       110 |              32 |\n",
      "|  26.5 |         0 |              19 |\n",
      "|  19.1 |         0 |               0 |\n",
      "|  32   |       176 |              15 |\n",
      "|  46.7 |        48 |              40 |\n",
      "|  23.8 |         0 |               0 |\n",
      "|  24.7 |        64 |              18 |\n",
      "|  33.9 |       228 |              27 |\n",
      "|  31.6 |         0 |              28 |\n",
      "|  20.4 |        76 |              18 |\n",
      "|  28.7 |        64 |              30 |\n",
      "|  49.7 |       220 |              51 |\n",
      "|  39   |         0 |               0 |\n",
      "|  26.1 |         0 |               0 |\n",
      "|  22.5 |         0 |               0 |\n",
      "|  26.6 |        40 |              18 |\n",
      "|  39.6 |         0 |               0 |\n",
      "|  28.7 |       152 |              29 |\n",
      "|  22.4 |         0 |               0 |\n",
      "|  29.5 |       140 |              28 |\n",
      "|  34.3 |        18 |              31 |\n",
      "|  37.4 |        36 |              25 |\n",
      "|  33.3 |       135 |              33 |\n",
      "|  34   |       495 |              26 |\n",
      "|  31.2 |        37 |              34 |\n",
      "|  34   |         0 |               0 |\n",
      "|  30.5 |       175 |              32 |\n",
      "|  31.2 |         0 |               0 |\n",
      "|  34   |         0 |               0 |\n",
      "|  33.7 |         0 |               0 |\n",
      "|  28.2 |         0 |              23 |\n",
      "|  23.2 |        51 |              15 |\n",
      "|  53.2 |       100 |              56 |\n",
      "|  34.2 |         0 |              39 |\n",
      "|  33.6 |       100 |              30 |\n",
      "|  26.8 |         0 |               0 |\n",
      "|  33.3 |         0 |               0 |\n",
      "|  55   |        99 |              42 |\n",
      "|  42.9 |       135 |              30 |\n",
      "|  33.3 |        94 |              36 |\n",
      "|  34.5 |       145 |              24 |\n",
      "|  27.9 |         0 |               0 |\n",
      "|  29.7 |       168 |              14 |\n",
      "|  33.3 |         0 |               0 |\n",
      "|  34.5 |       225 |              37 |\n",
      "|  38.3 |         0 |              31 |\n",
      "|  21.1 |        49 |              13 |\n",
      "|  33.8 |       140 |              20 |\n",
      "|  30.8 |        50 |              26 |\n",
      "|  28.7 |        92 |              25 |\n",
      "|  31.2 |         0 |               0 |\n",
      "|  36.9 |       325 |              29 |\n",
      "|  21.1 |         0 |               0 |\n",
      "|  39.5 |         0 |              30 |\n",
      "|  32.5 |        63 |              26 |\n",
      "|  32.4 |         0 |               0 |\n",
      "|  32.8 |       284 |              31 |\n",
      "|   0   |         0 |              23 |\n",
      "|  32.8 |         0 |              37 |\n",
      "|  30.5 |       119 |              35 |\n",
      "|  33.7 |         0 |               0 |\n",
      "|  27.3 |         0 |              17 |\n",
      "|  37.4 |       204 |              50 |\n",
      "|  21.9 |         0 |               0 |\n",
      "|  34.3 |       155 |              28 |\n",
      "|  40.6 |       485 |              42 |\n",
      "|  47.9 |         0 |               0 |\n",
      "|  50   |         0 |              44 |\n",
      "|  24.6 |        94 |              15 |\n",
      "|  25.2 |       135 |              21 |\n",
      "|  29   |        53 |              19 |\n",
      "|  40.9 |       114 |              41 |\n",
      "|  29.7 |         0 |              38 |\n",
      "|  37.2 |       105 |              40 |\n",
      "|  44.2 |       285 |              34 |\n",
      "|  29.7 |         0 |              23 |\n",
      "|  31.6 |         0 |               0 |\n",
      "|  29.9 |       156 |              18 |\n",
      "|  32.5 |         0 |              25 |\n",
      "|  29.6 |         0 |               0 |\n",
      "|  31.9 |         0 |               0 |\n",
      "|  28.4 |        78 |              12 |\n",
      "|  30.8 |         0 |               0 |\n",
      "|  35.4 |       130 |              23 |\n",
      "|  28.9 |         0 |              23 |\n",
      "|  43.5 |        48 |              42 |\n",
      "|  29.7 |        55 |              24 |\n",
      "|  32.7 |       130 |              42 |\n",
      "|  31.2 |         0 |               0 |\n",
      "|  67.1 |       130 |              46 |\n",
      "|  45   |         0 |               0 |\n",
      "|  39.1 |         0 |               0 |\n",
      "|  23.2 |         0 |               0 |\n",
      "|  34.9 |        92 |              18 |\n",
      "|  27.7 |        23 |              20 |\n",
      "|  26.8 |         0 |               0 |\n",
      "|  27.6 |         0 |               0 |\n",
      "|  35.9 |         0 |              28 |\n",
      "|  30.1 |       495 |              36 |\n",
      "|  32   |        58 |              41 |\n",
      "|  27.9 |       114 |              39 |\n",
      "|  31.6 |       160 |              35 |\n",
      "|  22.6 |         0 |               0 |\n",
      "|  33.1 |        94 |              44 |\n",
      "|  30.4 |         0 |               0 |\n",
      "|  52.3 |         0 |               0 |\n",
      "|  24.4 |         0 |              20 |\n",
      "|  39.4 |       210 |              41 |\n",
      "|  24.3 |         0 |               0 |\n",
      "|  22.9 |        48 |              13 |\n",
      "|  34.8 |        99 |              44 |\n",
      "|  30.9 |       318 |              27 |\n",
      "|  31   |         0 |              16 |\n",
      "|  40.1 |         0 |               0 |\n",
      "|  27.3 |         0 |              20 |\n",
      "|  20.4 |        44 |              16 |\n",
      "|  37.7 |       190 |              32 |\n",
      "|  23.9 |         0 |              28 |\n",
      "|  37.5 |       280 |              29 |\n",
      "|  37.7 |         0 |               0 |\n",
      "|  33.2 |        87 |              27 |\n",
      "|  35.5 |         0 |              33 |\n",
      "|  27.7 |         0 |              22 |\n",
      "|  42.8 |         0 |              54 |\n",
      "|  34.2 |         0 |              31 |\n",
      "|  42.6 |       130 |              26 |\n",
      "|  34.2 |       175 |              32 |\n",
      "|  41.8 |       271 |              40 |\n",
      "|  35.8 |       129 |              41 |\n",
      "|  30   |       120 |              30 |\n",
      "|  29   |         0 |              22 |\n",
      "|  37.8 |         0 |               0 |\n",
      "|  34.6 |       478 |              29 |\n",
      "|  31.6 |         0 |               0 |\n",
      "|  25.2 |         0 |               0 |\n",
      "|  28.8 |       190 |              33 |\n",
      "|  23.6 |        56 |              15 |\n",
      "|  34.6 |        32 |              27 |\n",
      "|  35.7 |         0 |               0 |\n",
      "|  37.2 |         0 |              38 |\n",
      "|  36.7 |       744 |              39 |\n",
      "|  45.2 |        53 |              31 |\n",
      "|  44   |         0 |               0 |\n",
      "|  46.2 |       370 |              37 |\n",
      "|  25.4 |        37 |              25 |\n",
      "|  35   |         0 |               0 |\n",
      "|  29.7 |        45 |              28 |\n",
      "|  43.6 |         0 |               0 |\n",
      "|  35.9 |       192 |              21 |\n",
      "|  44.1 |         0 |              27 |\n",
      "|  30.8 |         0 |              21 |\n",
      "|  18.4 |         0 |               0 |\n",
      "|  29.2 |         0 |              24 |\n",
      "|  33.1 |        88 |              32 |\n",
      "|  25.6 |         0 |               0 |\n",
      "|  27.1 |       176 |              22 |\n",
      "|  38.2 |       194 |              35 |\n",
      "|  30   |         0 |              15 |\n",
      "|  31.2 |         0 |               0 |\n",
      "|  52.3 |       680 |              33 |\n",
      "|  35.4 |       402 |              33 |\n",
      "|  30.1 |         0 |              19 |\n",
      "|  31.2 |         0 |               0 |\n",
      "|  28   |         0 |               0 |\n",
      "|  24.4 |        55 |              14 |\n",
      "|  35.8 |         0 |              32 |\n",
      "|  27.6 |       258 |               7 |\n",
      "|  33.6 |         0 |              35 |\n",
      "|  30.1 |         0 |              39 |\n",
      "|  28.7 |         0 |              22 |\n",
      "|  25.9 |       375 |              16 |\n",
      "|  33.3 |       150 |              28 |\n",
      "|  30.9 |       130 |              15 |\n",
      "|  30   |         0 |               0 |\n",
      "|  32.1 |         0 |              32 |\n",
      "|  32.4 |         0 |              15 |\n",
      "|  32   |         0 |               0 |\n",
      "|  33.6 |        67 |              18 |\n",
      "|  36.3 |         0 |               0 |\n",
      "|  40   |         0 |              42 |\n",
      "|  25.1 |         0 |               0 |\n",
      "|  27.5 |         0 |               0 |\n",
      "|  45.6 |         0 |              37 |\n",
      "|  25.2 |        56 |              32 |\n",
      "|  23   |         0 |               0 |\n",
      "|  33.2 |        45 |              50 |\n",
      "|  34.2 |         0 |               0 |\n",
      "|  40.5 |        57 |              52 |\n",
      "|  26.5 |         0 |              24 |\n",
      "|  27.8 |       116 |              23 |\n",
      "|  24.9 |         0 |               0 |\n",
      "|  25.3 |       278 |              10 |\n",
      "|  37.9 |         0 |               0 |\n",
      "|  35.9 |       122 |              28 |\n",
      "|  32.4 |       155 |              15 |\n",
      "|  30.4 |         0 |               0 |\n",
      "|  27   |         0 |               0 |\n",
      "|  26   |       135 |              26 |\n",
      "|  38.7 |       545 |              44 |\n",
      "|  45.6 |       220 |              39 |\n",
      "|  20.8 |        49 |              17 |\n",
      "|  36.1 |        75 |              43 |\n",
      "|  36.9 |        40 |              29 |\n",
      "|  36.6 |        74 |              30 |\n",
      "|  43.3 |       182 |              37 |\n",
      "|  40.5 |       194 |              45 |\n",
      "|  21.9 |         0 |               0 |\n",
      "|  35.5 |       120 |              31 |\n",
      "|  28   |       360 |              38 |\n",
      "|  30.7 |       215 |              29 |\n",
      "|  36.6 |       184 |              25 |\n",
      "|  23.6 |         0 |               0 |\n",
      "|  32.3 |         0 |               0 |\n",
      "|  31.6 |       135 |              33 |\n",
      "|  35.8 |        42 |              41 |\n",
      "|  52.9 |         0 |               0 |\n",
      "|  21   |         0 |               0 |\n",
      "|  39.7 |       105 |              37 |\n",
      "|  25.5 |       132 |              23 |\n",
      "|  24.8 |       148 |              14 |\n",
      "|  30.5 |       180 |              19 |\n",
      "|  32.9 |       205 |              28 |\n",
      "|  26.2 |         0 |              30 |\n",
      "|  39.4 |       148 |              37 |\n",
      "|  26.6 |        96 |              17 |\n",
      "|  29.5 |        85 |              10 |\n",
      "|  35.9 |         0 |              31 |\n",
      "|  34.1 |        94 |              22 |\n",
      "|  19.3 |        64 |              11 |\n",
      "|  30.5 |         0 |               0 |\n",
      "|  38.1 |       140 |              39 |\n",
      "|  23.5 |         0 |               0 |\n",
      "|  27.5 |       231 |              12 |\n",
      "|  31.6 |         0 |              30 |\n",
      "|  27.4 |         0 |              20 |\n",
      "|  26.8 |        29 |              33 |\n",
      "|  35.7 |         0 |              32 |\n",
      "|  25.6 |       168 |              21 |\n",
      "|  35.1 |       156 |              32 |\n",
      "|  35.1 |         0 |               0 |\n",
      "|  45.5 |       120 |              36 |\n",
      "|  30.8 |        68 |              32 |\n",
      "|  23.1 |         0 |              19 |\n",
      "|  32.7 |        52 |              16 |\n",
      "|  43.3 |         0 |               0 |\n",
      "|  23.6 |         0 |               0 |\n",
      "|  23.9 |        58 |              18 |\n",
      "|  47.9 |       255 |              43 |\n",
      "|  33.8 |         0 |               0 |\n",
      "|  31.2 |         0 |               0 |\n",
      "|  34.2 |       171 |              34 |\n",
      "|  39.9 |         0 |               0 |\n",
      "|  25.9 |       105 |              13 |\n",
      "|  25.9 |        73 |              21 |\n",
      "|  32   |         0 |              35 |\n",
      "|  34.7 |         0 |               0 |\n",
      "|  36.8 |         0 |               0 |\n",
      "|  38.5 |       108 |              36 |\n",
      "|  28.7 |        83 |              19 |\n",
      "|  23.5 |         0 |               0 |\n",
      "|  21.8 |        74 |              19 |\n",
      "|  41   |         0 |              32 |\n",
      "|  42.2 |         0 |               0 |\n",
      "|  31.2 |         0 |               0 |\n",
      "|  34.4 |         0 |              28 |\n",
      "|  27.2 |        43 |              12 |\n",
      "|  42.7 |         0 |               0 |\n",
      "|  30.4 |         0 |               0 |\n",
      "|  33.3 |       167 |              40 |\n",
      "|  39.9 |         0 |              30 |\n",
      "|  35.3 |        54 |              40 |\n",
      "|  36.5 |       249 |              36 |\n",
      "|  31.2 |       325 |              33 |\n",
      "|  29.8 |         0 |               0 |\n",
      "|  39.2 |         0 |              37 |\n",
      "|  38.5 |         0 |               0 |\n",
      "|  34.9 |       293 |              25 |\n",
      "|  34   |        83 |              28 |\n",
      "|  27.6 |         0 |               0 |\n",
      "|  21   |         0 |              17 |\n",
      "|  27.5 |        66 |              16 |\n",
      "|  32.8 |       140 |              28 |\n",
      "|  38.4 |       465 |              48 |\n",
      "|   0   |        89 |              23 |\n",
      "|  35.8 |        66 |              22 |\n",
      "|  34.9 |        94 |              40 |\n",
      "|  36.2 |       158 |              43 |\n",
      "|  39.2 |       325 |              43 |\n",
      "|  25.2 |        84 |              15 |\n",
      "|  37.2 |        75 |              37 |\n",
      "|  48.3 |         0 |               0 |\n",
      "|  43.4 |        72 |              39 |\n",
      "|  30.8 |        82 |              30 |\n",
      "|  20   |         0 |              22 |\n",
      "|  25.4 |       182 |               8 |\n",
      "|  25.1 |        59 |              18 |\n",
      "|  24.3 |       110 |              24 |\n",
      "|  22.3 |        50 |              13 |\n",
      "|  32.3 |         0 |              29 |\n",
      "|  43.3 |         0 |              36 |\n",
      "|  32   |       285 |              26 |\n",
      "|  31.6 |        81 |              23 |\n",
      "|  32   |       196 |              29 |\n",
      "|  45.7 |         0 |               0 |\n",
      "|  23.7 |       415 |              14 |\n",
      "|  22.1 |        87 |              12 |\n",
      "|  32.9 |         0 |               0 |\n",
      "|  27.7 |       275 |              24 |\n",
      "|  24.7 |       115 |              34 |\n",
      "|  34.3 |         0 |              40 |\n",
      "|  21.1 |         0 |               0 |\n",
      "|  34.9 |         0 |              31 |\n",
      "|  32   |         0 |               0 |\n",
      "|  24.2 |         0 |               0 |\n",
      "|  35   |        88 |              41 |\n",
      "|  31.6 |         0 |              25 |\n",
      "|  32.9 |         0 |               0 |\n",
      "|  42.1 |       165 |              32 |\n",
      "|  28.9 |         0 |               0 |\n",
      "|  21.9 |         0 |               0 |\n",
      "|  25.9 |         0 |               0 |\n",
      "|  42.4 |       579 |              49 |\n",
      "|  35.7 |         0 |              39 |\n",
      "|  34.4 |       176 |              30 |\n",
      "|  42.4 |       310 |              23 |\n",
      "|  26.2 |        61 |              22 |\n",
      "|  34.6 |       167 |              35 |\n",
      "|  35.7 |       474 |              33 |\n",
      "|  27.2 |         0 |              21 |\n",
      "|  38.5 |         0 |              32 |\n",
      "|  18.2 |         0 |               0 |\n",
      "|  26.4 |       115 |              29 |\n",
      "|  45.3 |       170 |              41 |\n",
      "|  26   |        76 |              18 |\n",
      "|  40.6 |        78 |              46 |\n",
      "|  30.8 |         0 |              22 |\n",
      "|  42.9 |       210 |              32 |\n",
      "|  37   |       277 |              39 |\n",
      "|   0   |         0 |               0 |\n",
      "|  34.1 |       180 |              30 |\n",
      "|  40.6 |       145 |              46 |\n",
      "|  35   |       180 |              25 |\n",
      "|  22.2 |         0 |               0 |\n",
      "|  30.4 |        85 |              16 |\n",
      "|  30   |        60 |              11 |\n",
      "|  25.6 |         0 |               0 |\n",
      "|  24.5 |         0 |               8 |\n",
      "|  42.4 |         0 |               0 |\n",
      "|  37.4 |         0 |              33 |\n",
      "|  29.9 |         0 |               0 |\n",
      "|  18.2 |         0 |              15 |\n",
      "|  36.8 |         0 |               0 |\n",
      "|  34.3 |         0 |              25 |\n",
      "|  32.2 |        50 |              23 |\n",
      "|  33.2 |       120 |              27 |\n",
      "|  30.5 |         0 |               0 |\n",
      "|  29.7 |         0 |              12 |\n",
      "|  59.4 |        14 |              63 |\n",
      "|  25.3 |        70 |              12 |\n",
      "|  36.5 |        92 |              45 |\n",
      "|  33.6 |        64 |              37 |\n",
      "|  30.5 |        63 |              18 |\n",
      "|  21.2 |        95 |              13 |\n",
      "|  28.9 |         0 |               0 |\n",
      "|  39.9 |       210 |              32 |\n",
      "|  19.6 |         0 |               0 |\n",
      "|  37.8 |       105 |              28 |\n",
      "|  33.6 |         0 |              30 |\n",
      "|  26.7 |         0 |               0 |\n",
      "|  30.2 |        71 |              28 |\n",
      "|  37.6 |       237 |              48 |\n",
      "|  25.9 |        60 |              33 |\n",
      "|  20.8 |        56 |              22 |\n",
      "|  21.8 |         0 |               0 |\n",
      "|  35.3 |        49 |              40 |\n",
      "|  27.6 |         0 |              30 |\n",
      "|  24   |         0 |               0 |\n",
      "|  21.8 |       105 |              13 |\n",
      "|  27.8 |        36 |              10 |\n",
      "|  36.8 |       100 |              36 |\n",
      "|  30   |         0 |               0 |\n",
      "|  46.1 |       140 |              41 |\n",
      "|  41.3 |         0 |              40 |\n",
      "|  33.2 |         0 |              38 |\n",
      "|  38.8 |         0 |              27 |\n",
      "|  29.9 |         0 |               0 |\n",
      "|  28.9 |         0 |               0 |\n",
      "|  27.3 |         0 |              27 |\n",
      "|  33.7 |       191 |              45 |\n",
      "|  23.8 |       110 |              17 |\n",
      "|  25.9 |        75 |              38 |\n",
      "|  28   |         0 |              31 |\n",
      "|  35.5 |       328 |              30 |\n",
      "|  35.2 |         0 |              37 |\n",
      "|  27.8 |        49 |              22 |\n",
      "|  38.2 |       125 |              31 |\n",
      "|  44.2 |         0 |               0 |\n",
      "|  42.3 |       250 |              42 |\n",
      "|  40.7 |       480 |              41 |\n",
      "|  46.5 |       265 |              32 |\n",
      "|  25.6 |         0 |              17 |\n",
      "|  26.1 |         0 |               0 |\n",
      "|  36.8 |        66 |              28 |\n",
      "|  33.5 |         0 |              30 |\n",
      "|  32.8 |         0 |              38 |\n",
      "|  28.9 |       122 |              18 |\n",
      "|   0   |         0 |               0 |\n",
      "|  26.6 |         0 |               0 |\n",
      "|  26   |         0 |               0 |\n",
      "|  30.1 |        76 |              15 |\n",
      "|  25.1 |       145 |              33 |\n",
      "|  29.3 |       193 |              32 |\n",
      "|  25.2 |        71 |              19 |\n",
      "|  37.2 |         0 |              32 |\n",
      "|  39   |         0 |              41 |\n",
      "|  33.3 |        79 |              25 |\n",
      "|  37.3 |         0 |              39 |\n",
      "|  33.3 |         0 |               0 |\n",
      "|  36.5 |        90 |              26 |\n",
      "|  28.6 |       170 |              23 |\n",
      "|  30.4 |        76 |              23 |\n",
      "|  25   |         0 |               0 |\n",
      "|  29.7 |         0 |              31 |\n",
      "|  22.1 |       210 |              17 |\n",
      "|  24.2 |         0 |               0 |\n",
      "|  27.3 |         0 |               0 |\n",
      "|  25.6 |        86 |              19 |\n",
      "|  31.6 |       105 |              18 |\n",
      "|  30.3 |       165 |              34 |\n",
      "|  37.6 |         0 |               0 |\n",
      "|  32.8 |         0 |               0 |\n",
      "|  19.6 |       326 |               7 |\n",
      "|  25   |        66 |              32 |\n",
      "|  33.2 |       130 |              33 |\n",
      "|   0   |         0 |               0 |\n",
      "|  34.2 |         0 |               0 |\n",
      "|  31.6 |         0 |               0 |\n",
      "|  21.8 |         0 |              18 |\n",
      "|  18.2 |        82 |              19 |\n",
      "|  26.3 |       105 |              15 |\n",
      "|  30.8 |       188 |              31 |\n",
      "|  24.6 |         0 |               0 |\n",
      "|  29.8 |       106 |              18 |\n",
      "|  45.3 |         0 |               0 |\n",
      "|  41.3 |        65 |              52 |\n",
      "|  29.8 |         0 |               0 |\n",
      "|  33.3 |        56 |              30 |\n",
      "|  32.9 |         0 |               0 |\n",
      "|  29.6 |         0 |               0 |\n",
      "|  21.7 |         0 |               0 |\n",
      "|  36.3 |       210 |              37 |\n",
      "|  36.4 |       155 |              49 |\n",
      "|  39.4 |       215 |              40 |\n",
      "|  32.4 |       190 |              25 |\n",
      "|  34.9 |         0 |              32 |\n",
      "|  39.5 |        56 |              23 |\n",
      "|  32   |        76 |              29 |\n",
      "|  34.5 |       225 |              35 |\n",
      "|  43.6 |       207 |              27 |\n",
      "|  33.1 |       166 |              21 |\n",
      "|  32.8 |        67 |              43 |\n",
      "|  28.5 |         0 |              31 |\n",
      "|  27.4 |         0 |              28 |\n",
      "|  31.9 |       106 |              30 |\n",
      "|  27.8 |         0 |               0 |\n",
      "|  29.9 |        44 |              24 |\n",
      "|  36.9 |       115 |              23 |\n",
      "|  25.5 |       215 |              33 |\n",
      "|  38.1 |         0 |              40 |\n",
      "|  27.8 |         0 |               0 |\n",
      "|  46.2 |         0 |              40 |\n",
      "|  30.1 |         0 |               0 |\n",
      "|  33.8 |         0 |               0 |\n",
      "|  41.3 |       274 |              32 |\n",
      "|  37.6 |        77 |              34 |\n",
      "|  26.9 |        54 |              19 |\n",
      "|  32.4 |         0 |               0 |\n",
      "|  26.1 |        88 |              14 |\n",
      "|  38.6 |        18 |              30 |\n",
      "|  32   |       126 |              32 |\n",
      "|  31.3 |       126 |              29 |\n",
      "|  34.3 |       165 |              30 |\n",
      "|  32.5 |         0 |               0 |\n",
      "|  22.6 |         0 |               0 |\n",
      "|  29.5 |        44 |              31 |\n",
      "|  34.7 |       120 |              17 |\n",
      "|  30.1 |       330 |              30 |\n",
      "|  35.5 |        63 |              47 |\n",
      "|  24   |       130 |              20 |\n",
      "|  42.9 |         0 |               0 |\n",
      "|  27   |         0 |               0 |\n",
      "|  34.7 |         0 |              99 |\n",
      "|  42.1 |         0 |              46 |\n",
      "|  25   |         0 |              27 |\n",
      "|  26.5 |         0 |              17 |\n",
      "|  38.7 |         0 |               0 |\n",
      "|  28.7 |       600 |              24 |\n",
      "|  22.5 |         0 |              11 |\n",
      "|  34.9 |         0 |               0 |\n",
      "|  24.3 |         0 |               0 |\n",
      "|  33.3 |       156 |              27 |\n",
      "|  21.1 |         0 |               0 |\n",
      "|  46.8 |         0 |              40 |\n",
      "|  39.4 |       140 |              50 |\n",
      "|  34.4 |         0 |               0 |\n",
      "|  28.5 |       115 |              22 |\n",
      "|  33.6 |       230 |              45 |\n",
      "|  32   |       185 |              14 |\n",
      "|  45.3 |         0 |               0 |\n",
      "|  27.8 |        25 |              19 |\n",
      "|  36.8 |         0 |               0 |\n",
      "|  23.1 |       120 |              18 |\n",
      "|  27.1 |         0 |              19 |\n",
      "|  23.7 |         0 |               0 |\n",
      "|  27.8 |         0 |              36 |\n",
      "|  35.2 |       126 |              29 |\n",
      "|  28.4 |         0 |               0 |\n",
      "|  35.8 |         0 |              32 |\n",
      "|  40   |       293 |              42 |\n",
      "|  19.5 |        41 |              25 |\n",
      "|  41.5 |       272 |              39 |\n",
      "|  24   |       182 |              13 |\n",
      "|  30.9 |       158 |              21 |\n",
      "|  32.9 |       194 |              22 |\n",
      "|  38.2 |       321 |              42 |\n",
      "|  32.5 |         0 |              28 |\n",
      "|  36.1 |       144 |              26 |\n",
      "|  25.8 |         0 |               0 |\n",
      "|  28.7 |         0 |               0 |\n",
      "|  20.1 |        15 |              13 |\n",
      "|  28.2 |         0 |              24 |\n",
      "|  32.4 |         0 |               0 |\n",
      "|  38.4 |       160 |              42 |\n",
      "|  24.2 |         0 |              20 |\n",
      "|  40.8 |         0 |               0 |\n",
      "|  43.5 |       115 |              27 |\n",
      "|  30.8 |         0 |               0 |\n",
      "|  37.7 |        54 |              47 |\n",
      "|  24.7 |         0 |               0 |\n",
      "|  32.4 |         0 |               0 |\n",
      "|  34.6 |         0 |               0 |\n",
      "|  24.7 |         0 |              22 |\n",
      "|  27.4 |         0 |               0 |\n",
      "|  34.5 |        90 |              40 |\n",
      "|  26.2 |         0 |               0 |\n",
      "|  27.5 |       183 |              17 |\n",
      "|  25.9 |         0 |               0 |\n",
      "|  31.2 |         0 |               0 |\n",
      "|  28.8 |         0 |               0 |\n",
      "|  31.6 |        66 |              18 |\n",
      "|  40.9 |        91 |              32 |\n",
      "|  19.5 |        46 |              12 |\n",
      "|  29.3 |       105 |              17 |\n",
      "|  34.3 |         0 |               0 |\n",
      "|  29.5 |         0 |               0 |\n",
      "|  28   |         0 |               0 |\n",
      "|  27.6 |       152 |              30 |\n",
      "|  39.4 |       440 |              35 |\n",
      "|  23.4 |       144 |              17 |\n",
      "|  37.8 |       159 |              36 |\n",
      "|  28.3 |       130 |              35 |\n",
      "|  26.4 |         0 |              25 |\n",
      "|  25.2 |       100 |              25 |\n",
      "|  33.8 |       106 |              23 |\n",
      "|  34.1 |        77 |              40 |\n",
      "|  26.8 |         0 |               0 |\n",
      "|  34.2 |       135 |              28 |\n",
      "|  38.7 |       540 |              27 |\n",
      "|  21.8 |        90 |              35 |\n",
      "|  38.9 |       200 |              48 |\n",
      "|  39   |         0 |               0 |\n",
      "|  34.2 |        70 |              31 |\n",
      "|  27.7 |         0 |               0 |\n",
      "|  42.9 |         0 |              43 |\n",
      "|  37.6 |       231 |              46 |\n",
      "|  37.9 |       130 |              46 |\n",
      "|  33.7 |         0 |              39 |\n",
      "|  34.8 |       132 |              45 |\n",
      "|  32.5 |         0 |              18 |\n",
      "|  27.5 |         0 |              27 |\n",
      "|  34   |       190 |              33 |\n",
      "|  30.9 |       100 |              30 |\n",
      "|  33.6 |       168 |              26 |\n",
      "|  25.4 |         0 |              10 |\n",
      "|  35.5 |        49 |              23 |\n",
      "|  57.3 |       240 |              35 |\n",
      "|  35.6 |         0 |               0 |\n",
      "|  30.9 |         0 |               0 |\n",
      "|  24.8 |         0 |               0 |\n",
      "|  35.3 |         0 |               0 |\n",
      "|  36   |         0 |               0 |\n",
      "|  24.2 |       265 |              17 |\n",
      "|  24.2 |        45 |              28 |\n",
      "|  49.6 |         0 |              36 |\n",
      "|  44.6 |       105 |              39 |\n",
      "|  32.3 |         0 |               0 |\n",
      "|   0   |         0 |               0 |\n",
      "|  33.2 |       205 |              26 |\n",
      "|  23.1 |         0 |               0 |\n",
      "|  28.3 |         0 |              19 |\n",
      "|  24.1 |       180 |              26 |\n",
      "|  46.1 |       180 |              46 |\n",
      "|  24.6 |         0 |               0 |\n",
      "|  42.3 |         0 |               0 |\n",
      "|  39.1 |        95 |              32 |\n",
      "|  38.5 |       125 |              49 |\n",
      "|  23.5 |         0 |               0 |\n",
      "|  30.4 |       480 |              24 |\n",
      "|  29.9 |       125 |              19 |\n",
      "|  25   |         0 |               0 |\n",
      "|  34.5 |       155 |              11 |\n",
      "|  44.5 |         0 |               0 |\n",
      "|  35.9 |       200 |              27 |\n",
      "|  27.6 |         0 |              31 |\n",
      "|  35   |         0 |              29 |\n",
      "|  38.5 |         0 |               0 |\n",
      "|  28.4 |       100 |              20 |\n",
      "|  39.8 |         0 |              36 |\n",
      "|   0   |         0 |               0 |\n",
      "|  34.4 |       335 |              21 |\n",
      "|  32.8 |         0 |               0 |\n",
      "|  38   |       160 |              32 |\n",
      "|  31.2 |       387 |              13 |\n",
      "|  29.6 |        22 |              27 |\n",
      "|  41.2 |         0 |              36 |\n",
      "|  26.4 |       291 |              20 |\n",
      "|  29.5 |         0 |               0 |\n",
      "|  33.9 |       392 |              33 |\n",
      "|  33.8 |       185 |              39 |\n",
      "|  23.1 |         0 |              18 |\n",
      "|  35.5 |       178 |              46 |\n",
      "|  35.6 |         0 |              27 |\n",
      "|  29.3 |         0 |              19 |\n",
      "|  38.1 |       200 |              36 |\n",
      "|  29.3 |       127 |              29 |\n",
      "|  39.1 |       105 |              30 |\n",
      "|  32.8 |         0 |               0 |\n",
      "|  39.4 |         0 |              40 |\n",
      "|  36.1 |       180 |              29 |\n",
      "|  32.4 |         0 |              26 |\n",
      "|  22.9 |         0 |               0 |\n",
      "|  30.1 |         0 |               0 |\n",
      "|  28.4 |        79 |              23 |\n",
      "|  28.4 |         0 |               0 |\n",
      "|  44.5 |       120 |              37 |\n",
      "|  29   |       165 |              27 |\n",
      "|  23.3 |         0 |               0 |\n",
      "|  35.4 |         0 |              32 |\n",
      "|  27.4 |       120 |              27 |\n",
      "|  32   |         0 |              23 |\n",
      "|  36.6 |       160 |              17 |\n",
      "|  39.5 |         0 |               0 |\n",
      "|  42.3 |       150 |              37 |\n",
      "|  30.8 |        94 |              20 |\n",
      "|  28.5 |       116 |              18 |\n",
      "|  32.7 |         0 |               0 |\n",
      "|  40.6 |       140 |              37 |\n",
      "|  30   |       105 |              33 |\n",
      "|  49.3 |         0 |              41 |\n",
      "|  46.3 |        57 |              41 |\n",
      "|  36.4 |       200 |              22 |\n",
      "|  24.3 |         0 |               0 |\n",
      "|  31.2 |         0 |               0 |\n",
      "|  39   |        74 |              39 |\n",
      "|  26   |         0 |              24 |\n",
      "|  43.3 |       510 |              44 |\n",
      "|  32.4 |         0 |              32 |\n",
      "|  36.5 |       110 |              39 |\n",
      "|  32   |         0 |              41 |\n",
      "|  36.3 |         0 |               0 |\n",
      "|  37.5 |         0 |               0 |\n",
      "|  35.5 |         0 |               0 |\n",
      "|  28.4 |        16 |              26 |\n",
      "|  44   |         0 |              31 |\n",
      "|  22.5 |         0 |               0 |\n",
      "|  32.9 |       180 |              48 |\n",
      "|  36.8 |         0 |              27 |\n",
      "|  26.2 |       112 |              23 |\n",
      "|  30.1 |         0 |               0 |\n",
      "|  30.4 |         0 |              31 |\n",
      "+-------+-----------+-----------------+\n"
     ]
    }
   ],
   "source": [
    "mycursor.execute(\"SELECT BMI,Insulin,SkinThickness FROM diabetes WHERE Pregnancies=1 or Pregnancies=3\")\n",
    "out=mycursor.fetchall()\n",
    "from tabulate import tabulate\n",
    "print(tabulate(out,headers=[i[0] for i in mycursor.description],  tablefmt='psql'))"
   ]
  },
  {
   "cell_type": "code",
   "execution_count": 44,
   "metadata": {},
   "outputs": [],
   "source": [
    "mycursor.execute(\"USE e5\")"
   ]
  },
  {
   "cell_type": "code",
   "execution_count": 21,
   "metadata": {
    "id": "aVz-OXEb9SH2"
   },
   "outputs": [
    {
     "name": "stdout",
     "output_type": "stream",
     "text": [
      "+---------------+-----------+-----------------+-----------------+-----------+-------+----------------------------+-------+-----------+\n",
      "|   Pregnancies |   Glucose |   BloodPressure |   SkinThickness |   Insulin |   BMI |   DiabetesPedigreeFunction |   Age |   Outcome |\n",
      "|---------------+-----------+-----------------+-----------------+-----------+-------+----------------------------+-------+-----------|\n",
      "|             1 |        97 |              64 |              19 |        82 |  18.2 |                      0.299 |    21 |         0 |\n",
      "|             1 |        97 |              70 |              15 |         0 |  18.2 |                      0.147 |    21 |         0 |\n",
      "|             1 |        83 |              68 |               0 |         0 |  18.2 |                      0.624 |    27 |         0 |\n",
      "|             1 |        80 |              55 |               0 |         0 |  19.1 |                      0.258 |    21 |         0 |\n",
      "|             1 |       103 |              80 |              11 |        82 |  19.4 |                      0.491 |    22 |         0 |\n",
      "|             1 |       100 |              74 |              12 |        46 |  19.5 |                      0.149 |    28 |         0 |\n",
      "|             1 |        92 |              62 |              25 |        41 |  19.5 |                      0.482 |    25 |         0 |\n",
      "|             1 |        95 |              66 |              13 |        38 |  19.6 |                      0.334 |    25 |         0 |\n",
      "|             1 |        71 |              48 |              18 |        76 |  20.4 |                      0.323 |    22 |         0 |\n",
      "|             1 |        82 |              64 |              13 |        95 |  21.2 |                      0.415 |    23 |         0 |\n",
      "|             1 |        71 |              62 |               0 |         0 |  21.8 |                      0.416 |    26 |         0 |\n",
      "|             1 |       119 |              54 |              13 |        50 |  22.3 |                      0.205 |    24 |         0 |\n",
      "|             1 |        96 |             122 |               0 |         0 |  22.4 |                      0.207 |    27 |         0 |\n",
      "|             1 |        93 |              56 |              11 |         0 |  22.5 |                      0.417 |    22 |         0 |\n",
      "|             1 |        73 |              50 |              10 |         0 |  23   |                      0.248 |    21 |         0 |\n",
      "|             1 |       109 |              38 |              18 |       120 |  23.1 |                      0.407 |    26 |         0 |\n",
      "|             1 |        97 |              66 |              15 |       140 |  23.2 |                      0.487 |    22 |         0 |\n",
      "|             1 |       167 |              74 |              17 |       144 |  23.4 |                      0.447 |    33 |         1 |\n",
      "|             1 |       100 |              66 |              15 |        56 |  23.6 |                      0.666 |    26 |         0 |\n",
      "|             1 |       131 |              64 |              14 |       415 |  23.7 |                      0.389 |    21 |         0 |\n",
      "|             1 |        95 |              60 |              18 |        58 |  23.9 |                      0.26  |    22 |         0 |\n",
      "|             1 |       111 |              62 |              13 |       182 |  24   |                      0.138 |    23 |         0 |\n",
      "|             1 |       140 |              74 |              26 |       180 |  24.1 |                      0.828 |    23 |         0 |\n",
      "|             1 |       101 |              50 |              15 |        36 |  24.2 |                      0.526 |    26 |         0 |\n",
      "|             1 |       125 |              70 |              24 |       110 |  24.3 |                      0.221 |    25 |         0 |\n",
      "|             1 |       105 |              58 |               0 |         0 |  24.3 |                      0.187 |    21 |         0 |\n",
      "|             1 |        90 |              68 |               8 |         0 |  24.5 |                      1.138 |    36 |         0 |\n",
      "|             1 |         0 |              48 |              20 |         0 |  24.7 |                      0.14  |    22 |         0 |\n",
      "|             1 |        90 |              62 |              18 |        59 |  25.1 |                      1.268 |    25 |         0 |\n",
      "|             1 |        91 |              54 |              25 |       100 |  25.2 |                      0.234 |    23 |         0 |\n",
      "|             1 |       109 |              56 |              21 |       135 |  25.2 |                      0.833 |    23 |         0 |\n",
      "|             1 |       100 |              72 |              12 |        70 |  25.3 |                      0.658 |    28 |         0 |\n",
      "|             1 |       109 |              60 |               8 |       182 |  25.4 |                      0.947 |    21 |         0 |\n",
      "|             1 |        99 |              58 |              10 |         0 |  25.4 |                      0.551 |    21 |         0 |\n",
      "|             1 |        79 |              80 |              25 |        37 |  25.4 |                      0.583 |    22 |         0 |\n",
      "|             1 |       157 |              72 |              21 |       168 |  25.6 |                      0.123 |    24 |         0 |\n",
      "|             1 |       193 |              50 |              16 |       375 |  25.9 |                      0.655 |    24 |         0 |\n",
      "|             1 |       130 |              70 |              13 |       105 |  25.9 |                      0.472 |    22 |         0 |\n",
      "|             1 |        95 |              74 |              21 |        73 |  25.9 |                      0.673 |    36 |         0 |\n",
      "|             1 |       151 |              60 |               0 |         0 |  26.1 |                      0.179 |    22 |         0 |\n",
      "|             1 |       143 |              74 |              22 |        61 |  26.2 |                      0.256 |    21 |         0 |\n",
      "|             1 |       107 |              68 |              19 |         0 |  26.5 |                      0.165 |    24 |         0 |\n",
      "|             1 |        81 |              72 |              18 |        40 |  26.6 |                      0.283 |    24 |         0 |\n",
      "|             1 |        85 |              66 |              29 |         0 |  26.6 |                      0.351 |    31 |         0 |\n",
      "|             1 |       135 |              54 |               0 |         0 |  26.7 |                      0.687 |    62 |         0 |\n",
      "|             1 |       108 |              88 |              19 |         0 |  27.1 |                      0.4   |    24 |         0 |\n",
      "|             1 |        97 |              68 |              21 |         0 |  27.2 |                      1.095 |    22 |         0 |\n",
      "|             1 |        90 |              62 |              12 |        43 |  27.2 |                      0.58  |    24 |         0 |\n",
      "|             1 |       116 |              70 |              28 |         0 |  27.4 |                      0.204 |    21 |         0 |\n",
      "|             1 |       128 |              82 |              17 |       183 |  27.5 |                      0.115 |    22 |         0 |\n",
      "|             1 |         0 |              74 |              20 |        23 |  27.7 |                      0.299 |    21 |         0 |\n",
      "|             1 |       124 |              74 |              36 |         0 |  27.8 |                      0.1   |    30 |         0 |\n",
      "|             1 |        89 |              24 |              19 |        25 |  27.8 |                      0.559 |    21 |         0 |\n",
      "|             1 |        89 |              66 |              23 |        94 |  28.1 |                      0.167 |    21 |         0 |\n",
      "|             1 |       107 |              50 |              19 |         0 |  28.3 |                      0.181 |    29 |         0 |\n",
      "|             1 |       109 |              58 |              18 |       116 |  28.5 |                      0.219 |    22 |         0 |\n",
      "|             1 |       130 |              60 |              23 |       170 |  28.6 |                      0.692 |    21 |         0 |\n",
      "|             1 |       139 |              46 |              19 |        83 |  28.7 |                      0.654 |    22 |         0 |\n",
      "|             1 |       126 |              56 |              29 |       152 |  28.7 |                      0.801 |    21 |         0 |\n",
      "|             1 |        91 |              64 |              24 |         0 |  29.2 |                      0.192 |    21 |         0 |\n",
      "|             1 |       149 |              68 |              29 |       127 |  29.3 |                      0.349 |    42 |         1 |\n",
      "|             1 |       146 |              56 |               0 |         0 |  29.7 |                      0.564 |    29 |         0 |\n",
      "|             1 |        88 |              62 |              24 |        44 |  29.9 |                      0.422 |    23 |         0 |\n",
      "|             1 |        80 |              74 |              11 |        60 |  30   |                      0.527 |    22 |         0 |\n",
      "|             1 |       126 |              60 |               0 |         0 |  30.1 |                      0.349 |    47 |         1 |\n",
      "|             1 |       189 |              60 |              23 |       846 |  30.1 |                      0.398 |    59 |         1 |\n",
      "|             1 |       143 |              86 |              30 |       330 |  30.1 |                      0.892 |    23 |         0 |\n",
      "|             1 |       111 |              86 |              19 |         0 |  30.1 |                      0.143 |    23 |         0 |\n",
      "|             1 |        93 |              70 |              31 |         0 |  30.4 |                      0.315 |    23 |         0 |\n",
      "|             1 |       107 |              72 |              30 |        82 |  30.8 |                      0.821 |    24 |         0 |\n",
      "|             1 |        89 |              76 |              34 |        37 |  31.2 |                      0.192 |    23 |         0 |\n",
      "|             1 |         0 |              68 |              35 |         0 |  32   |                      0.389 |    22 |         0 |\n",
      "|             1 |        79 |              75 |              30 |         0 |  32   |                      0.396 |    22 |         0 |\n",
      "|             1 |       100 |              66 |              29 |       196 |  32   |                      0.444 |    42 |         0 |\n",
      "|             1 |        88 |              78 |              29 |        76 |  32   |                      0.365 |    29 |         0 |\n",
      "|             1 |       128 |              98 |              41 |        58 |  32   |                      1.321 |    33 |         1 |\n",
      "|             1 |       111 |              94 |               0 |         0 |  32.8 |                      0.265 |    45 |         0 |\n",
      "|             1 |       164 |              82 |              43 |        67 |  32.8 |                      0.341 |    50 |         0 |\n",
      "|             1 |       133 |             102 |              28 |       140 |  32.8 |                      0.234 |    45 |         1 |\n",
      "|             1 |        71 |              78 |              50 |        45 |  33.2 |                      0.422 |    21 |         0 |\n",
      "|             1 |        96 |              64 |              27 |        87 |  33.2 |                      0.289 |    21 |         0 |\n",
      "|             1 |       118 |              58 |              36 |        94 |  33.3 |                      0.261 |    23 |         0 |\n",
      "|             1 |       125 |              50 |              40 |       167 |  33.3 |                      0.962 |    28 |         1 |\n",
      "|             1 |        77 |              56 |              30 |        56 |  33.3 |                      1.251 |    24 |         0 |\n",
      "|             1 |       113 |              64 |              35 |         0 |  33.6 |                      0.543 |    21 |         1 |\n",
      "|             1 |       117 |              60 |              23 |       106 |  33.8 |                      0.466 |    27 |         0 |\n",
      "|             1 |       181 |              64 |              30 |       180 |  34.1 |                      0.328 |    38 |         1 |\n",
      "|             1 |       106 |              70 |              28 |       135 |  34.2 |                      0.142 |    22 |         0 |\n",
      "|             1 |       112 |              72 |              30 |       176 |  34.4 |                      0.528 |    25 |         0 |\n",
      "|             1 |       117 |              88 |              24 |       145 |  34.5 |                      0.403 |    40 |         1 |\n",
      "|             1 |       115 |              70 |              30 |        96 |  34.6 |                      0.529 |    32 |         1 |\n",
      "|             1 |        87 |              78 |              27 |        32 |  34.6 |                      0.101 |    22 |         0 |\n",
      "|             1 |       112 |              80 |              45 |       132 |  34.8 |                      0.217 |    24 |         0 |\n",
      "|             1 |        95 |              82 |              25 |       180 |  35   |                      0.233 |    43 |         1 |\n",
      "|             1 |       168 |              88 |              29 |         0 |  35   |                      0.905 |    52 |         1 |\n",
      "|             1 |       122 |              64 |              32 |       156 |  35.1 |                      0.692 |    30 |         1 |\n",
      "|             1 |       119 |              44 |              47 |        63 |  35.5 |                      0.28  |    25 |         0 |\n",
      "|             1 |       108 |              60 |              46 |       178 |  35.5 |                      0.415 |    24 |         0 |\n",
      "|             1 |       124 |              60 |              32 |         0 |  35.8 |                      0.514 |    21 |         0 |\n",
      "|             1 |       116 |              78 |              29 |       180 |  36.1 |                      0.496 |    25 |         0 |\n",
      "|             1 |       128 |              88 |              39 |       110 |  36.5 |                      1.057 |    37 |         1 |\n",
      "|             1 |       196 |              76 |              36 |       249 |  36.5 |                      0.875 |    29 |         1 |\n",
      "|             1 |       173 |              74 |               0 |         0 |  36.8 |                      0.088 |    38 |         1 |\n",
      "|             1 |        84 |              64 |              23 |       115 |  36.9 |                      0.471 |    28 |         0 |\n",
      "|             1 |        87 |              60 |              37 |        75 |  37.2 |                      0.509 |    22 |         0 |\n",
      "|             1 |       136 |              74 |              50 |       204 |  37.4 |                      0.399 |    24 |         0 |\n",
      "|             1 |       106 |              76 |               0 |         0 |  37.5 |                      0.197 |    26 |         0 |\n",
      "|             1 |        87 |              68 |              34 |        77 |  37.6 |                      0.401 |    24 |         0 |\n",
      "|             1 |       114 |              66 |              36 |       200 |  38.1 |                      0.289 |    21 |         0 |\n",
      "|             1 |        97 |              70 |              40 |         0 |  38.1 |                      0.218 |    30 |         0 |\n",
      "|             1 |        99 |              72 |              30 |        18 |  38.6 |                      0.412 |    21 |         0 |\n",
      "|             1 |       120 |              80 |              48 |       200 |  38.9 |                      1.162 |    41 |         0 |\n",
      "|             1 |       121 |              78 |              39 |        74 |  39   |                      0.261 |    28 |         0 |\n",
      "|             1 |       163 |              72 |               0 |         0 |  39   |                      1.222 |    33 |         1 |\n",
      "|             1 |       102 |              74 |               0 |         0 |  39.5 |                      0.293 |    42 |         1 |\n",
      "|             1 |       181 |              78 |              42 |       293 |  40   |                      1.258 |    22 |         1 |\n",
      "|             1 |       138 |              82 |               0 |         0 |  40.1 |                      0.236 |    28 |         0 |\n",
      "|             1 |       128 |              48 |              45 |       194 |  40.5 |                      0.613 |    24 |         1 |\n",
      "|             1 |       153 |              82 |              42 |       485 |  40.6 |                      0.687 |    23 |         0 |\n",
      "|             1 |       139 |              62 |              41 |       480 |  40.7 |                      0.536 |    21 |         0 |\n",
      "|             1 |        86 |              66 |              52 |        65 |  41.3 |                      0.917 |    29 |         0 |\n",
      "|             1 |       144 |              82 |              40 |         0 |  41.3 |                      0.607 |    28 |         0 |\n",
      "|             1 |       143 |              84 |              23 |       310 |  42.4 |                      1.076 |    22 |         0 |\n",
      "|             1 |       172 |              68 |              49 |       579 |  42.4 |                      0.702 |    28 |         1 |\n",
      "|             1 |       199 |              76 |              43 |         0 |  42.9 |                      1.394 |    22 |         1 |\n",
      "|             1 |       180 |               0 |               0 |         0 |  43.3 |                      0.282 |    41 |         1 |\n",
      "|             1 |       103 |              30 |              38 |        83 |  43.3 |                      0.183 |    33 |         0 |\n",
      "|             1 |        79 |              60 |              42 |        48 |  43.5 |                      0.678 |    23 |         0 |\n",
      "|             1 |       119 |              88 |              41 |       170 |  45.3 |                      0.507 |    26 |         0 |\n",
      "|             1 |       119 |              86 |              39 |       220 |  45.6 |                      0.808 |    29 |         1 |\n",
      "|             1 |       144 |              82 |              46 |       180 |  46.1 |                      0.335 |    46 |         1 |\n",
      "|             1 |        81 |              74 |              41 |        57 |  46.3 |                      1.096 |    32 |         0 |\n",
      "|             1 |       147 |              94 |              41 |         0 |  49.3 |                      0.358 |    27 |         1 |\n",
      "|             1 |       122 |              90 |              51 |       220 |  49.7 |                      0.325 |    31 |         1 |\n",
      "|             1 |        88 |              30 |              42 |        99 |  55   |                      0.496 |    26 |         1 |\n",
      "+---------------+-----------+-----------------+-----------------+-----------+-------+----------------------------+-------+-----------+\n"
     ]
    }
   ],
   "source": [
    "mycursor.execute(\"SELECT * FROM diabetes WHERE Pregnancies=1 ORDER BY BMI ASC\")\n",
    "\n",
    "out=mycursor.fetchall()\n",
    "from tabulate import tabulate\n",
    "print(tabulate(out,headers=[i[0] for i in mycursor.description],  tablefmt='psql'))"
   ]
  },
  {
   "cell_type": "code",
   "execution_count": 21,
   "metadata": {
    "colab": {
     "base_uri": "https://localhost:8080/"
    },
    "id": "gm96HgMQ9m8a",
    "outputId": "26890ce5-561c-496b-e04b-d61a49f04100"
   },
   "outputs": [
    {
     "name": "stdout",
     "output_type": "stream",
     "text": [
      "+----+-------+---------------+\n",
      "|    |   Age |   Pregnancies |\n",
      "|----+-------+---------------|\n",
      "|  0 |    53 |             2 |\n",
      "|  1 |    50 |             6 |\n",
      "|  2 |    51 |            11 |\n",
      "|  3 |    38 |            12 |\n",
      "|  4 |    57 |            13 |\n",
      "|  5 |    46 |            14 |\n",
      "|  6 |    43 |            15 |\n",
      "|  7 |    47 |            17 |\n",
      "+----+-------+---------------+\n"
     ]
    }
   ],
   "source": [
    "#mycursor.execute(\"SELECT * FROM diabetes GROUP BY Pregnancies \")\n",
    "#for x in mycursor:\n",
    "# print(x)\n",
    "mycursor.execute(\"SELECT Age,Pregnancies FROM diabetes GROUP BY Pregnancies HAVING age>35 \")\n",
    "out=mycursor.fetchall()\n",
    "from tabulate import tabulate\n",
    "print(tabulate(out,headers=[i[0] for i in mycursor.description],showindex=\"always\",  tablefmt='psql'))"
   ]
  },
  {
   "cell_type": "markdown",
   "metadata": {
    "id": "OQONDvDO7FFp"
   },
   "source": [
    "# constraints\n"
   ]
  },
  {
   "cell_type": "markdown",
   "metadata": {
    "id": "0OO8XaNvxJsa"
   },
   "source": [
    "# Constraints\n",
    "NOT NULL - Ensures that a column cannot have a NULL value\n",
    "\n",
    "UNIQUE - Ensures that all values in a column are different\n",
    "\n",
    "PRIMARY KEY - A combination of a NOT NULL and UNIQUE. Uniquely identifies each row in a table\n",
    "\n",
    "FOREIGN KEY - Prevents actions that would destroy links between tables\n",
    "\n",
    "CHECK - Ensures that the values in a column satisfies a specific condition\n",
    "\n",
    "DEFAULT - Sets a default value for a column if no value is specified\n",
    "\n",
    "CREATE INDEX - Used to create and retrieve data from the database very quickly"
   ]
  },
  {
   "cell_type": "code",
   "execution_count": 22,
   "metadata": {},
   "outputs": [],
   "source": [
    "mycursor.execute(\"CREATE DATABASE e55\")"
   ]
  },
  {
   "cell_type": "code",
   "execution_count": 23,
   "metadata": {},
   "outputs": [],
   "source": [
    "mycursor.execute(\"USE e55\")"
   ]
  },
  {
   "cell_type": "code",
   "execution_count": 2,
   "metadata": {
    "id": "yx6ze3K8J6m5"
   },
   "outputs": [],
   "source": [
    "#NOT NULL\n",
    "mycursor.execute(\"CREATE TABLE stu1 (no INTEGER,name TEXT NOT NULL,school VARCHAR(20)) \")"
   ]
  },
  {
   "cell_type": "code",
   "execution_count": 6,
   "metadata": {
    "colab": {
     "base_uri": "https://localhost:8080/",
     "height": 478
    },
    "id": "H4QLUOBrKfzo",
    "outputId": "3887f728-2f7b-4f2c-b2c6-ea76bb227cfe"
   },
   "outputs": [
    {
     "name": "stdout",
     "output_type": "stream",
     "text": [
      "12\n",
      "nethaji\n",
      "guvi\n"
     ]
    }
   ],
   "source": [
    "a=input()\n",
    "b=input()\n",
    "c=input()\n",
    "query=\"INSERT INTO stu1 (no,name,school) VALUES (%s,%s,%s)\"\n",
    "mycursor.execute(query,(None,b,c))\n",
    "mydb.commit()\n",
    "\n",
    "\n"
   ]
  },
  {
   "cell_type": "code",
   "execution_count": 12,
   "metadata": {
    "id": "N9dwzV7OKxG2"
   },
   "outputs": [
    {
     "ename": "ProgrammingError",
     "evalue": "1050 (42S01): Table 'u' already exists",
     "output_type": "error",
     "traceback": [
      "\u001b[1;31m---------------------------------------------------------------------------\u001b[0m",
      "\u001b[1;31mMySQLInterfaceError\u001b[0m                       Traceback (most recent call last)",
      "File \u001b[1;32m~\\AppData\\Local\\Programs\\Python\\Python310\\lib\\site-packages\\mysql\\connector\\connection_cext.py:555\u001b[0m, in \u001b[0;36mCMySQLConnection.cmd_query\u001b[1;34m(self, query, raw, buffered, raw_as_string)\u001b[0m\n\u001b[0;32m    554\u001b[0m         query \u001b[38;5;241m=\u001b[39m query\u001b[38;5;241m.\u001b[39mencode(\u001b[38;5;124m\"\u001b[39m\u001b[38;5;124mutf-8\u001b[39m\u001b[38;5;124m\"\u001b[39m)\n\u001b[1;32m--> 555\u001b[0m     \u001b[38;5;28;43mself\u001b[39;49m\u001b[38;5;241;43m.\u001b[39;49m\u001b[43m_cmysql\u001b[49m\u001b[38;5;241;43m.\u001b[39;49m\u001b[43mquery\u001b[49m\u001b[43m(\u001b[49m\n\u001b[0;32m    556\u001b[0m \u001b[43m        \u001b[49m\u001b[43mquery\u001b[49m\u001b[43m,\u001b[49m\n\u001b[0;32m    557\u001b[0m \u001b[43m        \u001b[49m\u001b[43mraw\u001b[49m\u001b[38;5;241;43m=\u001b[39;49m\u001b[43mraw\u001b[49m\u001b[43m,\u001b[49m\n\u001b[0;32m    558\u001b[0m \u001b[43m        \u001b[49m\u001b[43mbuffered\u001b[49m\u001b[38;5;241;43m=\u001b[39;49m\u001b[43mbuffered\u001b[49m\u001b[43m,\u001b[49m\n\u001b[0;32m    559\u001b[0m \u001b[43m        \u001b[49m\u001b[43mraw_as_string\u001b[49m\u001b[38;5;241;43m=\u001b[39;49m\u001b[43mraw_as_string\u001b[49m\u001b[43m,\u001b[49m\n\u001b[0;32m    560\u001b[0m \u001b[43m        \u001b[49m\u001b[43mquery_attrs\u001b[49m\u001b[38;5;241;43m=\u001b[39;49m\u001b[38;5;28;43mself\u001b[39;49m\u001b[38;5;241;43m.\u001b[39;49m\u001b[43m_query_attrs\u001b[49m\u001b[43m,\u001b[49m\n\u001b[0;32m    561\u001b[0m \u001b[43m    \u001b[49m\u001b[43m)\u001b[49m\n\u001b[0;32m    562\u001b[0m \u001b[38;5;28;01mexcept\u001b[39;00m MySQLInterfaceError \u001b[38;5;28;01mas\u001b[39;00m err:\n",
      "\u001b[1;31mMySQLInterfaceError\u001b[0m: Table 'u' already exists",
      "\nThe above exception was the direct cause of the following exception:\n",
      "\u001b[1;31mProgrammingError\u001b[0m                          Traceback (most recent call last)",
      "Input \u001b[1;32mIn [12]\u001b[0m, in \u001b[0;36m<cell line: 2>\u001b[1;34m()\u001b[0m\n\u001b[0;32m      1\u001b[0m \u001b[38;5;66;03m#unique and check\u001b[39;00m\n\u001b[1;32m----> 2\u001b[0m \u001b[43mmycursor\u001b[49m\u001b[38;5;241;43m.\u001b[39;49m\u001b[43mexecute\u001b[49m\u001b[43m(\u001b[49m\u001b[38;5;124;43m\"\u001b[39;49m\u001b[38;5;124;43mCREATE TABLE u (no INTEGER,name TEXT UNIQUE,school VARCHAR(20),age INT CHECK(age<18)) \u001b[39;49m\u001b[38;5;124;43m\"\u001b[39;49m\u001b[43m)\u001b[49m\n\u001b[0;32m      4\u001b[0m \u001b[38;5;124m\"\u001b[39m\u001b[38;5;124mphone INT \u001b[39m\u001b[38;5;124m\"\u001b[39m\n",
      "File \u001b[1;32m~\\AppData\\Local\\Programs\\Python\\Python310\\lib\\site-packages\\mysql\\connector\\cursor_cext.py:276\u001b[0m, in \u001b[0;36mCMySQLCursor.execute\u001b[1;34m(self, operation, params, multi)\u001b[0m\n\u001b[0;32m    271\u001b[0m             \u001b[38;5;28;01mraise\u001b[39;00m ProgrammingError(\n\u001b[0;32m    272\u001b[0m                 \u001b[38;5;124m\"\u001b[39m\u001b[38;5;124mNot all parameters were used in the SQL statement\u001b[39m\u001b[38;5;124m\"\u001b[39m\n\u001b[0;32m    273\u001b[0m             )\n\u001b[0;32m    275\u001b[0m \u001b[38;5;28;01mtry\u001b[39;00m:\n\u001b[1;32m--> 276\u001b[0m     result \u001b[38;5;241m=\u001b[39m \u001b[38;5;28;43mself\u001b[39;49m\u001b[38;5;241;43m.\u001b[39;49m\u001b[43m_cnx\u001b[49m\u001b[38;5;241;43m.\u001b[39;49m\u001b[43mcmd_query\u001b[49m\u001b[43m(\u001b[49m\n\u001b[0;32m    277\u001b[0m \u001b[43m        \u001b[49m\u001b[43mstmt\u001b[49m\u001b[43m,\u001b[49m\n\u001b[0;32m    278\u001b[0m \u001b[43m        \u001b[49m\u001b[43mraw\u001b[49m\u001b[38;5;241;43m=\u001b[39;49m\u001b[38;5;28;43mself\u001b[39;49m\u001b[38;5;241;43m.\u001b[39;49m\u001b[43m_raw\u001b[49m\u001b[43m,\u001b[49m\n\u001b[0;32m    279\u001b[0m \u001b[43m        \u001b[49m\u001b[43mbuffered\u001b[49m\u001b[38;5;241;43m=\u001b[39;49m\u001b[38;5;28;43mself\u001b[39;49m\u001b[38;5;241;43m.\u001b[39;49m\u001b[43m_buffered\u001b[49m\u001b[43m,\u001b[49m\n\u001b[0;32m    280\u001b[0m \u001b[43m        \u001b[49m\u001b[43mraw_as_string\u001b[49m\u001b[38;5;241;43m=\u001b[39;49m\u001b[38;5;28;43mself\u001b[39;49m\u001b[38;5;241;43m.\u001b[39;49m\u001b[43m_raw_as_string\u001b[49m\u001b[43m,\u001b[49m\n\u001b[0;32m    281\u001b[0m \u001b[43m    \u001b[49m\u001b[43m)\u001b[49m\n\u001b[0;32m    282\u001b[0m \u001b[38;5;28;01mexcept\u001b[39;00m MySQLInterfaceError \u001b[38;5;28;01mas\u001b[39;00m err:\n\u001b[0;32m    283\u001b[0m     \u001b[38;5;28;01mraise\u001b[39;00m get_mysql_exception(\n\u001b[0;32m    284\u001b[0m         msg\u001b[38;5;241m=\u001b[39merr\u001b[38;5;241m.\u001b[39mmsg, errno\u001b[38;5;241m=\u001b[39merr\u001b[38;5;241m.\u001b[39merrno, sqlstate\u001b[38;5;241m=\u001b[39merr\u001b[38;5;241m.\u001b[39msqlstate\n\u001b[0;32m    285\u001b[0m     ) \u001b[38;5;28;01mfrom\u001b[39;00m \u001b[38;5;21;01merr\u001b[39;00m\n",
      "File \u001b[1;32m~\\AppData\\Local\\Programs\\Python\\Python310\\lib\\site-packages\\mysql\\connector\\connection_cext.py:563\u001b[0m, in \u001b[0;36mCMySQLConnection.cmd_query\u001b[1;34m(self, query, raw, buffered, raw_as_string)\u001b[0m\n\u001b[0;32m    555\u001b[0m     \u001b[38;5;28mself\u001b[39m\u001b[38;5;241m.\u001b[39m_cmysql\u001b[38;5;241m.\u001b[39mquery(\n\u001b[0;32m    556\u001b[0m         query,\n\u001b[0;32m    557\u001b[0m         raw\u001b[38;5;241m=\u001b[39mraw,\n\u001b[1;32m   (...)\u001b[0m\n\u001b[0;32m    560\u001b[0m         query_attrs\u001b[38;5;241m=\u001b[39m\u001b[38;5;28mself\u001b[39m\u001b[38;5;241m.\u001b[39m_query_attrs,\n\u001b[0;32m    561\u001b[0m     )\n\u001b[0;32m    562\u001b[0m \u001b[38;5;28;01mexcept\u001b[39;00m MySQLInterfaceError \u001b[38;5;28;01mas\u001b[39;00m err:\n\u001b[1;32m--> 563\u001b[0m     \u001b[38;5;28;01mraise\u001b[39;00m get_mysql_exception(\n\u001b[0;32m    564\u001b[0m         err\u001b[38;5;241m.\u001b[39merrno, msg\u001b[38;5;241m=\u001b[39merr\u001b[38;5;241m.\u001b[39mmsg, sqlstate\u001b[38;5;241m=\u001b[39merr\u001b[38;5;241m.\u001b[39msqlstate\n\u001b[0;32m    565\u001b[0m     ) \u001b[38;5;28;01mfrom\u001b[39;00m \u001b[38;5;21;01merr\u001b[39;00m\n\u001b[0;32m    566\u001b[0m \u001b[38;5;28;01mexcept\u001b[39;00m \u001b[38;5;167;01mAttributeError\u001b[39;00m \u001b[38;5;28;01mas\u001b[39;00m err:\n\u001b[0;32m    567\u001b[0m     addr \u001b[38;5;241m=\u001b[39m (\n\u001b[0;32m    568\u001b[0m         \u001b[38;5;28mself\u001b[39m\u001b[38;5;241m.\u001b[39m_unix_socket \u001b[38;5;28;01mif\u001b[39;00m \u001b[38;5;28mself\u001b[39m\u001b[38;5;241m.\u001b[39m_unix_socket \u001b[38;5;28;01melse\u001b[39;00m \u001b[38;5;124mf\u001b[39m\u001b[38;5;124m\"\u001b[39m\u001b[38;5;132;01m{\u001b[39;00m\u001b[38;5;28mself\u001b[39m\u001b[38;5;241m.\u001b[39m_host\u001b[38;5;132;01m}\u001b[39;00m\u001b[38;5;124m:\u001b[39m\u001b[38;5;132;01m{\u001b[39;00m\u001b[38;5;28mself\u001b[39m\u001b[38;5;241m.\u001b[39m_port\u001b[38;5;132;01m}\u001b[39;00m\u001b[38;5;124m\"\u001b[39m\n\u001b[0;32m    569\u001b[0m     )\n",
      "\u001b[1;31mProgrammingError\u001b[0m: 1050 (42S01): Table 'u' already exists"
     ]
    }
   ],
   "source": [
    "#unique and check\n",
    "mycursor.execute(\"CREATE TABLE u (no INTEGER,name TEXT UNIQUE,school VARCHAR(20),age INT CHECK(age<18)) \")\n"
   ]
  },
  {
   "cell_type": "code",
   "execution_count": null,
   "metadata": {},
   "outputs": [],
   "source": []
  },
  {
   "cell_type": "code",
   "execution_count": 13,
   "metadata": {
    "colab": {
     "base_uri": "https://localhost:8080/"
    },
    "id": "dF6Jwl2sNLnl",
    "outputId": "dbd1e561-d7ce-415f-a7bc-822e39973197"
   },
   "outputs": [
    {
     "ename": "KeyboardInterrupt",
     "evalue": "Interrupted by user",
     "output_type": "error",
     "traceback": [
      "\u001b[1;31m---------------------------------------------------------------------------\u001b[0m",
      "\u001b[1;31mKeyboardInterrupt\u001b[0m                         Traceback (most recent call last)",
      "Input \u001b[1;32mIn [13]\u001b[0m, in \u001b[0;36m<cell line: 1>\u001b[1;34m()\u001b[0m\n\u001b[1;32m----> 1\u001b[0m a\u001b[38;5;241m=\u001b[39m\u001b[38;5;28;43minput\u001b[39;49m\u001b[43m(\u001b[49m\u001b[43m)\u001b[49m\n\u001b[0;32m      2\u001b[0m b\u001b[38;5;241m=\u001b[39m\u001b[38;5;28minput\u001b[39m()\n\u001b[0;32m      3\u001b[0m c\u001b[38;5;241m=\u001b[39m\u001b[38;5;28minput\u001b[39m()\n",
      "File \u001b[1;32m~\\AppData\\Local\\Programs\\Python\\Python310\\lib\\site-packages\\ipykernel\\kernelbase.py:1177\u001b[0m, in \u001b[0;36mKernel.raw_input\u001b[1;34m(self, prompt)\u001b[0m\n\u001b[0;32m   1173\u001b[0m \u001b[38;5;28;01mif\u001b[39;00m \u001b[38;5;129;01mnot\u001b[39;00m \u001b[38;5;28mself\u001b[39m\u001b[38;5;241m.\u001b[39m_allow_stdin:\n\u001b[0;32m   1174\u001b[0m     \u001b[38;5;28;01mraise\u001b[39;00m StdinNotImplementedError(\n\u001b[0;32m   1175\u001b[0m         \u001b[38;5;124m\"\u001b[39m\u001b[38;5;124mraw_input was called, but this frontend does not support input requests.\u001b[39m\u001b[38;5;124m\"\u001b[39m\n\u001b[0;32m   1176\u001b[0m     )\n\u001b[1;32m-> 1177\u001b[0m \u001b[38;5;28;01mreturn\u001b[39;00m \u001b[38;5;28;43mself\u001b[39;49m\u001b[38;5;241;43m.\u001b[39;49m\u001b[43m_input_request\u001b[49m\u001b[43m(\u001b[49m\n\u001b[0;32m   1178\u001b[0m \u001b[43m    \u001b[49m\u001b[38;5;28;43mstr\u001b[39;49m\u001b[43m(\u001b[49m\u001b[43mprompt\u001b[49m\u001b[43m)\u001b[49m\u001b[43m,\u001b[49m\n\u001b[0;32m   1179\u001b[0m \u001b[43m    \u001b[49m\u001b[38;5;28;43mself\u001b[39;49m\u001b[38;5;241;43m.\u001b[39;49m\u001b[43m_parent_ident\u001b[49m\u001b[43m[\u001b[49m\u001b[38;5;124;43m\"\u001b[39;49m\u001b[38;5;124;43mshell\u001b[39;49m\u001b[38;5;124;43m\"\u001b[39;49m\u001b[43m]\u001b[49m\u001b[43m,\u001b[49m\n\u001b[0;32m   1180\u001b[0m \u001b[43m    \u001b[49m\u001b[38;5;28;43mself\u001b[39;49m\u001b[38;5;241;43m.\u001b[39;49m\u001b[43mget_parent\u001b[49m\u001b[43m(\u001b[49m\u001b[38;5;124;43m\"\u001b[39;49m\u001b[38;5;124;43mshell\u001b[39;49m\u001b[38;5;124;43m\"\u001b[39;49m\u001b[43m)\u001b[49m\u001b[43m,\u001b[49m\n\u001b[0;32m   1181\u001b[0m \u001b[43m    \u001b[49m\u001b[43mpassword\u001b[49m\u001b[38;5;241;43m=\u001b[39;49m\u001b[38;5;28;43;01mFalse\u001b[39;49;00m\u001b[43m,\u001b[49m\n\u001b[0;32m   1182\u001b[0m \u001b[43m\u001b[49m\u001b[43m)\u001b[49m\n",
      "File \u001b[1;32m~\\AppData\\Local\\Programs\\Python\\Python310\\lib\\site-packages\\ipykernel\\kernelbase.py:1219\u001b[0m, in \u001b[0;36mKernel._input_request\u001b[1;34m(self, prompt, ident, parent, password)\u001b[0m\n\u001b[0;32m   1216\u001b[0m             \u001b[38;5;28;01mbreak\u001b[39;00m\n\u001b[0;32m   1217\u001b[0m \u001b[38;5;28;01mexcept\u001b[39;00m \u001b[38;5;167;01mKeyboardInterrupt\u001b[39;00m:\n\u001b[0;32m   1218\u001b[0m     \u001b[38;5;66;03m# re-raise KeyboardInterrupt, to truncate traceback\u001b[39;00m\n\u001b[1;32m-> 1219\u001b[0m     \u001b[38;5;28;01mraise\u001b[39;00m \u001b[38;5;167;01mKeyboardInterrupt\u001b[39;00m(\u001b[38;5;124m\"\u001b[39m\u001b[38;5;124mInterrupted by user\u001b[39m\u001b[38;5;124m\"\u001b[39m) \u001b[38;5;28;01mfrom\u001b[39;00m \u001b[38;5;28mNone\u001b[39m\n\u001b[0;32m   1220\u001b[0m \u001b[38;5;28;01mexcept\u001b[39;00m \u001b[38;5;167;01mException\u001b[39;00m:\n\u001b[0;32m   1221\u001b[0m     \u001b[38;5;28mself\u001b[39m\u001b[38;5;241m.\u001b[39mlog\u001b[38;5;241m.\u001b[39mwarning(\u001b[38;5;124m\"\u001b[39m\u001b[38;5;124mInvalid Message:\u001b[39m\u001b[38;5;124m\"\u001b[39m, exc_info\u001b[38;5;241m=\u001b[39m\u001b[38;5;28;01mTrue\u001b[39;00m)\n",
      "\u001b[1;31mKeyboardInterrupt\u001b[0m: Interrupted by user"
     ]
    }
   ],
   "source": [
    "a=input()\n",
    "b=input()\n",
    "c=input()\n",
    "d=input()\n",
    "query=\"INSERT INTO u (no,name,school,age) VALUES (%s,%s,%s,%s)\"\n",
    "mycursor.execute(query,(a,b,c,d))\n",
    "mydb.commit()\n",
    "#duplicate entry error"
   ]
  },
  {
   "cell_type": "code",
   "execution_count": null,
   "metadata": {},
   "outputs": [],
   "source": [
    "create a table with 4 columns as follows\n",
    "1-name\n",
    "2phonenumber(lenth must be 10 and it must number only)\n",
    "3mail id\n",
    "4city"
   ]
  },
  {
   "cell_type": "code",
   "execution_count": null,
   "metadata": {},
   "outputs": [],
   "source": [
    "my"
   ]
  },
  {
   "cell_type": "code",
   "execution_count": null,
   "metadata": {
    "id": "pwcyIdoJtx1w"
   },
   "outputs": [],
   "source": [
    "#creating an index which is not visible\n",
    "mycursor.execute(\"CREATE INDEX user_id ON test2 (accno, name)\")\n"
   ]
  },
  {
   "cell_type": "code",
   "execution_count": null,
   "metadata": {
    "colab": {
     "base_uri": "https://localhost:8080/"
    },
    "id": "xNfdU2kxv8b-",
    "outputId": "1e35695c-1f6c-4b44-f113-1b444089b374"
   },
   "outputs": [
    {
     "name": "stdout",
     "output_type": "stream",
     "text": [
      "[('u', 0, 'name', 1, 'name', 'A', None, None, None, 'YES', 'HASH', '', '')]\n",
      "+---+---+------+---+------+---+--+--+--+-----+------+--+--+\n",
      "| u | 0 | name | 1 | name | A |  |  |  | YES | HASH |  |  |\n",
      "+---+---+------+---+------+---+--+--+--+-----+------+--+--+\n"
     ]
    }
   ],
   "source": [
    "mycursor.execute(\"SHOW INDEXES FROM u \")\n",
    "out=mycursor.fetchall()\n",
    "print(out)\n",
    "from tabulate import tabulate\n",
    "print(tabulate(out, tablefmt='psql'))"
   ]
  },
  {
   "cell_type": "code",
   "execution_count": null,
   "metadata": {
    "id": "UnwgGcyovPHS"
   },
   "outputs": [],
   "source": [
    "mydb.commit()"
   ]
  },
  {
   "cell_type": "markdown",
   "metadata": {
    "id": "KBQrywlCTKFG"
   },
   "source": [
    "# PRIMARY KEY \n",
    "Constraint\n",
    "This constraint is used to identify each record in a table uniquely. If the column contains primary key constraints, then it cannot be null or empty. A table may have duplicate columns, but it can contain only one primary key. It always contains unique value into a column\n",
    "\n",
    "#Foreign Key Constraint\n",
    "This constraint is used to link two tables together. It is also known as the referencing key. A foreign key column matches the primary key field of another table. It means a foreign key field in one table refers to the primary key field of another table\n",
    "\n",
    "\n",
    "A FOREIGN KEY constraint does not have to be linked only to a PRIMARY KEY constraint in another table; it can also be defined to reference the columns of a UNIQUE constraint in another table."
   ]
  },
  {
   "cell_type": "code",
   "execution_count": 14,
   "metadata": {
    "id": "Hd8zEoKNNP-x"
   },
   "outputs": [],
   "source": [
    "mycursor.execute(\"CREATE TABLE aadhardetails (name VARCHAR(30),ADDRESS VARCHAR(20),AADHARID INT(16) PRIMARY KEY)\")"
   ]
  },
  {
   "cell_type": "code",
   "execution_count": 17,
   "metadata": {
    "id": "M2dxVdkpkFd0"
   },
   "outputs": [
    {
     "ename": "IntegrityError",
     "evalue": "1062 (23000): Duplicate entry '2147483647' for key 'PRIMARY'",
     "output_type": "error",
     "traceback": [
      "\u001b[1;31m---------------------------------------------------------------------------\u001b[0m",
      "\u001b[1;31mMySQLInterfaceError\u001b[0m                       Traceback (most recent call last)",
      "File \u001b[1;32m~\\AppData\\Local\\Programs\\Python\\Python310\\lib\\site-packages\\mysql\\connector\\connection_cext.py:555\u001b[0m, in \u001b[0;36mCMySQLConnection.cmd_query\u001b[1;34m(self, query, raw, buffered, raw_as_string)\u001b[0m\n\u001b[0;32m    554\u001b[0m         query \u001b[38;5;241m=\u001b[39m query\u001b[38;5;241m.\u001b[39mencode(\u001b[38;5;124m\"\u001b[39m\u001b[38;5;124mutf-8\u001b[39m\u001b[38;5;124m\"\u001b[39m)\n\u001b[1;32m--> 555\u001b[0m     \u001b[38;5;28;43mself\u001b[39;49m\u001b[38;5;241;43m.\u001b[39;49m\u001b[43m_cmysql\u001b[49m\u001b[38;5;241;43m.\u001b[39;49m\u001b[43mquery\u001b[49m\u001b[43m(\u001b[49m\n\u001b[0;32m    556\u001b[0m \u001b[43m        \u001b[49m\u001b[43mquery\u001b[49m\u001b[43m,\u001b[49m\n\u001b[0;32m    557\u001b[0m \u001b[43m        \u001b[49m\u001b[43mraw\u001b[49m\u001b[38;5;241;43m=\u001b[39;49m\u001b[43mraw\u001b[49m\u001b[43m,\u001b[49m\n\u001b[0;32m    558\u001b[0m \u001b[43m        \u001b[49m\u001b[43mbuffered\u001b[49m\u001b[38;5;241;43m=\u001b[39;49m\u001b[43mbuffered\u001b[49m\u001b[43m,\u001b[49m\n\u001b[0;32m    559\u001b[0m \u001b[43m        \u001b[49m\u001b[43mraw_as_string\u001b[49m\u001b[38;5;241;43m=\u001b[39;49m\u001b[43mraw_as_string\u001b[49m\u001b[43m,\u001b[49m\n\u001b[0;32m    560\u001b[0m \u001b[43m        \u001b[49m\u001b[43mquery_attrs\u001b[49m\u001b[38;5;241;43m=\u001b[39;49m\u001b[38;5;28;43mself\u001b[39;49m\u001b[38;5;241;43m.\u001b[39;49m\u001b[43m_query_attrs\u001b[49m\u001b[43m,\u001b[49m\n\u001b[0;32m    561\u001b[0m \u001b[43m    \u001b[49m\u001b[43m)\u001b[49m\n\u001b[0;32m    562\u001b[0m \u001b[38;5;28;01mexcept\u001b[39;00m MySQLInterfaceError \u001b[38;5;28;01mas\u001b[39;00m err:\n",
      "\u001b[1;31mMySQLInterfaceError\u001b[0m: Duplicate entry '2147483647' for key 'PRIMARY'",
      "\nThe above exception was the direct cause of the following exception:\n",
      "\u001b[1;31mIntegrityError\u001b[0m                            Traceback (most recent call last)",
      "Input \u001b[1;32mIn [17]\u001b[0m, in \u001b[0;36m<cell line: 1>\u001b[1;34m()\u001b[0m\n\u001b[1;32m----> 1\u001b[0m \u001b[43mmycursor\u001b[49m\u001b[38;5;241;43m.\u001b[39;49m\u001b[43mexecute\u001b[49m\u001b[43m(\u001b[49m\u001b[38;5;124;43m\"\u001b[39;49m\u001b[38;5;124;43mINSERT INTO aadhardetails (name,address,aadharid) VALUES(\u001b[39;49m\u001b[38;5;124;43m'\u001b[39;49m\u001b[38;5;124;43mnetthaji\u001b[39;49m\u001b[38;5;124;43m'\u001b[39;49m\u001b[38;5;124;43m,\u001b[39;49m\u001b[38;5;124;43m'\u001b[39;49m\u001b[38;5;124;43mcoimbatore\u001b[39;49m\u001b[38;5;124;43m'\u001b[39;49m\u001b[38;5;124;43m,2234567812341234)\u001b[39;49m\u001b[38;5;124;43m\"\u001b[39;49m\u001b[43m)\u001b[49m\n",
      "File \u001b[1;32m~\\AppData\\Local\\Programs\\Python\\Python310\\lib\\site-packages\\mysql\\connector\\cursor_cext.py:276\u001b[0m, in \u001b[0;36mCMySQLCursor.execute\u001b[1;34m(self, operation, params, multi)\u001b[0m\n\u001b[0;32m    271\u001b[0m             \u001b[38;5;28;01mraise\u001b[39;00m ProgrammingError(\n\u001b[0;32m    272\u001b[0m                 \u001b[38;5;124m\"\u001b[39m\u001b[38;5;124mNot all parameters were used in the SQL statement\u001b[39m\u001b[38;5;124m\"\u001b[39m\n\u001b[0;32m    273\u001b[0m             )\n\u001b[0;32m    275\u001b[0m \u001b[38;5;28;01mtry\u001b[39;00m:\n\u001b[1;32m--> 276\u001b[0m     result \u001b[38;5;241m=\u001b[39m \u001b[38;5;28;43mself\u001b[39;49m\u001b[38;5;241;43m.\u001b[39;49m\u001b[43m_cnx\u001b[49m\u001b[38;5;241;43m.\u001b[39;49m\u001b[43mcmd_query\u001b[49m\u001b[43m(\u001b[49m\n\u001b[0;32m    277\u001b[0m \u001b[43m        \u001b[49m\u001b[43mstmt\u001b[49m\u001b[43m,\u001b[49m\n\u001b[0;32m    278\u001b[0m \u001b[43m        \u001b[49m\u001b[43mraw\u001b[49m\u001b[38;5;241;43m=\u001b[39;49m\u001b[38;5;28;43mself\u001b[39;49m\u001b[38;5;241;43m.\u001b[39;49m\u001b[43m_raw\u001b[49m\u001b[43m,\u001b[49m\n\u001b[0;32m    279\u001b[0m \u001b[43m        \u001b[49m\u001b[43mbuffered\u001b[49m\u001b[38;5;241;43m=\u001b[39;49m\u001b[38;5;28;43mself\u001b[39;49m\u001b[38;5;241;43m.\u001b[39;49m\u001b[43m_buffered\u001b[49m\u001b[43m,\u001b[49m\n\u001b[0;32m    280\u001b[0m \u001b[43m        \u001b[49m\u001b[43mraw_as_string\u001b[49m\u001b[38;5;241;43m=\u001b[39;49m\u001b[38;5;28;43mself\u001b[39;49m\u001b[38;5;241;43m.\u001b[39;49m\u001b[43m_raw_as_string\u001b[49m\u001b[43m,\u001b[49m\n\u001b[0;32m    281\u001b[0m \u001b[43m    \u001b[49m\u001b[43m)\u001b[49m\n\u001b[0;32m    282\u001b[0m \u001b[38;5;28;01mexcept\u001b[39;00m MySQLInterfaceError \u001b[38;5;28;01mas\u001b[39;00m err:\n\u001b[0;32m    283\u001b[0m     \u001b[38;5;28;01mraise\u001b[39;00m get_mysql_exception(\n\u001b[0;32m    284\u001b[0m         msg\u001b[38;5;241m=\u001b[39merr\u001b[38;5;241m.\u001b[39mmsg, errno\u001b[38;5;241m=\u001b[39merr\u001b[38;5;241m.\u001b[39merrno, sqlstate\u001b[38;5;241m=\u001b[39merr\u001b[38;5;241m.\u001b[39msqlstate\n\u001b[0;32m    285\u001b[0m     ) \u001b[38;5;28;01mfrom\u001b[39;00m \u001b[38;5;21;01merr\u001b[39;00m\n",
      "File \u001b[1;32m~\\AppData\\Local\\Programs\\Python\\Python310\\lib\\site-packages\\mysql\\connector\\connection_cext.py:563\u001b[0m, in \u001b[0;36mCMySQLConnection.cmd_query\u001b[1;34m(self, query, raw, buffered, raw_as_string)\u001b[0m\n\u001b[0;32m    555\u001b[0m     \u001b[38;5;28mself\u001b[39m\u001b[38;5;241m.\u001b[39m_cmysql\u001b[38;5;241m.\u001b[39mquery(\n\u001b[0;32m    556\u001b[0m         query,\n\u001b[0;32m    557\u001b[0m         raw\u001b[38;5;241m=\u001b[39mraw,\n\u001b[1;32m   (...)\u001b[0m\n\u001b[0;32m    560\u001b[0m         query_attrs\u001b[38;5;241m=\u001b[39m\u001b[38;5;28mself\u001b[39m\u001b[38;5;241m.\u001b[39m_query_attrs,\n\u001b[0;32m    561\u001b[0m     )\n\u001b[0;32m    562\u001b[0m \u001b[38;5;28;01mexcept\u001b[39;00m MySQLInterfaceError \u001b[38;5;28;01mas\u001b[39;00m err:\n\u001b[1;32m--> 563\u001b[0m     \u001b[38;5;28;01mraise\u001b[39;00m get_mysql_exception(\n\u001b[0;32m    564\u001b[0m         err\u001b[38;5;241m.\u001b[39merrno, msg\u001b[38;5;241m=\u001b[39merr\u001b[38;5;241m.\u001b[39mmsg, sqlstate\u001b[38;5;241m=\u001b[39merr\u001b[38;5;241m.\u001b[39msqlstate\n\u001b[0;32m    565\u001b[0m     ) \u001b[38;5;28;01mfrom\u001b[39;00m \u001b[38;5;21;01merr\u001b[39;00m\n\u001b[0;32m    566\u001b[0m \u001b[38;5;28;01mexcept\u001b[39;00m \u001b[38;5;167;01mAttributeError\u001b[39;00m \u001b[38;5;28;01mas\u001b[39;00m err:\n\u001b[0;32m    567\u001b[0m     addr \u001b[38;5;241m=\u001b[39m (\n\u001b[0;32m    568\u001b[0m         \u001b[38;5;28mself\u001b[39m\u001b[38;5;241m.\u001b[39m_unix_socket \u001b[38;5;28;01mif\u001b[39;00m \u001b[38;5;28mself\u001b[39m\u001b[38;5;241m.\u001b[39m_unix_socket \u001b[38;5;28;01melse\u001b[39;00m \u001b[38;5;124mf\u001b[39m\u001b[38;5;124m\"\u001b[39m\u001b[38;5;132;01m{\u001b[39;00m\u001b[38;5;28mself\u001b[39m\u001b[38;5;241m.\u001b[39m_host\u001b[38;5;132;01m}\u001b[39;00m\u001b[38;5;124m:\u001b[39m\u001b[38;5;132;01m{\u001b[39;00m\u001b[38;5;28mself\u001b[39m\u001b[38;5;241m.\u001b[39m_port\u001b[38;5;132;01m}\u001b[39;00m\u001b[38;5;124m\"\u001b[39m\n\u001b[0;32m    569\u001b[0m     )\n",
      "\u001b[1;31mIntegrityError\u001b[0m: 1062 (23000): Duplicate entry '2147483647' for key 'PRIMARY'"
     ]
    }
   ],
   "source": [
    "mycursor.execute(\"INSERT INTO aadhardetails (name,address,aadharid) VALUES('netthaji','coimbatore',2234567812341234)\")"
   ]
  },
  {
   "cell_type": "code",
   "execution_count": 16,
   "metadata": {
    "id": "TRW6VJZeksy3"
   },
   "outputs": [],
   "source": [
    "mydb.commit()"
   ]
  },
  {
   "cell_type": "code",
   "execution_count": null,
   "metadata": {},
   "outputs": [],
   "source": [
    "pancard(pan no,name,addhar)\n",
    "panno -\n",
    "addhar no-FK(you Decide connection)\n",
    "linked to bankacc table(to column will you link it)"
   ]
  },
  {
   "cell_type": "code",
   "execution_count": 18,
   "metadata": {
    "id": "GvNBXjrsk1l-"
   },
   "outputs": [],
   "source": [
    "mycursor.execute(\"CREATE TABLE bankacc(name VARCHAR(20),type VARCHAR(2),accno INT PRIMARY KEY,aadhar INT ,FOREIGN KEY (aadhar)REFERENCES aadhardetails(aadharid))\")"
   ]
  },
  {
   "cell_type": "code",
   "execution_count": 22,
   "metadata": {
    "id": "5ADNCs5Bmm66"
   },
   "outputs": [],
   "source": [
    "mycursor.execute(\"INSERT INTO bankacc (name,type,accno,aadhar) VALUES('nethaji','sb',123457,2234567812341234)\")"
   ]
  },
  {
   "cell_type": "code",
   "execution_count": null,
   "metadata": {
    "id": "043M-5V7mekn"
   },
   "outputs": [],
   "source": [
    "mydb.commit()"
   ]
  },
  {
   "cell_type": "code",
   "execution_count": null,
   "metadata": {
    "id": "DvI2QRL3nP-S"
   },
   "outputs": [],
   "source": [
    "mycursor.execute(\"CREATE TABLE pancard(name VARCHAR(20),dob INT,panid VARCHAR(16),aadhar INT ,FOREIGN KEY(aadhar) REFERENCES aadhardetails(aadharid),PRIMARY KEY(panid,aadhar))\")"
   ]
  },
  {
   "cell_type": "code",
   "execution_count": null,
   "metadata": {
    "id": "C41ETuSdoDF4"
   },
   "outputs": [],
   "source": [
    "mycursor.execute(\"INSERT INTO pancard(name,dob,panid,aadhar) VALUES('nethaji',123,'BABPN78',12345678)\")"
   ]
  },
  {
   "cell_type": "code",
   "execution_count": null,
   "metadata": {
    "id": "dZhLuQ2UnzNZ"
   },
   "outputs": [],
   "source": [
    "mydb.commit()"
   ]
  },
  {
   "cell_type": "code",
   "execution_count": null,
   "metadata": {
    "colab": {
     "base_uri": "https://localhost:8080/"
    },
    "id": "MiRrd9xNrs_R",
    "outputId": "7552e481-6fed-416a-d267-236965eba316"
   },
   "outputs": [
    {
     "name": "stdout",
     "output_type": "stream",
     "text": [
      "Requirement already satisfied: tabulate in ./.local/lib/python3.8/site-packages (0.8.9)\r\n"
     ]
    }
   ],
   "source": [
    "!pip3 install tabulate"
   ]
  },
  {
   "cell_type": "code",
   "execution_count": null,
   "metadata": {
    "colab": {
     "base_uri": "https://localhost:8080/"
    },
    "id": "W6NdBWGLp0_i",
    "outputId": "95ca15db-77d9-4747-c92f-09c1f6b63bfb"
   },
   "outputs": [
    {
     "name": "stdout",
     "output_type": "stream",
     "text": [
      "[('accno', 'int(11)', 'NO', 'PRI', None, ''), ('name', 'text', 'YES', '', None, ''), ('empdoamin', 'varchar(20)', 'YES', '', None, ''), ('age', 'int(11)', 'YES', '', None, '')]\n",
      "+-----------+-------------+---------+--------+-------------+-------+\n",
      "|           |             | accno   | name   | empdomain   | age   |\n",
      "|-----------+-------------+---------+--------+-------------+-------|\n",
      "| accno     | int(11)     | NO      | PRI    |             |       |\n",
      "| name      | text        | YES     |        |             |       |\n",
      "| empdoamin | varchar(20) | YES     |        |             |       |\n",
      "| age       | int(11)     | YES     |        |             |       |\n",
      "+-----------+-------------+---------+--------+-------------+-------+\n"
     ]
    }
   ],
   "source": [
    "mycursor.execute(\"DESCRIBE test\")\n",
    "out=mycursor.fetchall()\n",
    "print(out)\n",
    "from tabulate import tabulate\n",
    "print(tabulate(out, headers=['accno', 'name','empdomain','age'], tablefmt='psql'))\n"
   ]
  },
  {
   "cell_type": "markdown",
   "metadata": {
    "id": "T9q37Nfuz0vb"
   },
   "source": [
    "# Partitions\n",
    "latest mysql doesnt support vertical partioning\n",
    "\n",
    "partitions can be enablesd and disables"
   ]
  },
  {
   "cell_type": "code",
   "execution_count": null,
   "metadata": {
    "id": "At5uqPr3GyYc"
   },
   "outputs": [],
   "source": [
    "mycursor.execute(\"SET @@global.sql_mode= ''\")"
   ]
  },
  {
   "cell_type": "code",
   "execution_count": null,
   "metadata": {
    "id": "svexJCyRz5EA"
   },
   "outputs": [],
   "source": [
    "# use football databse\n",
    "#to import big files change conf file as follows\n",
    "#SET @@global.sql_mode= '';    ----exec command\n",
    "\n",
    "#set global net_buffer_length=1000000; \n",
    "#set global max_allowed_packet=1000000000; \n",
    "mycursor.execute(\"CREATE TABLE crypto(timestamp INT,open DOUBLE ,close INT,high DOUBLE,low DOUBLE,volume DOUBLE)\")\n"
   ]
  },
  {
   "cell_type": "code",
   "execution_count": null,
   "metadata": {
    "id": "qP2JCXpmJCI1"
   },
   "outputs": [],
   "source": [
    "#by default we have varchar from dataset and it should bechanged to int for this operation\n",
    "mycursor.execute(\" ALTER TABLE forex\\\n",
    "PARTITION BY RANGE (close) (\\\n",
    "      partition p0 VALUES LESS THAN (10000),\\\n",
    "      partition p1 VALUES LESS THAN (20000),\\\n",
    "      partition p2 VALUES LESS THAN (30000),\\\n",
    "      partition p3 VALUES LESS THAN (40000),\\\n",
    "      partition p4 VALUES LESS THAN (50000),\\\n",
    "      partition p5 VALUES LESS THAN (60000),\\\n",
    "      partition p6 VALUES LESS THAN  MAXVALUE\\\n",
    "  )\")\n",
    "mydb.commit()\n"
   ]
  },
  {
   "cell_type": "code",
   "execution_count": null,
   "metadata": {
    "colab": {
     "base_uri": "https://localhost:8080/"
    },
    "id": "84Bo82zNOPya",
    "outputId": "4174d23b-76a7-48df-c07c-e6dbe9dcdcb1"
   },
   "outputs": [
    {
     "name": "stdout",
     "output_type": "stream",
     "text": [
      "[('def', 'guvi1', 'aadhardetails', None, None, None, None, None, None, None, None, None, 2, 8192, 16384, None, 0, 0, datetime.datetime(2022, 1, 21, 11, 44, 33), None, None, None, '', '', None), ('def', 'guvi1', 'bankacc', None, None, None, None, None, None, None, None, None, 2, 8192, 16384, None, 16384, 0, datetime.datetime(2022, 1, 21, 11, 52, 4), None, None, None, '', '', None), ('def', 'guvi1', 'blobtest1', None, None, None, None, None, None, None, None, None, 0, 0, 16384, None, 0, 0, datetime.datetime(2022, 1, 20, 11, 42, 15), None, None, None, '', '', None), ('def', 'guvi1', 'cons', None, None, None, None, None, None, None, None, None, 0, 0, 16384, None, 0, 0, datetime.datetime(2022, 1, 20, 10, 44, 6), None, None, None, '', '', None), ('def', 'guvi1', 'date', None, None, None, None, None, None, None, None, None, 7, 2340, 16384, None, 0, 0, datetime.datetime(2022, 1, 12, 0, 50, 57), datetime.datetime(2022, 1, 24, 8, 27, 6), None, None, '', '', None), ('def', 'guvi1', 'date1', None, None, None, None, None, None, None, None, None, 4, 4096, 16384, None, 0, 0, datetime.datetime(2022, 1, 12, 0, 49, 33), datetime.datetime(2022, 1, 24, 8, 27, 6), None, None, '', '', None), ('def', 'guvi1', 'datestrin', None, None, None, None, None, None, None, None, None, 13, 1260, 16384, None, 0, 0, datetime.datetime(2022, 1, 20, 11, 17, 45), None, None, None, '', '', None), ('def', 'guvi1', 'diabetes', None, None, None, None, None, None, None, None, None, 769, 106, 81920, None, 0, 0, datetime.datetime(2022, 1, 18, 7, 35, 12), None, None, None, '', '', None), ('def', 'guvi1', 'employee', None, None, None, None, None, None, None, None, None, 8, 2048, 16384, None, 0, 0, datetime.datetime(2022, 1, 24, 7, 26, 46), datetime.datetime(2022, 1, 24, 8, 18, 56), None, None, '', '', None), ('def', 'guvi1', 'forex', 'p0', None, 1, None, 'RANGE', None, '`close`', None, '10000', 14572, 109, 1589248, None, 0, 0, datetime.datetime(2022, 1, 24, 9, 56, 45), None, None, None, '', 'default', None), ('def', 'guvi1', 'forex', 'p1', None, 2, None, 'RANGE', None, '`close`', None, '20000', 2751, 95, 262144, None, 0, 0, datetime.datetime(2022, 1, 24, 9, 56, 45), None, None, None, '', 'default', None), ('def', 'guvi1', 'forex', 'p2', None, 3, None, 'RANGE', None, '`close`', None, '30000', 0, 0, 16384, None, 0, 0, datetime.datetime(2022, 1, 24, 9, 56, 45), None, None, None, '', 'default', None), ('def', 'guvi1', 'forex', 'p3', None, 4, None, 'RANGE', None, '`close`', None, '40000', 0, 0, 16384, None, 0, 0, datetime.datetime(2022, 1, 24, 9, 56, 45), None, None, None, '', 'default', None), ('def', 'guvi1', 'forex', 'p4', None, 5, None, 'RANGE', None, '`close`', None, '50000', 0, 0, 16384, None, 0, 0, datetime.datetime(2022, 1, 24, 9, 56, 45), None, None, None, '', 'default', None), ('def', 'guvi1', 'forex', 'p5', None, 6, None, 'RANGE', None, '`close`', None, '60000', 0, 0, 16384, None, 0, 0, datetime.datetime(2022, 1, 24, 9, 56, 45), None, None, None, '', 'default', None), ('def', 'guvi1', 'forex', 'p6', None, 7, None, 'RANGE', None, '`close`', None, 'MAXVALUE', 0, 0, 16384, None, 0, 0, datetime.datetime(2022, 1, 24, 9, 56, 45), None, None, None, '', 'default', None), ('def', 'guvi1', 'lucky', None, None, None, None, None, None, None, None, None, 2, 8192, 16384, None, 0, 0, datetime.datetime(2022, 1, 12, 0, 2, 52), None, None, None, '', '', None), ('def', 'guvi1', 'lucky1', None, None, None, None, None, None, None, None, None, 2, 8192, 16384, None, 0, 0, datetime.datetime(2022, 1, 20, 10, 9, 4), None, None, None, '', '', None), ('def', 'guvi1', 'mytable', None, None, None, None, None, None, None, None, None, 2, 8192, 16384, None, 0, 0, datetime.datetime(2022, 1, 20, 9, 48, 20), None, None, None, '', '', None), ('def', 'guvi1', 'nethaji', None, None, None, None, None, None, None, None, None, 0, 0, 16384, None, 0, 0, datetime.datetime(2022, 1, 12, 0, 25, 55), None, None, None, '', '', None), ('def', 'guvi1', 'stu1', None, None, None, None, None, None, None, None, None, 2, 8192, 16384, None, 0, 0, datetime.datetime(2022, 1, 24, 9, 21, 34), datetime.datetime(2022, 1, 24, 9, 22, 22), None, None, '', '', None), ('def', 'guvi1', 'u', None, None, None, None, None, None, None, None, None, 2, 8192, 16384, None, 16384, 0, datetime.datetime(2022, 1, 24, 9, 24, 29), datetime.datetime(2022, 1, 24, 9, 26, 35), None, None, '', '', None), ('def', 'guvi1', 'yourtable', None, None, None, None, None, None, None, None, None, 0, 0, 16384, None, 0, 0, datetime.datetime(2022, 1, 11, 23, 55, 23), None, None, None, '', '', None), ('def', 'guvi1', 'yourtable1', None, None, None, None, None, None, None, None, None, 0, 0, 16384, None, 0, 0, datetime.datetime(2022, 1, 11, 23, 56, 22), None, None, None, '', '', None)]\n",
      "+-----+-------+---------------+----+--+---+--+-------+--+---------+--+----------+-------+------+---------+--+-------+---+---------------------+---------------------+--+--+--+---------+--+\n",
      "| def | guvi1 | aadhardetails |    |  |   |  |       |  |         |  |          |     2 | 8192 |   16384 |  |     0 | 0 | 2022-01-21 11:44:33 |                     |  |  |  |         |  |\n",
      "| def | guvi1 | bankacc       |    |  |   |  |       |  |         |  |          |     2 | 8192 |   16384 |  | 16384 | 0 | 2022-01-21 11:52:04 |                     |  |  |  |         |  |\n",
      "| def | guvi1 | blobtest1     |    |  |   |  |       |  |         |  |          |     0 |    0 |   16384 |  |     0 | 0 | 2022-01-20 11:42:15 |                     |  |  |  |         |  |\n",
      "| def | guvi1 | cons          |    |  |   |  |       |  |         |  |          |     0 |    0 |   16384 |  |     0 | 0 | 2022-01-20 10:44:06 |                     |  |  |  |         |  |\n",
      "| def | guvi1 | date          |    |  |   |  |       |  |         |  |          |     7 | 2340 |   16384 |  |     0 | 0 | 2022-01-12 00:50:57 | 2022-01-24 08:27:06 |  |  |  |         |  |\n",
      "| def | guvi1 | date1         |    |  |   |  |       |  |         |  |          |     4 | 4096 |   16384 |  |     0 | 0 | 2022-01-12 00:49:33 | 2022-01-24 08:27:06 |  |  |  |         |  |\n",
      "| def | guvi1 | datestrin     |    |  |   |  |       |  |         |  |          |    13 | 1260 |   16384 |  |     0 | 0 | 2022-01-20 11:17:45 |                     |  |  |  |         |  |\n",
      "| def | guvi1 | diabetes      |    |  |   |  |       |  |         |  |          |   769 |  106 |   81920 |  |     0 | 0 | 2022-01-18 07:35:12 |                     |  |  |  |         |  |\n",
      "| def | guvi1 | employee      |    |  |   |  |       |  |         |  |          |     8 | 2048 |   16384 |  |     0 | 0 | 2022-01-24 07:26:46 | 2022-01-24 08:18:56 |  |  |  |         |  |\n",
      "| def | guvi1 | forex         | p0 |  | 1 |  | RANGE |  | `close` |  | 10000    | 14572 |  109 | 1589248 |  |     0 | 0 | 2022-01-24 09:56:45 |                     |  |  |  | default |  |\n",
      "| def | guvi1 | forex         | p1 |  | 2 |  | RANGE |  | `close` |  | 20000    |  2751 |   95 |  262144 |  |     0 | 0 | 2022-01-24 09:56:45 |                     |  |  |  | default |  |\n",
      "| def | guvi1 | forex         | p2 |  | 3 |  | RANGE |  | `close` |  | 30000    |     0 |    0 |   16384 |  |     0 | 0 | 2022-01-24 09:56:45 |                     |  |  |  | default |  |\n",
      "| def | guvi1 | forex         | p3 |  | 4 |  | RANGE |  | `close` |  | 40000    |     0 |    0 |   16384 |  |     0 | 0 | 2022-01-24 09:56:45 |                     |  |  |  | default |  |\n",
      "| def | guvi1 | forex         | p4 |  | 5 |  | RANGE |  | `close` |  | 50000    |     0 |    0 |   16384 |  |     0 | 0 | 2022-01-24 09:56:45 |                     |  |  |  | default |  |\n",
      "| def | guvi1 | forex         | p5 |  | 6 |  | RANGE |  | `close` |  | 60000    |     0 |    0 |   16384 |  |     0 | 0 | 2022-01-24 09:56:45 |                     |  |  |  | default |  |\n",
      "| def | guvi1 | forex         | p6 |  | 7 |  | RANGE |  | `close` |  | MAXVALUE |     0 |    0 |   16384 |  |     0 | 0 | 2022-01-24 09:56:45 |                     |  |  |  | default |  |\n",
      "| def | guvi1 | lucky         |    |  |   |  |       |  |         |  |          |     2 | 8192 |   16384 |  |     0 | 0 | 2022-01-12 00:02:52 |                     |  |  |  |         |  |\n",
      "| def | guvi1 | lucky1        |    |  |   |  |       |  |         |  |          |     2 | 8192 |   16384 |  |     0 | 0 | 2022-01-20 10:09:04 |                     |  |  |  |         |  |\n",
      "| def | guvi1 | mytable       |    |  |   |  |       |  |         |  |          |     2 | 8192 |   16384 |  |     0 | 0 | 2022-01-20 09:48:20 |                     |  |  |  |         |  |\n",
      "| def | guvi1 | nethaji       |    |  |   |  |       |  |         |  |          |     0 |    0 |   16384 |  |     0 | 0 | 2022-01-12 00:25:55 |                     |  |  |  |         |  |\n",
      "| def | guvi1 | stu1          |    |  |   |  |       |  |         |  |          |     2 | 8192 |   16384 |  |     0 | 0 | 2022-01-24 09:21:34 | 2022-01-24 09:22:22 |  |  |  |         |  |\n",
      "| def | guvi1 | u             |    |  |   |  |       |  |         |  |          |     2 | 8192 |   16384 |  | 16384 | 0 | 2022-01-24 09:24:29 | 2022-01-24 09:26:35 |  |  |  |         |  |\n",
      "| def | guvi1 | yourtable     |    |  |   |  |       |  |         |  |          |     0 |    0 |   16384 |  |     0 | 0 | 2022-01-11 23:55:23 |                     |  |  |  |         |  |\n",
      "| def | guvi1 | yourtable1    |    |  |   |  |       |  |         |  |          |     0 |    0 |   16384 |  |     0 | 0 | 2022-01-11 23:56:22 |                     |  |  |  |         |  |\n",
      "+-----+-------+---------------+----+--+---+--+-------+--+---------+--+----------+-------+------+---------+--+-------+---+---------------------+---------------------+--+--+--+---------+--+\n"
     ]
    }
   ],
   "source": [
    "#lets check\n",
    "mycursor.execute(\"SELECT * FROM information_schema.partitions WHERE TABLE_SCHEMA='guvi1' \")\n",
    "out=mycursor.fetchall()\n",
    "print(out)\n",
    "from tabulate import tabulate\n",
    "print(tabulate(out,  tablefmt='psql'))"
   ]
  },
  {
   "cell_type": "code",
   "execution_count": null,
   "metadata": {
    "id": "1CLIWFONK8kn"
   },
   "outputs": [],
   "source": [
    "#check also with wrong linits eg:35000 and 38000-->will return empty\n",
    "\n",
    "mycursor.execute(\" SELECT * FROM forex PARTITION (p1) WHERE close BETWEEN 10000 and 11000\")\n",
    "out=mycursor.fetchall()\n",
    "print(\"Total number of rows in table: \", mycursor.rowcount)\n",
    "print(out)\n",
    "from tabulate import tabulate\n",
    "print(tabulate(out, tablefmt='psql'))"
   ]
  },
  {
   "cell_type": "code",
   "execution_count": null,
   "metadata": {
    "id": "FOUFf2qfR9al"
   },
   "outputs": [],
   "source": []
  },
  {
   "cell_type": "code",
   "execution_count": 3,
   "metadata": {},
   "outputs": [
    {
     "ename": "SyntaxError",
     "evalue": "invalid syntax (1885787665.py, line 1)",
     "output_type": "error",
     "traceback": [
      "\u001b[1;36m  Input \u001b[1;32mIn [3]\u001b[1;36m\u001b[0m\n\u001b[1;33m    SELECT IF(500<1000, \"YES\", \"NO\");\u001b[0m\n\u001b[1;37m           ^\u001b[0m\n\u001b[1;31mSyntaxError\u001b[0m\u001b[1;31m:\u001b[0m invalid syntax\n"
     ]
    }
   ],
   "source": [
    "SELECT IF(500<1000, \"YES\", \"NO\");"
   ]
  },
  {
   "cell_type": "code",
   "execution_count": 9,
   "metadata": {},
   "outputs": [
    {
     "name": "stdout",
     "output_type": "stream",
     "text": [
      "+---------------+------------------------------+\n",
      "|   Pregnancies | IF(Age>10, 'MORE', 'LESS')   |\n",
      "|---------------+------------------------------|\n",
      "|             6 | MORE                         |\n",
      "|             1 | MORE                         |\n",
      "|             8 | MORE                         |\n",
      "|             1 | MORE                         |\n",
      "|             0 | MORE                         |\n",
      "|             5 | MORE                         |\n",
      "|             3 | MORE                         |\n",
      "|            10 | MORE                         |\n",
      "|             2 | MORE                         |\n",
      "|             8 | MORE                         |\n",
      "|             4 | MORE                         |\n",
      "|            10 | MORE                         |\n",
      "|            10 | MORE                         |\n",
      "|             1 | MORE                         |\n",
      "|             5 | MORE                         |\n",
      "|             7 | MORE                         |\n",
      "|             0 | MORE                         |\n",
      "|             7 | MORE                         |\n",
      "|             1 | MORE                         |\n",
      "|             1 | MORE                         |\n",
      "|             3 | MORE                         |\n",
      "|             8 | MORE                         |\n",
      "|             7 | MORE                         |\n",
      "|             9 | MORE                         |\n",
      "|            11 | MORE                         |\n",
      "|            10 | MORE                         |\n",
      "|             7 | MORE                         |\n",
      "|             1 | MORE                         |\n",
      "|            13 | MORE                         |\n",
      "|             5 | MORE                         |\n",
      "|             5 | MORE                         |\n",
      "|             3 | MORE                         |\n",
      "|             3 | MORE                         |\n",
      "|             6 | MORE                         |\n",
      "|            10 | MORE                         |\n",
      "|             4 | MORE                         |\n",
      "|            11 | MORE                         |\n",
      "|             9 | MORE                         |\n",
      "|             2 | MORE                         |\n",
      "|             4 | MORE                         |\n",
      "|             3 | MORE                         |\n",
      "|             7 | MORE                         |\n",
      "|             7 | MORE                         |\n",
      "|             9 | MORE                         |\n",
      "|             7 | MORE                         |\n",
      "|             0 | MORE                         |\n",
      "|             1 | MORE                         |\n",
      "|             2 | MORE                         |\n",
      "|             7 | MORE                         |\n",
      "|             7 | MORE                         |\n",
      "|             1 | MORE                         |\n",
      "|             1 | MORE                         |\n",
      "|             5 | MORE                         |\n",
      "|             8 | MORE                         |\n",
      "|             7 | MORE                         |\n",
      "|             1 | MORE                         |\n",
      "|             7 | MORE                         |\n",
      "|             0 | MORE                         |\n",
      "|             0 | MORE                         |\n",
      "|             0 | MORE                         |\n",
      "|             2 | MORE                         |\n",
      "|             8 | MORE                         |\n",
      "|             5 | MORE                         |\n",
      "|             2 | MORE                         |\n",
      "|             7 | MORE                         |\n",
      "|             5 | MORE                         |\n",
      "|             0 | MORE                         |\n",
      "|             2 | MORE                         |\n",
      "|             1 | MORE                         |\n",
      "|             4 | MORE                         |\n",
      "|             2 | MORE                         |\n",
      "|             5 | MORE                         |\n",
      "|            13 | MORE                         |\n",
      "|             4 | MORE                         |\n",
      "|             1 | MORE                         |\n",
      "|             1 | MORE                         |\n",
      "|             7 | MORE                         |\n",
      "|             5 | MORE                         |\n",
      "|             0 | MORE                         |\n",
      "|             2 | MORE                         |\n",
      "|             3 | MORE                         |\n",
      "|             2 | MORE                         |\n",
      "|             7 | MORE                         |\n",
      "|             0 | MORE                         |\n",
      "|             5 | MORE                         |\n",
      "|             2 | MORE                         |\n",
      "|            13 | MORE                         |\n",
      "|             2 | MORE                         |\n",
      "|            15 | MORE                         |\n",
      "|             1 | MORE                         |\n",
      "|             1 | MORE                         |\n",
      "|             4 | MORE                         |\n",
      "|             7 | MORE                         |\n",
      "|             4 | MORE                         |\n",
      "|             2 | MORE                         |\n",
      "|             6 | MORE                         |\n",
      "|             2 | MORE                         |\n",
      "|             1 | MORE                         |\n",
      "|             6 | MORE                         |\n",
      "|             1 | MORE                         |\n",
      "|             1 | MORE                         |\n",
      "|             1 | MORE                         |\n",
      "|             0 | MORE                         |\n",
      "|             1 | MORE                         |\n",
      "|             2 | MORE                         |\n",
      "|             1 | MORE                         |\n",
      "|             1 | MORE                         |\n",
      "|             4 | MORE                         |\n",
      "|             3 | MORE                         |\n",
      "|             0 | MORE                         |\n",
      "|             3 | MORE                         |\n",
      "|             8 | MORE                         |\n",
      "|             1 | MORE                         |\n",
      "|             4 | MORE                         |\n",
      "|             7 | MORE                         |\n",
      "|             4 | MORE                         |\n",
      "|             5 | MORE                         |\n",
      "|             5 | MORE                         |\n",
      "|             4 | MORE                         |\n",
      "|             4 | MORE                         |\n",
      "|             0 | MORE                         |\n",
      "|             6 | MORE                         |\n",
      "|             2 | MORE                         |\n",
      "|             5 | MORE                         |\n",
      "|             0 | MORE                         |\n",
      "|             1 | MORE                         |\n",
      "|             3 | MORE                         |\n",
      "|             1 | MORE                         |\n",
      "|             1 | MORE                         |\n",
      "|             0 | MORE                         |\n",
      "|             4 | MORE                         |\n",
      "|             9 | MORE                         |\n",
      "|             3 | MORE                         |\n",
      "|             8 | MORE                         |\n",
      "|             2 | MORE                         |\n",
      "|             2 | MORE                         |\n",
      "|             0 | MORE                         |\n",
      "|             0 | MORE                         |\n",
      "|             0 | MORE                         |\n",
      "|             5 | MORE                         |\n",
      "|             3 | MORE                         |\n",
      "|             5 | MORE                         |\n",
      "|             2 | MORE                         |\n",
      "|            10 | MORE                         |\n",
      "|             4 | MORE                         |\n",
      "|             0 | MORE                         |\n",
      "|             9 | MORE                         |\n",
      "|             2 | MORE                         |\n",
      "|             5 | MORE                         |\n",
      "|             2 | MORE                         |\n",
      "|             1 | MORE                         |\n",
      "|             4 | MORE                         |\n",
      "|             9 | MORE                         |\n",
      "|             1 | MORE                         |\n",
      "|             8 | MORE                         |\n",
      "|             7 | MORE                         |\n",
      "|             2 | MORE                         |\n",
      "|             1 | MORE                         |\n",
      "|             2 | MORE                         |\n",
      "|            17 | MORE                         |\n",
      "|             4 | MORE                         |\n",
      "|             7 | MORE                         |\n",
      "|             0 | MORE                         |\n",
      "|             2 | MORE                         |\n",
      "|             0 | MORE                         |\n",
      "|             6 | MORE                         |\n",
      "|             3 | MORE                         |\n",
      "|             4 | MORE                         |\n",
      "|             4 | MORE                         |\n",
      "|             3 | MORE                         |\n",
      "|             6 | MORE                         |\n",
      "|             6 | MORE                         |\n",
      "|             2 | MORE                         |\n",
      "|             1 | MORE                         |\n",
      "|             2 | MORE                         |\n",
      "|             8 | MORE                         |\n",
      "|             6 | MORE                         |\n",
      "|             0 | MORE                         |\n",
      "|             5 | MORE                         |\n",
      "|             5 | MORE                         |\n",
      "|             6 | MORE                         |\n",
      "|             0 | MORE                         |\n",
      "|             1 | MORE                         |\n",
      "|             5 | MORE                         |\n",
      "|             4 | MORE                         |\n",
      "|             7 | MORE                         |\n",
      "|             8 | MORE                         |\n",
      "|             1 | MORE                         |\n",
      "|             8 | MORE                         |\n",
      "|             5 | MORE                         |\n",
      "|             3 | MORE                         |\n",
      "|             9 | MORE                         |\n",
      "|             7 | MORE                         |\n",
      "|            11 | MORE                         |\n",
      "|             8 | MORE                         |\n",
      "|             5 | MORE                         |\n",
      "|             1 | MORE                         |\n",
      "|             3 | MORE                         |\n",
      "|             4 | MORE                         |\n",
      "|             4 | MORE                         |\n",
      "|             0 | MORE                         |\n",
      "|             1 | MORE                         |\n",
      "|             0 | MORE                         |\n",
      "|             2 | MORE                         |\n",
      "|             6 | MORE                         |\n",
      "|             5 | MORE                         |\n",
      "|             8 | MORE                         |\n",
      "|             5 | MORE                         |\n",
      "|             1 | MORE                         |\n",
      "|             7 | MORE                         |\n",
      "|             2 | MORE                         |\n",
      "|             0 | MORE                         |\n",
      "|             7 | MORE                         |\n",
      "|             0 | MORE                         |\n",
      "|             9 | MORE                         |\n",
      "|            12 | MORE                         |\n",
      "|             5 | MORE                         |\n",
      "|             6 | MORE                         |\n",
      "|             5 | MORE                         |\n",
      "|             5 | MORE                         |\n",
      "|             0 | MORE                         |\n",
      "|             2 | MORE                         |\n",
      "|             7 | MORE                         |\n",
      "|             7 | MORE                         |\n",
      "|             1 | MORE                         |\n",
      "|             1 | MORE                         |\n",
      "|             0 | MORE                         |\n",
      "|             3 | MORE                         |\n",
      "|             4 | MORE                         |\n",
      "|             0 | MORE                         |\n",
      "|             4 | MORE                         |\n",
      "|             6 | MORE                         |\n",
      "|             1 | MORE                         |\n",
      "|             4 | MORE                         |\n",
      "|             3 | MORE                         |\n",
      "|             4 | MORE                         |\n",
      "|             7 | MORE                         |\n",
      "|             0 | MORE                         |\n",
      "|             9 | MORE                         |\n",
      "|             0 | MORE                         |\n",
      "|             1 | MORE                         |\n",
      "|             4 | MORE                         |\n",
      "|             3 | MORE                         |\n",
      "|             6 | MORE                         |\n",
      "|             2 | MORE                         |\n",
      "|             9 | MORE                         |\n",
      "|            10 | MORE                         |\n",
      "|             0 | MORE                         |\n",
      "|             9 | MORE                         |\n",
      "|             1 | MORE                         |\n",
      "|             9 | MORE                         |\n",
      "|             2 | MORE                         |\n",
      "|             2 | MORE                         |\n",
      "|             0 | MORE                         |\n",
      "|            12 | MORE                         |\n",
      "|             1 | MORE                         |\n",
      "|             3 | MORE                         |\n",
      "|             2 | MORE                         |\n",
      "|             1 | MORE                         |\n",
      "|            11 | MORE                         |\n",
      "|             3 | MORE                         |\n",
      "|             3 | MORE                         |\n",
      "|             4 | MORE                         |\n",
      "|             3 | MORE                         |\n",
      "|             4 | MORE                         |\n",
      "|             5 | MORE                         |\n",
      "|             0 | MORE                         |\n",
      "|             2 | MORE                         |\n",
      "|             0 | MORE                         |\n",
      "|             2 | MORE                         |\n",
      "|            10 | MORE                         |\n",
      "|             2 | MORE                         |\n",
      "|             3 | MORE                         |\n",
      "|             1 | MORE                         |\n",
      "|            13 | MORE                         |\n",
      "|             2 | MORE                         |\n",
      "|             7 | MORE                         |\n",
      "|             0 | MORE                         |\n",
      "|             5 | MORE                         |\n",
      "|             2 | MORE                         |\n",
      "|             0 | MORE                         |\n",
      "|            10 | MORE                         |\n",
      "|             7 | MORE                         |\n",
      "|             7 | MORE                         |\n",
      "|             2 | MORE                         |\n",
      "|             7 | MORE                         |\n",
      "|             5 | MORE                         |\n",
      "|             1 | MORE                         |\n",
      "|             4 | MORE                         |\n",
      "|             5 | MORE                         |\n",
      "|             0 | MORE                         |\n",
      "|             0 | MORE                         |\n",
      "|             2 | MORE                         |\n",
      "|             1 | MORE                         |\n",
      "|             0 | MORE                         |\n",
      "|             6 | MORE                         |\n",
      "|             2 | MORE                         |\n",
      "|             0 | MORE                         |\n",
      "|            14 | MORE                         |\n",
      "|             8 | MORE                         |\n",
      "|             0 | MORE                         |\n",
      "|             2 | MORE                         |\n",
      "|             5 | MORE                         |\n",
      "|             5 | MORE                         |\n",
      "|             3 | MORE                         |\n",
      "|             2 | MORE                         |\n",
      "|            10 | MORE                         |\n",
      "|             0 | MORE                         |\n",
      "|             0 | MORE                         |\n",
      "|             2 | MORE                         |\n",
      "|             6 | MORE                         |\n",
      "|             0 | MORE                         |\n",
      "|             2 | MORE                         |\n",
      "|             3 | MORE                         |\n",
      "|             7 | MORE                         |\n",
      "|             2 | MORE                         |\n",
      "|             3 | MORE                         |\n",
      "|             3 | MORE                         |\n",
      "|             3 | MORE                         |\n",
      "|             6 | MORE                         |\n",
      "|             4 | MORE                         |\n",
      "|             3 | MORE                         |\n",
      "|             0 | MORE                         |\n",
      "|            13 | MORE                         |\n",
      "|             2 | MORE                         |\n",
      "|             1 | MORE                         |\n",
      "|             1 | MORE                         |\n",
      "|            10 | MORE                         |\n",
      "|             2 | MORE                         |\n",
      "|             6 | MORE                         |\n",
      "|             8 | MORE                         |\n",
      "|             2 | MORE                         |\n",
      "|             1 | MORE                         |\n",
      "|            12 | MORE                         |\n",
      "|             1 | MORE                         |\n",
      "|             0 | MORE                         |\n",
      "|             0 | MORE                         |\n",
      "|             5 | MORE                         |\n",
      "|             9 | MORE                         |\n",
      "|             7 | MORE                         |\n",
      "|             1 | MORE                         |\n",
      "|             1 | MORE                         |\n",
      "|             1 | MORE                         |\n",
      "|             5 | MORE                         |\n",
      "|             8 | MORE                         |\n",
      "|             8 | MORE                         |\n",
      "|             1 | MORE                         |\n",
      "|             3 | MORE                         |\n",
      "|             3 | MORE                         |\n",
      "|             5 | MORE                         |\n",
      "|             4 | MORE                         |\n",
      "|             4 | MORE                         |\n",
      "|             3 | MORE                         |\n",
      "|             1 | MORE                         |\n",
      "|             3 | MORE                         |\n",
      "|             9 | MORE                         |\n",
      "|             1 | MORE                         |\n",
      "|            13 | MORE                         |\n",
      "|            12 | MORE                         |\n",
      "|             1 | MORE                         |\n",
      "|             5 | MORE                         |\n",
      "|             5 | MORE                         |\n",
      "|             5 | MORE                         |\n",
      "|             4 | MORE                         |\n",
      "|             4 | MORE                         |\n",
      "|             5 | MORE                         |\n",
      "|             6 | MORE                         |\n",
      "|             0 | MORE                         |\n",
      "|             3 | MORE                         |\n",
      "|             1 | MORE                         |\n",
      "|             3 | MORE                         |\n",
      "|             0 | MORE                         |\n",
      "|             0 | MORE                         |\n",
      "|             2 | MORE                         |\n",
      "|             2 | MORE                         |\n",
      "|            12 | MORE                         |\n",
      "|             0 | MORE                         |\n",
      "|             1 | MORE                         |\n",
      "|             4 | MORE                         |\n",
      "|             0 | MORE                         |\n",
      "|             1 | MORE                         |\n",
      "|             0 | MORE                         |\n",
      "|             1 | MORE                         |\n",
      "|             1 | MORE                         |\n",
      "|             1 | MORE                         |\n",
      "|             1 | MORE                         |\n",
      "|             5 | MORE                         |\n",
      "|             8 | MORE                         |\n",
      "|             5 | MORE                         |\n",
      "|             3 | MORE                         |\n",
      "|             1 | MORE                         |\n",
      "|             5 | MORE                         |\n",
      "|             1 | MORE                         |\n",
      "|             4 | MORE                         |\n",
      "|             4 | MORE                         |\n",
      "|             2 | MORE                         |\n",
      "|             3 | MORE                         |\n",
      "|             0 | MORE                         |\n",
      "|             3 | MORE                         |\n",
      "|             3 | MORE                         |\n",
      "|             4 | MORE                         |\n",
      "|             6 | MORE                         |\n",
      "|             5 | MORE                         |\n",
      "|             9 | MORE                         |\n",
      "|             5 | MORE                         |\n",
      "|             2 | MORE                         |\n",
      "|             4 | MORE                         |\n",
      "|             0 | MORE                         |\n",
      "|             8 | MORE                         |\n",
      "|             1 | MORE                         |\n",
      "|             6 | MORE                         |\n",
      "|             1 | MORE                         |\n",
      "|             1 | MORE                         |\n",
      "|             1 | MORE                         |\n",
      "|             0 | MORE                         |\n",
      "|             3 | MORE                         |\n",
      "|             1 | MORE                         |\n",
      "|             4 | MORE                         |\n",
      "|             1 | MORE                         |\n",
      "|             3 | MORE                         |\n",
      "|             1 | MORE                         |\n",
      "|             2 | MORE                         |\n",
      "|             0 | MORE                         |\n",
      "|             2 | MORE                         |\n",
      "|             8 | MORE                         |\n",
      "|             4 | MORE                         |\n",
      "|             0 | MORE                         |\n",
      "|             1 | MORE                         |\n",
      "|             0 | MORE                         |\n",
      "|             1 | MORE                         |\n",
      "|             2 | MORE                         |\n",
      "|             3 | MORE                         |\n",
      "|             1 | MORE                         |\n",
      "|             2 | MORE                         |\n",
      "|             1 | MORE                         |\n",
      "|             0 | MORE                         |\n",
      "|            12 | MORE                         |\n",
      "|             5 | MORE                         |\n",
      "|             1 | MORE                         |\n",
      "|             6 | MORE                         |\n",
      "|             0 | MORE                         |\n",
      "|             2 | MORE                         |\n",
      "|             4 | MORE                         |\n",
      "|             8 | MORE                         |\n",
      "|             4 | MORE                         |\n",
      "|             0 | MORE                         |\n",
      "|             1 | MORE                         |\n",
      "|             0 | MORE                         |\n",
      "|             0 | MORE                         |\n",
      "|             0 | MORE                         |\n",
      "|             1 | MORE                         |\n",
      "|             2 | MORE                         |\n",
      "|             0 | MORE                         |\n",
      "|             2 | MORE                         |\n",
      "|             2 | MORE                         |\n",
      "|            14 | MORE                         |\n",
      "|             1 | MORE                         |\n",
      "|             5 | MORE                         |\n",
      "|            10 | MORE                         |\n",
      "|             9 | MORE                         |\n",
      "|             9 | MORE                         |\n",
      "|             1 | MORE                         |\n",
      "|             8 | MORE                         |\n",
      "|             5 | MORE                         |\n",
      "|            10 | MORE                         |\n",
      "|             0 | MORE                         |\n",
      "|             0 | MORE                         |\n",
      "|             0 | MORE                         |\n",
      "|             8 | MORE                         |\n",
      "|             6 | MORE                         |\n",
      "|             1 | MORE                         |\n",
      "|             0 | MORE                         |\n",
      "|             0 | MORE                         |\n",
      "|             7 | MORE                         |\n",
      "|             4 | MORE                         |\n",
      "|             0 | MORE                         |\n",
      "|             2 | MORE                         |\n",
      "|             7 | MORE                         |\n",
      "|             8 | MORE                         |\n",
      "|             4 | MORE                         |\n",
      "|             3 | MORE                         |\n",
      "|             0 | MORE                         |\n",
      "|             4 | MORE                         |\n",
      "|             0 | MORE                         |\n",
      "|             0 | MORE                         |\n",
      "|             0 | MORE                         |\n",
      "|             1 | MORE                         |\n",
      "|             0 | MORE                         |\n",
      "|             4 | MORE                         |\n",
      "|             8 | MORE                         |\n",
      "|             2 | MORE                         |\n",
      "|             2 | MORE                         |\n",
      "|             4 | MORE                         |\n",
      "|             4 | MORE                         |\n",
      "|             3 | MORE                         |\n",
      "|             6 | MORE                         |\n",
      "|             5 | MORE                         |\n",
      "|             2 | MORE                         |\n",
      "|             7 | MORE                         |\n",
      "|             6 | MORE                         |\n",
      "|             2 | MORE                         |\n",
      "|             3 | MORE                         |\n",
      "|             6 | MORE                         |\n",
      "|             7 | MORE                         |\n",
      "|             3 | MORE                         |\n",
      "|            10 | MORE                         |\n",
      "|             0 | MORE                         |\n",
      "|             1 | MORE                         |\n",
      "|             2 | MORE                         |\n",
      "|             8 | MORE                         |\n",
      "|            12 | MORE                         |\n",
      "|             0 | MORE                         |\n",
      "|             9 | MORE                         |\n",
      "|             2 | MORE                         |\n",
      "|             3 | MORE                         |\n",
      "|             3 | MORE                         |\n",
      "|             9 | MORE                         |\n",
      "|             7 | MORE                         |\n",
      "|            13 | MORE                         |\n",
      "|             6 | MORE                         |\n",
      "|             2 | MORE                         |\n",
      "|             3 | MORE                         |\n",
      "|             6 | MORE                         |\n",
      "|             9 | MORE                         |\n",
      "|             3 | MORE                         |\n",
      "|             3 | MORE                         |\n",
      "|             1 | MORE                         |\n",
      "|             3 | MORE                         |\n",
      "|             0 | MORE                         |\n",
      "|             0 | MORE                         |\n",
      "|             2 | MORE                         |\n",
      "|             0 | MORE                         |\n",
      "|             1 | MORE                         |\n",
      "|             6 | MORE                         |\n",
      "|             1 | MORE                         |\n",
      "|             4 | MORE                         |\n",
      "|             0 | MORE                         |\n",
      "|             0 | MORE                         |\n",
      "|             0 | MORE                         |\n",
      "|             3 | MORE                         |\n",
      "|             8 | MORE                         |\n",
      "|             3 | MORE                         |\n",
      "|            10 | MORE                         |\n",
      "|             4 | MORE                         |\n",
      "|             1 | MORE                         |\n",
      "|             8 | MORE                         |\n",
      "|             5 | MORE                         |\n",
      "|             4 | MORE                         |\n",
      "|             1 | MORE                         |\n",
      "|             4 | MORE                         |\n",
      "|             1 | MORE                         |\n",
      "|             3 | MORE                         |\n",
      "|             6 | MORE                         |\n",
      "|             1 | MORE                         |\n",
      "|             1 | MORE                         |\n",
      "|             7 | MORE                         |\n",
      "|             1 | MORE                         |\n",
      "|             8 | MORE                         |\n",
      "|            11 | MORE                         |\n",
      "|            11 | MORE                         |\n",
      "|             6 | MORE                         |\n",
      "|             0 | MORE                         |\n",
      "|             1 | MORE                         |\n",
      "|             6 | MORE                         |\n",
      "|             0 | MORE                         |\n",
      "|             2 | MORE                         |\n",
      "|             1 | MORE                         |\n",
      "|             6 | MORE                         |\n",
      "|             4 | MORE                         |\n",
      "|             0 | MORE                         |\n",
      "|             3 | MORE                         |\n",
      "|             2 | MORE                         |\n",
      "|             3 | MORE                         |\n",
      "|             2 | MORE                         |\n",
      "|             1 | MORE                         |\n",
      "|             1 | MORE                         |\n",
      "|             6 | MORE                         |\n",
      "|             2 | MORE                         |\n",
      "|            10 | MORE                         |\n",
      "|             2 | MORE                         |\n",
      "|             0 | MORE                         |\n",
      "|             6 | MORE                         |\n",
      "|            12 | MORE                         |\n",
      "|             8 | MORE                         |\n",
      "|             8 | MORE                         |\n",
      "|             1 | MORE                         |\n",
      "|             8 | MORE                         |\n",
      "|             6 | MORE                         |\n",
      "|             3 | MORE                         |\n",
      "|             0 | MORE                         |\n",
      "|            11 | MORE                         |\n",
      "|             2 | MORE                         |\n",
      "|             3 | MORE                         |\n",
      "|             2 | MORE                         |\n",
      "|             6 | MORE                         |\n",
      "|             0 | MORE                         |\n",
      "|             0 | MORE                         |\n",
      "|             1 | MORE                         |\n",
      "|             1 | MORE                         |\n",
      "|             1 | MORE                         |\n",
      "|             1 | MORE                         |\n",
      "|             6 | MORE                         |\n",
      "|             1 | MORE                         |\n",
      "|             7 | MORE                         |\n",
      "|             4 | MORE                         |\n",
      "|             1 | MORE                         |\n",
      "|             1 | MORE                         |\n",
      "|             1 | MORE                         |\n",
      "|             0 | MORE                         |\n",
      "|             1 | MORE                         |\n",
      "|             3 | MORE                         |\n",
      "|             3 | MORE                         |\n",
      "|             7 | MORE                         |\n",
      "|             6 | MORE                         |\n",
      "|            11 | MORE                         |\n",
      "|             3 | MORE                         |\n",
      "|             6 | MORE                         |\n",
      "|             2 | MORE                         |\n",
      "|             9 | MORE                         |\n",
      "|             0 | MORE                         |\n",
      "|             2 | MORE                         |\n",
      "|             2 | MORE                         |\n",
      "|             6 | MORE                         |\n",
      "|             0 | MORE                         |\n",
      "|             2 | MORE                         |\n",
      "|             4 | MORE                         |\n",
      "|             0 | MORE                         |\n",
      "|             0 | MORE                         |\n",
      "|             5 | MORE                         |\n",
      "|             4 | MORE                         |\n",
      "|             7 | MORE                         |\n",
      "|             0 | MORE                         |\n",
      "|             2 | MORE                         |\n",
      "|             1 | MORE                         |\n",
      "|            10 | MORE                         |\n",
      "|            13 | MORE                         |\n",
      "|             5 | MORE                         |\n",
      "|             2 | MORE                         |\n",
      "|             7 | MORE                         |\n",
      "|             1 | MORE                         |\n",
      "|             0 | MORE                         |\n",
      "|             4 | MORE                         |\n",
      "|             6 | MORE                         |\n",
      "|             4 | MORE                         |\n",
      "|             3 | MORE                         |\n",
      "|             2 | MORE                         |\n",
      "|             1 | MORE                         |\n",
      "|             0 | MORE                         |\n",
      "|            11 | MORE                         |\n",
      "|             0 | MORE                         |\n",
      "|             1 | MORE                         |\n",
      "|             1 | MORE                         |\n",
      "|             5 | MORE                         |\n",
      "|             2 | MORE                         |\n",
      "|             1 | MORE                         |\n",
      "|             2 | MORE                         |\n",
      "|             2 | MORE                         |\n",
      "|             1 | MORE                         |\n",
      "|            11 | MORE                         |\n",
      "|             3 | MORE                         |\n",
      "|            10 | MORE                         |\n",
      "|             1 | MORE                         |\n",
      "|             8 | MORE                         |\n",
      "|             9 | MORE                         |\n",
      "|             6 | MORE                         |\n",
      "|             1 | MORE                         |\n",
      "|             4 | MORE                         |\n",
      "|            10 | MORE                         |\n",
      "|             6 | MORE                         |\n",
      "|             9 | MORE                         |\n",
      "|             6 | MORE                         |\n",
      "|             1 | MORE                         |\n",
      "|            10 | MORE                         |\n",
      "|             3 | MORE                         |\n",
      "|             8 | MORE                         |\n",
      "|             6 | MORE                         |\n",
      "|             9 | MORE                         |\n",
      "|             0 | MORE                         |\n",
      "|             3 | MORE                         |\n",
      "|             2 | MORE                         |\n",
      "|             2 | MORE                         |\n",
      "|             0 | MORE                         |\n",
      "|             0 | MORE                         |\n",
      "|             4 | MORE                         |\n",
      "|             5 | MORE                         |\n",
      "|             2 | MORE                         |\n",
      "|             3 | MORE                         |\n",
      "|             1 | MORE                         |\n",
      "|             1 | MORE                         |\n",
      "|             1 | MORE                         |\n",
      "|             8 | MORE                         |\n",
      "|            13 | MORE                         |\n",
      "|             2 | MORE                         |\n",
      "|             7 | MORE                         |\n",
      "|             2 | MORE                         |\n",
      "|             7 | MORE                         |\n",
      "|             3 | MORE                         |\n",
      "|             0 | MORE                         |\n",
      "|             4 | MORE                         |\n",
      "|             4 | MORE                         |\n",
      "|             2 | MORE                         |\n",
      "|             6 | MORE                         |\n",
      "|             1 | MORE                         |\n",
      "|             2 | MORE                         |\n",
      "|             4 | MORE                         |\n",
      "|             6 | MORE                         |\n",
      "|            10 | MORE                         |\n",
      "|             2 | MORE                         |\n",
      "|             9 | MORE                         |\n",
      "|             2 | MORE                         |\n",
      "|             3 | MORE                         |\n",
      "|             5 | MORE                         |\n",
      "|            10 | MORE                         |\n",
      "|             0 | MORE                         |\n",
      "|             3 | MORE                         |\n",
      "|             7 | MORE                         |\n",
      "|             3 | MORE                         |\n",
      "|            10 | MORE                         |\n",
      "|             1 | MORE                         |\n",
      "|             5 | MORE                         |\n",
      "|             4 | MORE                         |\n",
      "|             1 | MORE                         |\n",
      "|             1 | MORE                         |\n",
      "|             5 | MORE                         |\n",
      "|             1 | MORE                         |\n",
      "|             4 | MORE                         |\n",
      "|             1 | MORE                         |\n",
      "|             0 | MORE                         |\n",
      "|             2 | MORE                         |\n",
      "|             2 | MORE                         |\n",
      "|             3 | MORE                         |\n",
      "|             8 | MORE                         |\n",
      "|             2 | MORE                         |\n",
      "|             2 | MORE                         |\n",
      "|             2 | MORE                         |\n",
      "|             4 | MORE                         |\n",
      "|             0 | MORE                         |\n",
      "|             8 | MORE                         |\n",
      "|             2 | MORE                         |\n",
      "|             1 | MORE                         |\n",
      "|            11 | MORE                         |\n",
      "|             3 | MORE                         |\n",
      "|             1 | MORE                         |\n",
      "|             9 | MORE                         |\n",
      "|            13 | MORE                         |\n",
      "|            12 | MORE                         |\n",
      "|             1 | MORE                         |\n",
      "|             1 | MORE                         |\n",
      "|             3 | MORE                         |\n",
      "|             6 | MORE                         |\n",
      "|             4 | MORE                         |\n",
      "|             1 | MORE                         |\n",
      "|             3 | MORE                         |\n",
      "|             0 | MORE                         |\n",
      "|             8 | MORE                         |\n",
      "|             1 | MORE                         |\n",
      "|             7 | MORE                         |\n",
      "|             0 | MORE                         |\n",
      "|             1 | MORE                         |\n",
      "|             6 | MORE                         |\n",
      "|             2 | MORE                         |\n",
      "|             9 | MORE                         |\n",
      "|             9 | MORE                         |\n",
      "|            10 | MORE                         |\n",
      "|             2 | MORE                         |\n",
      "|             5 | MORE                         |\n",
      "|             1 | MORE                         |\n",
      "|             1 | MORE                         |\n",
      "+---------------+------------------------------+\n"
     ]
    }
   ],
   "source": [
    "mycursor.execute(\"SELECT Pregnancies, IF(Age>10, 'MORE', 'LESS')FROM diabetes\")\n",
    "out=mycursor.fetchall()\n",
    "from tabulate import tabulate\n",
    "print(tabulate(out,headers=[i[0] for i in mycursor.description],  tablefmt='psql'))"
   ]
  },
  {
   "cell_type": "markdown",
   "metadata": {
    "id": "hlw_TUXsxSs2"
   },
   "source": [
    "# joins\n"
   ]
  },
  {
   "cell_type": "code",
   "execution_count": null,
   "metadata": {
    "id": "lLa0XsFRxn1Z"
   },
   "outputs": [],
   "source": [
    "#to import using python need to create table with all column names\n",
    "#mycursor.execute(\"LOAD DATA INFILE '/home/linux/Desktop/pima-indians-diabetes.data.csv' INTO TABLE test2\")\n",
    "#mydb.commit()"
   ]
  },
  {
   "cell_type": "code",
   "execution_count": 3,
   "metadata": {
    "id": "Jqw_trk-x3hz"
   },
   "outputs": [],
   "source": [
    "mycursor.execute(\"CREATE TABLE students(ID INT PRIMARY KEY,NAME VARCHAR(20),PH INT) \")"
   ]
  },
  {
   "cell_type": "code",
   "execution_count": 4,
   "metadata": {
    "id": "5Lv7wpaBp6d5"
   },
   "outputs": [],
   "source": [
    "mycursor.execute(\"INSERT INTO students (ID,NAME,PH) VALUES(1,'nethaji',12345)\")"
   ]
  },
  {
   "cell_type": "code",
   "execution_count": 5,
   "metadata": {
    "id": "Ev17YvjhqOle"
   },
   "outputs": [],
   "source": [
    "mycursor.execute(\"INSERT INTO students (ID,NAME,PH) VALUES(2,'nirmal',123456)\")"
   ]
  },
  {
   "cell_type": "code",
   "execution_count": 6,
   "metadata": {
    "id": "zeeXo-x4p0AW"
   },
   "outputs": [],
   "source": [
    "mydb.commit()"
   ]
  },
  {
   "cell_type": "code",
   "execution_count": 8,
   "metadata": {
    "id": "HMAidh1Oqb3x"
   },
   "outputs": [],
   "source": [
    "mycursor.execute(\"CREATE TABLE marks(ID INT ,maths int,phy INT,chem INT) \")\n",
    "mydb.commit()"
   ]
  },
  {
   "cell_type": "code",
   "execution_count": 11,
   "metadata": {
    "id": "MHtMoawHq2Q-"
   },
   "outputs": [],
   "source": [
    "mycursor.execute(\"INSERT INTO marks (ID,maths,phy,chem) VALUES(3,91,80,50)\")\n",
    "mydb.commit()"
   ]
  },
  {
   "cell_type": "code",
   "execution_count": 12,
   "metadata": {
    "colab": {
     "base_uri": "https://localhost:8080/"
    },
    "id": "gArOfCKJrN-T",
    "outputId": "52a761dd-4d06-446a-9653-bac45f5530b7"
   },
   "outputs": [
    {
     "name": "stdout",
     "output_type": "stream",
     "text": [
      "+---+----+----+\n",
      "| 1 | 91 | 80 |\n",
      "| 2 | 91 | 80 |\n",
      "+---+----+----+\n"
     ]
    }
   ],
   "source": [
    "#INNER JOIN\n",
    "\n",
    "mycursor.execute(\"SELECT students.ID,marks.maths,marks.phy \\\n",
    "FROM students \\\n",
    "INNER JOIN marks ON students.ID = marks.ID\")\n",
    "out=mycursor.fetchall()\n",
    "from tabulate import tabulate\n",
    "print(tabulate(out,  tablefmt='psql'))"
   ]
  },
  {
   "cell_type": "code",
   "execution_count": 13,
   "metadata": {
    "id": "bNYVlNwrv18j"
   },
   "outputs": [],
   "source": [
    "mydb.commit()"
   ]
  },
  {
   "cell_type": "code",
   "execution_count": 14,
   "metadata": {},
   "outputs": [],
   "source": [
    "mycursor.execute(\"CREATE TABLE sports(ID INT ,100mts int,football INT,chess INT) \")\n",
    "mydb.commit()"
   ]
  },
  {
   "cell_type": "code",
   "execution_count": 15,
   "metadata": {},
   "outputs": [],
   "source": [
    "mycursor.execute(\"INSERT INTO sports (ID,100mts,football,chess) VALUES(1,5,8,5)\")\n",
    "mydb.commit()"
   ]
  },
  {
   "cell_type": "code",
   "execution_count": 16,
   "metadata": {
    "colab": {
     "base_uri": "https://localhost:8080/"
    },
    "id": "7oZfBd2KtY09",
    "outputId": "bf74fd1d-c048-4b86-8a74-1a5a35d056c4"
   },
   "outputs": [
    {
     "name": "stdout",
     "output_type": "stream",
     "text": [
      "+---+----+----+----+---+---+\n",
      "| 1 | 91 | 50 | 80 | 5 | 8 |\n",
      "+---+----+----+----+---+---+\n"
     ]
    }
   ],
   "source": [
    "#joining columns from 3 different tables\n",
    "mycursor.execute(\"SELECT students.ID, marks.maths,marks.chem,marks.phy,sports.100mts,sports.football \\\n",
    "FROM students \\\n",
    "INNER JOIN marks ON students.ID = marks.ID \\\n",
    "INNER JOIN sports ON students.ID = sports.id \")\n",
    "\n",
    "out=mycursor.fetchall()\n",
    "from tabulate import tabulate\n",
    "print(tabulate(out,  tablefmt='psql'))\n"
   ]
  },
  {
   "cell_type": "code",
   "execution_count": null,
   "metadata": {
    "colab": {
     "base_uri": "https://localhost:8080/"
    },
    "id": "2BTGwUaiAEtW",
    "outputId": "aa8278c5-4669-4bde-811d-a2067d9e9816"
   },
   "outputs": [
    {
     "name": "stdout",
     "output_type": "stream",
     "text": [
      "+------+---------+--------+-------+\n",
      "|   ID |   maths |   chem |   phy |\n",
      "|------+---------+--------+-------|\n",
      "|    2 |      99 |     50 |    80 |\n",
      "|    1 |      99 |     50 |    80 |\n",
      "|      |      25 |     45 |    35 |\n",
      "+------+---------+--------+-------+\n"
     ]
    }
   ],
   "source": [
    "#left join :eturns all rows from the left table, even if there are no matches in the right table\n",
    "mycursor.execute(\"SELECT students.ID, marks.maths,marks.chem,marks.phy \\\n",
    "FROM students \\\n",
    "RIGHT JOIN marks ON students.ID = marks.ID\")\n",
    "\n",
    "out=mycursor.fetchall()\n",
    "from tabulate import tabulate\n",
    "print(tabulate(out,headers=[i[0] for i in mycursor.description],  tablefmt='psql'))"
   ]
  },
  {
   "cell_type": "code",
   "execution_count": null,
   "metadata": {
    "id": "a93rnWduBpVZ"
   },
   "outputs": [],
   "source": [
    "mydb.commit()"
   ]
  },
  {
   "cell_type": "code",
   "execution_count": null,
   "metadata": {
    "colab": {
     "base_uri": "https://localhost:8080/"
    },
    "id": "3Xy0X-BLBXN7",
    "outputId": "bf5cbb07-5c1e-46ac-bce8-6ee399c037a6"
   },
   "outputs": [
    {
     "name": "stdout",
     "output_type": "stream",
     "text": [
      "+------+---------+--------+-------+\n",
      "|   ID |   maths |   chem |   phy |\n",
      "|------+---------+--------+-------|\n",
      "|    2 |      99 |     50 |    80 |\n",
      "|    1 |      99 |     50 |    80 |\n",
      "|      |      25 |     45 |    35 |\n",
      "+------+---------+--------+-------+\n"
     ]
    }
   ],
   "source": [
    "#RIGHT JOIN: returns all rows from the right table, even if there are no matches in the left table.\n",
    "\n",
    "mycursor.execute(\"SELECT students.ID, marks.maths,marks.chem,marks.phy \\\n",
    "FROM students \\\n",
    "RIGHT JOIN marks ON students.ID = marks.ID\")\n",
    "\n",
    "out=mycursor.fetchall()\n",
    "from tabulate import tabulate\n",
    "print(tabulate(out,headers=[i[0] for i in mycursor.description],  tablefmt='psql'))"
   ]
  },
  {
   "cell_type": "code",
   "execution_count": null,
   "metadata": {
    "id": "uAKyI3bLD2iA"
   },
   "outputs": [],
   "source": [
    "mydb.commit()"
   ]
  },
  {
   "cell_type": "code",
   "execution_count": null,
   "metadata": {
    "colab": {
     "base_uri": "https://localhost:8080/"
    },
    "id": "lYXSAG2qDMP-",
    "outputId": "cc7c8008-8c59-495e-e714-ad1dcf4c1a7d"
   },
   "outputs": [
    {
     "name": "stdout",
     "output_type": "stream",
     "text": [
      "+---------+--------+-------+\n",
      "|   maths |   chem |   phy |\n",
      "|---------+--------+-------|\n",
      "|      99 |     50 |    80 |\n",
      "|      99 |     50 |    80 |\n",
      "|      99 |     50 |    80 |\n",
      "|      99 |     50 |    80 |\n",
      "|      99 |     50 |    80 |\n",
      "|      99 |     50 |    80 |\n",
      "|      25 |     45 |    35 |\n",
      "|      25 |     45 |    35 |\n",
      "|      25 |     45 |    35 |\n",
      "+---------+--------+-------+\n"
     ]
    }
   ],
   "source": [
    "#FULL JOIN gets all records from both tables and puts NULL in the columns where related records do not exist in the opposite table\n",
    "\n",
    "mycursor.execute(\"SELECT marks.maths,marks.chem,marks.phy \\\n",
    "FROM students \\\n",
    "FULL JOIN marks \")\n",
    "\n",
    "out=mycursor.fetchall()\n",
    "from tabulate import tabulate\n",
    "print(tabulate(out,headers=[i[0] for i in mycursor.description],  tablefmt='psql'))"
   ]
  },
  {
   "cell_type": "markdown",
   "metadata": {
    "id": "sgQ5ZE7nxxQL"
   },
   "source": [
    "#Triggers\n",
    "A trigger is called a special procedure because it cannot be called directly like a stored procedure\n",
    "\n",
    "Row-Level Trigger: It is a trigger, which is activated for each row by a triggering statement such as insert, update, or delete. For example, if a table has inserted, updated, or deleted multiple rows, the row trigger is fired automatically for each row affected by the insert, update, or delete statement.\n",
    "\n"
   ]
  },
  {
   "cell_type": "code",
   "execution_count": null,
   "metadata": {
    "id": "QnVVIoDWDWpz"
   },
   "outputs": [],
   "source": [
    "#(BEFOR | AFTER) table_name (INSERT | UPDATE | DELETE)  \n",
    "\n",
    "mycursor.execute(\"CREATE TABLE employee(  \\\n",
    "    name varchar(45) NOT NULL,   \\\n",
    "    occupation varchar(35) NOT NULL,  working_date date, working_hours varchar(10)\\\n",
    ")  \")"
   ]
  },
  {
   "cell_type": "code",
   "execution_count": null,
   "metadata": {
    "id": "UqweS1k3zJas"
   },
   "outputs": [],
   "source": [
    "mycursor.execute(\"INSERT INTO employee VALUES    \n",
    "('nethaji', 'Scientist', '2020-10-04', 12),  \n",
    "('sandeep', 'Engineer', '2020-10-04', 10),  \n",
    "('bharath', 'Actor', '2020-10-04', 13),  \n",
    "('sailakshmi', 'Doctor', '2020-10-04', 14),  \n",
    "('hariganesh', 'Teacher', '2020-10-04', 12),  \n",
    "('tarun', 'Business', '2020-10-04', 11)  \")"
   ]
  },
  {
   "cell_type": "code",
   "execution_count": null,
   "metadata": {
    "id": "RumHwRIszqSI"
   },
   "outputs": [],
   "source": [
    "#creating trigger\n",
    "mycursor.execute(\"DELIMITER// CREATE TRIGGER before_insert_empworkinghrs  \\\n",
    "BEFORE INSERT ON employee FOR EACH ROW \\\n",
    "BEGIN \\\n",
    "IF (NEW.working_hours < 0) THEN SET NEW.working_hours = 0; \\\n",
    "END IF;\\\n",
    "END// \\\n",
    "DELIMITER\")\n",
    "\n"
   ]
  },
  {
   "cell_type": "code",
   "execution_count": null,
   "metadata": {
    "id": "bWUrVSoK0d0O"
   },
   "outputs": [],
   "source": [
    "CREATE A DATABASE SYSTEM FOR HOSPITAL\n",
    "\n",
    "TABLES==> PATIENTS(PATIENT_iD,NAME,AGE,GENDER,PHNUMBER)\n",
    "==>DOCTORS(doctors_id,NAME,SPECIALIZATION)\n",
    "==>OPERATIONS(PATIEND_ID,WHAT_SURGERY,WHEN(date),PAYMENTS DETAILS,INSURANCE)\n",
    "==>WORK_SCHEDULE(PATIENT_ID,DOCTOR_ID,WHAT-SURGERY,REPORTS,WHEN(DATE))\n",
    "==>REPORTS(PATIEND_ID,DIAGNOSI1,DIAGNOSIS2)\n",
    "\n",
    "\n",
    "\n",
    "\n"
   ]
  }
 ],
 "metadata": {
  "colab": {
   "collapsed_sections": [],
   "name": "SQL.ipynb",
   "provenance": []
  },
  "kernelspec": {
   "display_name": "Python 3 (ipykernel)",
   "language": "python",
   "name": "python3"
  },
  "language_info": {
   "codemirror_mode": {
    "name": "ipython",
    "version": 3
   },
   "file_extension": ".py",
   "mimetype": "text/x-python",
   "name": "python",
   "nbconvert_exporter": "python",
   "pygments_lexer": "ipython3",
   "version": "3.9.13"
  }
 },
 "nbformat": 4,
 "nbformat_minor": 1
}
